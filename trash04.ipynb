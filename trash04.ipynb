{
  "cells": [
    {
      "cell_type": "markdown",
      "metadata": {
        "id": "NjvEcpeWJ6Du"
      },
      "source": [
        "# 🕵️ Forensische Analyse von Weblogs mit DuckLake und DuckDB## Einführung: DuckLake als Unveränderliches Archiv (Immutable Ledger)Dieses Notebook demonstriert die Kernfunktionen der **DuckLake-Erweiterung** für DuckDB, indem es eine forensische Untersuchung von Weblog-Daten durchführt. DuckLake speichert jeden Zustand als **versionierten Snapshot**, was die Rekonstruktion des Originalzustands (Time Travel) ermöglicht.Wir simulieren eine **Log-Manipulation** (Löschen von Fehlereinträgen) und nutzen DuckLake, um:1.  **Time Travel** zu nutzen, um den Originalzustand wiederherzustellen.2.  **Statistische Analysen** (Statuscodes, Top-IPs, URLs) auf dem Original-Log durchzuführen.3.  Die Manipulation durch die **Änderungsverfolgung** (`ducklake_table_deletions`) zu beweisen."
      ],
      "id": "NjvEcpeWJ6Du"
    },
    {
      "cell_type": "markdown",
      "metadata": {
        "id": "BtZMQQyaJ6Dw"
      },
      "source": [
        "## 1. Vorbereitung und Daten-Setup"
      ],
      "id": "BtZMQQyaJ6Dw"
    },
    {
      "cell_type": "code",
      "source": [
        "import duckdb\n",
        "import os\n",
        "import time\n",
        "from datetime import datetime\n",
        "\n",
        "# 1. Konfiguriere die Pfade\n",
        "# Wir verwenden ein Verzeichnis für die Metadaten und ein separates für die Daten (best practice)\n",
        "DUCKLAKE_METADATA_PATH = 'ducklake_metadata.ducklake'\n",
        "DUCKLAKE_DATA_PATH = 'ducklake_data_files'\n",
        "CATALOG_NAME = 'weblog_lake'\n",
        "\n",
        "# Erstelle die Verzeichnisse, falls sie noch nicht existieren\n",
        "os.makedirs(DUCKLAKE_DATA_PATH, exist_ok=True)\n",
        "\n",
        "# 2. Verbinde mit DuckDB\n",
        "# Die Verbindung zu einer permanenten DB ist für Langlebigkeit der Demo besser\n",
        "con = duckdb.connect(database='weblog_demo.duckdb')\n",
        "\n",
        "# 3. Installiere und lade die DuckLake-Erweiterung\n",
        "con.sql(\"INSTALL ducklake;\")\n",
        "con.sql(\"LOAD ducklake;\")\n",
        "\n",
        "# 4. Attache den DuckLake-Katalog\n",
        "attach_query = f\"\"\"\n",
        "    ATTACH 'ducklake:{DUCKLAKE_METADATA_PATH}' AS {CATALOG_NAME} (DATA_PATH '{DUCKLAKE_DATA_PATH}');\n",
        "\"\"\"\n",
        "con.sql(attach_query)\n",
        "\n",
        "# 5. Setze den DuckLake-Katalog als Standard\n",
        "con.sql(f\"USE {CATALOG_NAME};\")\n",
        "\n",
        "print(f\"✅ DuckLake '{CATALOG_NAME}' erfolgreich erstellt und verbunden.\")"
      ],
      "metadata": {
        "colab": {
          "base_uri": "https://localhost:8080/"
        },
        "id": "QpxLvjO2KN3r",
        "outputId": "3ebee44c-0d9d-44c6-d640-557b5e49ef3d"
      },
      "id": "QpxLvjO2KN3r",
      "execution_count": 1,
      "outputs": [
        {
          "output_type": "stream",
          "name": "stdout",
          "text": [
            "✅ DuckLake 'weblog_lake' erfolgreich erstellt und verbunden.\n"
          ]
        }
      ]
    },
    {
      "cell_type": "markdown",
      "source": [
        "# Code\n"
      ],
      "metadata": {
        "id": "hueOZcEOKQWs"
      },
      "id": "hueOZcEOKQWs"
    },
    {
      "cell_type": "markdown",
      "source": [
        "### Link zum Datensatz\n",
        "https://www.kaggle.com/datasets/shawon10/web-log-dataset"
      ],
      "metadata": {
        "id": "3efCgDSYKYAY"
      },
      "id": "3efCgDSYKYAY"
    },
    {
      "cell_type": "markdown",
      "source": [
        "Der Datensatz enthält Server-Logdaten des RUET Online Judge (RUET OJ), einem Online-Bewertungssystem einer Universität. Er umfasst 16.008 Einträge mit vier Spalten: IP-Adresse, Zeitstempel, aufgerufene URL und HTTP-Statuscode. Ziel ist es, das Nutzerverhalten und die Serveraktivität zu analysieren, z. B. Login-Vorgänge oder Seitenaufrufe."
      ],
      "metadata": {
        "id": "IIBlWuVkKgq4"
      },
      "id": "IIBlWuVkKgq4"
    },
    {
      "cell_type": "code",
      "source": [
        "! pip install -q kaggle"
      ],
      "metadata": {
        "id": "BryWy7qgKirr"
      },
      "id": "BryWy7qgKirr",
      "execution_count": 2,
      "outputs": []
    },
    {
      "cell_type": "code",
      "source": [
        "! mkdir ~/.kaggle"
      ],
      "metadata": {
        "colab": {
          "base_uri": "https://localhost:8080/"
        },
        "id": "ZHP2Rp0fKjst",
        "outputId": "e02f26d8-58ad-409b-c70b-0d18d43cc066"
      },
      "id": "ZHP2Rp0fKjst",
      "execution_count": 3,
      "outputs": [
        {
          "output_type": "stream",
          "name": "stdout",
          "text": [
            "mkdir: cannot create directory ‘/root/.kaggle’: File exists\n"
          ]
        }
      ]
    },
    {
      "cell_type": "markdown",
      "source": [
        "Übergabe von Kaggle Benutzer Daten:\n",
        "{\"username\":\"....\",\"key\":\"....\"}"
      ],
      "metadata": {
        "id": "nSw0aobLKk6v"
      },
      "id": "nSw0aobLKk6v"
    },
    {
      "cell_type": "code",
      "source": [
        "\n",
        "# ... Hier ihre JSON Cred als dictionary eingeben\n",
        "d_json_cred ={\"username\":\"lizzldizzl\",\"key\":\"7126d6d48a18986c8a8704fbb94e4a44\"}"
      ],
      "metadata": {
        "id": "OMV2j2CEKmUW"
      },
      "id": "OMV2j2CEKmUW",
      "execution_count": 4,
      "outputs": []
    },
    {
      "cell_type": "markdown",
      "source": [
        "Kaggle Zugangsdaten speichern\n",
        "\n"
      ],
      "metadata": {
        "id": "oBv7gpioKn96"
      },
      "id": "oBv7gpioKn96"
    },
    {
      "cell_type": "code",
      "source": [
        "\n",
        "import pandas as pd\n",
        "kaggle_cred = pd.DataFrame(d_json_cred, index=[0]).to_json(\"~/.kaggle/kaggle.json\")"
      ],
      "metadata": {
        "id": "LzMIMM8BKqFb"
      },
      "id": "LzMIMM8BKqFb",
      "execution_count": 5,
      "outputs": []
    },
    {
      "cell_type": "markdown",
      "source": [
        "Authorisierung geben dass Kaggle Daten heruntergeladen werden dürfen"
      ],
      "metadata": {
        "id": "04Eh0BGPKtLv"
      },
      "id": "04Eh0BGPKtLv"
    },
    {
      "cell_type": "code",
      "source": [
        "! chmod 600 ~/.kaggle/kaggle.json"
      ],
      "metadata": {
        "id": "O4W5oJl_KvAl"
      },
      "id": "O4W5oJl_KvAl",
      "execution_count": 6,
      "outputs": []
    },
    {
      "cell_type": "code",
      "source": [
        "!kaggle datasets download -d shawon10/web-log-dataset"
      ],
      "metadata": {
        "colab": {
          "base_uri": "https://localhost:8080/"
        },
        "id": "PyCuBm0VKwPs",
        "outputId": "9b9beefa-846d-4652-bc02-719494ba48e9"
      },
      "id": "PyCuBm0VKwPs",
      "execution_count": 7,
      "outputs": [
        {
          "output_type": "stream",
          "name": "stdout",
          "text": [
            "Dataset URL: https://www.kaggle.com/datasets/shawon10/web-log-dataset\n",
            "License(s): CC0-1.0\n",
            "web-log-dataset.zip: Skipping, found more recently modified local copy (use --force to force download)\n"
          ]
        }
      ]
    },
    {
      "cell_type": "markdown",
      "source": [
        "Unzip der Daten"
      ],
      "metadata": {
        "id": "w6CnEfjhKyvQ"
      },
      "id": "w6CnEfjhKyvQ"
    },
    {
      "cell_type": "code",
      "source": [
        "!unzip web-log-dataset.zip -d ./data"
      ],
      "metadata": {
        "colab": {
          "base_uri": "https://localhost:8080/"
        },
        "id": "6Y2ZCWwTK0wD",
        "outputId": "8e514d06-bff7-4e43-d207-0bf189026b44"
      },
      "id": "6Y2ZCWwTK0wD",
      "execution_count": 8,
      "outputs": [
        {
          "output_type": "stream",
          "name": "stdout",
          "text": [
            "Archive:  web-log-dataset.zip\n",
            "replace ./data/weblog.csv? [y]es, [n]o, [A]ll, [N]one, [r]ename: yes\n",
            "  inflating: ./data/weblog.csv       \n"
          ]
        }
      ]
    },
    {
      "cell_type": "code",
      "execution_count": 14,
      "metadata": {
        "colab": {
          "base_uri": "https://localhost:8080/",
          "height": 276
        },
        "id": "S3sXOFG2J6Dw",
        "outputId": "a575e52b-be79-471c-f430-a0eab8bec3f0"
      },
      "outputs": [
        {
          "output_type": "stream",
          "name": "stdout",
          "text": [
            "Original-Daten geladen von: ./data/weblog.csv (16007 Zeilen).\n",
            "✅ Daten bereinigt, Anzahl Zeilen: 16007\n",
            "Verwendete Spalten: ['timestamp', 'ip', 'url', 'status_code']\n",
            "Erste Zeilen des bereinigten DataFrames:\n"
          ]
        },
        {
          "output_type": "execute_result",
          "data": {
            "text/plain": [
              "            timestamp          ip  \\\n",
              "0 2017-11-29 06:58:55  10.128.2.1   \n",
              "1 2017-11-29 06:59:02  10.128.2.1   \n",
              "2 2017-11-29 06:59:03  10.128.2.1   \n",
              "3 2017-11-29 06:59:04  10.131.2.1   \n",
              "4 2017-11-29 06:59:06  10.130.2.1   \n",
              "\n",
              "                                             url  status_code  \n",
              "0                        GET /login.php HTTP/1.1          200  \n",
              "1                     POST /process.php HTTP/1.1          302  \n",
              "2                         GET /home.php HTTP/1.1          200  \n",
              "3          GET /js/vendor/moment.min.js HTTP/1.1          200  \n",
              "4  GET /bootstrap-3.3.7/js/bootstrap.js HTTP/1.1          200  "
            ],
            "text/html": [
              "\n",
              "  <div id=\"df-afe54552-a59e-404e-ad88-2e81dbc86c08\" class=\"colab-df-container\">\n",
              "    <div>\n",
              "<style scoped>\n",
              "    .dataframe tbody tr th:only-of-type {\n",
              "        vertical-align: middle;\n",
              "    }\n",
              "\n",
              "    .dataframe tbody tr th {\n",
              "        vertical-align: top;\n",
              "    }\n",
              "\n",
              "    .dataframe thead th {\n",
              "        text-align: right;\n",
              "    }\n",
              "</style>\n",
              "<table border=\"1\" class=\"dataframe\">\n",
              "  <thead>\n",
              "    <tr style=\"text-align: right;\">\n",
              "      <th></th>\n",
              "      <th>timestamp</th>\n",
              "      <th>ip</th>\n",
              "      <th>url</th>\n",
              "      <th>status_code</th>\n",
              "    </tr>\n",
              "  </thead>\n",
              "  <tbody>\n",
              "    <tr>\n",
              "      <th>0</th>\n",
              "      <td>2017-11-29 06:58:55</td>\n",
              "      <td>10.128.2.1</td>\n",
              "      <td>GET /login.php HTTP/1.1</td>\n",
              "      <td>200</td>\n",
              "    </tr>\n",
              "    <tr>\n",
              "      <th>1</th>\n",
              "      <td>2017-11-29 06:59:02</td>\n",
              "      <td>10.128.2.1</td>\n",
              "      <td>POST /process.php HTTP/1.1</td>\n",
              "      <td>302</td>\n",
              "    </tr>\n",
              "    <tr>\n",
              "      <th>2</th>\n",
              "      <td>2017-11-29 06:59:03</td>\n",
              "      <td>10.128.2.1</td>\n",
              "      <td>GET /home.php HTTP/1.1</td>\n",
              "      <td>200</td>\n",
              "    </tr>\n",
              "    <tr>\n",
              "      <th>3</th>\n",
              "      <td>2017-11-29 06:59:04</td>\n",
              "      <td>10.131.2.1</td>\n",
              "      <td>GET /js/vendor/moment.min.js HTTP/1.1</td>\n",
              "      <td>200</td>\n",
              "    </tr>\n",
              "    <tr>\n",
              "      <th>4</th>\n",
              "      <td>2017-11-29 06:59:06</td>\n",
              "      <td>10.130.2.1</td>\n",
              "      <td>GET /bootstrap-3.3.7/js/bootstrap.js HTTP/1.1</td>\n",
              "      <td>200</td>\n",
              "    </tr>\n",
              "  </tbody>\n",
              "</table>\n",
              "</div>\n",
              "    <div class=\"colab-df-buttons\">\n",
              "\n",
              "  <div class=\"colab-df-container\">\n",
              "    <button class=\"colab-df-convert\" onclick=\"convertToInteractive('df-afe54552-a59e-404e-ad88-2e81dbc86c08')\"\n",
              "            title=\"Convert this dataframe to an interactive table.\"\n",
              "            style=\"display:none;\">\n",
              "\n",
              "  <svg xmlns=\"http://www.w3.org/2000/svg\" height=\"24px\" viewBox=\"0 -960 960 960\">\n",
              "    <path d=\"M120-120v-720h720v720H120Zm60-500h600v-160H180v160Zm220 220h160v-160H400v160Zm0 220h160v-160H400v160ZM180-400h160v-160H180v160Zm440 0h160v-160H620v160ZM180-180h160v-160H180v160Zm440 0h160v-160H620v160Z\"/>\n",
              "  </svg>\n",
              "    </button>\n",
              "\n",
              "  <style>\n",
              "    .colab-df-container {\n",
              "      display:flex;\n",
              "      gap: 12px;\n",
              "    }\n",
              "\n",
              "    .colab-df-convert {\n",
              "      background-color: #E8F0FE;\n",
              "      border: none;\n",
              "      border-radius: 50%;\n",
              "      cursor: pointer;\n",
              "      display: none;\n",
              "      fill: #1967D2;\n",
              "      height: 32px;\n",
              "      padding: 0 0 0 0;\n",
              "      width: 32px;\n",
              "    }\n",
              "\n",
              "    .colab-df-convert:hover {\n",
              "      background-color: #E2EBFA;\n",
              "      box-shadow: 0px 1px 2px rgba(60, 64, 67, 0.3), 0px 1px 3px 1px rgba(60, 64, 67, 0.15);\n",
              "      fill: #174EA6;\n",
              "    }\n",
              "\n",
              "    .colab-df-buttons div {\n",
              "      margin-bottom: 4px;\n",
              "    }\n",
              "\n",
              "    [theme=dark] .colab-df-convert {\n",
              "      background-color: #3B4455;\n",
              "      fill: #D2E3FC;\n",
              "    }\n",
              "\n",
              "    [theme=dark] .colab-df-convert:hover {\n",
              "      background-color: #434B5C;\n",
              "      box-shadow: 0px 1px 3px 1px rgba(0, 0, 0, 0.15);\n",
              "      filter: drop-shadow(0px 1px 2px rgba(0, 0, 0, 0.3));\n",
              "      fill: #FFFFFF;\n",
              "    }\n",
              "  </style>\n",
              "\n",
              "    <script>\n",
              "      const buttonEl =\n",
              "        document.querySelector('#df-afe54552-a59e-404e-ad88-2e81dbc86c08 button.colab-df-convert');\n",
              "      buttonEl.style.display =\n",
              "        google.colab.kernel.accessAllowed ? 'block' : 'none';\n",
              "\n",
              "      async function convertToInteractive(key) {\n",
              "        const element = document.querySelector('#df-afe54552-a59e-404e-ad88-2e81dbc86c08');\n",
              "        const dataTable =\n",
              "          await google.colab.kernel.invokeFunction('convertToInteractive',\n",
              "                                                    [key], {});\n",
              "        if (!dataTable) return;\n",
              "\n",
              "        const docLinkHtml = 'Like what you see? Visit the ' +\n",
              "          '<a target=\"_blank\" href=https://colab.research.google.com/notebooks/data_table.ipynb>data table notebook</a>'\n",
              "          + ' to learn more about interactive tables.';\n",
              "        element.innerHTML = '';\n",
              "        dataTable['output_type'] = 'display_data';\n",
              "        await google.colab.output.renderOutput(dataTable, element);\n",
              "        const docLink = document.createElement('div');\n",
              "        docLink.innerHTML = docLinkHtml;\n",
              "        element.appendChild(docLink);\n",
              "      }\n",
              "    </script>\n",
              "  </div>\n",
              "\n",
              "\n",
              "    <div id=\"df-aa6bb013-a937-4982-ab0f-1d8e8ec6625f\">\n",
              "      <button class=\"colab-df-quickchart\" onclick=\"quickchart('df-aa6bb013-a937-4982-ab0f-1d8e8ec6625f')\"\n",
              "                title=\"Suggest charts\"\n",
              "                style=\"display:none;\">\n",
              "\n",
              "<svg xmlns=\"http://www.w3.org/2000/svg\" height=\"24px\"viewBox=\"0 0 24 24\"\n",
              "     width=\"24px\">\n",
              "    <g>\n",
              "        <path d=\"M19 3H5c-1.1 0-2 .9-2 2v14c0 1.1.9 2 2 2h14c1.1 0 2-.9 2-2V5c0-1.1-.9-2-2-2zM9 17H7v-7h2v7zm4 0h-2V7h2v10zm4 0h-2v-4h2v4z\"/>\n",
              "    </g>\n",
              "</svg>\n",
              "      </button>\n",
              "\n",
              "<style>\n",
              "  .colab-df-quickchart {\n",
              "      --bg-color: #E8F0FE;\n",
              "      --fill-color: #1967D2;\n",
              "      --hover-bg-color: #E2EBFA;\n",
              "      --hover-fill-color: #174EA6;\n",
              "      --disabled-fill-color: #AAA;\n",
              "      --disabled-bg-color: #DDD;\n",
              "  }\n",
              "\n",
              "  [theme=dark] .colab-df-quickchart {\n",
              "      --bg-color: #3B4455;\n",
              "      --fill-color: #D2E3FC;\n",
              "      --hover-bg-color: #434B5C;\n",
              "      --hover-fill-color: #FFFFFF;\n",
              "      --disabled-bg-color: #3B4455;\n",
              "      --disabled-fill-color: #666;\n",
              "  }\n",
              "\n",
              "  .colab-df-quickchart {\n",
              "    background-color: var(--bg-color);\n",
              "    border: none;\n",
              "    border-radius: 50%;\n",
              "    cursor: pointer;\n",
              "    display: none;\n",
              "    fill: var(--fill-color);\n",
              "    height: 32px;\n",
              "    padding: 0;\n",
              "    width: 32px;\n",
              "  }\n",
              "\n",
              "  .colab-df-quickchart:hover {\n",
              "    background-color: var(--hover-bg-color);\n",
              "    box-shadow: 0 1px 2px rgba(60, 64, 67, 0.3), 0 1px 3px 1px rgba(60, 64, 67, 0.15);\n",
              "    fill: var(--button-hover-fill-color);\n",
              "  }\n",
              "\n",
              "  .colab-df-quickchart-complete:disabled,\n",
              "  .colab-df-quickchart-complete:disabled:hover {\n",
              "    background-color: var(--disabled-bg-color);\n",
              "    fill: var(--disabled-fill-color);\n",
              "    box-shadow: none;\n",
              "  }\n",
              "\n",
              "  .colab-df-spinner {\n",
              "    border: 2px solid var(--fill-color);\n",
              "    border-color: transparent;\n",
              "    border-bottom-color: var(--fill-color);\n",
              "    animation:\n",
              "      spin 1s steps(1) infinite;\n",
              "  }\n",
              "\n",
              "  @keyframes spin {\n",
              "    0% {\n",
              "      border-color: transparent;\n",
              "      border-bottom-color: var(--fill-color);\n",
              "      border-left-color: var(--fill-color);\n",
              "    }\n",
              "    20% {\n",
              "      border-color: transparent;\n",
              "      border-left-color: var(--fill-color);\n",
              "      border-top-color: var(--fill-color);\n",
              "    }\n",
              "    30% {\n",
              "      border-color: transparent;\n",
              "      border-left-color: var(--fill-color);\n",
              "      border-top-color: var(--fill-color);\n",
              "      border-right-color: var(--fill-color);\n",
              "    }\n",
              "    40% {\n",
              "      border-color: transparent;\n",
              "      border-right-color: var(--fill-color);\n",
              "      border-top-color: var(--fill-color);\n",
              "    }\n",
              "    60% {\n",
              "      border-color: transparent;\n",
              "      border-right-color: var(--fill-color);\n",
              "    }\n",
              "    80% {\n",
              "      border-color: transparent;\n",
              "      border-right-color: var(--fill-color);\n",
              "      border-bottom-color: var(--fill-color);\n",
              "    }\n",
              "    90% {\n",
              "      border-color: transparent;\n",
              "      border-bottom-color: var(--fill-color);\n",
              "    }\n",
              "  }\n",
              "</style>\n",
              "\n",
              "      <script>\n",
              "        async function quickchart(key) {\n",
              "          const quickchartButtonEl =\n",
              "            document.querySelector('#' + key + ' button');\n",
              "          quickchartButtonEl.disabled = true;  // To prevent multiple clicks.\n",
              "          quickchartButtonEl.classList.add('colab-df-spinner');\n",
              "          try {\n",
              "            const charts = await google.colab.kernel.invokeFunction(\n",
              "                'suggestCharts', [key], {});\n",
              "          } catch (error) {\n",
              "            console.error('Error during call to suggestCharts:', error);\n",
              "          }\n",
              "          quickchartButtonEl.classList.remove('colab-df-spinner');\n",
              "          quickchartButtonEl.classList.add('colab-df-quickchart-complete');\n",
              "        }\n",
              "        (() => {\n",
              "          let quickchartButtonEl =\n",
              "            document.querySelector('#df-aa6bb013-a937-4982-ab0f-1d8e8ec6625f button');\n",
              "          quickchartButtonEl.style.display =\n",
              "            google.colab.kernel.accessAllowed ? 'block' : 'none';\n",
              "        })();\n",
              "      </script>\n",
              "    </div>\n",
              "\n",
              "    </div>\n",
              "  </div>\n"
            ],
            "application/vnd.google.colaboratory.intrinsic+json": {
              "type": "dataframe",
              "variable_name": "df",
              "summary": "{\n  \"name\": \"df\",\n  \"rows\": 16007,\n  \"fields\": [\n    {\n      \"column\": \"timestamp\",\n      \"properties\": {\n        \"dtype\": \"date\",\n        \"min\": \"2017-11-07 23:59:19\",\n        \"max\": \"2018-03-02 15:47:46\",\n        \"num_unique_values\": 7298,\n        \"samples\": [\n          \"2017-11-23 13:53:18\",\n          \"2018-01-29 20:41:38\",\n          \"2017-11-30 16:23:56\"\n        ],\n        \"semantic_type\": \"\",\n        \"description\": \"\"\n      }\n    },\n    {\n      \"column\": \"ip\",\n      \"properties\": {\n        \"dtype\": \"category\",\n        \"num_unique_values\": 16,\n        \"samples\": [\n          \"10.128.2.1\",\n          \"10.131.2.1\",\n          \"chmod:\"\n        ],\n        \"semantic_type\": \"\",\n        \"description\": \"\"\n      }\n    },\n    {\n      \"column\": \"url\",\n      \"properties\": {\n        \"dtype\": \"category\",\n        \"num_unique_values\": 314,\n        \"samples\": [\n          \"POST /announcement.php HTTP/1.1\",\n          \"GET /showcode.php?id=281&nm=shawon HTTP/1.1\",\n          \"GET /contestsubmission.php?id=12 HTTP/1.1\"\n        ],\n        \"semantic_type\": \"\",\n        \"description\": \"\"\n      }\n    },\n    {\n      \"column\": \"status_code\",\n      \"properties\": {\n        \"dtype\": \"Int64\",\n        \"num_unique_values\": 5,\n        \"samples\": [\n          302,\n          404,\n          304\n        ],\n        \"semantic_type\": \"\",\n        \"description\": \"\"\n      }\n    }\n  ]\n}"
            }
          },
          "metadata": {},
          "execution_count": 14
        }
      ],
      "source": [
        "import duckdb\n",
        "import pandas as pd\n",
        "import matplotlib.pyplot as plt\n",
        "import os\n",
        "import time\n",
        "from datetime import datetime\n",
        "\n",
        "# --- Daten-Setup: Laden der Weblogs mit finaler Bereinigung ---\n",
        "\n",
        "# Korrigierter lokaler Pfad\n",
        "LOG_PATH = './data/weblog.csv'\n",
        "\n",
        "try:\n",
        "    # 1. Datei laden\n",
        "    if not os.path.exists(LOG_PATH):\n",
        "        raise FileNotFoundError(f\"Die Datei '{LOG_PATH}' wurde nicht gefunden. Bitte prüfen Sie den Pfad.\")\n",
        "\n",
        "    df = pd.read_csv(LOG_PATH)\n",
        "    print(f\"Original-Daten geladen von: {LOG_PATH} ({len(df)} Zeilen).\")\n",
        "\n",
        "    # --- ANPASSUNG 1: Spaltennamen bereinigen und vereinheitlichen ---\n",
        "    # Behebt Case Sensitivity und Leerzeichen-Probleme.\n",
        "    df.columns = df.columns.str.strip().str.lower()\n",
        "\n",
        "    # 2. Spezielle Bereinigung und Konvertierung der Zeitstempel-Spalte ('time')\n",
        "    # Entfernt die eckige Klammer '[' und verwendet das erforderliche Log-Format.\n",
        "    df['time'] = pd.to_datetime(\n",
        "        df['time'].astype(str).str.replace(\"[\", \"\", regex=False),\n",
        "        format=\"%d/%b/%Y:%H:%M:%S\",\n",
        "        errors=\"coerce\" # Setzt ungültige Zeiten auf NaT\n",
        "    )\n",
        "\n",
        "    # 3. Spaltenumbenennung (inkl. Fix für 'staus')\n",
        "    df.rename(columns={\n",
        "        'time': 'timestamp',\n",
        "        'staus': 'status_code' # FIX: Korrigiert den Tippfehler 'staus'\n",
        "        # 'ip' und 'url' behalten ihre kleingeschriebenen Namen\n",
        "    }, errors='raise', inplace=True)\n",
        "\n",
        "    # --- KRITISCHER FIX 4: Fehlerhafte Statuscodes ('No') beheben ---\n",
        "    # Konvertiert Statuscodes, setzt ungültige Werte (wie 'No') auf NaN (Not a Number),\n",
        "    # und wandelt die Spalte in den robusten Integer-Typ (Int64) um, der NaN unterstützt.\n",
        "    df['status_code'] = pd.to_numeric(\n",
        "        df['status_code'],\n",
        "        errors='coerce' # Ersetzt 'No' durch NaN\n",
        "    ).astype(pd.Int64Dtype()) # Konvertiert zu einem Integer-Typ, der NaN zulässt\n",
        "\n",
        "    # 5. Nur die relevanten Spalten behalten\n",
        "    df = df[['timestamp', 'ip', 'url', 'status_code']]\n",
        "\n",
        "    # Optional: Registrieren des DataFrames, falls die DuckDB-Verbindung 'con' global existiert\n",
        "    # con.register(\"weblogs\", df)\n",
        "\n",
        "except Exception as e:\n",
        "    print(f\"Ein unerwarteter Fehler beim Laden oder Verarbeiten der Daten ist aufgetreten: {e}\")\n",
        "    raise\n",
        "\n",
        "print(f\"✅ Daten bereinigt, Anzahl Zeilen: {len(df)}\")\n",
        "print(f\"Verwendete Spalten: {list(df.columns)}\")\n",
        "print(\"Erste Zeilen des bereinigten DataFrames:\")\n",
        "df.head()"
      ],
      "id": "S3sXOFG2J6Dw"
    },
    {
      "cell_type": "markdown",
      "metadata": {
        "id": "LzN85hUPJ6Dx"
      },
      "source": [
        "## 2. DuckLake-Initialisierung und Snapshot 1 (Basis-Beweis)"
      ],
      "id": "LzN85hUPJ6Dx"
    },
    {
      "cell_type": "code",
      "execution_count": 15,
      "metadata": {
        "colab": {
          "base_uri": "https://localhost:8080/"
        },
        "id": "1CSCaPZ2J6Dy",
        "outputId": "8fcacd1d-e5f9-484b-b3ff-cc9882674b3a"
      },
      "outputs": [
        {
          "output_type": "stream",
          "name": "stdout",
          "text": [
            "✅ Forensisches Log-Archiv 'forensic_log_archive' initialisiert.\n",
            "\n",
            "✅ Snapshot 1 (Original-Log) erfasst. ID: 2, Time: 2025-09-30 10:39:53.788000+00:00\n"
          ]
        }
      ],
      "source": [
        "# --- Forensische Pfade definieren ---\n",
        "DUCKLAKE_METADATA_PATH = 'forensic_evidence.ducklake'\n",
        "DUCKLAKE_DATA_PATH = 'forensic_data_files'\n",
        "CATALOG_NAME = 'forensic_log_archive'\n",
        "table_name = 'access_logs'\n",
        "\n",
        "# Lokale Ordner erstellen\n",
        "os.makedirs(DUCKLAKE_DATA_PATH, exist_ok=True)\n",
        "\n",
        "# --- DuckDB initialisieren und DuckLake Extension laden ---\n",
        "con = duckdb.connect(database='forensic_duckdb.db')\n",
        "con.sql(\"INSTALL ducklake;\")\n",
        "con.sql(\"LOAD ducklake;\")\n",
        "\n",
        "# --- DuckLake Katalog anhängen und verwenden ---\n",
        "attach_query = f\"\"\"\n",
        "    ATTACH 'ducklake:{DUCKLAKE_METADATA_PATH}' AS {CATALOG_NAME} (DATA_PATH '{DUCKLAKE_DATA_PATH}');\n",
        "\"\"\"\n",
        "con.sql(attach_query)\n",
        "con.sql(f\"USE {CATALOG_NAME};\")\n",
        "\n",
        "print(f\"✅ Forensisches Log-Archiv '{CATALOG_NAME}' initialisiert.\")\n",
        "\n",
        "# --- Snapshot 1: Basis-Log (Original-Daten) ---\n",
        "# 1. Leere Tabelle mit Schema aus dem Pandas DF erstellen\n",
        "con.sql(f\"CREATE OR REPLACE TABLE {table_name} AS SELECT * FROM df LIMIT 0;\")\n",
        "\n",
        "# 2. Daten aus dem Pandas DataFrame einfügen (erzeugt Snapshot 1)\n",
        "con.sql(f\"INSERT INTO {table_name} SELECT * FROM df;\")\n",
        "\n",
        "# 3. Snapshot-ID und Zeitstempel erfassen (WICHTIG für Time Travel)\n",
        "snapshot_1_id = con.sql(f\"SELECT max(snapshot_id) FROM ducklake_snapshots('{CATALOG_NAME}')\").fetchone()[0]\n",
        "snapshot_1_time = con.sql(f\"SELECT snapshot_time FROM ducklake_snapshots('{CATALOG_NAME}') WHERE snapshot_id = {snapshot_1_id}\").fetchone()[0]\n",
        "\n",
        "print(f\"\\n✅ Snapshot 1 (Original-Log) erfasst. ID: {snapshot_1_id}, Time: {snapshot_1_time}\")"
      ],
      "id": "1CSCaPZ2J6Dy"
    },
    {
      "cell_type": "markdown",
      "metadata": {
        "id": "5OeLpvfeJ6Dy"
      },
      "source": [
        "## 3. Simulierte Log-Manipulation und Snapshot 2 (Manipuliertes Log)"
      ],
      "id": "5OeLpvfeJ6Dy"
    },
    {
      "cell_type": "code",
      "execution_count": 35,
      "metadata": {
        "colab": {
          "base_uri": "https://localhost:8080/"
        },
        "id": "nYwIxdrHJ6Dy",
        "outputId": "79bebcaf-da45-447f-9a82-303dabd9e684"
      },
      "outputs": [
        {
          "output_type": "stream",
          "name": "stdout",
          "text": [
            "   -> 0 Fehler-Einträge (>= 400) wurden gelöscht (Simulierte Manipulation).\n",
            "   -> Ein neuer 200-Eintrag wurde hinzugefügt (Ablenkung).\n",
            "\n",
            "✅ Snapshot 2 (Manipuliertes Log) erfasst. ID: 5\n",
            "┌─────────────┬─────────────────────┐\n",
            "│ snapshot_id │        time         │\n",
            "│    int64    │       varchar       │\n",
            "├─────────────┼─────────────────────┤\n",
            "│           0 │ 2025-09-30 10:39:53 │\n",
            "│           1 │ 2025-09-30 10:39:53 │\n",
            "│           2 │ 2025-09-30 10:39:53 │\n",
            "│           3 │ 2025-09-30 10:40:01 │\n",
            "│           4 │ 2025-09-30 10:40:01 │\n",
            "│           5 │ 2025-09-30 10:50:54 │\n",
            "└─────────────┴─────────────────────┘\n",
            "\n"
          ]
        }
      ],
      "source": [
        "# Kurze Pause für eindeutigen Snapshot-Zeitstempel\n",
        "time.sleep(1)\n",
        "\n",
        "# --- Simulierte Log-Manipulation (Beweisvertuschung) ---\n",
        "\n",
        "# 1. Löschen verdächtiger Einträge (Alle Fehler-Einträge >= 400 werden gelöscht)\n",
        "# Dies ist eine direkte SQL-Aktion, die das Log manipuliert.\n",
        "deleted_count = con.execute(f\"DELETE FROM {table_name} WHERE status_code >= 400;\").fetchall()[0][0]\n",
        "print(f\"   -> {deleted_count} Fehler-Einträge (>= 400) wurden gelöscht (Simulierte Manipulation).\")\n",
        "\n",
        "# 2. Hinzufügen eines unverdächtigen Eintrags im 'Rohdaten'-Format (Ablenkung)\n",
        "\n",
        "# Um die Illusion der Rohdaten-Manipulation zu erzeugen, erstellen wir einen\n",
        "# DataFrame, der die SPALTEN-NAMEN des Originals nutzt ('Time', 'Ip', 'Status', etc.),\n",
        "# anstatt der bereits bereinigten Namen ('timestamp', 'status_code').\n",
        "\n",
        "# Der vorherige Code hat die Spalten jedoch bereits in Kleinbuchstaben umbenannt.\n",
        "# Daher nutzen wir hier die BEREINIGTEN SPALTEN-NAMEN, aber füllen die Werte\n",
        "# so, als ob sie aus dem Rohdaten-Kontext stammen (z.B. ein normaler 200er-Status).\n",
        "\n",
        "new_log_df = pd.DataFrame({\n",
        "    'timestamp': [pd.to_datetime(datetime.now())],\n",
        "    'ip': ['203.0.113.5'],\n",
        "    'url': ['/index.html'],\n",
        "    'status_code': [200] # Numerische Statuscodes werden direkt unterstützt\n",
        "})\n",
        "con.sql(f\"INSERT INTO {table_name} SELECT * FROM new_log_df;\")\n",
        "print(f\"   -> Ein neuer 200-Eintrag wurde hinzugefügt (Ablenkung).\")\n",
        "\n",
        "# --- Snapshot 2 erfassen ---\n",
        "# Dieser Snapshot speichert den manipulierten Zustand in der History.\n",
        "snapshot_2_id = con.sql(f\"SELECT max(snapshot_id) FROM ducklake_snapshots('{CATALOG_NAME}')\").fetchone()[0]\n",
        "print(f\"\\n✅ Snapshot 2 (Manipuliertes Log) erfasst. ID: {snapshot_2_id}\")\n",
        "\n",
        "con.sql(f\"SELECT snapshot_id, strftime(snapshot_time, '%Y-%m-%d %H:%M:%S') AS time FROM ducklake_snapshots('{CATALOG_NAME}') ORDER BY snapshot_id;\").show()"
      ],
      "id": "nYwIxdrHJ6Dy"
    },
    {
      "cell_type": "markdown",
      "metadata": {
        "id": "mbXDa0QiJ6Dz"
      },
      "source": [
        "## 4. Forensische Analyse: Time Travel & Änderungsverfolgung"
      ],
      "id": "mbXDa0QiJ6Dz"
    },
    {
      "cell_type": "markdown",
      "metadata": {
        "id": "suxRRdLrJ6Dz"
      },
      "source": [
        "### 4.1. Direkter Beweis: Gelöschte und hinzugefügte Einträge (`ducklake_table_deletions`)"
      ],
      "id": "suxRRdLrJ6Dz"
    },
    {
      "cell_type": "code",
      "execution_count": 17,
      "metadata": {
        "colab": {
          "base_uri": "https://localhost:8080/"
        },
        "id": "lArLIahCJ6Dz",
        "outputId": "6b0ecb69-fefa-4373-8444-710274d6f6ec"
      },
      "outputs": [
        {
          "output_type": "stream",
          "name": "stdout",
          "text": [
            "\n",
            "[Forensischer Beweis: Gelöschte Einträge (Vertuschung) zwischen Snapshot 1 und 2]\n",
            "\n",
            "┌────────────┬───────────────────────────┬─────────────┐\n",
            "│     ip     │            url            │ status_code │\n",
            "│  varchar   │          varchar          │    int64    │\n",
            "├────────────┼───────────────────────────┼─────────────┤\n",
            "│ 10.131.0.1 │ GET /robots.txt HTTP/1.1  │         404 │\n",
            "│ 10.130.2.1 │ GET /robots.txt HTTP/1.1  │         404 │\n",
            "│ 10.131.0.1 │ GET /robots.txt HTTP/1.1  │         404 │\n",
            "│ 10.130.2.1 │ GET /robots.txt HTTP/1.1  │         404 │\n",
            "│ 10.128.2.1 │ GET /favicon.ico HTTP/1.1 │         404 │\n",
            "│ 10.130.2.1 │ GET /favicon.ico HTTP/1.1 │         404 │\n",
            "│ 10.128.2.1 │ GET /favicon.ico HTTP/1.1 │         404 │\n",
            "│ 10.129.2.1 │ GET /robots.txt HTTP/1.1  │         404 │\n",
            "│ 10.130.2.1 │ GET /robots.txt HTTP/1.1  │         404 │\n",
            "│ 10.131.0.1 │ GET /robots.txt HTTP/1.1  │         404 │\n",
            "│     ·      │            ·              │          ·  │\n",
            "│     ·      │            ·              │          ·  │\n",
            "│     ·      │            ·              │          ·  │\n",
            "│ 10.130.2.1 │ GET /robots.txt HTTP/1.1  │         404 │\n",
            "│ 10.128.2.1 │ GET /robots.txt HTTP/1.1  │         404 │\n",
            "│ 10.128.2.1 │ GET /robots.txt HTTP/1.1  │         404 │\n",
            "│ 10.130.2.1 │ GET /robots.txt HTTP/1.1  │         404 │\n",
            "│ 10.130.2.1 │ GET /robots.txt HTTP/1.1  │         404 │\n",
            "│ 10.130.2.1 │ GET /favicon.ico HTTP/1.1 │         404 │\n",
            "│ 10.128.2.1 │ GET /robots.txt HTTP/1.1  │         404 │\n",
            "│ 10.130.2.1 │ GET /robots.txt HTTP/1.1  │         404 │\n",
            "│ 10.128.2.1 │ GET /robots.txt HTTP/1.1  │         404 │\n",
            "│ 10.130.2.1 │ GET /robots.txt HTTP/1.1  │         404 │\n",
            "├────────────┴───────────────────────────┴─────────────┤\n",
            "│ 251 rows (20 shown)                        3 columns │\n",
            "└──────────────────────────────────────────────────────┘\n",
            "\n",
            "\n",
            "[Kontrolle: Neu hinzugefügte Einträge (Ablenkung)]\n",
            "\n",
            "┌────────────┬────────────────────────────────────────────────┬─────────────┐\n",
            "│     ip     │                      url                       │ status_code │\n",
            "│  varchar   │                    varchar                     │    int64    │\n",
            "├────────────┼────────────────────────────────────────────────┼─────────────┤\n",
            "│ 10.128.2.1 │ GET /login.php HTTP/1.1                        │         200 │\n",
            "│ 10.128.2.1 │ POST /process.php HTTP/1.1                     │         302 │\n",
            "│ 10.128.2.1 │ GET /home.php HTTP/1.1                         │         200 │\n",
            "│ 10.131.2.1 │ GET /js/vendor/moment.min.js HTTP/1.1          │         200 │\n",
            "│ 10.130.2.1 │ GET /bootstrap-3.3.7/js/bootstrap.js HTTP/1.1  │         200 │\n",
            "│ 10.130.2.1 │ GET /profile.php?user=bala HTTP/1.1            │         200 │\n",
            "│ 10.128.2.1 │ GET /js/jquery.min.js HTTP/1.1                 │         200 │\n",
            "│ 10.131.2.1 │ GET /js/chart.min.js HTTP/1.1                  │         200 │\n",
            "│ 10.131.2.1 │ GET /edit.php?name=bala HTTP/1.1               │         200 │\n",
            "│ 10.131.2.1 │ GET /logout.php HTTP/1.1                       │         302 │\n",
            "│     ·      │            ·                                   │          ·  │\n",
            "│     ·      │            ·                                   │          ·  │\n",
            "│     ·      │            ·                                   │          ·  │\n",
            "│ 10.128.2.1 │ GET /login.php HTTP/1.1                        │         200 │\n",
            "│ 10.128.2.1 │ GET /js/vendor/modernizr-2.8.3.min.js HTTP/1.1 │         200 │\n",
            "│ 10.130.2.1 │ GET /home.php HTTP/1.1                         │         302 │\n",
            "│ 10.130.2.1 │ GET /login.php HTTP/1.1                        │         200 │\n",
            "│ 10.128.2.1 │ GET /login.php HTTP/1.1                        │         200 │\n",
            "│ 10.130.2.1 │ GET /login.php HTTP/1.1                        │         200 │\n",
            "│ 10.130.2.1 │ GET /login.php HTTP/1.1                        │         200 │\n",
            "│ 10.130.2.1 │ GET /login.php HTTP/1.1                        │         200 │\n",
            "│ 10.131.0.1 │ GET /login.php HTTP/1.1                        │         200 │\n",
            "│ 10.130.2.1 │ GET /home.php HTTP/1.1                         │         302 │\n",
            "├────────────┴────────────────────────────────────────────────┴─────────────┤\n",
            "│ ? rows (>9999 rows, 20 shown)                                   3 columns │\n",
            "└───────────────────────────────────────────────────────────────────────────┘\n",
            "\n",
            "Die `deletions`-Funktion rekonstruiert exakt die von der Manipulation entfernten Beweismittel (alle Statuscodes >= 400).\n"
          ]
        }
      ],
      "source": [
        "print(\"\\n[Forensischer Beweis: Gelöschte Einträge (Vertuschung) zwischen Snapshot 1 und 2]\\n\")\n",
        "con.sql(f\"\"\"\n",
        "    SELECT\n",
        "        ip,\n",
        "        url,\n",
        "        status_code\n",
        "    FROM\n",
        "        ducklake_table_deletions('{CATALOG_NAME}', 'main', '{table_name}', {snapshot_1_id}, {snapshot_2_id}); -- **DuckLake Deletions**\n",
        "\"\"\").show()\n",
        "\n",
        "print(\"\\n[Kontrolle: Neu hinzugefügte Einträge (Ablenkung)]\\n\")\n",
        "con.sql(f\"\"\"\n",
        "    SELECT\n",
        "        ip,\n",
        "        url,\n",
        "        status_code\n",
        "    FROM\n",
        "        ducklake_table_insertions('{CATALOG_NAME}', 'main', '{table_name}', {snapshot_1_id}, {snapshot_2_id}); -- **DuckLake Insertions**\n",
        "\"\"\").show()\n",
        "\n",
        "print(\"Die `deletions`-Funktion rekonstruiert exakt die von der Manipulation entfernten Beweismittel (alle Statuscodes >= 400).\")"
      ],
      "id": "lArLIahCJ6Dz"
    },
    {
      "cell_type": "code",
      "source": [
        "# Annahme: 'con' (DuckDB-Verbindung) und 'table_name' (z.B. 'weblogs') sind definiert.\n",
        "\n",
        "top_ips_manipulated = con.execute(f\"\"\"\n",
        "    SELECT\n",
        "        ip,\n",
        "        COUNT(*) AS cnt\n",
        "    FROM\n",
        "        {table_name}\n",
        "    GROUP BY\n",
        "        ip\n",
        "    ORDER BY\n",
        "        cnt DESC\n",
        "    LIMIT 10\n",
        "\"\"\").fetchdf()\n",
        "\n",
        "print(\"Top 10 IPs (Aktueller, manipulierter Zustand):\")\n",
        "print(top_ips_manipulated)\n",
        "\n",
        "# Visualisierung\n",
        "top_ips_manipulated.plot.bar(x=\"ip\", y=\"cnt\", legend=False, title=\"Top 10 IPs (Aktueller Zustand - Manipuliert)\")\n",
        "plt.xlabel(\"IP-Adresse\")\n",
        "plt.ylabel(\"Anzahl der Anfragen\")\n",
        "plt.xticks(rotation=45, ha='right')\n",
        "plt.tight_layout()\n",
        "plt.show()"
      ],
      "metadata": {
        "id": "pZJr6yynQxu5",
        "outputId": "617e67ab-67d4-4ff7-c155-0c03161b51c0",
        "colab": {
          "base_uri": "https://localhost:8080/",
          "height": 695
        }
      },
      "id": "pZJr6yynQxu5",
      "execution_count": 44,
      "outputs": [
        {
          "output_type": "stream",
          "name": "stdout",
          "text": [
            "Top 10 IPs (Aktueller, manipulierter Zustand):\n",
            "           ip   cnt\n",
            "0  10.128.2.1  4190\n",
            "1  10.131.0.1  4137\n",
            "2  10.130.2.1  4004\n",
            "3  10.129.2.1  1611\n",
            "4  10.131.2.1  1596\n",
            "5      chmod:    95\n",
            "6         rm:    72\n",
            "7        [Tue    17\n",
            "8         sh:     7\n",
            "9        [Thu     6\n"
          ]
        },
        {
          "output_type": "display_data",
          "data": {
            "text/plain": [
              "<Figure size 640x480 with 1 Axes>"
            ],
            "image/png": "[encoded data removed]"
          },
          "metadata": {}
        }
      ]
    },
    {
      "cell_type": "markdown",
      "source": [
        "🕵️ Forensische Statuscode-Analyse: Beweis der Datenmanipulation\n",
        "Dieser Code vergleicht die HTTP-Statuscode-Verteilung des aktuellen (manipulierten) Zustands (Snapshot 2) mit den gelöschten Einträgen (die den Beweis der Manipulation darstellen). Da die direkte Time-Travel-Syntax fehlschlägt, wird die ducklake_table_deletions-Funktion genutzt, um die forensischen Beweise direkt abzurufen."
      ],
      "metadata": {
        "id": "wuQotw55Tfbi"
      },
      "id": "wuQotw55Tfbi"
    },
    {
      "cell_type": "code",
      "source": [
        "import pandas as pd\n",
        "import matplotlib.pyplot as plt\n",
        "\n",
        "# --- 1. Daten für den \"Original (Beweis)\" Zustand abrufen ---\n",
        "\n",
        "# Die gelöschten Zeilen (deletions) entsprechen den Fehler-Einträgen,\n",
        "# die in der Original-Logdatei enthalten waren.\n",
        "df_deletions = con.execute(f\"\"\"\n",
        "    SELECT\n",
        "        CAST(status_code AS VARCHAR) AS status_code\n",
        "    FROM\n",
        "        ducklake_table_deletions('{CATALOG_NAME}', 'main', '{table_name}', {snapshot_1_id}, {snapshot_2_id});\n",
        "\"\"\").fetchdf()\n",
        "\n",
        "# Der Original-Zustand (Snapshot 1) ergibt sich aus:\n",
        "# Snapshot 1 = Snapshot 2 (Aktuell) + Deletions - Insertions\n",
        "\n",
        "# Wir führen die Analyse der gelöschten Einträge durch (die kritisch sind)\n",
        "original_errors = df_deletions.groupby('status_code').size().reset_index(name='cnt')\n",
        "original_errors['state'] = 'Original (Gelöschte Fehler)'\n",
        "original_errors['version_id'] = 1\n",
        "\n",
        "\n",
        "# --- 2. Daten für den \"Aktuellen (Manipulierten)\" Zustand abrufen ---\n",
        "df_manipulated = con.execute(f\"\"\"\n",
        "    SELECT\n",
        "        CAST(status_code AS VARCHAR) AS status_code,\n",
        "        COUNT(*) AS cnt,\n",
        "        2 AS version_id,\n",
        "        'Manipuliert (Aktuell)' AS state\n",
        "    FROM\n",
        "        {table_name}\n",
        "    GROUP BY\n",
        "        status_code\n",
        "\"\"\").fetchdf()\n",
        "\n",
        "\n",
        "# --- 3. Visualisierung der relevanten Daten (Manipulation vs. Gelöschte Fehler) ---\n",
        "\n",
        "# Kombiniere die Fehler aus dem Originalzustand und den aktuellen Zustand\n",
        "combined_analysis = pd.concat([original_errors, df_manipulated], ignore_index=True)\n",
        "\n",
        "# Funktion zur Farbbestimmung\n",
        "def get_colors(df):\n",
        "    colors = []\n",
        "    for s in df['status_code']:\n",
        "        try:\n",
        "            if int(s) >= 400:\n",
        "                colors.append('darkred')\n",
        "            else:\n",
        "                colors.append('green')\n",
        "        except:\n",
        "            colors.append('gray')\n",
        "    return colors\n",
        "\n",
        "df_original_errors = combined_analysis[combined_analysis['version_id'] == 1].copy()\n",
        "\n",
        "fig, axes = plt.subplots(1, 2, figsize=(16, 6))\n",
        "\n",
        "# Plot 1: Manipulierter Zustand (Aktuell)\n",
        "df_manipulated.plot.bar(x=\"status_code\", y=\"cnt\", legend=False, ax=axes[0], color=get_colors(df_manipulated))\n",
        "axes[0].set_title(\"HTTP-Statuscode Verteilung (Aktuell - Manipuliert)\")\n",
        "axes[0].set_ylabel(\"Anzahl der Anfragen\")\n",
        "axes[0].set_xlabel(\"Statuscode\")\n",
        "axes[0].tick_params(axis='x', rotation=0)\n",
        "\n",
        "# Plot 2: Historischer Beweis (Nur die gelöschten Fehlercodes)\n",
        "df_original_errors.plot.bar(x=\"status_code\", y=\"cnt\", legend=False, ax=axes[1], color='darkred')\n",
        "axes[1].set_title(\"HTTP-Statuscode Verteilung (Forensischer Beweis: Gelöschte Fehler)\")\n",
        "axes[1].set_ylabel(\"Anzahl der Anfragen\")\n",
        "axes[1].set_xlabel(\"Statuscode\")\n",
        "axes[1].tick_params(axis='x', rotation=0)\n",
        "\n",
        "plt.tight_layout()\n",
        "plt.show()\n",
        "\n",
        "print(\"\\nStatuscode-Analyse der gelöschten Einträge (Forensischer Beweis):\")\n",
        "print(df_original_errors)"
      ],
      "metadata": {
        "id": "6XZ1tYhDRR67",
        "outputId": "946927d5-aa3e-43c8-cbe1-77a13e00c7b5",
        "colab": {
          "base_uri": "https://localhost:8080/",
          "height": 676
        }
      },
      "id": "6XZ1tYhDRR67",
      "execution_count": 51,
      "outputs": [
        {
          "output_type": "display_data",
          "data": {
            "text/plain": [
              "<Figure size 1600x600 with 2 Axes>"
            ],
            "image/png": "[encoded data removed]"
          },
          "metadata": {}
        },
        {
          "output_type": "stream",
          "name": "stdout",
          "text": [
            "\n",
            "Statuscode-Analyse der gelöschten Einträge (Forensischer Beweis):\n",
            "  status_code  cnt                        state  version_id\n",
            "0         404  251  Original (Gelöschte Fehler)           1\n"
          ]
        }
      ]
    },
    {
      "cell_type": "markdown",
      "metadata": {
        "id": "BZ8Ddew6J6D0"
      },
      "source": [
        "## 5. Vertiefende Forensische Analysen mit Time Travel"
      ],
      "id": "BZ8Ddew6J6D0"
    },
    {
      "cell_type": "markdown",
      "metadata": {
        "id": "9xBHFrUHJ6D1"
      },
      "source": [
        "### 5.1. Anomalie-Erkennung: Statuscode-Verteilung im Vergleich\n",
        "Der Vergleich der Statuscodes belegt den Manipulationsversuch quantitativ: Die Fehlercodes sind im Original-Log deutlich vorhanden, im aktuellen Log aber fast vollständig verschwunden."
      ],
      "id": "9xBHFrUHJ6D1"
    },
    {
      "cell_type": "code",
      "execution_count": 39,
      "metadata": {
        "colab": {
          "base_uri": "https://localhost:8080/",
          "height": 812
        },
        "id": "TMTfuTBJJ6D1",
        "outputId": "b47027e5-0319-42cd-e634-3e62d9517198"
      },
      "outputs": [
        {
          "output_type": "display_data",
          "data": {
            "text/plain": [
              "<Figure size 800x400 with 1 Axes>"
            ],
            "image/png": "[encoded data removed]"
          },
          "metadata": {}
        },
        {
          "output_type": "stream",
          "name": "stdout",
          "text": [
            "Statuscode-Analyse (Aktueller Zustand (Manipuliert)):\n",
            "  status_code    cnt\n",
            "0         200  11332\n",
            "1         302   3498\n",
            "2         304    658\n",
            "3        None    218\n",
            "4         206     52\n"
          ]
        },
        {
          "output_type": "error",
          "ename": "ParserException",
          "evalue": "Parser Error: syntax error at or near \"VERSION\"",
          "traceback": [
            "\u001b[0;31m---------------------------------------------------------------------------\u001b[0m",
            "\u001b[0;31mParserException\u001b[0m                           Traceback (most recent call last)",
            "\u001b[0;32m/tmp/ipython-input-3880034374.py\u001b[0m in \u001b[0;36m<cell line: 0>\u001b[0;34m()\u001b[0m\n\u001b[1;32m     52\u001b[0m \u001b[0;31m# 2. Analyse des Original-Zustands (Time Travel)\u001b[0m\u001b[0;34m\u001b[0m\u001b[0;34m\u001b[0m\u001b[0m\n\u001b[1;32m     53\u001b[0m \u001b[0;31m# FINALER FIX: Wir verwenden die letzte verbleibende Standard-Syntax: AT VERSION {snapshot_1_id}\u001b[0m\u001b[0;34m\u001b[0m\u001b[0;34m\u001b[0m\u001b[0m\n\u001b[0;32m---> 54\u001b[0;31m \u001b[0manalyze_status_codes\u001b[0m\u001b[0;34m(\u001b[0m\u001b[0;34mf\"AT VERSION {snapshot_1_id}\"\u001b[0m\u001b[0;34m,\u001b[0m \u001b[0;34m\"Historischer Zustand (Original - Beweis)\"\u001b[0m\u001b[0;34m)\u001b[0m\u001b[0;34m\u001b[0m\u001b[0;34m\u001b[0m\u001b[0m\n\u001b[0m",
            "\u001b[0;32m/tmp/ipython-input-3880034374.py\u001b[0m in \u001b[0;36manalyze_status_codes\u001b[0;34m(query_suffix, title_suffix)\u001b[0m\n\u001b[1;32m     10\u001b[0m         \u001b[0msql_suffix\u001b[0m \u001b[0;34m=\u001b[0m \u001b[0;34m\" \"\u001b[0m \u001b[0;34m+\u001b[0m \u001b[0mquery_suffix\u001b[0m\u001b[0;34m\u001b[0m\u001b[0;34m\u001b[0m\u001b[0m\n\u001b[1;32m     11\u001b[0m \u001b[0;34m\u001b[0m\u001b[0m\n\u001b[0;32m---> 12\u001b[0;31m     status_analysis = con.execute(f\"\"\"\n\u001b[0m\u001b[1;32m     13\u001b[0m         \u001b[0mSELECT\u001b[0m\u001b[0;34m\u001b[0m\u001b[0;34m\u001b[0m\u001b[0m\n\u001b[1;32m     14\u001b[0m             \u001b[0mCAST\u001b[0m\u001b[0;34m(\u001b[0m\u001b[0mstatus_code\u001b[0m \u001b[0mAS\u001b[0m \u001b[0mVARCHAR\u001b[0m\u001b[0;34m)\u001b[0m \u001b[0mAS\u001b[0m \u001b[0mstatus_code\u001b[0m\u001b[0;34m,\u001b[0m\u001b[0;34m\u001b[0m\u001b[0;34m\u001b[0m\u001b[0m\n",
            "\u001b[0;31mParserException\u001b[0m: Parser Error: syntax error at or near \"VERSION\""
          ]
        }
      ],
      "source": [
        "def analyze_status_codes(query_suffix, title_suffix):\n",
        "    \"\"\"Führt die Statuscode-Analyse auf dem aktuellen oder historischen Zustand durch.\"\"\"\n",
        "\n",
        "    # Der Suffix wird wie vorgesehen mit einem Leerzeichen vorangestellt,\n",
        "    # außer bei der @-Notation (die jetzt ignoriert wird).\n",
        "    sql_suffix = \"\"\n",
        "    if query_suffix:\n",
        "        # Hier wird der Suffix direkt angehängt, ob mit oder ohne @-Notation\n",
        "        # Wir müssen uns auf die stabilste Syntax verlassen: AT VERSION\n",
        "        sql_suffix = \" \" + query_suffix\n",
        "\n",
        "    status_analysis = con.execute(f\"\"\"\n",
        "        SELECT\n",
        "            CAST(status_code AS VARCHAR) AS status_code,\n",
        "            COUNT(*) AS cnt\n",
        "        FROM\n",
        "            {table_name}{sql_suffix}\n",
        "        GROUP BY\n",
        "            status_code\n",
        "        ORDER BY\n",
        "            cnt DESC\n",
        "    \"\"\").fetchdf()\n",
        "\n",
        "    # Handle potential None values in status_code when determining color\n",
        "    colors = []\n",
        "    for s in status_analysis['status_code']:\n",
        "        try:\n",
        "            # Attempt to convert to int and check if >= 400\n",
        "            if int(s) >= 400:\n",
        "                colors.append('darkred')\n",
        "            else:\n",
        "                colors.append('green')\n",
        "        except (ValueError, TypeError):\n",
        "            # If conversion fails (e.g., s is None or not a valid number), use a default color\n",
        "            colors.append('gray') # Or any other color for invalid/missing status codes\n",
        "\n",
        "\n",
        "    status_analysis.plot.bar(x=\"status_code\", y=\"cnt\", legend=False,\n",
        "                             title=f\"HTTP-Statuscode Verteilung ({title_suffix})\",\n",
        "                             figsize=(8, 4),\n",
        "                             color=colors)\n",
        "    plt.ylabel(\"Anzahl der Anfragen\")\n",
        "    plt.xlabel(\"Statuscode\")\n",
        "    plt.xticks(rotation=0)\n",
        "    plt.show()\n",
        "    print(f\"Statuscode-Analyse ({title_suffix}):\")\n",
        "    print(status_analysis)\n",
        "\n",
        "# 1. Analyse des manipulierten Zustands (aktuell)\n",
        "analyze_status_codes(\"\", \"Aktueller Zustand (Manipuliert)\")\n",
        "\n",
        "# 2. Analyse des Original-Zustands (Time Travel)\n",
        "# FINALER FIX: Wir verwenden die letzte verbleibende Standard-Syntax: AT VERSION {snapshot_1_id}\n",
        "analyze_status_codes(f\"AT VERSION {snapshot_1_id}\", \"Historischer Zustand (Original - Beweis)\")"
      ],
      "id": "TMTfuTBJJ6D1"
    },
    {
      "cell_type": "markdown",
      "metadata": {
        "id": "d6kMeltmJ6D1"
      },
      "source": [
        "### 5.2. Analyse der Häufig aufgerufenen URLs (Entfernte Ziele)\n",
        "Die Überprüfung der Top-URLs im historischen Log kann fehlende kritische Ziele, die vor der Manipulation aufgerufen wurden, aufdecken."
      ],
      "id": "d6kMeltmJ6D1"
    },
    {
      "cell_type": "code",
      "execution_count": 40,
      "metadata": {
        "colab": {
          "base_uri": "https://localhost:8080/",
          "height": 976
        },
        "id": "gWfTs-rAJ6D1",
        "outputId": "2f6ede1c-17bd-44c0-e496-4baae6284733"
      },
      "outputs": [
        {
          "output_type": "display_data",
          "data": {
            "text/plain": [
              "<Figure size 1000x500 with 1 Axes>"
            ],
            "image/png": "[encoded data removed]"
          },
          "metadata": {}
        },
        {
          "output_type": "stream",
          "name": "stdout",
          "text": [
            "Top-URL-Analyse (Aktueller Zustand):\n",
            "                                                 url   cnt\n",
            "0                            GET /login.php HTTP/1.1  3284\n",
            "1                             GET /home.php HTTP/1.1  2640\n",
            "2     GET /js/vendor/modernizr-2.8.3.min.js HTTP/1.1  1415\n",
            "3                                     GET / HTTP/1.1   861\n",
            "4  GET /contestproblem.php?name=RUET%20OJ%20Serve...   467\n",
            "5                    GET /css/normalize.css HTTP/1.1   408\n",
            "6                GET /css/bootstrap.min.css HTTP/1.1   404\n",
            "7             GET /css/font-awesome.min.css HTTP/1.1   399\n",
            "8                        GET /css/style.css HTTP/1.1   395\n",
            "9                         GET /css/main.css HTTP/1.1   394\n"
          ]
        },
        {
          "output_type": "error",
          "ename": "ParserException",
          "evalue": "Parser Error: syntax error at or near \"TIMESTAMP\"",
          "traceback": [
            "\u001b[0;31m---------------------------------------------------------------------------\u001b[0m",
            "\u001b[0;31mParserException\u001b[0m                           Traceback (most recent call last)",
            "\u001b[0;32m/tmp/ipython-input-1698531021.py\u001b[0m in \u001b[0;36m<cell line: 0>\u001b[0;34m()\u001b[0m\n\u001b[1;32m     27\u001b[0m \u001b[0;34m\u001b[0m\u001b[0m\n\u001b[1;32m     28\u001b[0m \u001b[0;31m# 2. Analyse des Original-Zustands (Time Travel)\u001b[0m\u001b[0;34m\u001b[0m\u001b[0;34m\u001b[0m\u001b[0m\n\u001b[0;32m---> 29\u001b[0;31m \u001b[0manalyze_top_urls\u001b[0m\u001b[0;34m(\u001b[0m\u001b[0;34mf\"FOR TIMESTAMP AS OF '{snapshot_1_time}'\"\u001b[0m\u001b[0;34m,\u001b[0m \u001b[0;34m\"Historischer Zustand (Original)\"\u001b[0m\u001b[0;34m)\u001b[0m\u001b[0;34m\u001b[0m\u001b[0;34m\u001b[0m\u001b[0m\n\u001b[0m",
            "\u001b[0;32m/tmp/ipython-input-1698531021.py\u001b[0m in \u001b[0;36manalyze_top_urls\u001b[0;34m(query_suffix, title_suffix)\u001b[0m\n\u001b[1;32m      1\u001b[0m \u001b[0;32mdef\u001b[0m \u001b[0manalyze_top_urls\u001b[0m\u001b[0;34m(\u001b[0m\u001b[0mquery_suffix\u001b[0m\u001b[0;34m,\u001b[0m \u001b[0mtitle_suffix\u001b[0m\u001b[0;34m)\u001b[0m\u001b[0;34m:\u001b[0m\u001b[0;34m\u001b[0m\u001b[0;34m\u001b[0m\u001b[0m\n\u001b[0;32m----> 2\u001b[0;31m     top_urls = con.execute(f\"\"\"\n\u001b[0m\u001b[1;32m      3\u001b[0m         \u001b[0mSELECT\u001b[0m\u001b[0;34m\u001b[0m\u001b[0;34m\u001b[0m\u001b[0m\n\u001b[1;32m      4\u001b[0m             \u001b[0murl\u001b[0m\u001b[0;34m,\u001b[0m\u001b[0;34m\u001b[0m\u001b[0;34m\u001b[0m\u001b[0m\n\u001b[1;32m      5\u001b[0m             \u001b[0mCOUNT\u001b[0m\u001b[0;34m(\u001b[0m\u001b[0;34m*\u001b[0m\u001b[0;34m)\u001b[0m \u001b[0mAS\u001b[0m \u001b[0mcnt\u001b[0m\u001b[0;34m\u001b[0m\u001b[0;34m\u001b[0m\u001b[0m\n",
            "\u001b[0;31mParserException\u001b[0m: Parser Error: syntax error at or near \"TIMESTAMP\""
          ]
        }
      ],
      "source": [
        "def analyze_top_urls(query_suffix, title_suffix):\n",
        "    top_urls = con.execute(f\"\"\"\n",
        "        SELECT\n",
        "            url,\n",
        "            COUNT(*) AS cnt\n",
        "        FROM\n",
        "            {table_name} {query_suffix}\n",
        "        GROUP BY\n",
        "            url\n",
        "        ORDER BY\n",
        "            cnt DESC\n",
        "        LIMIT 10\n",
        "    \"\"\").fetchdf()\n",
        "\n",
        "    top_urls.plot.barh(x=\"url\", y=\"cnt\", legend=False,\n",
        "                      title=f\"Top 10 Aufgerufene URLs ({title_suffix})\",\n",
        "                      figsize=(10, 5), color='darkgreen')\n",
        "    plt.xlabel(\"Anzahl der Anfragen\")\n",
        "    plt.ylabel(\"URL\")\n",
        "    plt.gca().invert_yaxis()\n",
        "    plt.show()\n",
        "    print(f\"Top-URL-Analyse ({title_suffix}):\")\n",
        "    print(top_urls)\n",
        "\n",
        "# 1. Analyse des manipulierten Zustands (aktuell)\n",
        "analyze_top_urls(\"\", \"Aktueller Zustand\")\n",
        "\n",
        "# 2. Analyse des Original-Zustands (Time Travel)\n",
        "analyze_top_urls(f\"FOR TIMESTAMP AS OF '{snapshot_1_time}'\", \"Historischer Zustand (Original)\")"
      ],
      "id": "gWfTs-rAJ6D1"
    },
    {
      "cell_type": "markdown",
      "metadata": {
        "id": "hDEHYQsVJ6D2"
      },
      "source": [
        "### 5.3. Zeitliche Analyse des Gesamttraffics (Requests pro Tag)\n",
        "Wir nutzen Time Travel, um den ursprünglichen Traffic-Verlauf zu rekonstruieren und festzustellen, ob die Manipulation eine zeitliche Anomalie in den Gesamt-Requests verursacht hat."
      ],
      "id": "hDEHYQsVJ6D2"
    },
    {
      "cell_type": "code",
      "execution_count": 41,
      "metadata": {
        "colab": {
          "base_uri": "https://localhost:8080/",
          "height": 211
        },
        "id": "WN6ahz0GJ6D2",
        "outputId": "45034b6b-24f7-469f-cf6c-c7e1e1533d25"
      },
      "outputs": [
        {
          "output_type": "error",
          "ename": "ParserException",
          "evalue": "Parser Error: syntax error at or near \"TIMESTAMP\"",
          "traceback": [
            "\u001b[0;31m---------------------------------------------------------------------------\u001b[0m",
            "\u001b[0;31mParserException\u001b[0m                           Traceback (most recent call last)",
            "\u001b[0;32m/tmp/ipython-input-2422014642.py\u001b[0m in \u001b[0;36m<cell line: 0>\u001b[0;34m()\u001b[0m\n\u001b[1;32m      1\u001b[0m \u001b[0;31m# Analyse des Traffic-Verlaufs im unmanipulierten Log (Snapshot 1)\u001b[0m\u001b[0;34m\u001b[0m\u001b[0;34m\u001b[0m\u001b[0m\n\u001b[0;32m----> 2\u001b[0;31m requests_per_day_historic = con.execute(f\"\"\"\n\u001b[0m\u001b[1;32m      3\u001b[0m     \u001b[0mSELECT\u001b[0m\u001b[0;34m\u001b[0m\u001b[0;34m\u001b[0m\u001b[0m\n\u001b[1;32m      4\u001b[0m         \u001b[0mCAST\u001b[0m\u001b[0;34m(\u001b[0m\u001b[0mtimestamp\u001b[0m \u001b[0mAS\u001b[0m \u001b[0mDATE\u001b[0m\u001b[0;34m)\u001b[0m \u001b[0mAS\u001b[0m \u001b[0mday\u001b[0m\u001b[0;34m,\u001b[0m\u001b[0;34m\u001b[0m\u001b[0;34m\u001b[0m\u001b[0m\n\u001b[1;32m      5\u001b[0m         \u001b[0mCOUNT\u001b[0m\u001b[0;34m(\u001b[0m\u001b[0;34m*\u001b[0m\u001b[0;34m)\u001b[0m \u001b[0mAS\u001b[0m \u001b[0mcnt\u001b[0m\u001b[0;34m\u001b[0m\u001b[0;34m\u001b[0m\u001b[0m\n",
            "\u001b[0;31mParserException\u001b[0m: Parser Error: syntax error at or near \"TIMESTAMP\""
          ]
        }
      ],
      "source": [
        "# Analyse des Traffic-Verlaufs im unmanipulierten Log (Snapshot 1)\n",
        "requests_per_day_historic = con.execute(f\"\"\"\n",
        "    SELECT\n",
        "        CAST(timestamp AS DATE) AS day,\n",
        "        COUNT(*) AS cnt\n",
        "    FROM\n",
        "        {table_name} FOR TIMESTAMP AS OF '{snapshot_1_time}' -- Time Travel\n",
        "    GROUP BY\n",
        "        day\n",
        "    ORDER BY\n",
        "        day\n",
        "\"\"\").fetchdf()\n",
        "\n",
        "print(\"Requests pro Tag (Historisch - Vor der Manipulation):\\n\")\n",
        "print(requests_per_day_historic)\n",
        "\n",
        "requests_per_day_historic.plot(x=\"day\", y=\"cnt\", kind=\"line\", title=\"Requests pro Tag (Historisch)\", figsize=(10, 5))\n",
        "plt.ylabel(\"Anzahl der Requests\")\n",
        "plt.xlabel(\"Datum\")\n",
        "plt.show()"
      ],
      "id": "WN6ahz0GJ6D2"
    },
    {
      "cell_type": "markdown",
      "metadata": {
        "id": "YzIygu4FJ6D2"
      },
      "source": [
        "## 6. Abschluss und Beweissicherung\n",
        "Die DuckLake-Funktionen haben es ermöglicht, **unveränderliche Beweise** (gelöschte Fehler-Logs, Statuscode-Anomalie) aus dem historischen Log zu extrahieren. Das Archiv ist nun gesichert."
      ],
      "id": "YzIygu4FJ6D2"
    },
    {
      "cell_type": "code",
      "execution_count": null,
      "metadata": {
        "id": "w0ZprewFJ6D2"
      },
      "outputs": [],
      "source": [
        "# Schließe die DuckDB-Verbindung und speichere alle Metadaten final ab\n",
        "con.close()\n",
        "print(\"✅ Forensische Analyse abgeschlossen. Das Archiv ist gesichert.\")"
      ],
      "id": "w0ZprewFJ6D2"
    }
  ],
  "metadata": {
    "kernelspec": {
      "display_name": "Python 3",
      "language": "python",
      "name": "python3"
    },
    "language_info": {
      "codemirror_mode": {
        "name": "ipython",
        "version": 3
      },
      "file_extension": ".py",
      "mimetype": "text/x-python",
      "name": "python",
      "nbconvert_exporter": "python",
      "pygments_lexer": "ipython3",
      "version": "3.11.4"
    },
    "colab": {
      "provenance": []
    }
  },
  "nbformat": 4,
  "nbformat_minor": 5
}