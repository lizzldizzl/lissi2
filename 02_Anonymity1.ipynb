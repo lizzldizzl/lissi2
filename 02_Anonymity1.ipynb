{
  "cells": [
    {
      "cell_type": "markdown",
      "id": "c3d5b441",
      "metadata": {
        "id": "c3d5b441"
      },
      "source": [
        "# DSGVO-konforme Anonymisierung mit k-Anonymität, l-Diversität und t-Closeness\n",
        "Dieses Notebook zeigt, wie man einen Datensatz DSGVO-konform anonymisiert:\n",
        "- Entfernen direkter Identifikatoren\n",
        "- Generalisierung von Quasi-Identifikatoren\n",
        "- Prüfung auf k-Anonymität, l-Diversität und t-Closeness\n"
      ]
    },
    {
      "cell_type": "markdown",
      "source": [
        "# Code"
      ],
      "metadata": {
        "id": "JFXaAmGWys8_"
      },
      "id": "JFXaAmGWys8_"
    },
    {
      "cell_type": "code",
      "source": [
        "!pip install pandas scipy"
      ],
      "metadata": {
        "id": "yeaXVw36yvEr",
        "outputId": "5d7824fc-4b21-4c3f-ae78-a1d8839771ca",
        "colab": {
          "base_uri": "https://localhost:8080/"
        }
      },
      "id": "yeaXVw36yvEr",
      "execution_count": 1,
      "outputs": [
        {
          "output_type": "stream",
          "name": "stdout",
          "text": [
            "Requirement already satisfied: pandas in /usr/local/lib/python3.12/dist-packages (2.2.2)\n",
            "Requirement already satisfied: scipy in /usr/local/lib/python3.12/dist-packages (1.16.2)\n",
            "Requirement already satisfied: numpy>=1.26.0 in /usr/local/lib/python3.12/dist-packages (from pandas) (2.0.2)\n",
            "Requirement already satisfied: python-dateutil>=2.8.2 in /usr/local/lib/python3.12/dist-packages (from pandas) (2.9.0.post0)\n",
            "Requirement already satisfied: pytz>=2020.1 in /usr/local/lib/python3.12/dist-packages (from pandas) (2025.2)\n",
            "Requirement already satisfied: tzdata>=2022.7 in /usr/local/lib/python3.12/dist-packages (from pandas) (2025.2)\n",
            "Requirement already satisfied: six>=1.5 in /usr/local/lib/python3.12/dist-packages (from python-dateutil>=2.8.2->pandas) (1.17.0)\n"
          ]
        }
      ]
    },
    {
      "cell_type": "markdown",
      "source": [
        "### Import necessary modules"
      ],
      "metadata": {
        "id": "Gkt2thQOy1us"
      },
      "id": "Gkt2thQOy1us"
    },
    {
      "cell_type": "code",
      "source": [
        "import pandas as pd\n",
        "from scipy.spatial.distance import euclidean"
      ],
      "metadata": {
        "id": "IEl8hC15y3eF"
      },
      "id": "IEl8hC15y3eF",
      "execution_count": 11,
      "outputs": []
    },
    {
      "cell_type": "markdown",
      "source": [
        "### Receive Dataset and prepare it"
      ],
      "metadata": {
        "id": "pF40jvlHzCTO"
      },
      "id": "pF40jvlHzCTO"
    },
    {
      "cell_type": "markdown",
      "source": [
        "\n",
        "Der Datensatz stellt eine vereinfachte Retail-Datenbasis dar, in der Kundendaten wie Postleitzahl, Alter und Einkommen gespeichert sind. Diese Attribute werden genutzt, um Anonymisierungstechniken wie k-Anonymität, l-Diversität und t-Closeness zu demonstrieren. Dabei werden die Quasi-Identifikatoren (PLZ, Alter) so verallgemeinert, dass einzelne Personen nicht mehr eindeutig identifiziert werden können. Gleichzeitig bleibt die Vielfalt in sensiblen Attributen wie dem Einkommen gewährleistet, damit keine Rückschlüsse auf Einzelne möglich sind. Der Datensatz dient somit als Beispiel, um Methoden des datenschutzgerechten Umgangs mit personenbezogenen Daten praxisnah zu testen und zu evaluieren."
      ],
      "metadata": {
        "id": "7_VV8EfMzFnk"
      },
      "id": "7_VV8EfMzFnk"
    },
    {
      "cell_type": "markdown",
      "source": [
        "### Link zum Datensatz"
      ],
      "metadata": {
        "id": "P7JbUPUczRPX"
      },
      "id": "P7JbUPUczRPX"
    },
    {
      "cell_type": "markdown",
      "source": [
        "https://www.kaggle.com/datasets/bhavikjikadara/retail-transactional-dataset"
      ],
      "metadata": {
        "id": "yQrfcjc5zSKh"
      },
      "id": "yQrfcjc5zSKh"
    },
    {
      "cell_type": "code",
      "source": [
        "! pip install -q kaggle\n",
        "! mkdir ~/.kaggle"
      ],
      "metadata": {
        "id": "4I9fVyz4F_oC"
      },
      "id": "4I9fVyz4F_oC",
      "execution_count": 2,
      "outputs": []
    },
    {
      "cell_type": "markdown",
      "source": [
        "Übergabe von Kaggle Benutzer Daten:\n",
        "{\"username\":\"....\",\"key\":\"....\"}"
      ],
      "metadata": {
        "id": "A5o-_wTZGEyA"
      },
      "id": "A5o-_wTZGEyA"
    },
    {
      "cell_type": "code",
      "source": [
        "# ... Hier ihre JSON Cred als dictionary eingeben\n",
        "d_json_cred ={\"username\":\"lizzldizzl\",\"key\":\"7126d6d48a18986c8a8704fbb94e4a44\"}"
      ],
      "metadata": {
        "id": "xkkWk6bPGCah"
      },
      "id": "xkkWk6bPGCah",
      "execution_count": 3,
      "outputs": []
    },
    {
      "cell_type": "markdown",
      "source": [
        "Kaggle Zugangsdaten speichern"
      ],
      "metadata": {
        "id": "4REPxPjNGIxx"
      },
      "id": "4REPxPjNGIxx"
    },
    {
      "cell_type": "code",
      "source": [
        "import pandas as pd\n",
        "kaggle_cred = pd.DataFrame(d_json_cred, index=[0]).to_json(\"~/.kaggle/kaggle.json\")"
      ],
      "metadata": {
        "id": "r-oN6kCmGMc9"
      },
      "id": "r-oN6kCmGMc9",
      "execution_count": 4,
      "outputs": []
    },
    {
      "cell_type": "markdown",
      "source": [
        "Authorisierung geben dass Kaggle Daten heruntergeladen werden dürfen"
      ],
      "metadata": {
        "id": "P98RlhnkGNtH"
      },
      "id": "P98RlhnkGNtH"
    },
    {
      "cell_type": "code",
      "source": [
        "! chmod 600 ~/.kaggle/kaggle.json"
      ],
      "metadata": {
        "id": "2lAk1Ct0GPzX"
      },
      "id": "2lAk1Ct0GPzX",
      "execution_count": 5,
      "outputs": []
    },
    {
      "cell_type": "code",
      "source": [
        "!kaggle datasets download -d bhavikjikadara/retail-transactional-dataset"
      ],
      "metadata": {
        "id": "C0kaNoIbGWX6",
        "outputId": "43728886-dba8-4e4c-a766-1bf38a3b499f",
        "colab": {
          "base_uri": "https://localhost:8080/"
        }
      },
      "id": "C0kaNoIbGWX6",
      "execution_count": 6,
      "outputs": [
        {
          "output_type": "stream",
          "name": "stdout",
          "text": [
            "Dataset URL: https://www.kaggle.com/datasets/bhavikjikadara/retail-transactional-dataset\n",
            "License(s): Attribution 4.0 International (CC BY 4.0)\n",
            "Downloading retail-transactional-dataset.zip to /content\n",
            "  0% 0.00/24.8M [00:00<?, ?B/s]\n",
            "100% 24.8M/24.8M [00:00<00:00, 807MB/s]\n"
          ]
        }
      ]
    },
    {
      "cell_type": "markdown",
      "source": [
        "Unzip der Daten"
      ],
      "metadata": {
        "id": "PycSqOJbGXkL"
      },
      "id": "PycSqOJbGXkL"
    },
    {
      "cell_type": "code",
      "source": [
        "!unzip retail-transactional-dataset.zip -d ./data"
      ],
      "metadata": {
        "id": "RUCnUfVJGaeu",
        "outputId": "f772abbd-2180-48e1-bcd8-2d7d85d39453",
        "colab": {
          "base_uri": "https://localhost:8080/"
        }
      },
      "id": "RUCnUfVJGaeu",
      "execution_count": 7,
      "outputs": [
        {
          "output_type": "stream",
          "name": "stdout",
          "text": [
            "Archive:  retail-transactional-dataset.zip\n",
            "  inflating: ./data/retail_data.csv  \n"
          ]
        }
      ]
    },
    {
      "cell_type": "markdown",
      "source": [
        "### Originaldaten laden"
      ],
      "metadata": {
        "id": "tNVm6NuyIzUB"
      },
      "id": "tNVm6NuyIzUB"
    },
    {
      "cell_type": "code",
      "source": [
        "CSV_PATH = \"./data/retail_data.csv\"\n",
        "df = pd.read_csv(CSV_PATH)\n",
        "\n",
        "print(\"=== Originaldaten ===\")\n",
        "print(df.head(), \"\\n\")"
      ],
      "metadata": {
        "id": "SVyp8gDuGdyg",
        "outputId": "41cf8691-03fd-4b12-83e0-ca504c0bcef3",
        "colab": {
          "base_uri": "https://localhost:8080/"
        }
      },
      "id": "SVyp8gDuGdyg",
      "execution_count": 9,
      "outputs": [
        {
          "output_type": "stream",
          "name": "stdout",
          "text": [
            "=== Originaldaten ===\n",
            "   Transaction_ID  Customer_ID                 Name                Email  \\\n",
            "0       8691788.0      37249.0  Michelle Harrington    Ebony39@gmail.com   \n",
            "1       2174773.0      69749.0          Kelsey Hill     Mark36@gmail.com   \n",
            "2       6679610.0      30192.0         Scott Jensen    Shane85@gmail.com   \n",
            "3       7232460.0      62101.0        Joseph Miller     Mary34@gmail.com   \n",
            "4       4983775.0      27901.0        Debra Coleman  Charles30@gmail.com   \n",
            "\n",
            "          Phone                      Address        City            State  \\\n",
            "0  1.414787e+09            3959 Amanda Burgs    Dortmund           Berlin   \n",
            "1  6.852900e+09           82072 Dawn Centers  Nottingham          England   \n",
            "2  8.362160e+09            4133 Young Canyon     Geelong  New South Wales   \n",
            "3  2.776752e+09  8148 Thomas Creek Suite 100    Edmonton          Ontario   \n",
            "4  9.098268e+09    5813 Lori Ports Suite 269     Bristol          England   \n",
            "\n",
            "   Zipcode    Country  ...  Total_Amount Product_Category  Product_Brand  \\\n",
            "0  77985.0    Germany  ...    324.086270         Clothing           Nike   \n",
            "1  99071.0         UK  ...    806.707815      Electronics        Samsung   \n",
            "2  75929.0  Australia  ...   1063.432799            Books  Penguin Books   \n",
            "3  88420.0     Canada  ...   2466.854021       Home Decor     Home Depot   \n",
            "4  48704.0         UK  ...    248.553049          Grocery         Nestle   \n",
            "\n",
            "  Product_Type   Feedback  Shipping_Method Payment_Method Order_Status  \\\n",
            "0       Shorts  Excellent         Same-Day     Debit Card      Shipped   \n",
            "1       Tablet  Excellent         Standard    Credit Card   Processing   \n",
            "2   Children's    Average         Same-Day    Credit Card   Processing   \n",
            "3        Tools  Excellent         Standard         PayPal   Processing   \n",
            "4    Chocolate        Bad         Standard           Cash      Shipped   \n",
            "\n",
            "   Ratings           products  \n",
            "0      5.0     Cycling shorts  \n",
            "1      4.0         Lenovo Tab  \n",
            "2      2.0   Sports equipment  \n",
            "3      4.0      Utility knife  \n",
            "4      1.0  Chocolate cookies  \n",
            "\n",
            "[5 rows x 30 columns] \n",
            "\n"
          ]
        }
      ]
    },
    {
      "cell_type": "markdown",
      "source": [
        "### Originaldaten filtern"
      ],
      "metadata": {
        "id": "sGNvyjJVI4p9"
      },
      "id": "sGNvyjJVI4p9"
    },
    {
      "cell_type": "code",
      "source": [
        "# Nur die gewünschten Spalten behalten\n",
        "keep_cols = [\"Zipcode\", \"Age\", \"Country\", \"Income\"]\n",
        "df_reduced = df[keep_cols]\n",
        "\n",
        "# Neue CSV speichern\n",
        "OUTPUT_PATH = \"./data/retail_data_filtered.csv\"\n",
        "df_reduced.to_csv(OUTPUT_PATH, index=False)\n",
        "\n",
        "print(\"Neue CSV gespeichert:\", OUTPUT_PATH)\n",
        "print(df_reduced.head())\n"
      ],
      "metadata": {
        "id": "VRaf0Si9Hi-J",
        "outputId": "264d5007-0390-498d-ef38-bdd31375bd84",
        "colab": {
          "base_uri": "https://localhost:8080/"
        }
      },
      "id": "VRaf0Si9Hi-J",
      "execution_count": 10,
      "outputs": [
        {
          "output_type": "stream",
          "name": "stdout",
          "text": [
            "Neue CSV gespeichert: ./data/retail_data_filtered.csv\n",
            "   Zipcode   Age    Country Income\n",
            "0  77985.0  21.0    Germany    Low\n",
            "1  99071.0  19.0         UK    Low\n",
            "2  75929.0  48.0  Australia    Low\n",
            "3  88420.0  56.0     Canada   High\n",
            "4  48704.0  22.0         UK    Low\n"
          ]
        }
      ]
    },
    {
      "cell_type": "markdown",
      "source": [
        "### Anonymität"
      ],
      "metadata": {
        "id": "YcdRpiFOI9OX"
      },
      "id": "YcdRpiFOI9OX"
    },
    {
      "cell_type": "markdown",
      "source": [
        "Hier wird zunächst eine gefilterte CSV-Datei eingelesen, die nur die Spalten Zipcode, Age, Country und Income enthält. Anschließend werden die Quasi-Identifikatoren generalisiert, indem Postleitzahlen auf die ersten zwei Ziffern reduziert und Alterswerte in Intervalle (≤30, 31-50, 51+) eingeteilt werden. Danach wird die k-Anonymität überprüft, sodass nur Gruppen mit mindestens zwei Datensätzen erhalten bleiben. Im nächsten Schritt erfolgt die l-Diversitätsprüfung, bei der sichergestellt wird, dass jede Gruppe mindestens zwei verschiedene Ausprägungen des sensiblen Attributes „Income“ aufweist. Schließlich wird die t-Closeness berechnet, um zu prüfen, ob die Verteilung von „Income“ innerhalb der Gruppen der Gesamtverteilung ähnelt, bevor die anonymisierten Daten ausgegeben werden."
      ],
      "metadata": {
        "id": "8ONOhQFJGkeC"
      },
      "id": "8ONOhQFJGkeC"
    },
    {
      "cell_type": "code",
      "execution_count": 12,
      "id": "058c0689",
      "metadata": {
        "id": "058c0689",
        "outputId": "fc8daa59-11af-4013-bcb5-df9d05ada260",
        "colab": {
          "base_uri": "https://localhost:8080/"
        }
      },
      "outputs": [
        {
          "output_type": "stream",
          "name": "stdout",
          "text": [
            "=== Originaldaten (gefiltert) ===\n",
            "   Zipcode   Age    Country Income\n",
            "0  77985.0  21.0    Germany    Low\n",
            "1  99071.0  19.0         UK    Low\n",
            "2  75929.0  48.0  Australia    Low\n",
            "3  88420.0  56.0     Canada   High\n",
            "4  48704.0  22.0         UK    Low \n",
            "\n"
          ]
        },
        {
          "output_type": "stream",
          "name": "stderr",
          "text": [
            "/tmp/ipython-input-928675150.py:22: FutureWarning: The default of observed=False is deprecated and will be changed to True in a future version of pandas. Pass observed=False to retain current behavior or observed=True to adopt the future default and silence this warning.\n",
            "  group_sizes = df.groupby(quasi_identifiers).size().reset_index(name='Count')\n",
            "/tmp/ipython-input-928675150.py:38: FutureWarning: The default of observed=False is deprecated and will be changed to True in a future version of pandas. Pass observed=False to retain current behavior or observed=True to adopt the future default and silence this warning.\n",
            "  df_l_diverse = df_k_anonym.groupby(quasi_identifiers).filter(check_l_diversity)\n"
          ]
        },
        {
          "output_type": "stream",
          "name": "stdout",
          "text": [
            "Nach k-Anonymität (k=2): 301837 von 302010 Datensätzen\n",
            "\n",
            "Nach l-Diversität (l=2): 301837 von 301837 Datensätzen\n",
            "\n"
          ]
        },
        {
          "output_type": "stream",
          "name": "stderr",
          "text": [
            "/tmp/ipython-input-928675150.py:54: FutureWarning: The default of observed=False is deprecated and will be changed to True in a future version of pandas. Pass observed=False to retain current behavior or observed=True to adopt the future default and silence this warning.\n",
            "  df_t_close = df_l_diverse.groupby(quasi_identifiers).filter(t_closeness)\n"
          ]
        },
        {
          "output_type": "stream",
          "name": "stdout",
          "text": [
            "Nach t-Closeness (t=0.3): 301837 von 301837 Datensätzen\n",
            "\n",
            "=== Anonymisierte Daten (ersten 10 Zeilen) ===\n",
            "  Zipcode    Age    Country  Income  Count\n",
            "0      77   <=30    Germany     Low   1423\n",
            "1      99   <=30         UK     Low   1968\n",
            "2      75  31-50  Australia     Low    972\n",
            "3      88    51+     Canada    High    561\n",
            "4      48   <=30         UK     Low   1668\n",
            "5      74    51+  Australia  Medium    485\n",
            "6      47   <=30     Canada     Low   1660\n",
            "7      86   <=30    Germany  Medium   1521\n",
            "8      39  31-50  Australia  Medium   1180\n",
            "9      64   <=30    Germany  Medium   1512\n"
          ]
        }
      ],
      "source": [
        "import pandas as pd\n",
        "from scipy.spatial.distance import euclidean\n",
        "\n",
        "# 1. Gefilterte CSV laden (nur Zipcode, Age, Country, Income enthalten)\n",
        "CSV_PATH = \"./data/retail_data_filtered.csv\"\n",
        "df = pd.read_csv(CSV_PATH)\n",
        "\n",
        "# 2. Quasi-Identifikatoren generalisieren\n",
        "# - PLZ auf die ersten 2 Stellen reduzieren\n",
        "# - Alter in Intervalle gruppieren\n",
        "df['Zipcode'] = df['Zipcode'].astype(str).str[:2]\n",
        "df['Age'] = pd.cut(df['Age'], bins=[0, 30, 50, 100],\n",
        "                   labels=['<=30', '31-50', '51+'])\n",
        "\n",
        "# 3. k-Anonymität prüfen\n",
        "k = 2\n",
        "quasi_identifiers = ['Zipcode', 'Age']  # Kombination der Quasi-Identifikatoren\n",
        "# Gruppengröße berechnen\n",
        "group_sizes = df.groupby(quasi_identifiers).size().reset_index(name='Count')\n",
        "# Nur Gruppen behalten, die mindestens k Datensätze haben\n",
        "df_k_anonym = df.merge(group_sizes[group_sizes['Count'] >= k],\n",
        "                       on=quasi_identifiers)\n",
        "\n",
        "print(f\"Nach k-Anonymität (k={k}): {len(df_k_anonym)} von {len(df)} Datensätzen\\n\")\n",
        "\n",
        "# 4. l-Diversität prüfen\n",
        "l = 2\n",
        "sensitive_attr = 'Income'  # sensibles Attribut\n",
        "\n",
        "# Prüffunktion: eine Gruppe ist l-divers, wenn sie mind. l verschiedene Werte enthält\n",
        "def check_l_diversity(group):\n",
        "    return group[sensitive_attr].nunique() >= l\n",
        "\n",
        "# Nur Gruppen behalten, die l-divers sind\n",
        "df_l_diverse = df_k_anonym.groupby(quasi_identifiers).filter(check_l_diversity)\n",
        "print(f\"Nach l-Diversität (l={l}): {len(df_l_diverse)} von {len(df_k_anonym)} Datensätzen\\n\")\n",
        "\n",
        "# 5. t-Closeness prüfen\n",
        "t = 0.3\n",
        "# Gesamtverteilung des sensiblen Attributs\n",
        "overall_dist = df[sensitive_attr].value_counts(normalize=True)\n",
        "\n",
        "# Prüffunktion: eine Gruppe ist t-close, wenn ihre Verteilung nahe genug an der Gesamtverteilung liegt\n",
        "def t_closeness(group):\n",
        "    group_dist = group[sensitive_attr].value_counts(normalize=True)\n",
        "    # gleiche Reihenfolge wie in overall_dist erzwingen, fehlende Werte = 0\n",
        "    group_dist = group_dist.reindex(overall_dist.index, fill_value=0)\n",
        "    return euclidean(overall_dist.values, group_dist.values) <= t\n",
        "\n",
        "# Nur Gruppen behalten, die t-close sind\n",
        "df_t_close = df_l_diverse.groupby(quasi_identifiers).filter(t_closeness)\n",
        "print(f\"Nach t-Closeness (t={t}): {len(df_t_close)} von {len(df_l_diverse)} Datensätzen\\n\")\n",
        "\n",
        "# 6. Ergebnis anzeigen\n",
        "print(\"=== Anonymisierte Daten (ersten 10 Zeilen) ===\")\n",
        "print(df_t_close.head(10))\n"
      ]
    },
    {
      "cell_type": "markdown",
      "source": [
        "# Interpretation"
      ],
      "metadata": {
        "id": "Qwa1WeEJJXsC"
      },
      "id": "Qwa1WeEJJXsC"
    },
    {
      "cell_type": "markdown",
      "id": "6fa7a31d",
      "metadata": {
        "id": "6fa7a31d"
      },
      "source": [
        "„Nach Anwendung der Generalisierung und Entfernung direkter Identifikatoren wurde der Datensatz so reduziert, dass er die Anforderungen an k-Anonymität (k=2), l-Diversität (l=2) und t-Closeness (t=0.3) vollständig erfüllt. 301 837 Datensätze verblieben anonymisiert, was 99,94 % des Originaldatensatzes entspricht.“"
      ]
    },
    {
      "cell_type": "markdown",
      "source": [
        "Ergebnisse der Anonymisierung\n",
        "Der Datensatz wurde durch Generalisierung der Postleitzahlen sowie die Bildung von Altersgruppen vereinfacht. Anschließend erfolgte die schrittweise Prüfung der Datenschutzkriterien k-Anonymität, l-Diversität und t-Closeness. Mit k=2 konnte sichergestellt werden, dass jede Kombination der Quasi-Identifikatoren mindestens zwei Datensätze umfasst. Die l-Diversität (l=2) gewährleistete eine ausreichende Vielfalt beim sensiblen Attribut Income, und die t-Closeness (t=0.3) bestätigte, dass die Einkommensverteilungen in den Gruppen der Gesamtverteilung sehr nahekommen. Insgesamt erfüllten 301 837 von 302 010 Einträgen die Kriterien, was einer Abdeckung von 99,94 % entspricht und die hohe Datenqualität trotz Anonymisierung verdeutlicht.\n",
        "\n",
        "Fazit\n",
        "Die Ergebnisse zeigen, dass durch zielgerichtete Generalisierung und Diversitätsprüfungen ein sehr hoher Anteil des Datensatzes anonymisiert werden konnte, ohne dabei wesentliche Informationen zu verlieren. Damit wird deutlich, dass die gewählten Verfahren eine effektive Grundlage für die datenschutzkonforme Weiterverarbeitung von Retail-Daten bieten."
      ],
      "metadata": {
        "id": "aQYwLczTKQnY"
      },
      "id": "aQYwLczTKQnY"
    }
  ],
  "metadata": {
    "kernelspec": {
      "display_name": ".venv",
      "language": "python",
      "name": "python3"
    },
    "language_info": {
      "codemirror_mode": {
        "name": "ipython",
        "version": 3
      },
      "file_extension": ".py",
      "mimetype": "text/x-python",
      "name": "python",
      "nbconvert_exporter": "python",
      "pygments_lexer": "ipython3",
      "version": "3.11.0"
    },
    "colab": {
      "provenance": []
    }
  },
  "nbformat": 4,
  "nbformat_minor": 5
}