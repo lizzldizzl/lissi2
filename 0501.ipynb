{
  "cells": [
    {
      "cell_type": "markdown",
      "id": "835760cf",
      "metadata": {
        "id": "835760cf"
      },
      "source": [
        "# Hashing und Symmetrische Verschlüsselung\n",
        "\n",
        "In diesem Notebook werden **zwei Hashverfahren** (SHA-2, SHA-3) und **zwei symmetrische Verschlüsselungsverfahren** (AES, Blowfish) auf einen Datensatz angewendet.  \n",
        "\n",
        "Datensatz: *Employee Performance and Salary Dataset* (Beispiel mit Spalten ID, Name, Salary u.a.).\n"
      ]
    },
    {
      "cell_type": "markdown",
      "id": "02a6f1f7",
      "metadata": {
        "id": "02a6f1f7"
      },
      "source": [
        "## Begründung der Auswahl der Verfahren\n",
        "\n",
        "**Hashverfahren:**\n",
        "- Der Hauptunterschied zwischen SHA2 und SHA3 ist das interne Algorithmusdesign, wenig Gemeinsamkeiten (außer den Namen). Daher deckt dieses Notebook beide Verfahren ab. Beide Verfahren gelten als sicher.\n",
        "- **SHA-2 (SHA-256)**\n",
        "  Der Hauptunterschied zwischen SHA2 und SHA3 ist das interne Algorithmusdesign, sie haben wenig bzw. keine Gemeinsamkeiten (außer den Namen). Daher deckt dieses Notebook beide Verfahren ab. Beide Verfahren gelten als sicher. SHA-2 ist in vielen sicherheitsrelevanten Anwendungen im Einsatz. SHA-2 ist im Vergleich zu SHA3 in vielen Implementierungen schneller, besonders auf älterer Hardware (https://piproductora.com/de/was-ist-der-unterschied-zwischen-sha-3-und-sha-256/)\n",
        "\n",
        "- **SHA-3 (z. B. SHA3-256)** – neuer NIST-Standard, basiert auf einer anderen Konstruktion (wie Keccak). SHA-3 ist resistent gegen Längenerweiterungsangriffe\n",
        "  SHA-3 wurde 2015 standardisiert und unterscheidet sich strukturell komplett von SHA-2. Laut NIST ist es nicht als Ersatz, sondern als zusätzliche Absicherung gedacht (https://stackoverflow.com/questions/14356526/whats-the-difference-between-the-hash-algorithms-sha-2-and-sha-3) Es ist resistent gegen Angriffstechniken, die theoretisch bei SHA-2 wirken könnten, und bietet mit SHAKE flexible Ausgabelängen (https://piproductora.com/de/was-ist-der-unterschied-zwischen-sha-3-und-sha-256/)\n",
        "\n",
        "**Symmetrische Verschlüsselung:**\n",
        "- **Blowfish** – schneller Algorithmus mit variabler Schlüssellänge, bei open source Verschlüsselungssoftware sehr beliebt. Allein für Implementierungen bei denen häufig neue Schlüssel erzeugt werden müssen, beispielsweise VPN, eignet sich Blowfish weniger. (https://www.infopoint-security.de/des-aes-blowfish-was-sind-die-sichersten-algorithmen-fuer-verschluesselungssoftware/a8366/)\n",
        "\n",
        "- **AES (z. B. AES-256 im CBC-Modus)** – Industriestandard, sehr sicher, effizient und für große Datenmengen geeignet.  \n",
        "  AES ist seit 2000 der offizielle Nachfolger von DES, weltweit der Standard in sicherheitskritischen Anwendungen (z. B. VPNs). Es arbeitet mit 128-Bit-Blöcken und 128/192/256-Bit Schlüsseln. AES ist sowohl sicher als auch performant und wird kontinuierlich geprüft (https://www.infopoint-security.de/des-aes-blowfish-was-sind-die-sichersten-algorithmen-fuer-verschluesselungssoftware/a8366/)"
      ]
    },
    {
      "cell_type": "markdown",
      "source": [
        "# Code"
      ],
      "metadata": {
        "id": "3X2c-OaR3GEK"
      },
      "id": "3X2c-OaR3GEK"
    },
    {
      "cell_type": "markdown",
      "source": [
        "### Link zum Datensatz\n",
        "https://www.kaggle.com/datasets/nadeemajeedch/employee-performance-and-salary-dataset/data?select=Employe_Performance_dataset.csv"
      ],
      "metadata": {
        "id": "sc9XxitT3Hru"
      },
      "id": "sc9XxitT3Hru"
    },
    {
      "cell_type": "markdown",
      "source": [
        "Der Employee Performance and Salary Dataset enthält Informationen zu Mitarbeitenden wie Alter, Geschlecht, Abteilung, Gehalt, Eintrittsdatum, Leistung, Erfahrung, Status und Arbeitszeit.\n",
        "Er umfasst sowohl numerische als auch kategoriale Daten und weist teilweise fehlende Werte bei der Leistungsbewertung auf.\n",
        "Die Daten ermöglichen Analysen zu Trends in Gehalt, Leistung und Beschäftigungsstatus über verschiedene Zeiträume und Standorte hinweg.\n",
        "Mit insgesamt 12 Spalten und zahlreichen Einträgen eignet sich der Datensatz gut für Aufgaben in den Bereichen Datenanalyse, Visualisierung und maschinelles Lernen."
      ],
      "metadata": {
        "id": "8L7Bxcm14_5q"
      },
      "id": "8L7Bxcm14_5q"
    },
    {
      "cell_type": "code",
      "source": [
        "! pip install -q kaggle"
      ],
      "metadata": {
        "id": "vi4fC6LY5GFI"
      },
      "id": "vi4fC6LY5GFI",
      "execution_count": 2,
      "outputs": []
    },
    {
      "cell_type": "code",
      "source": [
        "! mkdir ~/.kaggle"
      ],
      "metadata": {
        "id": "RzXMEC3A5Hwr"
      },
      "id": "RzXMEC3A5Hwr",
      "execution_count": 3,
      "outputs": []
    },
    {
      "cell_type": "markdown",
      "source": [
        "Übergabe von Kaggle Benutzer Daten:\n",
        "{\"username\":\"....\",\"key\":\"....\"}"
      ],
      "metadata": {
        "id": "ebc98RKY5Ke-"
      },
      "id": "ebc98RKY5Ke-"
    },
    {
      "cell_type": "code",
      "source": [
        "# ... Hier ihre JSON Cred als dictionary eingeben\n",
        "d_json_cred ={\"username\":\"lizzldizzl\",\"key\":\"7126d6d48a18986c8a8704fbb94e4a44\"}"
      ],
      "metadata": {
        "id": "LDDSQq0u5L-o"
      },
      "id": "LDDSQq0u5L-o",
      "execution_count": 4,
      "outputs": []
    },
    {
      "cell_type": "markdown",
      "source": [
        "Kaggle Zugangsdaten speichern\n",
        "\n"
      ],
      "metadata": {
        "id": "IFHwQE035Nsd"
      },
      "id": "IFHwQE035Nsd"
    },
    {
      "cell_type": "code",
      "source": [
        "import pandas as pd\n",
        "kaggle_cred = pd.DataFrame(d_json_cred, index=[0]).to_json(\"~/.kaggle/kaggle.json\")"
      ],
      "metadata": {
        "id": "t73FbWc15PNB"
      },
      "id": "t73FbWc15PNB",
      "execution_count": 5,
      "outputs": []
    },
    {
      "cell_type": "markdown",
      "source": [
        "Authorisierung geben dass Kaggle Daten heruntergeladen werden dürfen"
      ],
      "metadata": {
        "id": "JsoFH2Bu5S18"
      },
      "id": "JsoFH2Bu5S18"
    },
    {
      "cell_type": "code",
      "source": [
        "! chmod 600 ~/.kaggle/kaggle.json"
      ],
      "metadata": {
        "id": "6j9tWHmN5URH"
      },
      "id": "6j9tWHmN5URH",
      "execution_count": 6,
      "outputs": []
    },
    {
      "cell_type": "code",
      "source": [
        "!kaggle datasets download -d nadeemajeedch/employee-performance-and-salary-dataset"
      ],
      "metadata": {
        "id": "T3j6aP7T5Vb6",
        "outputId": "1694233f-2a14-445a-e03f-bd61930725fc",
        "colab": {
          "base_uri": "https://localhost:8080/"
        }
      },
      "id": "T3j6aP7T5Vb6",
      "execution_count": 7,
      "outputs": [
        {
          "output_type": "stream",
          "name": "stdout",
          "text": [
            "Dataset URL: https://www.kaggle.com/datasets/nadeemajeedch/employee-performance-and-salary-dataset\n",
            "License(s): Community Data License Agreement - Sharing - Version 1.0\n",
            "Downloading employee-performance-and-salary-dataset.zip to /content\n",
            "  0% 0.00/215k [00:00<?, ?B/s]\n",
            "100% 215k/215k [00:00<00:00, 458MB/s]\n"
          ]
        }
      ]
    },
    {
      "cell_type": "markdown",
      "source": [
        "Unzip der Daten"
      ],
      "metadata": {
        "id": "TH1IsYVY5Wa4"
      },
      "id": "TH1IsYVY5Wa4"
    },
    {
      "cell_type": "code",
      "source": [
        "!unzip employee-performance-and-salary-dataset.zip -d ./data"
      ],
      "metadata": {
        "id": "1Rlnv6lf5X3w",
        "outputId": "fb15f837-0fac-4b97-81ee-24774fe10436",
        "colab": {
          "base_uri": "https://localhost:8080/"
        }
      },
      "id": "1Rlnv6lf5X3w",
      "execution_count": 8,
      "outputs": [
        {
          "output_type": "stream",
          "name": "stdout",
          "text": [
            "Archive:  employee-performance-and-salary-dataset.zip\n",
            "  inflating: ./data/50_Tasks_to_perform_on_dataset.pdf  \n",
            "  inflating: ./data/Employe_Performance_dataset.csv  \n"
          ]
        }
      ]
    },
    {
      "cell_type": "markdown",
      "source": [
        "### Pakete installieren"
      ],
      "metadata": {
        "id": "aoO2CRxh5dBh"
      },
      "id": "aoO2CRxh5dBh"
    },
    {
      "cell_type": "code",
      "source": [
        "!pip install pandas"
      ],
      "metadata": {
        "id": "tq7RgdxF5q7Z",
        "outputId": "2b5f7c76-49d1-4771-b804-e692d9635907",
        "colab": {
          "base_uri": "https://localhost:8080/"
        }
      },
      "id": "tq7RgdxF5q7Z",
      "execution_count": 9,
      "outputs": [
        {
          "output_type": "stream",
          "name": "stdout",
          "text": [
            "Requirement already satisfied: pandas in /usr/local/lib/python3.12/dist-packages (2.2.2)\n",
            "Requirement already satisfied: numpy>=1.26.0 in /usr/local/lib/python3.12/dist-packages (from pandas) (2.0.2)\n",
            "Requirement already satisfied: python-dateutil>=2.8.2 in /usr/local/lib/python3.12/dist-packages (from pandas) (2.9.0.post0)\n",
            "Requirement already satisfied: pytz>=2020.1 in /usr/local/lib/python3.12/dist-packages (from pandas) (2025.2)\n",
            "Requirement already satisfied: tzdata>=2022.7 in /usr/local/lib/python3.12/dist-packages (from pandas) (2025.2)\n",
            "Requirement already satisfied: six>=1.5 in /usr/local/lib/python3.12/dist-packages (from python-dateutil>=2.8.2->pandas) (1.17.0)\n"
          ]
        }
      ]
    },
    {
      "cell_type": "markdown",
      "id": "3ca5d2a8",
      "metadata": {
        "id": "3ca5d2a8"
      },
      "source": [
        "\n",
        "## Datensatz\n"
      ]
    },
    {
      "cell_type": "code",
      "execution_count": 10,
      "id": "69e0a41a",
      "metadata": {
        "id": "69e0a41a",
        "outputId": "54709944-c24c-4c67-c366-fc8a810bda39",
        "colab": {
          "base_uri": "https://localhost:8080/"
        }
      },
      "outputs": [
        {
          "output_type": "stream",
          "name": "stdout",
          "text": [
            "   ID                Name  Age  Gender Department  Salary Joining Date  \\\n",
            "0   1        Cory Escobar   48  Female         HR    5641   2015-05-03   \n",
            "1   2     Timothy Sanchez   25   Other      Sales    4249   2020-11-09   \n",
            "2   3        Chad Nichols   57   Other      Sales    3058   2019-02-12   \n",
            "3   4  Christine Williams   58  Female         IT    5895   2017-09-08   \n",
            "4   5        Amber Harris   35   Other         IT    4317   2020-02-15   \n",
            "\n",
            "   Performance Score  Experience    Status     Location  Session  \n",
            "0                2.0          16    Active     New York    Night  \n",
            "1                2.0          11  Inactive  Los Angeles  Evening  \n",
            "2                NaN           1  Inactive     New York  Morning  \n",
            "3                2.0          13  Inactive  Los Angeles  Evening  \n",
            "4                5.0          16  Inactive     New York  Evening  \n"
          ]
        }
      ],
      "source": [
        "import pandas as pd\n",
        "\n",
        "# Pfad zur entpackten CSV-Datei\n",
        "file_path = \"./data/Employe_Performance_dataset.csv\"\n",
        "\n",
        "# CSV in DataFrame laden\n",
        "df = pd.read_csv(file_path)\n",
        "\n",
        "# Erste Zeilen ausgeben\n",
        "print(df.head())\n"
      ]
    },
    {
      "cell_type": "markdown",
      "id": "b3ee65c4",
      "metadata": {
        "id": "b3ee65c4"
      },
      "source": [
        "\n",
        "## Hashing – Integritätsprüfung mit SHA2\n",
        "\n",
        "1. Datensatz mit SHA-256 verschlüsseln.\n"
      ]
    },
    {
      "cell_type": "code",
      "execution_count": 11,
      "id": "529f039d",
      "metadata": {
        "id": "529f039d",
        "outputId": "04db61b8-415f-4f5e-e70f-3b2ba66bcf24",
        "colab": {
          "base_uri": "https://localhost:8080/"
        }
      },
      "outputs": [
        {
          "output_type": "stream",
          "name": "stdout",
          "text": [
            "SHA-256-Hash des gesamten Dokuments: 6d0e81ad3755d4ede9af1bfa28df9f4114e69f6b98995e19b888afbb70ed54b7\n"
          ]
        }
      ],
      "source": [
        "import hashlib\n",
        "\n",
        "# DataFrame als CSV-String umwandeln\n",
        "csv_string = df.to_csv(index=False)\n",
        "\n",
        "# SHA-256 (SHA-2 Familie)\n",
        "sha256_full = hashlib.sha256(csv_string.encode()).hexdigest()\n",
        "print(\"SHA-256-Hash des gesamten Dokuments:\", sha256_full)"
      ]
    },
    {
      "cell_type": "markdown",
      "id": "3bddc749",
      "metadata": {
        "id": "3bddc749"
      },
      "source": [
        "2. Eine Änderung im Datensatz simulieren."
      ]
    },
    {
      "cell_type": "code",
      "execution_count": 12,
      "id": "2f9cf791",
      "metadata": {
        "id": "2f9cf791",
        "outputId": "6d0de823-c073-414f-d456-141134437a93",
        "colab": {
          "base_uri": "https://localhost:8080/",
          "height": 206
        }
      },
      "outputs": [
        {
          "output_type": "execute_result",
          "data": {
            "text/plain": [
              "   ID                Name  Age  Gender Department  Salary Joining Date  \\\n",
              "0   1        Cory Escobar   48  Female         HR    5642   2015-05-03   \n",
              "1   2     Timothy Sanchez   25   Other      Sales    4249   2020-11-09   \n",
              "2   3        Chad Nichols   57   Other      Sales    3058   2019-02-12   \n",
              "3   4  Christine Williams   58  Female         IT    5895   2017-09-08   \n",
              "4   5        Amber Harris   35   Other         IT    4317   2020-02-15   \n",
              "\n",
              "   Performance Score  Experience    Status     Location  Session  \n",
              "0                2.0          16    Active     New York    Night  \n",
              "1                2.0          11  Inactive  Los Angeles  Evening  \n",
              "2                NaN           1  Inactive     New York  Morning  \n",
              "3                2.0          13  Inactive  Los Angeles  Evening  \n",
              "4                5.0          16  Inactive     New York  Evening  "
            ],
            "text/html": [
              "\n",
              "  <div id=\"df-c8fcbd06-cf05-4ca2-8ba5-afd4edb3c96d\" class=\"colab-df-container\">\n",
              "    <div>\n",
              "<style scoped>\n",
              "    .dataframe tbody tr th:only-of-type {\n",
              "        vertical-align: middle;\n",
              "    }\n",
              "\n",
              "    .dataframe tbody tr th {\n",
              "        vertical-align: top;\n",
              "    }\n",
              "\n",
              "    .dataframe thead th {\n",
              "        text-align: right;\n",
              "    }\n",
              "</style>\n",
              "<table border=\"1\" class=\"dataframe\">\n",
              "  <thead>\n",
              "    <tr style=\"text-align: right;\">\n",
              "      <th></th>\n",
              "      <th>ID</th>\n",
              "      <th>Name</th>\n",
              "      <th>Age</th>\n",
              "      <th>Gender</th>\n",
              "      <th>Department</th>\n",
              "      <th>Salary</th>\n",
              "      <th>Joining Date</th>\n",
              "      <th>Performance Score</th>\n",
              "      <th>Experience</th>\n",
              "      <th>Status</th>\n",
              "      <th>Location</th>\n",
              "      <th>Session</th>\n",
              "    </tr>\n",
              "  </thead>\n",
              "  <tbody>\n",
              "    <tr>\n",
              "      <th>0</th>\n",
              "      <td>1</td>\n",
              "      <td>Cory Escobar</td>\n",
              "      <td>48</td>\n",
              "      <td>Female</td>\n",
              "      <td>HR</td>\n",
              "      <td>5642</td>\n",
              "      <td>2015-05-03</td>\n",
              "      <td>2.0</td>\n",
              "      <td>16</td>\n",
              "      <td>Active</td>\n",
              "      <td>New York</td>\n",
              "      <td>Night</td>\n",
              "    </tr>\n",
              "    <tr>\n",
              "      <th>1</th>\n",
              "      <td>2</td>\n",
              "      <td>Timothy Sanchez</td>\n",
              "      <td>25</td>\n",
              "      <td>Other</td>\n",
              "      <td>Sales</td>\n",
              "      <td>4249</td>\n",
              "      <td>2020-11-09</td>\n",
              "      <td>2.0</td>\n",
              "      <td>11</td>\n",
              "      <td>Inactive</td>\n",
              "      <td>Los Angeles</td>\n",
              "      <td>Evening</td>\n",
              "    </tr>\n",
              "    <tr>\n",
              "      <th>2</th>\n",
              "      <td>3</td>\n",
              "      <td>Chad Nichols</td>\n",
              "      <td>57</td>\n",
              "      <td>Other</td>\n",
              "      <td>Sales</td>\n",
              "      <td>3058</td>\n",
              "      <td>2019-02-12</td>\n",
              "      <td>NaN</td>\n",
              "      <td>1</td>\n",
              "      <td>Inactive</td>\n",
              "      <td>New York</td>\n",
              "      <td>Morning</td>\n",
              "    </tr>\n",
              "    <tr>\n",
              "      <th>3</th>\n",
              "      <td>4</td>\n",
              "      <td>Christine Williams</td>\n",
              "      <td>58</td>\n",
              "      <td>Female</td>\n",
              "      <td>IT</td>\n",
              "      <td>5895</td>\n",
              "      <td>2017-09-08</td>\n",
              "      <td>2.0</td>\n",
              "      <td>13</td>\n",
              "      <td>Inactive</td>\n",
              "      <td>Los Angeles</td>\n",
              "      <td>Evening</td>\n",
              "    </tr>\n",
              "    <tr>\n",
              "      <th>4</th>\n",
              "      <td>5</td>\n",
              "      <td>Amber Harris</td>\n",
              "      <td>35</td>\n",
              "      <td>Other</td>\n",
              "      <td>IT</td>\n",
              "      <td>4317</td>\n",
              "      <td>2020-02-15</td>\n",
              "      <td>5.0</td>\n",
              "      <td>16</td>\n",
              "      <td>Inactive</td>\n",
              "      <td>New York</td>\n",
              "      <td>Evening</td>\n",
              "    </tr>\n",
              "  </tbody>\n",
              "</table>\n",
              "</div>\n",
              "    <div class=\"colab-df-buttons\">\n",
              "\n",
              "  <div class=\"colab-df-container\">\n",
              "    <button class=\"colab-df-convert\" onclick=\"convertToInteractive('df-c8fcbd06-cf05-4ca2-8ba5-afd4edb3c96d')\"\n",
              "            title=\"Convert this dataframe to an interactive table.\"\n",
              "            style=\"display:none;\">\n",
              "\n",
              "  <svg xmlns=\"http://www.w3.org/2000/svg\" height=\"24px\" viewBox=\"0 -960 960 960\">\n",
              "    <path d=\"M120-120v-720h720v720H120Zm60-500h600v-160H180v160Zm220 220h160v-160H400v160Zm0 220h160v-160H400v160ZM180-400h160v-160H180v160Zm440 0h160v-160H620v160ZM180-180h160v-160H180v160Zm440 0h160v-160H620v160Z\"/>\n",
              "  </svg>\n",
              "    </button>\n",
              "\n",
              "  <style>\n",
              "    .colab-df-container {\n",
              "      display:flex;\n",
              "      gap: 12px;\n",
              "    }\n",
              "\n",
              "    .colab-df-convert {\n",
              "      background-color: #E8F0FE;\n",
              "      border: none;\n",
              "      border-radius: 50%;\n",
              "      cursor: pointer;\n",
              "      display: none;\n",
              "      fill: #1967D2;\n",
              "      height: 32px;\n",
              "      padding: 0 0 0 0;\n",
              "      width: 32px;\n",
              "    }\n",
              "\n",
              "    .colab-df-convert:hover {\n",
              "      background-color: #E2EBFA;\n",
              "      box-shadow: 0px 1px 2px rgba(60, 64, 67, 0.3), 0px 1px 3px 1px rgba(60, 64, 67, 0.15);\n",
              "      fill: #174EA6;\n",
              "    }\n",
              "\n",
              "    .colab-df-buttons div {\n",
              "      margin-bottom: 4px;\n",
              "    }\n",
              "\n",
              "    [theme=dark] .colab-df-convert {\n",
              "      background-color: #3B4455;\n",
              "      fill: #D2E3FC;\n",
              "    }\n",
              "\n",
              "    [theme=dark] .colab-df-convert:hover {\n",
              "      background-color: #434B5C;\n",
              "      box-shadow: 0px 1px 3px 1px rgba(0, 0, 0, 0.15);\n",
              "      filter: drop-shadow(0px 1px 2px rgba(0, 0, 0, 0.3));\n",
              "      fill: #FFFFFF;\n",
              "    }\n",
              "  </style>\n",
              "\n",
              "    <script>\n",
              "      const buttonEl =\n",
              "        document.querySelector('#df-c8fcbd06-cf05-4ca2-8ba5-afd4edb3c96d button.colab-df-convert');\n",
              "      buttonEl.style.display =\n",
              "        google.colab.kernel.accessAllowed ? 'block' : 'none';\n",
              "\n",
              "      async function convertToInteractive(key) {\n",
              "        const element = document.querySelector('#df-c8fcbd06-cf05-4ca2-8ba5-afd4edb3c96d');\n",
              "        const dataTable =\n",
              "          await google.colab.kernel.invokeFunction('convertToInteractive',\n",
              "                                                    [key], {});\n",
              "        if (!dataTable) return;\n",
              "\n",
              "        const docLinkHtml = 'Like what you see? Visit the ' +\n",
              "          '<a target=\"_blank\" href=https://colab.research.google.com/notebooks/data_table.ipynb>data table notebook</a>'\n",
              "          + ' to learn more about interactive tables.';\n",
              "        element.innerHTML = '';\n",
              "        dataTable['output_type'] = 'display_data';\n",
              "        await google.colab.output.renderOutput(dataTable, element);\n",
              "        const docLink = document.createElement('div');\n",
              "        docLink.innerHTML = docLinkHtml;\n",
              "        element.appendChild(docLink);\n",
              "      }\n",
              "    </script>\n",
              "  </div>\n",
              "\n",
              "\n",
              "    <div id=\"df-798ab8a7-29dc-41c7-aa57-f4dc05160934\">\n",
              "      <button class=\"colab-df-quickchart\" onclick=\"quickchart('df-798ab8a7-29dc-41c7-aa57-f4dc05160934')\"\n",
              "                title=\"Suggest charts\"\n",
              "                style=\"display:none;\">\n",
              "\n",
              "<svg xmlns=\"http://www.w3.org/2000/svg\" height=\"24px\"viewBox=\"0 0 24 24\"\n",
              "     width=\"24px\">\n",
              "    <g>\n",
              "        <path d=\"M19 3H5c-1.1 0-2 .9-2 2v14c0 1.1.9 2 2 2h14c1.1 0 2-.9 2-2V5c0-1.1-.9-2-2-2zM9 17H7v-7h2v7zm4 0h-2V7h2v10zm4 0h-2v-4h2v4z\"/>\n",
              "    </g>\n",
              "</svg>\n",
              "      </button>\n",
              "\n",
              "<style>\n",
              "  .colab-df-quickchart {\n",
              "      --bg-color: #E8F0FE;\n",
              "      --fill-color: #1967D2;\n",
              "      --hover-bg-color: #E2EBFA;\n",
              "      --hover-fill-color: #174EA6;\n",
              "      --disabled-fill-color: #AAA;\n",
              "      --disabled-bg-color: #DDD;\n",
              "  }\n",
              "\n",
              "  [theme=dark] .colab-df-quickchart {\n",
              "      --bg-color: #3B4455;\n",
              "      --fill-color: #D2E3FC;\n",
              "      --hover-bg-color: #434B5C;\n",
              "      --hover-fill-color: #FFFFFF;\n",
              "      --disabled-bg-color: #3B4455;\n",
              "      --disabled-fill-color: #666;\n",
              "  }\n",
              "\n",
              "  .colab-df-quickchart {\n",
              "    background-color: var(--bg-color);\n",
              "    border: none;\n",
              "    border-radius: 50%;\n",
              "    cursor: pointer;\n",
              "    display: none;\n",
              "    fill: var(--fill-color);\n",
              "    height: 32px;\n",
              "    padding: 0;\n",
              "    width: 32px;\n",
              "  }\n",
              "\n",
              "  .colab-df-quickchart:hover {\n",
              "    background-color: var(--hover-bg-color);\n",
              "    box-shadow: 0 1px 2px rgba(60, 64, 67, 0.3), 0 1px 3px 1px rgba(60, 64, 67, 0.15);\n",
              "    fill: var(--button-hover-fill-color);\n",
              "  }\n",
              "\n",
              "  .colab-df-quickchart-complete:disabled,\n",
              "  .colab-df-quickchart-complete:disabled:hover {\n",
              "    background-color: var(--disabled-bg-color);\n",
              "    fill: var(--disabled-fill-color);\n",
              "    box-shadow: none;\n",
              "  }\n",
              "\n",
              "  .colab-df-spinner {\n",
              "    border: 2px solid var(--fill-color);\n",
              "    border-color: transparent;\n",
              "    border-bottom-color: var(--fill-color);\n",
              "    animation:\n",
              "      spin 1s steps(1) infinite;\n",
              "  }\n",
              "\n",
              "  @keyframes spin {\n",
              "    0% {\n",
              "      border-color: transparent;\n",
              "      border-bottom-color: var(--fill-color);\n",
              "      border-left-color: var(--fill-color);\n",
              "    }\n",
              "    20% {\n",
              "      border-color: transparent;\n",
              "      border-left-color: var(--fill-color);\n",
              "      border-top-color: var(--fill-color);\n",
              "    }\n",
              "    30% {\n",
              "      border-color: transparent;\n",
              "      border-left-color: var(--fill-color);\n",
              "      border-top-color: var(--fill-color);\n",
              "      border-right-color: var(--fill-color);\n",
              "    }\n",
              "    40% {\n",
              "      border-color: transparent;\n",
              "      border-right-color: var(--fill-color);\n",
              "      border-top-color: var(--fill-color);\n",
              "    }\n",
              "    60% {\n",
              "      border-color: transparent;\n",
              "      border-right-color: var(--fill-color);\n",
              "    }\n",
              "    80% {\n",
              "      border-color: transparent;\n",
              "      border-right-color: var(--fill-color);\n",
              "      border-bottom-color: var(--fill-color);\n",
              "    }\n",
              "    90% {\n",
              "      border-color: transparent;\n",
              "      border-bottom-color: var(--fill-color);\n",
              "    }\n",
              "  }\n",
              "</style>\n",
              "\n",
              "      <script>\n",
              "        async function quickchart(key) {\n",
              "          const quickchartButtonEl =\n",
              "            document.querySelector('#' + key + ' button');\n",
              "          quickchartButtonEl.disabled = true;  // To prevent multiple clicks.\n",
              "          quickchartButtonEl.classList.add('colab-df-spinner');\n",
              "          try {\n",
              "            const charts = await google.colab.kernel.invokeFunction(\n",
              "                'suggestCharts', [key], {});\n",
              "          } catch (error) {\n",
              "            console.error('Error during call to suggestCharts:', error);\n",
              "          }\n",
              "          quickchartButtonEl.classList.remove('colab-df-spinner');\n",
              "          quickchartButtonEl.classList.add('colab-df-quickchart-complete');\n",
              "        }\n",
              "        (() => {\n",
              "          let quickchartButtonEl =\n",
              "            document.querySelector('#df-798ab8a7-29dc-41c7-aa57-f4dc05160934 button');\n",
              "          quickchartButtonEl.style.display =\n",
              "            google.colab.kernel.accessAllowed ? 'block' : 'none';\n",
              "        })();\n",
              "      </script>\n",
              "    </div>\n",
              "\n",
              "    </div>\n",
              "  </div>\n"
            ],
            "application/vnd.google.colaboratory.intrinsic+json": {
              "type": "dataframe",
              "variable_name": "df_mod1",
              "summary": "{\n  \"name\": \"df_mod1\",\n  \"rows\": 1000,\n  \"fields\": [\n    {\n      \"column\": \"ID\",\n      \"properties\": {\n        \"dtype\": \"number\",\n        \"std\": 288,\n        \"min\": 1,\n        \"max\": 1000,\n        \"num_unique_values\": 1000,\n        \"samples\": [\n          522,\n          738,\n          741\n        ],\n        \"semantic_type\": \"\",\n        \"description\": \"\"\n      }\n    },\n    {\n      \"column\": \"Name\",\n      \"properties\": {\n        \"dtype\": \"string\",\n        \"num_unique_values\": 992,\n        \"samples\": [\n          \"Rachel Mcdonald\",\n          \"Karen Hayden\",\n          \"Dawn Choi\"\n        ],\n        \"semantic_type\": \"\",\n        \"description\": \"\"\n      }\n    },\n    {\n      \"column\": \"Age\",\n      \"properties\": {\n        \"dtype\": \"number\",\n        \"std\": 14,\n        \"min\": 18,\n        \"max\": 65,\n        \"num_unique_values\": 48,\n        \"samples\": [\n          27,\n          26,\n          36\n        ],\n        \"semantic_type\": \"\",\n        \"description\": \"\"\n      }\n    },\n    {\n      \"column\": \"Gender\",\n      \"properties\": {\n        \"dtype\": \"category\",\n        \"num_unique_values\": 3,\n        \"samples\": [\n          \"Female\",\n          \"Other\",\n          \"Male\"\n        ],\n        \"semantic_type\": \"\",\n        \"description\": \"\"\n      }\n    },\n    {\n      \"column\": \"Department\",\n      \"properties\": {\n        \"dtype\": \"category\",\n        \"num_unique_values\": 3,\n        \"samples\": [\n          \"HR\",\n          \"Sales\",\n          \"IT\"\n        ],\n        \"semantic_type\": \"\",\n        \"description\": \"\"\n      }\n    },\n    {\n      \"column\": \"Salary\",\n      \"properties\": {\n        \"dtype\": \"number\",\n        \"std\": 2299,\n        \"min\": 2015,\n        \"max\": 9993,\n        \"num_unique_values\": 941,\n        \"samples\": [\n          8438,\n          7767,\n          8798\n        ],\n        \"semantic_type\": \"\",\n        \"description\": \"\"\n      }\n    },\n    {\n      \"column\": \"Joining Date\",\n      \"properties\": {\n        \"dtype\": \"object\",\n        \"num_unique_values\": 856,\n        \"samples\": [\n          \"2023-06-04\",\n          \"2020-08-27\",\n          \"2020-06-12\"\n        ],\n        \"semantic_type\": \"\",\n        \"description\": \"\"\n      }\n    },\n    {\n      \"column\": \"Performance Score\",\n      \"properties\": {\n        \"dtype\": \"number\",\n        \"std\": 1.4247359495234881,\n        \"min\": 1.0,\n        \"max\": 5.0,\n        \"num_unique_values\": 5,\n        \"samples\": [\n          5.0,\n          4.0,\n          1.0\n        ],\n        \"semantic_type\": \"\",\n        \"description\": \"\"\n      }\n    },\n    {\n      \"column\": \"Experience\",\n      \"properties\": {\n        \"dtype\": \"number\",\n        \"std\": 5,\n        \"min\": 1,\n        \"max\": 20,\n        \"num_unique_values\": 20,\n        \"samples\": [\n          16,\n          15,\n          18\n        ],\n        \"semantic_type\": \"\",\n        \"description\": \"\"\n      }\n    },\n    {\n      \"column\": \"Status\",\n      \"properties\": {\n        \"dtype\": \"category\",\n        \"num_unique_values\": 2,\n        \"samples\": [\n          \"Inactive\",\n          \"Active\"\n        ],\n        \"semantic_type\": \"\",\n        \"description\": \"\"\n      }\n    },\n    {\n      \"column\": \"Location\",\n      \"properties\": {\n        \"dtype\": \"category\",\n        \"num_unique_values\": 3,\n        \"samples\": [\n          \"New York\",\n          \"Los Angeles\"\n        ],\n        \"semantic_type\": \"\",\n        \"description\": \"\"\n      }\n    },\n    {\n      \"column\": \"Session\",\n      \"properties\": {\n        \"dtype\": \"category\",\n        \"num_unique_values\": 3,\n        \"samples\": [\n          \"Night\",\n          \"Evening\"\n        ],\n        \"semantic_type\": \"\",\n        \"description\": \"\"\n      }\n    }\n  ]\n}"
            }
          },
          "metadata": {},
          "execution_count": 12
        }
      ],
      "source": [
        "df_mod1 = df.copy()\n",
        "\n",
        "# Salary in der ersten Zeile leicht ändern\n",
        "df_mod1.loc[0, \"Salary\"] = 5642\n",
        "\n",
        "# Ausgabe\n",
        "df_mod1.head()"
      ]
    },
    {
      "cell_type": "markdown",
      "id": "2cd17318",
      "metadata": {
        "id": "2cd17318"
      },
      "source": [
        "3. Die Veränderung wird beim Vergleich der beiden Hashwerte sofort sichtbar. Ein Manipulations- oder Fälschungsversuch würde dadurch auffallen – etwa, wenn innerhalb eines Unternehmens eine Datei dupliziert und verändert weitergeleitet wird oder wenn man eine Datei aus dem Internet herunterlädt und den bekannten Original-Hashwert zum Abgleich heranzieht."
      ]
    },
    {
      "cell_type": "code",
      "execution_count": 13,
      "id": "bebe6550",
      "metadata": {
        "id": "bebe6550",
        "outputId": "98e6db58-b991-428c-95f1-b51610f444be",
        "colab": {
          "base_uri": "https://localhost:8080/"
        }
      },
      "outputs": [
        {
          "output_type": "stream",
          "name": "stdout",
          "text": [
            "SHA-256-Hash des geänderten Dokuments: 13e645f0a622c58a97aa97d8620c262a2081aca0d5a4597f2aec91ef198dc0fa\n"
          ]
        }
      ],
      "source": [
        "# SHA-256-Hash des geänderten DataFrames berechnen\n",
        "sha256_full_modified = hashlib.sha256(df_mod1.to_csv(index=False).encode()).hexdigest()\n",
        "\n",
        "print(\"SHA-256-Hash des geänderten Dokuments:\", sha256_full_modified)"
      ]
    },
    {
      "cell_type": "markdown",
      "id": "fd93912c",
      "metadata": {
        "id": "fd93912c"
      },
      "source": [
        "\n",
        "## Hashing – Integritätsprüfung mit SHA3\n",
        "\n",
        "1. Datensatz mit SHA3-256 verschlüsseln.\n"
      ]
    },
    {
      "cell_type": "code",
      "execution_count": 14,
      "id": "fd535aa5",
      "metadata": {
        "id": "fd535aa5",
        "outputId": "71288f00-d99a-443e-e685-31e370868e29",
        "colab": {
          "base_uri": "https://localhost:8080/"
        }
      },
      "outputs": [
        {
          "output_type": "stream",
          "name": "stdout",
          "text": [
            "SHA3-256-Hash des gesamten Dokuments: 76e6e26835985a7b8b67357581e661baca2cbc010b9792062087c50e0f643497\n"
          ]
        }
      ],
      "source": [
        "import hashlib\n",
        "\n",
        "# DataFrame als CSV-String umwandeln\n",
        "csv_string = df.to_csv(index=False)\n",
        "\n",
        "# SHA3-256 (SHA-3 Familie, Keccak)\n",
        "sha3_256_full = hashlib.sha3_256(csv_string.encode()).hexdigest()\n",
        "print(\"SHA3-256-Hash des gesamten Dokuments:\", sha3_256_full)\n"
      ]
    },
    {
      "cell_type": "markdown",
      "id": "0b8492d7",
      "metadata": {
        "id": "0b8492d7"
      },
      "source": [
        "2. Eine Änderung am Datensatz simulieren"
      ]
    },
    {
      "cell_type": "code",
      "execution_count": 15,
      "id": "9e6bdf78",
      "metadata": {
        "id": "9e6bdf78",
        "outputId": "b5ffd12f-988f-45f3-e2b1-9a7979bc2408",
        "colab": {
          "base_uri": "https://localhost:8080/",
          "height": 206
        }
      },
      "outputs": [
        {
          "output_type": "execute_result",
          "data": {
            "text/plain": [
              "   ID                Name  Age  Gender Department  Salary Joining Date  \\\n",
              "0   1        Cory Escobar   48  Female         HR    5646   2015-05-03   \n",
              "1   2     Timothy Sanchez   25   Other      Sales    4249   2020-11-09   \n",
              "2   3        Chad Nichols   57   Other      Sales    3058   2019-02-12   \n",
              "3   4  Christine Williams   58  Female         IT    5895   2017-09-08   \n",
              "4   5        Amber Harris   35   Other         IT    4317   2020-02-15   \n",
              "\n",
              "   Performance Score  Experience    Status     Location  Session  \n",
              "0                2.0          16    Active     New York    Night  \n",
              "1                2.0          11  Inactive  Los Angeles  Evening  \n",
              "2                NaN           1  Inactive     New York  Morning  \n",
              "3                2.0          13  Inactive  Los Angeles  Evening  \n",
              "4                5.0          16  Inactive     New York  Evening  "
            ],
            "text/html": [
              "\n",
              "  <div id=\"df-0b366915-d496-4de8-b7d2-e5a7dadc22c7\" class=\"colab-df-container\">\n",
              "    <div>\n",
              "<style scoped>\n",
              "    .dataframe tbody tr th:only-of-type {\n",
              "        vertical-align: middle;\n",
              "    }\n",
              "\n",
              "    .dataframe tbody tr th {\n",
              "        vertical-align: top;\n",
              "    }\n",
              "\n",
              "    .dataframe thead th {\n",
              "        text-align: right;\n",
              "    }\n",
              "</style>\n",
              "<table border=\"1\" class=\"dataframe\">\n",
              "  <thead>\n",
              "    <tr style=\"text-align: right;\">\n",
              "      <th></th>\n",
              "      <th>ID</th>\n",
              "      <th>Name</th>\n",
              "      <th>Age</th>\n",
              "      <th>Gender</th>\n",
              "      <th>Department</th>\n",
              "      <th>Salary</th>\n",
              "      <th>Joining Date</th>\n",
              "      <th>Performance Score</th>\n",
              "      <th>Experience</th>\n",
              "      <th>Status</th>\n",
              "      <th>Location</th>\n",
              "      <th>Session</th>\n",
              "    </tr>\n",
              "  </thead>\n",
              "  <tbody>\n",
              "    <tr>\n",
              "      <th>0</th>\n",
              "      <td>1</td>\n",
              "      <td>Cory Escobar</td>\n",
              "      <td>48</td>\n",
              "      <td>Female</td>\n",
              "      <td>HR</td>\n",
              "      <td>5646</td>\n",
              "      <td>2015-05-03</td>\n",
              "      <td>2.0</td>\n",
              "      <td>16</td>\n",
              "      <td>Active</td>\n",
              "      <td>New York</td>\n",
              "      <td>Night</td>\n",
              "    </tr>\n",
              "    <tr>\n",
              "      <th>1</th>\n",
              "      <td>2</td>\n",
              "      <td>Timothy Sanchez</td>\n",
              "      <td>25</td>\n",
              "      <td>Other</td>\n",
              "      <td>Sales</td>\n",
              "      <td>4249</td>\n",
              "      <td>2020-11-09</td>\n",
              "      <td>2.0</td>\n",
              "      <td>11</td>\n",
              "      <td>Inactive</td>\n",
              "      <td>Los Angeles</td>\n",
              "      <td>Evening</td>\n",
              "    </tr>\n",
              "    <tr>\n",
              "      <th>2</th>\n",
              "      <td>3</td>\n",
              "      <td>Chad Nichols</td>\n",
              "      <td>57</td>\n",
              "      <td>Other</td>\n",
              "      <td>Sales</td>\n",
              "      <td>3058</td>\n",
              "      <td>2019-02-12</td>\n",
              "      <td>NaN</td>\n",
              "      <td>1</td>\n",
              "      <td>Inactive</td>\n",
              "      <td>New York</td>\n",
              "      <td>Morning</td>\n",
              "    </tr>\n",
              "    <tr>\n",
              "      <th>3</th>\n",
              "      <td>4</td>\n",
              "      <td>Christine Williams</td>\n",
              "      <td>58</td>\n",
              "      <td>Female</td>\n",
              "      <td>IT</td>\n",
              "      <td>5895</td>\n",
              "      <td>2017-09-08</td>\n",
              "      <td>2.0</td>\n",
              "      <td>13</td>\n",
              "      <td>Inactive</td>\n",
              "      <td>Los Angeles</td>\n",
              "      <td>Evening</td>\n",
              "    </tr>\n",
              "    <tr>\n",
              "      <th>4</th>\n",
              "      <td>5</td>\n",
              "      <td>Amber Harris</td>\n",
              "      <td>35</td>\n",
              "      <td>Other</td>\n",
              "      <td>IT</td>\n",
              "      <td>4317</td>\n",
              "      <td>2020-02-15</td>\n",
              "      <td>5.0</td>\n",
              "      <td>16</td>\n",
              "      <td>Inactive</td>\n",
              "      <td>New York</td>\n",
              "      <td>Evening</td>\n",
              "    </tr>\n",
              "  </tbody>\n",
              "</table>\n",
              "</div>\n",
              "    <div class=\"colab-df-buttons\">\n",
              "\n",
              "  <div class=\"colab-df-container\">\n",
              "    <button class=\"colab-df-convert\" onclick=\"convertToInteractive('df-0b366915-d496-4de8-b7d2-e5a7dadc22c7')\"\n",
              "            title=\"Convert this dataframe to an interactive table.\"\n",
              "            style=\"display:none;\">\n",
              "\n",
              "  <svg xmlns=\"http://www.w3.org/2000/svg\" height=\"24px\" viewBox=\"0 -960 960 960\">\n",
              "    <path d=\"M120-120v-720h720v720H120Zm60-500h600v-160H180v160Zm220 220h160v-160H400v160Zm0 220h160v-160H400v160ZM180-400h160v-160H180v160Zm440 0h160v-160H620v160ZM180-180h160v-160H180v160Zm440 0h160v-160H620v160Z\"/>\n",
              "  </svg>\n",
              "    </button>\n",
              "\n",
              "  <style>\n",
              "    .colab-df-container {\n",
              "      display:flex;\n",
              "      gap: 12px;\n",
              "    }\n",
              "\n",
              "    .colab-df-convert {\n",
              "      background-color: #E8F0FE;\n",
              "      border: none;\n",
              "      border-radius: 50%;\n",
              "      cursor: pointer;\n",
              "      display: none;\n",
              "      fill: #1967D2;\n",
              "      height: 32px;\n",
              "      padding: 0 0 0 0;\n",
              "      width: 32px;\n",
              "    }\n",
              "\n",
              "    .colab-df-convert:hover {\n",
              "      background-color: #E2EBFA;\n",
              "      box-shadow: 0px 1px 2px rgba(60, 64, 67, 0.3), 0px 1px 3px 1px rgba(60, 64, 67, 0.15);\n",
              "      fill: #174EA6;\n",
              "    }\n",
              "\n",
              "    .colab-df-buttons div {\n",
              "      margin-bottom: 4px;\n",
              "    }\n",
              "\n",
              "    [theme=dark] .colab-df-convert {\n",
              "      background-color: #3B4455;\n",
              "      fill: #D2E3FC;\n",
              "    }\n",
              "\n",
              "    [theme=dark] .colab-df-convert:hover {\n",
              "      background-color: #434B5C;\n",
              "      box-shadow: 0px 1px 3px 1px rgba(0, 0, 0, 0.15);\n",
              "      filter: drop-shadow(0px 1px 2px rgba(0, 0, 0, 0.3));\n",
              "      fill: #FFFFFF;\n",
              "    }\n",
              "  </style>\n",
              "\n",
              "    <script>\n",
              "      const buttonEl =\n",
              "        document.querySelector('#df-0b366915-d496-4de8-b7d2-e5a7dadc22c7 button.colab-df-convert');\n",
              "      buttonEl.style.display =\n",
              "        google.colab.kernel.accessAllowed ? 'block' : 'none';\n",
              "\n",
              "      async function convertToInteractive(key) {\n",
              "        const element = document.querySelector('#df-0b366915-d496-4de8-b7d2-e5a7dadc22c7');\n",
              "        const dataTable =\n",
              "          await google.colab.kernel.invokeFunction('convertToInteractive',\n",
              "                                                    [key], {});\n",
              "        if (!dataTable) return;\n",
              "\n",
              "        const docLinkHtml = 'Like what you see? Visit the ' +\n",
              "          '<a target=\"_blank\" href=https://colab.research.google.com/notebooks/data_table.ipynb>data table notebook</a>'\n",
              "          + ' to learn more about interactive tables.';\n",
              "        element.innerHTML = '';\n",
              "        dataTable['output_type'] = 'display_data';\n",
              "        await google.colab.output.renderOutput(dataTable, element);\n",
              "        const docLink = document.createElement('div');\n",
              "        docLink.innerHTML = docLinkHtml;\n",
              "        element.appendChild(docLink);\n",
              "      }\n",
              "    </script>\n",
              "  </div>\n",
              "\n",
              "\n",
              "    <div id=\"df-cac7a7ae-dd38-42ef-9cf5-5f0b1f52e16d\">\n",
              "      <button class=\"colab-df-quickchart\" onclick=\"quickchart('df-cac7a7ae-dd38-42ef-9cf5-5f0b1f52e16d')\"\n",
              "                title=\"Suggest charts\"\n",
              "                style=\"display:none;\">\n",
              "\n",
              "<svg xmlns=\"http://www.w3.org/2000/svg\" height=\"24px\"viewBox=\"0 0 24 24\"\n",
              "     width=\"24px\">\n",
              "    <g>\n",
              "        <path d=\"M19 3H5c-1.1 0-2 .9-2 2v14c0 1.1.9 2 2 2h14c1.1 0 2-.9 2-2V5c0-1.1-.9-2-2-2zM9 17H7v-7h2v7zm4 0h-2V7h2v10zm4 0h-2v-4h2v4z\"/>\n",
              "    </g>\n",
              "</svg>\n",
              "      </button>\n",
              "\n",
              "<style>\n",
              "  .colab-df-quickchart {\n",
              "      --bg-color: #E8F0FE;\n",
              "      --fill-color: #1967D2;\n",
              "      --hover-bg-color: #E2EBFA;\n",
              "      --hover-fill-color: #174EA6;\n",
              "      --disabled-fill-color: #AAA;\n",
              "      --disabled-bg-color: #DDD;\n",
              "  }\n",
              "\n",
              "  [theme=dark] .colab-df-quickchart {\n",
              "      --bg-color: #3B4455;\n",
              "      --fill-color: #D2E3FC;\n",
              "      --hover-bg-color: #434B5C;\n",
              "      --hover-fill-color: #FFFFFF;\n",
              "      --disabled-bg-color: #3B4455;\n",
              "      --disabled-fill-color: #666;\n",
              "  }\n",
              "\n",
              "  .colab-df-quickchart {\n",
              "    background-color: var(--bg-color);\n",
              "    border: none;\n",
              "    border-radius: 50%;\n",
              "    cursor: pointer;\n",
              "    display: none;\n",
              "    fill: var(--fill-color);\n",
              "    height: 32px;\n",
              "    padding: 0;\n",
              "    width: 32px;\n",
              "  }\n",
              "\n",
              "  .colab-df-quickchart:hover {\n",
              "    background-color: var(--hover-bg-color);\n",
              "    box-shadow: 0 1px 2px rgba(60, 64, 67, 0.3), 0 1px 3px 1px rgba(60, 64, 67, 0.15);\n",
              "    fill: var(--button-hover-fill-color);\n",
              "  }\n",
              "\n",
              "  .colab-df-quickchart-complete:disabled,\n",
              "  .colab-df-quickchart-complete:disabled:hover {\n",
              "    background-color: var(--disabled-bg-color);\n",
              "    fill: var(--disabled-fill-color);\n",
              "    box-shadow: none;\n",
              "  }\n",
              "\n",
              "  .colab-df-spinner {\n",
              "    border: 2px solid var(--fill-color);\n",
              "    border-color: transparent;\n",
              "    border-bottom-color: var(--fill-color);\n",
              "    animation:\n",
              "      spin 1s steps(1) infinite;\n",
              "  }\n",
              "\n",
              "  @keyframes spin {\n",
              "    0% {\n",
              "      border-color: transparent;\n",
              "      border-bottom-color: var(--fill-color);\n",
              "      border-left-color: var(--fill-color);\n",
              "    }\n",
              "    20% {\n",
              "      border-color: transparent;\n",
              "      border-left-color: var(--fill-color);\n",
              "      border-top-color: var(--fill-color);\n",
              "    }\n",
              "    30% {\n",
              "      border-color: transparent;\n",
              "      border-left-color: var(--fill-color);\n",
              "      border-top-color: var(--fill-color);\n",
              "      border-right-color: var(--fill-color);\n",
              "    }\n",
              "    40% {\n",
              "      border-color: transparent;\n",
              "      border-right-color: var(--fill-color);\n",
              "      border-top-color: var(--fill-color);\n",
              "    }\n",
              "    60% {\n",
              "      border-color: transparent;\n",
              "      border-right-color: var(--fill-color);\n",
              "    }\n",
              "    80% {\n",
              "      border-color: transparent;\n",
              "      border-right-color: var(--fill-color);\n",
              "      border-bottom-color: var(--fill-color);\n",
              "    }\n",
              "    90% {\n",
              "      border-color: transparent;\n",
              "      border-bottom-color: var(--fill-color);\n",
              "    }\n",
              "  }\n",
              "</style>\n",
              "\n",
              "      <script>\n",
              "        async function quickchart(key) {\n",
              "          const quickchartButtonEl =\n",
              "            document.querySelector('#' + key + ' button');\n",
              "          quickchartButtonEl.disabled = true;  // To prevent multiple clicks.\n",
              "          quickchartButtonEl.classList.add('colab-df-spinner');\n",
              "          try {\n",
              "            const charts = await google.colab.kernel.invokeFunction(\n",
              "                'suggestCharts', [key], {});\n",
              "          } catch (error) {\n",
              "            console.error('Error during call to suggestCharts:', error);\n",
              "          }\n",
              "          quickchartButtonEl.classList.remove('colab-df-spinner');\n",
              "          quickchartButtonEl.classList.add('colab-df-quickchart-complete');\n",
              "        }\n",
              "        (() => {\n",
              "          let quickchartButtonEl =\n",
              "            document.querySelector('#df-cac7a7ae-dd38-42ef-9cf5-5f0b1f52e16d button');\n",
              "          quickchartButtonEl.style.display =\n",
              "            google.colab.kernel.accessAllowed ? 'block' : 'none';\n",
              "        })();\n",
              "      </script>\n",
              "    </div>\n",
              "\n",
              "    </div>\n",
              "  </div>\n"
            ],
            "application/vnd.google.colaboratory.intrinsic+json": {
              "type": "dataframe",
              "variable_name": "df_mod2",
              "summary": "{\n  \"name\": \"df_mod2\",\n  \"rows\": 1000,\n  \"fields\": [\n    {\n      \"column\": \"ID\",\n      \"properties\": {\n        \"dtype\": \"number\",\n        \"std\": 288,\n        \"min\": 1,\n        \"max\": 1000,\n        \"num_unique_values\": 1000,\n        \"samples\": [\n          522,\n          738,\n          741\n        ],\n        \"semantic_type\": \"\",\n        \"description\": \"\"\n      }\n    },\n    {\n      \"column\": \"Name\",\n      \"properties\": {\n        \"dtype\": \"string\",\n        \"num_unique_values\": 992,\n        \"samples\": [\n          \"Rachel Mcdonald\",\n          \"Karen Hayden\",\n          \"Dawn Choi\"\n        ],\n        \"semantic_type\": \"\",\n        \"description\": \"\"\n      }\n    },\n    {\n      \"column\": \"Age\",\n      \"properties\": {\n        \"dtype\": \"number\",\n        \"std\": 14,\n        \"min\": 18,\n        \"max\": 65,\n        \"num_unique_values\": 48,\n        \"samples\": [\n          27,\n          26,\n          36\n        ],\n        \"semantic_type\": \"\",\n        \"description\": \"\"\n      }\n    },\n    {\n      \"column\": \"Gender\",\n      \"properties\": {\n        \"dtype\": \"category\",\n        \"num_unique_values\": 3,\n        \"samples\": [\n          \"Female\",\n          \"Other\",\n          \"Male\"\n        ],\n        \"semantic_type\": \"\",\n        \"description\": \"\"\n      }\n    },\n    {\n      \"column\": \"Department\",\n      \"properties\": {\n        \"dtype\": \"category\",\n        \"num_unique_values\": 3,\n        \"samples\": [\n          \"HR\",\n          \"Sales\",\n          \"IT\"\n        ],\n        \"semantic_type\": \"\",\n        \"description\": \"\"\n      }\n    },\n    {\n      \"column\": \"Salary\",\n      \"properties\": {\n        \"dtype\": \"number\",\n        \"std\": 2299,\n        \"min\": 2015,\n        \"max\": 9993,\n        \"num_unique_values\": 941,\n        \"samples\": [\n          8438,\n          7767,\n          8798\n        ],\n        \"semantic_type\": \"\",\n        \"description\": \"\"\n      }\n    },\n    {\n      \"column\": \"Joining Date\",\n      \"properties\": {\n        \"dtype\": \"object\",\n        \"num_unique_values\": 856,\n        \"samples\": [\n          \"2023-06-04\",\n          \"2020-08-27\",\n          \"2020-06-12\"\n        ],\n        \"semantic_type\": \"\",\n        \"description\": \"\"\n      }\n    },\n    {\n      \"column\": \"Performance Score\",\n      \"properties\": {\n        \"dtype\": \"number\",\n        \"std\": 1.4247359495234881,\n        \"min\": 1.0,\n        \"max\": 5.0,\n        \"num_unique_values\": 5,\n        \"samples\": [\n          5.0,\n          4.0,\n          1.0\n        ],\n        \"semantic_type\": \"\",\n        \"description\": \"\"\n      }\n    },\n    {\n      \"column\": \"Experience\",\n      \"properties\": {\n        \"dtype\": \"number\",\n        \"std\": 5,\n        \"min\": 1,\n        \"max\": 20,\n        \"num_unique_values\": 20,\n        \"samples\": [\n          16,\n          15,\n          18\n        ],\n        \"semantic_type\": \"\",\n        \"description\": \"\"\n      }\n    },\n    {\n      \"column\": \"Status\",\n      \"properties\": {\n        \"dtype\": \"category\",\n        \"num_unique_values\": 2,\n        \"samples\": [\n          \"Inactive\",\n          \"Active\"\n        ],\n        \"semantic_type\": \"\",\n        \"description\": \"\"\n      }\n    },\n    {\n      \"column\": \"Location\",\n      \"properties\": {\n        \"dtype\": \"category\",\n        \"num_unique_values\": 3,\n        \"samples\": [\n          \"New York\",\n          \"Los Angeles\"\n        ],\n        \"semantic_type\": \"\",\n        \"description\": \"\"\n      }\n    },\n    {\n      \"column\": \"Session\",\n      \"properties\": {\n        \"dtype\": \"category\",\n        \"num_unique_values\": 3,\n        \"samples\": [\n          \"Night\",\n          \"Evening\"\n        ],\n        \"semantic_type\": \"\",\n        \"description\": \"\"\n      }\n    }\n  ]\n}"
            }
          },
          "metadata": {},
          "execution_count": 15
        }
      ],
      "source": [
        "df_mod2 = df.copy()\n",
        "\n",
        "# Salary in der ersten Zeile leicht ändern\n",
        "df_mod2.loc[0, \"Salary\"] = 5646\n",
        "\n",
        "# Ausgabe\n",
        "df_mod2.head()"
      ]
    },
    {
      "cell_type": "markdown",
      "id": "90c2a092",
      "metadata": {
        "id": "90c2a092"
      },
      "source": [
        "3. Die Veränderung wird beim Vergleich der beiden Hashwerte sofort sichtbar. Ein Manipulations- oder Fälschungsversuch würde dadurch auffallen – etwa, wenn innerhalb eines Unternehmens eine Datei dupliziert und verändert weitergeleitet wird oder wenn man eine Datei aus dem Internet herunterlädt und den bekannten Original-Hashwert zum Abgleich heranzieht."
      ]
    },
    {
      "cell_type": "code",
      "execution_count": 16,
      "id": "b09659b7",
      "metadata": {
        "id": "b09659b7",
        "outputId": "fb62dfbd-2acb-49ef-a465-37d3c1e75ec5",
        "colab": {
          "base_uri": "https://localhost:8080/"
        }
      },
      "outputs": [
        {
          "output_type": "stream",
          "name": "stdout",
          "text": [
            "SHA3-256-Hash des geänderten Dokuments: 0c6eba2716f8723f2137e550ed2818a6e745ebe057d33f4bb0539757a43447a9\n"
          ]
        }
      ],
      "source": [
        "# SHA3-256-Hash des geänderten DataFrames berechnen\n",
        "sha3_256_full_modified = hashlib.sha3_256(df_mod2.to_csv(index=False).encode()).hexdigest()\n",
        "\n",
        "print(\"SHA3-256-Hash des geänderten Dokuments:\", sha3_256_full_modified)"
      ]
    },
    {
      "cell_type": "markdown",
      "id": "1a28ac9a",
      "metadata": {
        "id": "1a28ac9a"
      },
      "source": [
        "\n",
        "## Symmetrische Verschlüsselung – AES\n",
        "\n",
        "1. Es wird simuliert, wie ein Mitarbeiter eine Datei verschlüsselt und anschließend die verschlüsselte Version abspeichert."
      ]
    },
    {
      "cell_type": "code",
      "execution_count": 17,
      "id": "e6dc02a5",
      "metadata": {
        "id": "e6dc02a5",
        "outputId": "0c00264c-3d20-4160-f52c-a4857a06b431",
        "colab": {
          "base_uri": "https://localhost:8080/"
        }
      },
      "outputs": [
        {
          "output_type": "stream",
          "name": "stdout",
          "text": [
            "Datei erfolgreich mit AES verschlüsselt!\n",
            "Gespeichert unter: /root/Documents/Krypto/employee_data.enc\n"
          ]
        }
      ],
      "source": [
        "from cryptography.hazmat.primitives.ciphers import Cipher, algorithms, modes\n",
        "from cryptography.hazmat.backends import default_backend\n",
        "from cryptography.hazmat.primitives.kdf.pbkdf2 import PBKDF2HMAC\n",
        "from cryptography.hazmat.primitives import hashes\n",
        "import os\n",
        "\n",
        "# Passwort (bekannt bei Absender und Empfänger)\n",
        "password = b\"MeinGeheimesPasswort\"\n",
        "\n",
        "# Salt und IV erzeugen\n",
        "salt = os.urandom(16)\n",
        "iv = os.urandom(16)\n",
        "\n",
        "# Schlüssel aus Passwort ableiten\n",
        "kdf = PBKDF2HMAC(\n",
        "    algorithm=hashes.SHA256(),\n",
        "    length=32,\n",
        "    salt=salt,\n",
        "    iterations=100000,\n",
        "    backend=default_backend()\n",
        ")\n",
        "key = kdf.derive(password)\n",
        "\n",
        "# Datei laden\n",
        "with open(file_path, \"rb\") as f:\n",
        "    plaintext = f.read()\n",
        "\n",
        "# Padding\n",
        "padded = plaintext + b\" \" * ((16 - len(plaintext) % 16) % 16)\n",
        "\n",
        "# Verschlüsseln\n",
        "cipher = Cipher(algorithms.AES(key), modes.CBC(iv), backend=default_backend())\n",
        "encryptor = cipher.encryptor()\n",
        "ciphertext = encryptor.update(padded) + encryptor.finalize()\n",
        "\n",
        "# Speicherpfad festlegen\n",
        "# colab: save_dir = os.path.expanduser(\"~/content/Krypto\")\n",
        "save_dir = os.path.expanduser(\"~/Documents/Krypto\")\n",
        "os.makedirs(save_dir, exist_ok=True)\n",
        "\n",
        "enc_file_path = os.path.join(save_dir, \"employee_data.enc\")\n",
        "\n",
        "# Salt + IV + Ciphertext zusammen speichern\n",
        "with open(enc_file_path, \"wb\") as f:\n",
        "    f.write(salt + iv + ciphertext)\n",
        "\n",
        "print(\"Datei erfolgreich mit AES verschlüsselt!\")\n",
        "print(\"Gespeichert unter:\", enc_file_path)\n"
      ]
    },
    {
      "cell_type": "markdown",
      "id": "e40542de",
      "metadata": {
        "id": "e40542de"
      },
      "source": [
        "2. Der empfangende Mitarbeiter kann die Datei mit dem gemeinsam bekannten Passwort wieder entschlüsseln, sodass ausschließlich er Zugriff auf die Inhalte hat und die Daten sicher übertragen wurden."
      ]
    },
    {
      "cell_type": "code",
      "execution_count": 18,
      "id": "ac594748",
      "metadata": {
        "id": "ac594748",
        "outputId": "890a70b3-e022-4bcd-c2e7-6020a5b33f38",
        "colab": {
          "base_uri": "https://localhost:8080/"
        }
      },
      "outputs": [
        {
          "output_type": "stream",
          "name": "stdout",
          "text": [
            "Datei erfolgreich entschlüsselt!\n",
            "Gespeichert unter: /root/Documents/Krypto/employee_data_decrypted.csv\n"
          ]
        }
      ],
      "source": [
        "from cryptography.hazmat.primitives.ciphers import Cipher, algorithms, modes\n",
        "from cryptography.hazmat.backends import default_backend\n",
        "from cryptography.hazmat.primitives.kdf.pbkdf2 import PBKDF2HMAC\n",
        "from cryptography.hazmat.primitives import hashes\n",
        "import os\n",
        "\n",
        "# Passwort (muss dasselbe sein wie beim Verschlüsseln!)\n",
        "password = b\"MeinGeheimesPasswort\"\n",
        "\n",
        "# Speicherpfad für verschlüsselte Datei (muss existieren)\n",
        "# colab: save_dir = os.path.expanduser(\"~/content/Krypto\")\n",
        "save_dir = os.path.expanduser(\"~/Documents/Krypto\")\n",
        "enc_file_path = os.path.join(save_dir, \"employee_data.enc\")\n",
        "\n",
        "# Datei laden\n",
        "with open(enc_file_path, \"rb\") as f:\n",
        "    file_data = f.read()\n",
        "\n",
        "# Salt, IV und Ciphertext extrahieren\n",
        "salt = file_data[:16]\n",
        "iv = file_data[16:32]\n",
        "ciphertext = file_data[32:]\n",
        "\n",
        "# Schlüssel aus Passwort und Salt ableiten\n",
        "kdf = PBKDF2HMAC(\n",
        "    algorithm=hashes.SHA256(),\n",
        "    length=32,\n",
        "    salt=salt,\n",
        "    iterations=100000,\n",
        "    backend=default_backend()\n",
        ")\n",
        "key = kdf.derive(password)\n",
        "\n",
        "# Entschlüsseln\n",
        "cipher = Cipher(algorithms.AES(key), modes.CBC(iv), backend=default_backend())\n",
        "decryptor = cipher.decryptor()\n",
        "decrypted = decryptor.update(ciphertext) + decryptor.finalize()\n",
        "decrypted = decrypted.rstrip(b\" \")  # Padding entfernen\n",
        "\n",
        "# Entschlüsselte Datei speichern\n",
        "dec_file_path = os.path.join(save_dir, \"employee_data_decrypted.csv\")\n",
        "with open(dec_file_path, \"wb\") as f:\n",
        "    f.write(decrypted)\n",
        "\n",
        "print(\"Datei erfolgreich entschlüsselt!\")\n",
        "print(\"Gespeichert unter:\", dec_file_path)\n"
      ]
    },
    {
      "cell_type": "markdown",
      "id": "863dc9fe",
      "metadata": {
        "id": "863dc9fe"
      },
      "source": [
        "Ergebnis: Auf diese Weise können Mitarbeiter Dokumente verschlüsselt austauschen, die nur von Personen mit dem richtigen Passwort geöffnet werden können."
      ]
    },
    {
      "cell_type": "markdown",
      "id": "e9528062",
      "metadata": {
        "id": "e9528062"
      },
      "source": [
        "## Symmetrische Verschlüsselung – Blowfish\n",
        "\n",
        "1. Es wird simuliert, wie ein Mitarbeiter eine Datei verschlüsselt und anschließend die verschlüsselte Version abspeichert."
      ]
    },
    {
      "cell_type": "code",
      "execution_count": 19,
      "id": "3268bbe1",
      "metadata": {
        "id": "3268bbe1",
        "outputId": "dbf987e7-72c9-471a-8b22-5a6f9661bee1",
        "colab": {
          "base_uri": "https://localhost:8080/"
        }
      },
      "outputs": [
        {
          "output_type": "stream",
          "name": "stdout",
          "text": [
            "Collecting pycryptodome\n",
            "  Downloading pycryptodome-3.23.0-cp37-abi3-manylinux_2_17_x86_64.manylinux2014_x86_64.whl.metadata (3.4 kB)\n",
            "Downloading pycryptodome-3.23.0-cp37-abi3-manylinux_2_17_x86_64.manylinux2014_x86_64.whl (2.3 MB)\n",
            "\u001b[2K   \u001b[90m━━━━━━━━━━━━━━━━━━━━━━━━━━━━━━━━━━━━━━━━\u001b[0m \u001b[32m2.3/2.3 MB\u001b[0m \u001b[31m20.4 MB/s\u001b[0m eta \u001b[36m0:00:00\u001b[0m\n",
            "\u001b[?25hInstalling collected packages: pycryptodome\n",
            "Successfully installed pycryptodome-3.23.0\n"
          ]
        }
      ],
      "source": [
        "!pip install pycryptodome"
      ]
    },
    {
      "cell_type": "code",
      "execution_count": 20,
      "id": "6c396ec7",
      "metadata": {
        "id": "6c396ec7",
        "outputId": "06ee8006-88e8-44c9-e009-313c6ac7c5ab",
        "colab": {
          "base_uri": "https://localhost:8080/"
        }
      },
      "outputs": [
        {
          "output_type": "stream",
          "name": "stdout",
          "text": [
            "Datei erfolgreich mit Blowfish verschlüsselt!\n",
            "Gespeichert unter: /root/Documents/Krypto/employee_data_blowfish.enc\n"
          ]
        }
      ],
      "source": [
        "from Crypto.Cipher import Blowfish\n",
        "from Crypto.Protocol.KDF import PBKDF2\n",
        "import os\n",
        "\n",
        "# Passwort (bekannt bei Absender und Empfänger)\n",
        "password = b\"MeinGeheimesPasswort\"\n",
        "\n",
        "# Salt erzeugen\n",
        "salt = os.urandom(16)\n",
        "\n",
        "# Schlüssel aus Passwort ableiten (max. 56 Byte für Blowfish)\n",
        "key = PBKDF2(password, salt, dkLen=32, count=100000)\n",
        "\n",
        "# IV erzeugen (8 Byte, weil Blowfish Blockgröße = 64 Bit)\n",
        "iv = os.urandom(8)\n",
        "\n",
        "# Datei laden\n",
        "with open(file_path, \"rb\") as f:\n",
        "    plaintext = f.read()\n",
        "\n",
        "# Padding (auf 8 Byte auffüllen)\n",
        "padded = plaintext + b\" \" * ((8 - len(plaintext) % 8) % 8)\n",
        "\n",
        "# Verschlüsseln\n",
        "cipher = Blowfish.new(key, Blowfish.MODE_CBC, iv=iv)\n",
        "ciphertext = cipher.encrypt(padded)\n",
        "\n",
        "# Speicherpfad festlegen\n",
        "# Für Colab: save_dir = \"/content/Krypto\"\n",
        "save_dir = os.path.expanduser(\"~/Documents/Krypto\")\n",
        "os.makedirs(save_dir, exist_ok=True)\n",
        "\n",
        "enc_file_path = os.path.join(save_dir, \"employee_data_blowfish.enc\")\n",
        "\n",
        "# Salt + IV + Ciphertext zusammen speichern\n",
        "with open(enc_file_path, \"wb\") as f:\n",
        "    f.write(salt + iv + ciphertext)\n",
        "\n",
        "print(\"Datei erfolgreich mit Blowfish verschlüsselt!\")\n",
        "print(\"Gespeichert unter:\", enc_file_path)"
      ]
    },
    {
      "cell_type": "markdown",
      "id": "9c598d49",
      "metadata": {
        "id": "9c598d49"
      },
      "source": [
        "2. Der empfangende Mitarbeiter kann die Datei mit dem gemeinsam bekannten Passwort wieder entschlüsseln, sodass ausschließlich er Zugriff auf die Inhalte hat und die Daten sicher übertragen wurden."
      ]
    },
    {
      "cell_type": "code",
      "execution_count": 21,
      "id": "01815380",
      "metadata": {
        "id": "01815380",
        "outputId": "0675f31a-56d6-4b7b-c3b3-48a104693fa5",
        "colab": {
          "base_uri": "https://localhost:8080/"
        }
      },
      "outputs": [
        {
          "output_type": "stream",
          "name": "stdout",
          "text": [
            "Datei erfolgreich entschlüsselt!\n",
            "Gespeichert unter: /root/Documents/Krypto/employee_data_blowfish_decrypted.csv\n"
          ]
        }
      ],
      "source": [
        "from Crypto.Cipher import Blowfish\n",
        "from Crypto.Protocol.KDF import PBKDF2\n",
        "import os\n",
        "\n",
        "# Passwort (muss dasselbe sein wie beim Verschlüsseln!)\n",
        "password = b\"MeinGeheimesPasswort\"\n",
        "\n",
        "# Speicherpfad für verschlüsselte Datei (muss existieren)\n",
        "# Colab: save_dir = \"/content/Krypto\"\n",
        "save_dir = os.path.expanduser(\"~/Documents/Krypto\")\n",
        "enc_file_path = os.path.join(save_dir, \"employee_data_blowfish.enc\")\n",
        "\n",
        "# Datei laden\n",
        "with open(enc_file_path, \"rb\") as f:\n",
        "    file_data = f.read()\n",
        "\n",
        "# Salt (16 Byte) + IV (8 Byte) + Ciphertext extrahieren\n",
        "salt = file_data[:16]\n",
        "iv = file_data[16:24]\n",
        "ciphertext = file_data[24:]\n",
        "\n",
        "# Schlüssel aus Passwort + Salt ableiten (max. 56 Byte für Blowfish)\n",
        "key = PBKDF2(password, salt, dkLen=32, count=100000)\n",
        "\n",
        "# Entschlüsseln\n",
        "cipher = Blowfish.new(key, Blowfish.MODE_CBC, iv=iv)\n",
        "decrypted = cipher.decrypt(ciphertext)\n",
        "decrypted = decrypted.rstrip(b\" \")  # Padding entfernen\n",
        "\n",
        "# Entschlüsselte Datei speichern\n",
        "dec_file_path = os.path.join(save_dir, \"employee_data_blowfish_decrypted.csv\")\n",
        "with open(dec_file_path, \"wb\") as f:\n",
        "    f.write(decrypted)\n",
        "\n",
        "print(\"Datei erfolgreich entschlüsselt!\")\n",
        "print(\"Gespeichert unter:\", dec_file_path)\n"
      ]
    },
    {
      "cell_type": "markdown",
      "id": "7f715178",
      "metadata": {
        "id": "7f715178"
      },
      "source": [
        "Ergebnis: Auf diese Weise können Mitarbeiter Dokumente verschlüsselt austauschen, die nur von Personen mit dem richtigen Passwort geöffnet werden können."
      ]
    }
  ],
  "metadata": {
    "kernelspec": {
      "display_name": ".venv",
      "language": "python",
      "name": "python3"
    },
    "language_info": {
      "codemirror_mode": {
        "name": "ipython",
        "version": 3
      },
      "file_extension": ".py",
      "mimetype": "text/x-python",
      "name": "python",
      "nbconvert_exporter": "python",
      "pygments_lexer": "ipython3",
      "version": "3.11.0"
    },
    "colab": {
      "provenance": []
    }
  },
  "nbformat": 4,
  "nbformat_minor": 5
}