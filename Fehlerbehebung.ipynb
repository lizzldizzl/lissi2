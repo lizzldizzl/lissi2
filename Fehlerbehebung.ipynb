{
  "cells": [
    {
      "cell_type": "markdown",
      "id": "20846cb7",
      "metadata": {
        "id": "20846cb7"
      },
      "source": [
        "# 📝 Einführung zur Code-Qualität: Demonstration von 5 Ruff-Regelgruppen\n",
        "\n",
        "## 💡 Was ist Ruff?\n",
        "\n",
        "Ruff ist ein extrem schneller Python-Linter und Formatter, der **Best Practices** beim Schreiben von Code durchsetzt und häufige Fehler, Ineffizienzen oder Sicherheitslücken identifiziert. Dieses Notebook demonstriert die Anwendung von fünf verschiedenen Regelgruppen von Ruff (**S, E, D, PERF**) anhand konkreter Beispiele.\n",
        "\n",
        "## Die demonstrierten Regelgruppen und Themen:\n",
        "\n",
        "1. **Security (S101, S506)**: Fokus auf die Vermeidung von Sicherheitsrisiken und unzuverlässigem Verhalten.\n",
        "2. **Formatierung/Style (E711)**: Einhaltung des PEP 8 Style Guides für bessere Lesbarkeit.\n",
        "3. **Dokumentation (D100)**: Sicherstellen einer adäquaten Code-Dokumentation.\n",
        "4. **Performance (PERF203)**: Identifizierung von Code-Stellen mit unnötigem Performance-Overhead.\n",
        "\n",
        "Für jede Regelgruppe werden folgende Schritte durchgeführt:\n",
        "- Erzeugung eines Beispiels mit **fehlerhaftem Code**\n",
        "- Erstellung einer **korrigierten Variante**\n",
        "- **Prüfung mit Ruff** und Darstellung der Ergebnisse\n",
        "\n",
        "Die Ausführung kann sowohl in **Google Colab** als auch in einem lokalen **Jupyter Notebook** erfolgen."
      ]
    },
    {
      "cell_type": "markdown",
      "id": "prep_install",
      "metadata": {
        "id": "prep_install"
      },
      "source": [
        "## 🛠️ Vorbereitung: Installation von Ruff"
      ]
    },
    {
      "cell_type": "code",
      "execution_count": 1,
      "id": "edb300f0",
      "metadata": {
        "id": "edb300f0"
      },
      "outputs": [],
      "source": [
        "# Installation von ruff (nur ausführen, wenn nicht installiert)\n",
        "!pip install ruff --quiet"
      ]
    },
    {
      "cell_type": "markdown",
      "id": "7b0206f5",
      "metadata": {
        "id": "7b0206f5"
      },
      "source": [
        "## Regelgruppe Security (S)\n",
        "---\n",
        "### Fehler: Unsichere Nutzung von `assert` (*S101*)"
      ]
    },
    {
      "cell_type": "code",
      "execution_count": 2,
      "id": "9670637c",
      "metadata": {
        "id": "9670637c",
        "outputId": "77836e88-f3b6-4bd1-a624-7905af0f0653",
        "colab": {
          "base_uri": "https://localhost:8080/"
        }
      },
      "outputs": [
        {
          "output_type": "stream",
          "name": "stdout",
          "text": [
            "\u001b[1m\u001b[91mS101 \u001b[0m\u001b[1mUse of `assert` detected\u001b[0m\n",
            " \u001b[1m\u001b[94m-->\u001b[0m s101_assert_bad.py:3:1\n",
            "  \u001b[1m\u001b[94m|\u001b[0m\n",
            "\u001b[1m\u001b[94m1 |\u001b[0m # Unsichere Nutzung von assert (kann in optimiertem Modus ignoriert werden)\n",
            "\u001b[1m\u001b[94m2 |\u001b[0m user_input = \"\"\n",
            "\u001b[1m\u001b[94m3 |\u001b[0m assert user_input != \"\", \"Input darf nicht leer sein!\"  # unsicher\n",
            "  \u001b[1m\u001b[94m|\u001b[0m \u001b[1m\u001b[91m^^^^^^\u001b[0m\n",
            "  \u001b[1m\u001b[94m|\u001b[0m\n",
            "\n",
            "Found 1 error.\n",
            "--------------------------------------------\n",
            "All checks passed!\n"
          ]
        }
      ],
      "source": [
        "# Fehlerhafte Version (unsicher)\n",
        "# Ruff erkennt S101, da 'assert' in optimiertem Modus (-O) ignoriert wird und\n",
        "# somit kritische Validierungen fehlschlagen können.\n",
        "with open(\"s101_assert_bad.py\", \"w\", encoding=\"utf-8\") as f:\n",
        "    f.write(\"\"\"# Unsichere Nutzung von assert (kann in optimiertem Modus ignoriert werden)\n",
        "user_input = \"\"\n",
        "assert user_input != \"\", \"Input darf nicht leer sein!\"  # unsicher\n",
        "\"\"\")\n",
        "\n",
        "# Ruff-Check (Security-Regeln, Auswahl S)\n",
        "!ruff check --select S s101_assert_bad.py\n",
        "\n",
        "print(\"--------------------------------------------\")\n",
        "\n",
        "# Korrigierte Version (sicher)\n",
        "# Stattdessen wird eine explizite 'if'-Bedingung mit 'raise' verwendet,\n",
        "# was immer garantiert ist.\n",
        "with open(\"s101_assert_good.py\", \"w\", encoding=\"utf-8\") as f:\n",
        "    f.write(\"\"\"# Sichere Nutzung mit if + Exception\n",
        "user_input = \"\"\n",
        "if user_input == \"\":\n",
        "    raise ValueError(\"Input darf nicht leer sein!\")  # sicher\n",
        "\"\"\")\n",
        "\n",
        "# Ruff-Check (Security-Regeln)\n",
        "!ruff check --select S s101_assert_good.py\n"
      ]
    },
    {
      "cell_type": "markdown",
      "id": "bebd6e3d",
      "metadata": {
        "id": "bebd6e3d"
      },
      "source": [
        "---\n",
        "### Fehler: Unsicheres `yaml.load()` (*S506*)"
      ]
    },
    {
      "cell_type": "code",
      "execution_count": 3,
      "id": "42bea092",
      "metadata": {
        "id": "42bea092",
        "outputId": "9d393ebf-ea6c-4d6c-c20c-ccb1da77ff02",
        "colab": {
          "base_uri": "https://localhost:8080/"
        }
      },
      "outputs": [
        {
          "output_type": "stream",
          "name": "stdout",
          "text": [
            "\u001b[1m\u001b[91mS506 \u001b[0m\u001b[1mProbable use of unsafe `yaml.load`. Allows instantiation of arbitrary objects. Consider `yaml.safe_load`.\u001b[0m\n",
            " \u001b[1m\u001b[94m-->\u001b[0m s506_yaml_bad.py:5:10\n",
            "  \u001b[1m\u001b[94m|\u001b[0m\n",
            "\u001b[1m\u001b[94m4 |\u001b[0m data = \"!!python/object/apply:os.system ['echo unsicher']\"\n",
            "\u001b[1m\u001b[94m5 |\u001b[0m result = yaml.load(data)  # unsicher\n",
            "  \u001b[1m\u001b[94m|\u001b[0m          \u001b[1m\u001b[91m^^^^^^^^^\u001b[0m\n",
            "\u001b[1m\u001b[94m6 |\u001b[0m print(result)\n",
            "  \u001b[1m\u001b[94m|\u001b[0m\n",
            "\n",
            "Found 1 error.\n",
            "--------------------------------------------\n",
            "All checks passed!\n"
          ]
        }
      ],
      "source": [
        "# Fehlerhafte Version (unsicher)\n",
        "# S506 wird ausgelöst, da 'yaml.load' die Instanziierung beliebiger Python-Objekte ermöglicht\n",
        "# und somit ein Sicherheitsrisiko (Remote Code Execution) darstellt.\n",
        "with open(\"s506_yaml_bad.py\", \"w\", encoding=\"utf-8\") as f:\n",
        "    f.write(\"\"\"# Unsichere Nutzung von yaml.load (führt zu Sicherheitsrisiken)\n",
        "import yaml\n",
        "\n",
        "data = \"!!python/object/apply:os.system ['echo unsicher']\"\n",
        "result = yaml.load(data)  # unsicher\n",
        "print(result)\n",
        "\"\"\")\n",
        "\n",
        "# Ruff-Check (Security-Regeln)\n",
        "!ruff check --select S s506_yaml_bad.py\n",
        "\n",
        "print(\"--------------------------------------------\")\n",
        "\n",
        "# Korrigierte Version (sicher)\n",
        "# Die sichere Alternative 'yaml.safe_load' wird verwendet.\n",
        "with open(\"s506_yaml_good.py\", \"w\", encoding=\"utf-8\") as f:\n",
        "    f.write(\"\"\"# Sichere Nutzung von yaml.safe_load\n",
        "import yaml\n",
        "\n",
        "data = \"a: 1\\\\nb: 2\"\n",
        "result = yaml.safe_load(data)\n",
        "print(result)\n",
        "\"\"\")\n",
        "\n",
        "# Ruff-Check (Security-Regeln)\n",
        "!ruff check --select S s506_yaml_good.py\n"
      ]
    },
    {
      "cell_type": "markdown",
      "id": "a09ec843",
      "metadata": {
        "id": "a09ec843"
      },
      "source": [
        "## Regelgruppe Formatierung / Style (E)\n",
        "---\n",
        "### Fehler: Falscher Vergleich mit `None` (*E711*)"
      ]
    },
    {
      "cell_type": "code",
      "execution_count": 4,
      "id": "d9d36414",
      "metadata": {
        "id": "d9d36414",
        "outputId": "01e56b6f-8a7d-4743-a0f6-31ac055522b4",
        "colab": {
          "base_uri": "https://localhost:8080/"
        }
      },
      "outputs": [
        {
          "output_type": "stream",
          "name": "stdout",
          "text": [
            "\u001b[1m\u001b[91mE711 \u001b[0m\u001b[1mComparison to `None` should be `cond is None`\u001b[0m\n",
            " \u001b[1m\u001b[94m-->\u001b[0m e711_bad.py:3:9\n",
            "  \u001b[1m\u001b[94m|\u001b[0m\n",
            "\u001b[1m\u001b[94m1 |\u001b[0m # Falscher Vergleich mit None\n",
            "\u001b[1m\u001b[94m2 |\u001b[0m x = None\n",
            "\u001b[1m\u001b[94m3 |\u001b[0m if x == None:\n",
            "  \u001b[1m\u001b[94m|\u001b[0m         \u001b[1m\u001b[91m^^^^\u001b[0m\n",
            "\u001b[1m\u001b[94m4 |\u001b[0m     print(\"x ist None\")\n",
            "  \u001b[1m\u001b[94m|\u001b[0m\n",
            "\u001b[1m\u001b[96mhelp\u001b[0m: \u001b[1mReplace with `cond is None`\u001b[0m\n",
            "\n",
            "Found 1 error.\n",
            "No fixes available (1 hidden fix can be enabled with the `--unsafe-fixes` option).\n",
            "--------------------------------------------\n",
            "All checks passed!\n"
          ]
        }
      ],
      "source": [
        "# Fehlerhafte Version (falscher Vergleich mit None)\n",
        "# E711 wird ausgelöst, da PEP 8 vorschreibt, 'None' immer mit 'is' oder 'is not' zu vergleichen.\n",
        "with open(\"e711_bad.py\", \"w\", encoding=\"utf-8\") as f:\n",
        "    f.write(\"\"\"# Falscher Vergleich mit None\n",
        "x = None\n",
        "if x == None:\n",
        "    print(\"x ist None\")\n",
        "\"\"\")\n",
        "\n",
        "# Ruff-Check (nur Formatierungs-/Style-Regeln, Auswahl E)\n",
        "!ruff check --select E e711_bad.py\n",
        "\n",
        "print(\"--------------------------------------------\")\n",
        "\n",
        "# Korrigierte Version (richtiger Vergleich mit None)\n",
        "with open(\"e711_good.py\", \"w\", encoding=\"utf-8\") as f:\n",
        "    f.write(\"\"\"# Richtiger Vergleich mit None\n",
        "x = None\n",
        "if x is None:\n",
        "    print(\"x ist None\")\n",
        "\"\"\")\n",
        "\n",
        "# Ruff-Check (nur Formatierungs-/Style-Regeln)\n",
        "!ruff check --select E e711_good.py\n"
      ]
    },
    {
      "cell_type": "markdown",
      "id": "33b6f04e",
      "metadata": {
        "id": "33b6f04e"
      },
      "source": [
        "## Regelgruppe Dokumentation (D)\n",
        "---\n",
        "### Fehler: Fehlender Modul-Docstring (*D100*)"
      ]
    },
    {
      "cell_type": "code",
      "execution_count": 5,
      "id": "73b5e1a6",
      "metadata": {
        "id": "73b5e1a6",
        "outputId": "2719460c-28ba-4b3b-e86d-3b885db0c1cd",
        "colab": {
          "base_uri": "https://localhost:8080/"
        }
      },
      "outputs": [
        {
          "output_type": "stream",
          "name": "stdout",
          "text": [
            "\u001b[1m\u001b[91mD100 \u001b[0m\u001b[1mMissing docstring in public module\u001b[0m\n",
            "\u001b[1m\u001b[94m-->\u001b[0m d100_bad.py:1:1\n",
            "\n",
            "Found 1 error.\n",
            "--------------------------------------------\n",
            "All checks passed!\n"
          ]
        }
      ],
      "source": [
        "# Fehlerhafte Version (kein Modul-Docstring)\n",
        "# D100 wird ausgelöst, da die Datei (das Modul) keinen Docstring in der ersten Zeile enthält.\n",
        "with open(\"d100_bad.py\", \"w\", encoding=\"utf-8\") as f:\n",
        "    f.write(\"\"\"def greet(name):\n",
        "    \\\"\\\"\\\"Gibt einen Begrüßungstext aus.\\\"\\\"\\\"\n",
        "    print(f\"Hallo {name}\")\n",
        "\"\"\")\n",
        "\n",
        "# Ruff-Check nur für D100\n",
        "!ruff check --select D100 d100_bad.py\n",
        "\n",
        "print(\"--------------------------------------------\")\n",
        "\n",
        "# Korrigierte Version (mit Modul-Docstring)\n",
        "with open(\"d100_good.py\", \"w\", encoding=\"utf-8\") as f:\n",
        "    f.write(\"\"\"\\\"\\\"\\\"Dieses Modul enthält eine Begrüßungsfunktion.\\\"\\\"\\\"\n",
        "\n",
        "def greet(name):\n",
        "    \\\"\\\"\\\"Gibt einen Begrüßungstext aus.\\\"\\\"\\\"\n",
        "    print(f\"Hallo {name}\")\n",
        "\"\"\")\n",
        "\n",
        "# Ruff-Check nur für D100\n",
        "!ruff check --select D100 d100_good.py\n"
      ]
    },
    {
      "cell_type": "markdown",
      "id": "c6dd709e",
      "metadata": {
        "id": "c6dd709e"
      },
      "source": [
        "## Regelgruppe Performance (PERF)\n",
        "---\n",
        "### Fehler: `try/except` in einer Schleife (*PERF203*)"
      ]
    },
    {
      "cell_type": "code",
      "execution_count": 6,
      "id": "fb6abe3f",
      "metadata": {
        "id": "fb6abe3f",
        "outputId": "b59a04de-1c33-406d-bfac-63f93fda7a6d",
        "colab": {
          "base_uri": "https://localhost:8080/"
        }
      },
      "outputs": [
        {
          "output_type": "stream",
          "name": "stdout",
          "text": [
            "\u001b[1m\u001b[91mPERF203 \u001b[0m\u001b[1m`try`-`except` within a loop incurs performance overhead\u001b[0m\n",
            " \u001b[1m\u001b[94m-->\u001b[0m perf203_bad.py:5:5\n",
            "  \u001b[1m\u001b[94m|\u001b[0m\n",
            "\u001b[1m\u001b[94m3 |\u001b[0m       try:\n",
            "\u001b[1m\u001b[94m4 |\u001b[0m           print(int(\"x\"))  # Fehler provozieren\n",
            "\u001b[1m\u001b[94m5 |\u001b[0m \u001b[1m\u001b[91m/\u001b[0m     except ValueError:\n",
            "\u001b[1m\u001b[94m6 |\u001b[0m \u001b[1m\u001b[91m|\u001b[0m         print(\"Fehler bei Umwandlung\")\n",
            "  \u001b[1m\u001b[94m|\u001b[0m \u001b[1m\u001b[91m|______________________________________^\u001b[0m\n",
            "  \u001b[1m\u001b[94m|\u001b[0m\n",
            "\n",
            "Found 1 error.\n",
            "--------------------------------------------\n",
            "All checks passed!\n"
          ]
        }
      ],
      "source": [
        "# Fehlerhafte Version (try/except in einer Schleife → ineffizient)\n",
        "# PERF203 wird ausgelöst, da das Exception Handling in jedem Schleifendurchlauf\n",
        "# unnötigen Overhead verursacht.\n",
        "with open(\"perf203_bad.py\", \"w\", encoding=\"utf-8\") as f:\n",
        "    f.write(\"\"\"# Schlechte Performance: try/except in der Schleife\n",
        "for i in range(5):\n",
        "    try:\n",
        "        print(int(\"x\"))  # Fehler provozieren\n",
        "    except ValueError:\n",
        "        print(\"Fehler bei Umwandlung\")\n",
        "\"\"\")\n",
        "\n",
        "# Ruff-Check für Performance-Regeln\n",
        "!ruff check --select PERF perf203_bad.py\n",
        "\n",
        "print(\"--------------------------------------------\")\n",
        "\n",
        "# Korrigierte Version (try/except um die Schleife → effizienter)\n",
        "with open(\"perf203_good.py\", \"w\", encoding=\"utf-8\") as f:\n",
        "    f.write(\"\"\"# Bessere Performance: try/except außerhalb der Schleife\n",
        "try:\n",
        "    for i in range(5):\n",
        "        print(int(\"x\"))  # Fehler provozieren\n",
        "except ValueError:\n",
        "    print(\"Fehler bei Umwandlung\")\n",
        "\"\"\")\n",
        "\n",
        "# Ruff-Check für Performance-Regeln\n",
        "!ruff check --select PERF perf203_good.py\n"
      ]
    },
    {
      "cell_type": "markdown",
      "id": "c6dd709f",
      "metadata": {
        "id": "c6dd709f"
      },
      "source": [
        "## 📈 Interpretation und Zusammenfassung\n",
        "---\n",
        "Die vorangegangenen Beispiele demonstrieren, dass **Ruff** ein unverzichtbares Werkzeug für die moderne Python-Entwicklung ist, da es weit über die grundlegende Syntaxprüfung hinausgeht.\n",
        "\n",
        "### Wichtigste Erkenntnisse:\n",
        "\n",
        "* **Sicherheit (S-Regeln)**: Die Regeln **S101** (`assert` in produktivem Code) und **S506** (`yaml.load`) helfen, kritische Sicherheitslücken zu vermeiden, die zu unzuverlässigem Verhalten oder im schlimmsten Fall zur **Remote Code Execution** führen können.\n",
        "* **Standardisierung und Lesbarkeit (E- & D-Regeln)**: Die Einhaltung von Konventionen wie **E711** (`is None`) und **D100** (Modul-Docstrings) verbessert die Lesbarkeit und **Wartbarkeit** des Codes erheblich, was essenziell für Teamarbeit ist.\n",
        "* **Effizienz (PERF-Regeln)**: Die Regel **PERF203** (Exception Handling in Schleifen) zeigt, dass Ruff auch auf **Performance-Engpässe** hinweist. Die Verlagerung des `try/except`-Blocks um die gesamte Schleife reduziert den Overhead des Exception Handlings.\n",
        "\n",
        "Zusammenfassend unterstützt Ruff Entwickler aktiv dabei, Code zu schreiben, der **sicher, performant und konventionskonform** ist, und sorgt so für eine höhere Qualität in jedem Python-Projekt."
      ]
    }
  ],
  "metadata": {
    "kernelspec": {
      "display_name": "Python 3",
      "language": "python",
      "name": "python3"
    },
    "language_info": {
      "codemirror_mode": {
        "name": "ipython",
        "version": 3
      },
      "file_extension": ".py",
      "mimetype": "text/x-python",
      "name": "python",
      "nbconvert_exporter": "python",
      "pygments_lexer": "ipython3",
      "version": "3.11.0"
    },
    "colab": {
      "provenance": []
    }
  },
  "nbformat": 4,
  "nbformat_minor": 5
}