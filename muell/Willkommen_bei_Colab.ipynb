{
  "cells": [
    {
      "cell_type": "markdown",
      "metadata": {
        "id": "view-in-github",
        "colab_type": "text"
      },
      "source": [
        "<a href=\"https://colab.research.google.com/github/lizzldizzl/lissi2/blob/main/Willkommen_bei_Colab.ipynb\" target=\"_parent\"><img src=\"https://colab.research.google.com/assets/colab-badge.svg\" alt=\"Open In Colab\"/></a>"
      ]
    },
    {
      "cell_type": "markdown",
      "source": [
        "# Neuer Abschnitt"
      ],
      "metadata": {
        "id": "QjwIjk4emmpY"
      }
    },
    {
      "cell_type": "code",
      "source": [
        "!pip install pandas"
      ],
      "metadata": {
        "id": "VRpXf_zZmuoy",
        "outputId": "de4bb160-3af0-4302-f352-447a3a286acb",
        "colab": {
          "base_uri": "https://localhost:8080/"
        }
      },
      "execution_count": 1,
      "outputs": [
        {
          "output_type": "stream",
          "name": "stdout",
          "text": [
            "Requirement already satisfied: pandas in /usr/local/lib/python3.12/dist-packages (2.2.2)\n",
            "Requirement already satisfied: numpy>=1.26.0 in /usr/local/lib/python3.12/dist-packages (from pandas) (2.0.2)\n",
            "Requirement already satisfied: python-dateutil>=2.8.2 in /usr/local/lib/python3.12/dist-packages (from pandas) (2.9.0.post0)\n",
            "Requirement already satisfied: pytz>=2020.1 in /usr/local/lib/python3.12/dist-packages (from pandas) (2025.2)\n",
            "Requirement already satisfied: tzdata>=2022.7 in /usr/local/lib/python3.12/dist-packages (from pandas) (2025.2)\n",
            "Requirement already satisfied: six>=1.5 in /usr/local/lib/python3.12/dist-packages (from python-dateutil>=2.8.2->pandas) (1.17.0)\n"
          ]
        }
      ]
    },
    {
      "cell_type": "markdown",
      "source": [
        "# **Data Governance: Prüfungen mit Kölner Phonetik**"
      ],
      "metadata": {
        "id": "Ywn1FS3pnWEg"
      }
    },
    {
      "cell_type": "markdown",
      "source": [
        "Dieses Notebook verwendet die **Kölner Phonetik**, um Zeichenketten anhand ihrer Lautähnlichkeit zu kodieren und zu vergleichen. Die Kölner Phonetik ist ein phonetischer Algorithmus, der entwickelt wurde, um Schreibvarianten oder Tippfehler in Namen und Wörtern zu erkennen und zu vereinheitlichen. Dadurch lässt sich die Zuverlässigkeit von Such- und Abgleichprozessen in Datenbeständen verbessern.\n",
        "\n",
        "Mit der **Kölner Phonetik** ist es möglich, Begriffe in eine Ziffernfolge umzuwandeln, die den phonetischen Klang abbildet. Wörter, die ähnlich ausgesprochen werden, erhalten denselben oder einen vergleichbaren Zahlencode, auch wenn sie unterschiedlich geschrieben sind. Dies erleichtert die Identifizierung von Dubletten und die Durchführung von Analysen, die auf Lautähnlichkeiten basieren.\n"
      ],
      "metadata": {
        "id": "x_laoBstnjO0"
      }
    },
    {
      "cell_type": "code",
      "source": [
        "import pandas as pd"
      ],
      "metadata": {
        "id": "BIFbxxpZneGJ"
      },
      "execution_count": 9,
      "outputs": []
    },
    {
      "cell_type": "code",
      "source": [
        "! pip install -q kaggle\n",
        "! mkdir ~/.kaggle"
      ],
      "metadata": {
        "id": "OODC28ignCqS"
      },
      "execution_count": 3,
      "outputs": []
    },
    {
      "cell_type": "code",
      "source": [
        "# ... Hier ihre JSON Cred als dictionary eingeben\n",
        "d_json_cred ={\"username\":\"lizzldizzl\",\"key\":\"7126d6d48a18986c8a8704fbb94e4a44\"}"
      ],
      "metadata": {
        "id": "S0T3BPPdnFcD"
      },
      "execution_count": 4,
      "outputs": []
    },
    {
      "cell_type": "code",
      "source": [
        "import pandas as pd\n",
        "kaggle_cred = pd.DataFrame(d_json_cred, index=[0]).to_json(\"~/.kaggle/kaggle.json\")"
      ],
      "metadata": {
        "id": "hiDt_L62nHoE"
      },
      "execution_count": 5,
      "outputs": []
    },
    {
      "cell_type": "code",
      "source": [
        "! chmod 600 ~/.kaggle/kaggle.json"
      ],
      "metadata": {
        "id": "X5BXWoJjnKhM"
      },
      "execution_count": 6,
      "outputs": []
    },
    {
      "cell_type": "code",
      "source": [
        "!kaggle datasets download -d yagunnersya/fifa-21-messy-raw-dataset-for-cleaning-exploring"
      ],
      "metadata": {
        "id": "emU--Uh3nMqr",
        "outputId": "f5d83684-611f-4d57-b800-3bbaa9469588",
        "colab": {
          "base_uri": "https://localhost:8080/"
        }
      },
      "execution_count": 14,
      "outputs": [
        {
          "output_type": "stream",
          "name": "stdout",
          "text": [
            "Dataset URL: https://www.kaggle.com/datasets/yagunnersya/fifa-21-messy-raw-dataset-for-cleaning-exploring\n",
            "License(s): CC0-1.0\n",
            "fifa-21-messy-raw-dataset-for-cleaning-exploring.zip: Skipping, found more recently modified local copy (use --force to force download)\n"
          ]
        }
      ]
    },
    {
      "cell_type": "code",
      "source": [
        "!unzip fifa-21-messy-raw-dataset-for-cleaning-exploring.zip -d ./data"
      ],
      "metadata": {
        "id": "4WZtKB9LnPaE",
        "outputId": "00fe923c-4dc9-4958-85ee-e62626c9c8d8",
        "colab": {
          "base_uri": "https://localhost:8080/"
        }
      },
      "execution_count": 15,
      "outputs": [
        {
          "output_type": "stream",
          "name": "stdout",
          "text": [
            "Archive:  fifa-21-messy-raw-dataset-for-cleaning-exploring.zip\n",
            "replace ./data/fifa21 raw data v2.csv? [y]es, [n]o, [A]ll, [N]one, [r]ename: n\n",
            "replace ./data/fifa21_raw_data.csv? [y]es, [n]o, [A]ll, [N]one, [r]ename: no\n"
          ]
        }
      ]
    },
    {
      "cell_type": "code",
      "source": [
        "CSV_PATH = \"./data/fifa21 raw data v2.csv\"\n",
        "\n",
        "# Einlesen des Datensatzes\n",
        "df = pd.read_csv(CSV_PATH)\n",
        "\n",
        "# Spalten definieren\n",
        "NAME_COL = \"LongName\"        # Spalte mit Spielernamen\n",
        "ADDRESS_COL = \"Nationality\"  # Spalte mit Nationalität / Land\n",
        "\n",
        "print(df[[NAME_COL, ADDRESS_COL]].head())\n"
      ],
      "metadata": {
        "id": "01qRZjLLoOJN",
        "outputId": "d4185de2-e032-4115-f577-a8ae33f0483e",
        "colab": {
          "base_uri": "https://localhost:8080/"
        }
      },
      "execution_count": 18,
      "outputs": [
        {
          "output_type": "stream",
          "name": "stdout",
          "text": [
            "                       LongName Nationality\n",
            "0                  Lionel Messi   Argentina\n",
            "1  C. Ronaldo dos Santos Aveiro    Portugal\n",
            "2                     Jan Oblak    Slovenia\n",
            "3               Kevin De Bruyne     Belgium\n",
            "4    Neymar da Silva Santos Jr.      Brazil\n"
          ]
        },
        {
          "output_type": "stream",
          "name": "stderr",
          "text": [
            "/tmp/ipython-input-3843368696.py:4: DtypeWarning: Columns (76) have mixed types. Specify dtype option on import or set low_memory=False.\n",
            "  df = pd.read_csv(CSV_PATH)\n"
          ]
        }
      ]
    },
    {
      "cell_type": "code",
      "source": [
        "# %%\n",
        "import pandas as pd\n",
        "\n",
        "def koelner_phonetik(word: str) -> str:\n",
        "    \"\"\"Wandelt ein deutsches Wort in den Kölner-Phonetik-Code um.\"\"\"\n",
        "    word = str(word).upper()\n",
        "    mapping = {\n",
        "        \"A\": 0, \"E\": 0, \"I\": 0, \"J\": 0, \"O\": 0, \"U\": 0, \"Y\": 0,\n",
        "        \"H\": None,\n",
        "        \"B\": 1, \"P\": 1,\n",
        "        \"D\": 2, \"T\": 2,\n",
        "        \"F\": 3, \"V\": 3, \"W\": 3,\n",
        "        \"G\": 4, \"K\": 4, \"Q\": 4,\n",
        "        \"C\": None,  # Spezialfall\n",
        "        \"X\": None,  # Spezialfall\n",
        "        \"L\": 5,\n",
        "        \"M\": 6, \"N\": 6,\n",
        "        \"R\": 7,\n",
        "        \"S\": 8, \"Z\": 8\n",
        "    }\n",
        "\n",
        "    def handle_special_cases(w):\n",
        "        w = w.replace(\"X\", \"KS\")\n",
        "        w = w.replace(\"PH\", \"F\")\n",
        "        return w\n",
        "\n",
        "    word = handle_special_cases(word)\n",
        "\n",
        "    result = []\n",
        "    for i, char in enumerate(word):\n",
        "        if char == \"C\":\n",
        "            if i == 0:\n",
        "                if word[i+1:i+2] in \"AHKOQUX\":\n",
        "                    result.append(4)\n",
        "                else:\n",
        "                    result.append(8)\n",
        "            else:\n",
        "                if word[i-1:i] in \"SZ\":\n",
        "                    result.append(8)\n",
        "                elif word[i+1:i+2] in \"AHKOQUX\":\n",
        "                    result.append(4)\n",
        "                else:\n",
        "                    result.append(8)\n",
        "        elif char in mapping and mapping[char] is not None:\n",
        "            result.append(mapping[char])\n",
        "        elif char in mapping and mapping[char] is None:\n",
        "            result.append(None)\n",
        "\n",
        "    cleaned = []\n",
        "    prev = None\n",
        "    for num in result:\n",
        "        if num != prev and num != 0:\n",
        "            cleaned.append(num)\n",
        "        prev = num\n",
        "\n",
        "    return \"\".join(map(str, cleaned))"
      ],
      "metadata": {
        "id": "dgzjZnIWpYEj"
      },
      "execution_count": 19,
      "outputs": []
    },
    {
      "cell_type": "code",
      "source": [
        "def find_similar_but_not_identical(df, name_col, address_col):\n",
        "    df[\"name_code\"] = df[name_col].astype(str).apply(koelner_phonetik)\n",
        "    df[\"address_code\"] = df[address_col].astype(str).apply(koelner_phonetik)\n",
        "\n",
        "    matches = []\n",
        "    seen_pairs = set()  # ← HINZUGEFÜGT\n",
        "    grouped = df.groupby([\"name_code\", \"address_code\"])\n",
        "\n",
        "    for _, group in grouped:\n",
        "        if len(group) > 1:\n",
        "            for i in range(len(group)):\n",
        "                for j in range(i+1, len(group)):\n",
        "                    name1, addr1 = group.iloc[i][name_col], group.iloc[i][address_col]\n",
        "                    name2, addr2 = group.iloc[j][name_col], group.iloc[j][address_col]\n",
        "\n",
        "                    # Eindeutiges Paar erzeugen (alphabetisch sortieren)\n",
        "                    pair = tuple(sorted([(name1, addr1), (name2, addr2)]))\n",
        "\n",
        "                    if pair in seen_pairs:\n",
        "                        continue\n",
        "                    seen_pairs.add(pair)\n",
        "\n",
        "                    if name1 != name2 or addr1 != addr2:\n",
        "                        matches.append((name1, name2, addr1, addr2))\n",
        "\n",
        "    return matches\n"
      ],
      "metadata": {
        "id": "C3gSHTnopa6Z"
      },
      "execution_count": 21,
      "outputs": []
    },
    {
      "cell_type": "code",
      "source": [
        "\n",
        "\n",
        "# Suche nach ähnlichen, aber nicht identischen Einträgen\n",
        "results = find_similar_but_not_identical(df, NAME_COL, ADDRESS_COL)\n",
        "\n",
        "# Ausgabe\n",
        "if results:\n",
        "    print(\"Ähnliche, aber nicht identische Einträge gefunden:\")\n",
        "    for n1, n2, a1, a2 in results:\n",
        "        print(f\"- {n1} / {n2}  |  {a1} / {a2}\")\n",
        "    print(f\"\\nGefundene Paare: {len(results)}\")\n",
        "else:\n",
        "    print(\"Keine ähnlichen, aber nicht identischen Einträge gefunden.\")\n"
      ],
      "metadata": {
        "id": "sy7loekMpeg7",
        "outputId": "69e51ae8-1ca1-4672-9b74-7136d9b0186c",
        "colab": {
          "base_uri": "https://localhost:8080/"
        }
      },
      "execution_count": 22,
      "outputs": [
        {
          "output_type": "stream",
          "name": "stdout",
          "text": [
            "Ähnliche, aber nicht identische Einträge gefunden:\n",
            "- Boubacar Kamara / Aboubakar Kamara  |  France / France\n",
            "- Abdulrahman Al Obaid / Abdulrahman Al Obud  |  Saudi Arabia / Saudi Arabia\n",
            "- Abdullah Al Yousef / Abdullah Al Yousif  |  Saudi Arabia / Saudi Arabia\n",
            "- Joe Pigott / Joe Piggott  |  England / England\n",
            "- Paul Coutts / Paul Caddis  |  Scotland / Scotland\n",
            "- Peng Wang / Yaopeng Wang  |  China PR / China PR\n",
            "- Peng Wang / Huapeng Wang  |  China PR / China PR\n",
            "- Yaopeng Wang / Huapeng Wang  |  China PR / China PR\n",
            "- Ben Garratt / Ben Garrity  |  England / England\n",
            "- Benjamin Mendy / Benjamin Jeannot  |  France / France\n",
            "- Ban Suk Oh / Beom Seok Oh  |  Korea Republic / Korea Republic\n",
            "- Ibrahima Konaté / Brahim Konaté  |  France / France\n",
            "- Ibrahim Cissé / Ibrahima Cissé  |  France / France\n",
            "- Ibrahim Sissoko / Ibrahima Sissoko  |  France / France\n",
            "- Dabao Yu / Taoyu Piao  |  China PR / China PR\n",
            "- Tobias Karlsson / Tobias Carlsson  |  Sweden / Sweden\n",
            "- Defu Ma / Da Wen  |  China PR / China PR\n",
            "- Taiyo Koga / Takuya Aoki  |  Japan / Japan\n",
            "- Taiyo Koga / Yuta Koike  |  Japan / Japan\n",
            "- Taiyo Koga / Yuta Goke  |  Japan / Japan\n",
            "- Takuya Aoki / Yuta Koike  |  Japan / Japan\n",
            "- Takuya Aoki / Yuta Goke  |  Japan / Japan\n",
            "- Yuta Koike / Yuta Goke  |  Japan / Japan\n",
            "- Daiki Miya / Yuta Kamiya  |  Japan / Japan\n",
            "- Togo Umeda / Taiki Yamada  |  Japan / Japan\n",
            "- Yuto Uchida / Daiki Hotta  |  Japan / Japan\n",
            "- Yuto Uchida / Taiga Hata  |  Japan / Japan\n",
            "- Daiki Hotta / Taiga Hata  |  Japan / Japan\n",
            "- Tyler Burey / Taylor Perry  |  England / England\n",
            "- Adam May / Joe Dunne  |  England / England\n",
            "- Tom Pettersson / Adam Petersson  |  Sweden / Sweden\n",
            "- Tom Parkes / Adam Parkes  |  England / England\n",
            "- Tammy Abraham / Timmy Abraham  |  England / England\n",
            "- Tom Walker / Aiden Walker  |  England / England\n",
            "- Danny Ward / Dan Ward  |  England / England\n",
            "- Hayden White / Tom White  |  England / England\n",
            "- Teng Yi / Tao Jiang  |  China PR / China PR\n",
            "- Teng Yi / Tianyu Qi  |  China PR / China PR\n",
            "- Teng Yi / Tianyu Guo  |  China PR / China PR\n",
            "- Teng Yi / Tianyi Qiu  |  China PR / China PR\n",
            "- Teng Yi / Tianyi Gao  |  China PR / China PR\n",
            "- Teng Yi / Dong Cao  |  China PR / China PR\n",
            "- Tao Jiang / Tianyu Qi  |  China PR / China PR\n",
            "- Tao Jiang / Tianyu Guo  |  China PR / China PR\n",
            "- Tao Jiang / Tianyi Qiu  |  China PR / China PR\n",
            "- Tao Jiang / Tianyi Gao  |  China PR / China PR\n",
            "- Tao Jiang / Dong Cao  |  China PR / China PR\n",
            "- Tianyu Qi / Tianyu Guo  |  China PR / China PR\n",
            "- Tianyu Qi / Tianyi Qiu  |  China PR / China PR\n",
            "- Tianyu Qi / Tianyi Gao  |  China PR / China PR\n",
            "- Tianyu Qi / Dong Cao  |  China PR / China PR\n",
            "- Tianyu Guo / Tianyi Qiu  |  China PR / China PR\n",
            "- Tianyu Guo / Tianyi Gao  |  China PR / China PR\n",
            "- Tianyu Guo / Dong Cao  |  China PR / China PR\n",
            "- Tianyi Qiu / Tianyi Gao  |  China PR / China PR\n",
            "- Tianyi Qiu / Dong Cao  |  China PR / China PR\n",
            "- Tianyi Gao / Dong Cao  |  China PR / China PR\n",
            "- Tong Wang / Dong Wang  |  China PR / China PR\n",
            "- Tom Mickel / Timm Golley  |  Germany / Germany\n",
            "- Hayato Nakama / Yuta Nakayama  |  Japan / Japan\n",
            "- Hayato Nakama / Tomoya Ugajin  |  Japan / Japan\n",
            "- Hayato Nakama / Tomoki Imai  |  Japan / Japan\n",
            "- Yuta Nakayama / Tomoya Ugajin  |  Japan / Japan\n",
            "- Yuta Nakayama / Tomoki Imai  |  Japan / Japan\n",
            "- Tomoya Ugajin / Tomoki Imai  |  Japan / Japan\n",
            "- Dong Geon No / Tae Youn Kim  |  Korea Republic / Korea Republic\n",
            "- Toni Kroos / Tom Krauß  |  Germany / Germany\n",
            "- Tim Melia / Aidan Liu  |  United States / United States\n",
            "- Tom Müller / Tim Möller  |  Germany / Germany\n",
            "- Tom Ince / Dan Jones  |  England / England\n",
            "- Tommy Rowe / Danny Rowe  |  England / England\n",
            "- Jodi Jones / Dan Moss  |  England / England\n",
            "- Dan Sweeney / Jayden Sweeney  |  England / England\n",
            "- Tim Skarke / Dennis Gorka  |  Germany / Germany\n",
            "- Adam Smith / Tommy Smith  |  England / England\n",
            "- Deian Sorescu / Denis Rusu  |  Romania / Romania\n",
            "- Tomáš Holeš / Tomáš Holý  |  Czech Republic / Czech Republic\n",
            "- Adam Hložek / Adam Hloušek  |  Czech Republic / Czech Republic\n",
            "- Yuito Suzuki / Daiju Sasaki  |  Japan / Japan\n",
            "- Wei Wang / Fei Wang  |  China PR / China PR\n",
            "- Wei Guo / Wei Qiao  |  China PR / China PR\n",
            "- Facundo García / Facundo Garcés  |  Argentina / Argentina\n",
            "- Facundo Lando / Facundo Almada  |  Argentina / Argentina\n",
            "- Phil Jones / Joe Williams  |  England / England\n",
            "- Florian Pick / Florian Baak  |  Germany / Germany\n",
            "- Yifeng Zang / Haiwang Song  |  China PR / China PR\n",
            "- Yuya Kubo / Yuki Abe  |  Japan / Japan\n",
            "- Jakub Wrąbel / Jakub Wróbel  |  Poland / Poland\n",
            "- Jack Byrne / Jake O'Brien  |  Republic of Ireland / Republic of Ireland\n",
            "- Keita Nakamura / Keito Nakamura  |  Japan / Japan\n",
            "- Jae Kwon Lee / Ki Woon Lee  |  Korea Republic / Korea Republic\n",
            "- Gavin Massey / Jack Evans  |  England / England\n",
            "- Kyo Won Han / Eui Kwon Han  |  Korea Republic / Korea Republic\n",
            "- Kei Koizumi / Yuki Kusano  |  Japan / Japan\n",
            "- Callum Brittain / Callum Burton  |  England / England\n",
            "- Kal Naismith / Callum Smith  |  Scotland / Scotland\n",
            "- Kenta Ito / Genta Ito  |  Japan / Japan\n",
            "- Ken Matsubara / Ko Matsubara  |  Japan / Japan\n",
            "- Huikang Cai / Kuo Yang  |  China PR / China PR\n",
            "- Jack Young / Jake Young  |  England / England\n",
            "- Gang Wang / Gang Feng  |  China PR / China PR\n",
            "- Qiang Jin / Congyao Yin  |  China PR / China PR\n",
            "- Guoming Wang / Qiuming Wang  |  China PR / China PR\n",
            "- Connor Mahoney / Cameron John  |  England / England\n",
            "- Ignacio Pallas / Joaquín Zeballos  |  Uruguay / Uruguay\n",
            "- Gen Shoji / Koji Miyoshi  |  Japan / Japan\n",
            "- George Maris / George Nurse  |  England / England\n",
            "- Carlos Gruezo / Carlos Garcés  |  Ecuador / Ecuador\n",
            "- Jack Grimmer / Jack Armer  |  Scotland / Scotland\n",
            "- Jack Stephens / Jack Stevens  |  England / England\n",
            "- Agustín Ocampo / Agustín Canobbio  |  Uruguay / Uruguay\n",
            "- Gastón Gómez / Gastón Comas  |  Argentina / Argentina\n",
            "- Gastón Olveira / Agustín Alfaro  |  Uruguay / Uruguay\n",
            "- Agustín Rossi / Agustín Urzi  |  Argentina / Argentina\n",
            "- Kosuke Ota / Yukiya Sugita  |  Japan / Japan\n",
            "- Keisuke Osako / Keisuke Saka  |  Japan / Japan\n",
            "- Kesen Ai / Ke Sun  |  China PR / China PR\n",
            "- Kesen Ai / Kai Sun  |  China PR / China PR\n",
            "- Ke Sun / Kai Sun  |  China PR / China PR\n",
            "- Xiang Ji / Xu Yang  |  China PR / China PR\n",
            "- Xiang Ji / Xuan Cao  |  China PR / China PR\n",
            "- Xiang Ji / Yu Xing  |  China PR / China PR\n",
            "- Xiang Ji / Xiang Gao  |  China PR / China PR\n",
            "- Xu Yang / Xuan Cao  |  China PR / China PR\n",
            "- Xu Yang / Yu Xing  |  China PR / China PR\n",
            "- Xu Yang / Xiang Gao  |  China PR / China PR\n",
            "- Xuan Cao / Yu Xing  |  China PR / China PR\n",
            "- Xuan Cao / Xiang Gao  |  China PR / China PR\n",
            "- Yu Xing / Xiang Gao  |  China PR / China PR\n",
            "- Chao Gu / Chugui Ye  |  China PR / China PR\n",
            "- Hao Chen / Jiaqi Han  |  China PR / China PR\n",
            "- Hao Chen / Jie Chen  |  China PR / China PR\n",
            "- Jiaqi Han / Jie Chen  |  China PR / China PR\n",
            "- Chongqiu Ye / Hui Cheng  |  China PR / China PR\n",
            "- Chung Yong Lee / Chang Yong Lee  |  Korea Republic / Korea Republic\n",
            "- Chong Zhang / Cheng Zhang  |  China PR / China PR\n",
            "- Yi Liu / Hao Luo  |  China PR / China PR\n",
            "- Yi Liu / Yi Luo  |  China PR / China PR\n",
            "- Yi Liu / Yue Liu  |  China PR / China PR\n",
            "- Hao Luo / Yi Luo  |  China PR / China PR\n",
            "- Hao Luo / Yue Liu  |  China PR / China PR\n",
            "- Yi Luo / Yue Liu  |  China PR / China PR\n",
            "- Álvaro García / Álvaro Gracés  |  Uruguay / Uruguay\n",
            "- Luca Mora / Luca Moro  |  Italy / Italy\n",
            "- Luke Amos / Luke James  |  England / England\n",
            "- Alexander Hack / Alexander Höck  |  Germany / Germany\n",
            "- Lei Li / Le Liu  |  China PR / China PR\n",
            "- Leandro Maciel / Alejandro Maciel  |  Argentina / Argentina\n",
            "- Lin Gao / Liyu Yang  |  China PR / China PR\n",
            "- Lin Gao / Lin Cui  |  China PR / China PR\n",
            "- Liyu Yang / Lin Cui  |  China PR / China PR\n",
            "- Julian Quiñones / Yulian Gómez  |  Colombia / Colombia\n",
            "- Lionel Messi / Julián Illanes  |  Argentina / Argentina\n",
            "- Luis Congo / Luis Cangá  |  Ecuador / Ecuador\n",
            "- Luis Montes / Luis Mendoza  |  Mexico / Mexico\n",
            "- Ellis Simms / Louis Jones  |  England / England\n",
            "- Ali Yasar / Elias Sierra  |  Belgium / Belgium\n",
            "- Luis Rodríguez / Luz Rodríguez  |  Mexico / Mexico\n",
            "- Ye Yuan / Haoyu Mao  |  China PR / China PR\n",
            "- Juan Brunetta / Juan Brunet  |  Argentina / Argentina\n",
            "- Matty Daly / Amadou Diallo  |  England / England\n",
            "- Hamed Al Ghamdi / Majed Al Ghamdi  |  Saudi Arabia / Saudi Arabia\n",
            "- Yunding Cao / Miao Tang  |  China PR / China PR\n",
            "- Umut Meraş / Umut Nayir  |  Turkey / Turkey\n",
            "- Mo Adams / Matty James  |  England / England\n",
            "- Mo Adams / Matt Macey  |  England / England\n",
            "- Matty James / Matt Macey  |  England / England\n",
            "- Andreas Christensen / Anders Christiansen  |  Denmark / Denmark\n",
            "- Matías Caruzzo / Matías García  |  Argentina / Argentina\n",
            "- Matthew Acton / Matthew Sutton  |  Australia / Australia\n",
            "- Jonathan Bamba / Jonathan Bumbu  |  France / France\n",
            "- Jonathan Ikoné / Nathan Ngoumou  |  France / France\n",
            "- Mathieu Maertens / Jenthe Mertens  |  Belgium / Belgium\n",
            "- Hyeon Woo Jo / Jin Woo Jo  |  Korea Republic / Korea Republic\n",
            "- Yan Wu / Huan Fu  |  China PR / China PR\n",
            "- Jin Feng / Haijian Wang  |  China PR / China PR\n",
            "- Yang Yu / Yu Yang  |  China PR / China PR\n",
            "- Yang Yu / Jing Guo  |  China PR / China PR\n",
            "- Yu Yang / Jing Guo  |  China PR / China PR\n",
            "- Nicky Devlin / Mikey Devlin  |  Scotland / Scotland\n",
            "- Yong Woo Park / Jong Woo Park  |  Korea Republic / Korea Republic\n",
            "- Young Gwon Kim / Young Kwang Kim  |  Korea Republic / Korea Republic\n",
            "- Jungya Kim / Jin Gyu Kim  |  Korea Republic / Korea Republic\n",
            "- Yong Lee / Yeong Jae Lee  |  Korea Republic / Korea Republic\n",
            "- Yong Lee / Ju Yong Lee  |  Korea Republic / Korea Republic\n",
            "- Yong Lee / Ji Yong Lee  |  Korea Republic / Korea Republic\n",
            "- Yeong Jae Lee / Ju Yong Lee  |  Korea Republic / Korea Republic\n",
            "- Yeong Jae Lee / Ji Yong Lee  |  Korea Republic / Korea Republic\n",
            "- Ju Yong Lee / Ji Yong Lee  |  Korea Republic / Korea Republic\n",
            "- Yang Liu / Ang Li  |  China PR / China PR\n",
            "- Yang Liu / Hang Li  |  China PR / China PR\n",
            "- Yang Liu / Jing Luo  |  China PR / China PR\n",
            "- Yang Liu / Jing Liu  |  China PR / China PR\n",
            "- Ang Li / Hang Li  |  China PR / China PR\n",
            "- Ang Li / Jing Luo  |  China PR / China PR\n",
            "- Ang Li / Jing Liu  |  China PR / China PR\n",
            "- Hang Li / Jing Luo  |  China PR / China PR\n",
            "- Hang Li / Jing Liu  |  China PR / China PR\n",
            "- Jing Luo / Jing Liu  |  China PR / China PR\n",
            "- Nicolai Poulsen / Nicolai Boilesen  |  Denmark / Denmark\n",
            "- Nikolai Laursen / Nicolai Larsen  |  Denmark / Denmark\n",
            "- Jin Ya Kim / Ho Jun Kim  |  Korea Republic / Korea Republic\n",
            "- Jin Ya Kim / Hyun Kim  |  Korea Republic / Korea Republic\n",
            "- Jin Ya Kim / Jong Gyu Yoon  |  Korea Republic / Korea Republic\n",
            "- Ho Jun Kim / Hyun Kim  |  Korea Republic / Korea Republic\n",
            "- Ho Jun Kim / Jong Gyu Yoon  |  Korea Republic / Korea Republic\n",
            "- Hyun Kim / Jong Gyu Yoon  |  Korea Republic / Korea Republic\n",
            "- Naoki Maeda / Naoki Yamada  |  Japan / Japan\n",
            "- Hyeon Mu Kang / Ho Jeong Jeong  |  Korea Republic / Korea Republic\n",
            "- Hyeon Mu Kang / Ji Yong Jeong  |  Korea Republic / Korea Republic\n",
            "- Ho Jeong Jeong / Ji Yong Jeong  |  Korea Republic / Korea Republic\n",
            "- Young Joon Choi / Young Eun Choi  |  Korea Republic / Korea Republic\n",
            "- Young Joon Choi / Young Jun Goh  |  Korea Republic / Korea Republic\n",
            "- Young Eun Choi / Young Jun Goh  |  Korea Republic / Korea Republic\n",
            "- Mike Jones / Nico Jones  |  England / England\n",
            "- Jeong Su Park / Jung Soo Park  |  Korea Republic / Korea Republic\n",
            "- Maximilian Bauer / Maximilian Beier  |  Germany / Germany\n",
            "- Hyun Gyu Oh / Jae Young Choi  |  Korea Republic / Korea Republic\n",
            "- Yong Hwan Kim / Jung Hwan Kim  |  Korea Republic / Korea Republic\n",
            "- Jung Ho Kim / Jong Hyeok Jeon  |  Korea Republic / Korea Republic\n",
            "- Michael Liendl / Michael Madl  |  Austria / Austria\n",
            "- Yong Ho Yun / Young Kyu Ahn  |  Korea Republic / Korea Republic\n",
            "- Jun Lee / Ho In Lee  |  Korea Republic / Korea Republic\n",
            "- Yun Liu / Yuanyi Li  |  China PR / China PR\n",
            "- Yun Liu / Huan Liu  |  China PR / China PR\n",
            "- Yuanyi Li / Huan Liu  |  China PR / China PR\n",
            "- Miloš Jojić / Miloš Ćoćić  |  Serbia / Serbia\n",
            "- Jamie Allen / Jon Nolan  |  England / England\n",
            "- Neluț Roșu / Ionuț Larie  |  Romania / Romania\n",
            "- Min Tae Kim / Min Duk Kim  |  Korea Republic / Korea Republic\n",
            "- Myung Jae Lee / Min Gi Lee  |  Korea Republic / Korea Republic\n",
            "- Min Jae Kim / Ho Nam Kim  |  Korea Republic / Korea Republic\n",
            "- Ming'an Cui / Yiming Yang  |  China PR / China PR\n",
            "- Emmanuel Mas / Emanuel Insúa  |  Argentina / Argentina\n",
            "- Joon Jae Myeong / Jun Yeon Jeong  |  Korea Republic / Korea Republic\n",
            "- Joon Jae Myeong / Han Min Jeong  |  Korea Republic / Korea Republic\n",
            "- Joon Jae Myeong / Yu Min Yang  |  Korea Republic / Korea Republic\n",
            "- Jun Yeon Jeong / Han Min Jeong  |  Korea Republic / Korea Republic\n",
            "- Jun Yeon Jeong / Yu Min Yang  |  Korea Republic / Korea Republic\n",
            "- Han Min Jeong / Yu Min Yang  |  Korea Republic / Korea Republic\n",
            "- Min Hyeok Kim / Min Ho Kim  |  Korea Republic / Korea Republic\n",
            "- Marco Fossati / Marco Festa  |  Italy / Italy\n",
            "- Mirko Marić / Marko Marić  |  Croatia / Croatia\n",
            "- Marko Raguž / Emir Karic  |  Austria / Austria\n",
            "- Júnior Moreno / Junior Moreno  |  Venezuela / Venezuela\n",
            "- Junior Arias / Mario Risso  |  Uruguay / Uruguay\n",
            "- Mustafa Akbaş / Mustafa Kapı  |  Turkey / Turkey\n",
            "- Mustafa Yumlu / Mustafa Çeçenoğlu  |  Turkey / Turkey\n",
            "- James Daly / James Tilley  |  England / England\n",
            "- Moussa Djenepo / Moussa Doumbia  |  Mali / Mali\n",
            "- Hyun Sik Lee / Joon Suk Lee  |  Korea Republic / Korea Republic\n",
            "- Jin Su Kim / Yeon Soo Kim  |  Korea Republic / Korea Republic\n",
            "- In Seong Kim / Hyun Sung Kim  |  Korea Republic / Korea Republic\n",
            "- Enes Ünal / Yunus Mallı  |  Turkey / Turkey\n",
            "- Yun Zhou / Yajun Zhou  |  China PR / China PR\n",
            "- Yuan Zhang / Yan Zhang  |  China PR / China PR\n",
            "- Mohamed Diaby / Mohamed Bayo  |  France / France\n",
            "- Jin Hyeon Kim / Joon Hyeong Kim  |  Korea Republic / Korea Republic\n",
            "- Jin Ho Sin / Jun Ho Son  |  Korea Republic / Korea Republic\n",
            "- Hiroto Goya / Ryu Takao  |  Japan / Japan\n",
            "- Hiroto Goya / Ryota Aoki  |  Japan / Japan\n",
            "- Ryu Takao / Ryota Aoki  |  Japan / Japan\n",
            "- Jordan Marié / Riad Nouri  |  France / France\n",
            "- Jordan Clark / Jordan Clarke  |  England / England\n",
            "- Hiroyuki Abe / Hiroki Abe  |  Japan / Japan\n",
            "- Érick Gutiérrez / Érick Torres  |  Mexico / Mexico\n",
            "- Orkun Kökçü / Erkan Kaş  |  Turkey / Turkey\n",
            "- Jairo González / Jair González  |  Mexico / Mexico\n",
            "- Jorge Sánchez / Erick Sánchez  |  Mexico / Mexico\n",
            "- Jérémy Pied / Rayane Aabid  |  France / France\n",
            "- Ryan Edwards / Ronnie Edwards  |  England / England\n",
            "- Rei Matsumoto / Hiroya Matsumoto  |  Japan / Japan\n",
            "- Aaron Connolly / Ryan Connolly  |  Republic of Ireland / Republic of Ireland\n",
            "- Yerry Mina / Yair Mena  |  Colombia / Colombia\n",
            "- Romain Perraud / Romain Bayard  |  France / France\n",
            "- Aaron Hayden / Remeao Hutton  |  England / England\n",
            "- Ryosuke Maeda / Ryuji Sugimoto  |  Japan / Japan\n",
            "- Sebastian Rudy / Sebastian Rode  |  Germany / Germany\n",
            "- Stevie May / Scott Tiffoney  |  Scotland / Scotland\n",
            "- Scott Malone / Scott Moloney  |  England / England\n",
            "- Izet Hajrović / Sead Hajrović  |  Bosnia Herzegovina / Bosnia Herzegovina\n",
            "- Seigo Kobayashi / Yusuke Kobayashi  |  Japan / Japan\n",
            "- José Sagredo / Jesús Sagredo  |  Bolivia / Bolivia\n",
            "- Oğuz Ceylan / Selim Ay  |  Turkey / Turkey\n",
            "- Yassine Bounou / Yacine Bammou  |  Morocco / Morocco\n",
            "- Sam Walker / Zain Walker  |  England / England\n",
            "- Sam Winnall / Sam Finley  |  England / England\n",
            "- Seung Won Jeong / Seong Won Jang  |  Korea Republic / Korea Republic\n",
            "- Seung Gyu Kim / Sung Ju Kim  |  Korea Republic / Korea Republic\n",
            "- Jae Sung Lee / Seung Gi Lee  |  Korea Republic / Korea Republic\n",
            "- Jae Sung Lee / Sang Ki Lee  |  Korea Republic / Korea Republic\n",
            "- Jae Sung Lee / Ji Seung Lee  |  Korea Republic / Korea Republic\n",
            "- Jae Sung Lee / Seung Jae Lee  |  Korea Republic / Korea Republic\n",
            "- Seung Gi Lee / Sang Ki Lee  |  Korea Republic / Korea Republic\n",
            "- Seung Gi Lee / Ji Seung Lee  |  Korea Republic / Korea Republic\n",
            "- Seung Gi Lee / Seung Jae Lee  |  Korea Republic / Korea Republic\n",
            "- Sang Ki Lee / Ji Seung Lee  |  Korea Republic / Korea Republic\n",
            "- Sang Ki Lee / Seung Jae Lee  |  Korea Republic / Korea Republic\n",
            "- Ji Seung Lee / Seung Jae Lee  |  Korea Republic / Korea Republic\n",
            "- Sung Jin Jo / Sung Eun Na  |  Korea Republic / Korea Republic\n",
            "- Sung Jin Jo / Ju Sung Kim  |  Korea Republic / Korea Republic\n",
            "- Sung Eun Na / Ju Sung Kim  |  Korea Republic / Korea Republic\n",
            "- Sung Yueng Ki / Sung Yun Gu  |  Korea Republic / Korea Republic\n",
            "- Sung Joon Kim / Seung Joon Kim  |  Korea Republic / Korea Republic\n",
            "- Seung Mo Lee / Sang Jun Lee  |  Korea Republic / Korea Republic\n",
            "- Seung Mo Lee / Sung Yoon Lee  |  Korea Republic / Korea Republic\n",
            "- Sang Jun Lee / Sung Yoon Lee  |  Korea Republic / Korea Republic\n",
            "- Sang Min Yang / Seong Min Jeong  |  Korea Republic / Korea Republic\n",
            "- Sang Ho Na / Sang Hun Yu  |  Korea Republic / Korea Republic\n",
            "- Sang Ho Na / Seung Gyu Han  |  Korea Republic / Korea Republic\n",
            "- Sang Ho Na / Sang Hoon Ma  |  Korea Republic / Korea Republic\n",
            "- Sang Hun Yu / Seung Gyu Han  |  Korea Republic / Korea Republic\n",
            "- Sang Hun Yu / Sang Hoon Ma  |  Korea Republic / Korea Republic\n",
            "- Seung Gyu Han / Sang Hoon Ma  |  Korea Republic / Korea Republic\n",
            "- Ismaël Diomandé / Sinaly Diomande  |  Ivory Coast / Ivory Coast\n",
            "- Jason Lowe / Jason Law  |  England / England\n",
            "- Sam Long / Sam Ling  |  England / England\n",
            "- Sammy Ameobi / Sam Nombe  |  England / England\n",
            "- San Jung / Se Jin Myung  |  Korea Republic / Korea Republic\n",
            "- Seon Yeong Im / Sun Min Kim  |  Korea Republic / Korea Republic\n",
            "- Ousoumane Camara / Ousmane Camara  |  France / France\n",
            "- Jeison Murillo / Jesús Murillo  |  Colombia / Colombia\n",
            "- Jesús Meza / Josua Mejías  |  Venezuela / Venezuela\n",
            "- Ciarán Coll / Ciaran Kelly  |  Republic of Ireland / Republic of Ireland\n",
            "- Oscar Jiménez / César Ramos  |  Mexico / Mexico\n",
            "- Shuai Pei / Zhibo Ai  |  China PR / China PR\n",
            "- Josh Kay / Josh Key  |  England / England\n",
            "- Zihao Yan / Zhen Ma  |  China PR / China PR\n",
            "- Zhunyi Gao / Zhe Jiang  |  China PR / China PR\n",
            "- Zhunyi Gao / Shuai Yang  |  China PR / China PR\n",
            "- Zhunyi Gao / Yi Zhang  |  China PR / China PR\n",
            "- Zhunyi Gao / Zhen Ge  |  China PR / China PR\n",
            "- Zhunyi Gao / Yu Zhang  |  China PR / China PR\n",
            "- Zhunyi Gao / Jiyu Zhong  |  China PR / China PR\n",
            "- Zhe Jiang / Shuai Yang  |  China PR / China PR\n",
            "- Zhe Jiang / Yi Zhang  |  China PR / China PR\n",
            "- Zhe Jiang / Zhen Ge  |  China PR / China PR\n",
            "- Zhe Jiang / Yu Zhang  |  China PR / China PR\n",
            "- Zhe Jiang / Jiyu Zhong  |  China PR / China PR\n",
            "- Shuai Yang / Yi Zhang  |  China PR / China PR\n",
            "- Shuai Yang / Zhen Ge  |  China PR / China PR\n",
            "- Shuai Yang / Yu Zhang  |  China PR / China PR\n",
            "- Shuai Yang / Jiyu Zhong  |  China PR / China PR\n",
            "- Yi Zhang / Zhen Ge  |  China PR / China PR\n",
            "- Yi Zhang / Yu Zhang  |  China PR / China PR\n",
            "- Yi Zhang / Jiyu Zhong  |  China PR / China PR\n",
            "- Zhen Ge / Yu Zhang  |  China PR / China PR\n",
            "- Zhen Ge / Jiyu Zhong  |  China PR / China PR\n",
            "- Yu Zhang / Jiyu Zhong  |  China PR / China PR\n",
            "- Zhen Guan / Sheng Qin  |  China PR / China PR\n",
            "- Shenchao Wang / Zhenghao Wang  |  China PR / China PR\n",
            "- Zhe Shi / Shi Zhao  |  China PR / China PR\n",
            "- Johan Wallens / Johan Valencia  |  Colombia / Colombia\n",
            "- Yo Han Go / Jae Hee Jeong  |  Korea Republic / Korea Republic\n",
            "- John McAtee / Joe Hancott  |  England / England\n",
            "- Ji Hun Cho / Oh Yeon Cha  |  Korea Republic / Korea Republic\n",
            "- Yuhao Zhao / Jiahao Zhu  |  China PR / China PR\n",
            "\n",
            "Gefundene Paare: 357\n"
          ]
        }
      ]
    }
  ],
  "metadata": {
    "colab": {
      "name": "Willkommen bei Colab",
      "toc_visible": true,
      "provenance": [],
      "include_colab_link": true
    },
    "kernelspec": {
      "display_name": "Python 3",
      "name": "python3"
    }
  },
  "nbformat": 4,
  "nbformat_minor": 0
}
