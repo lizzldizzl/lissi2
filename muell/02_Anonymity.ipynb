{
 "cells": [
  {
   "cell_type": "markdown",
   "id": "c3d5b441",
   "metadata": {},
   "source": [
    "# DSGVO-konforme Anonymisierung mit k-Anonymität, l-Diversität und t-Closeness\n",
    "Dieses Notebook zeigt, wie man einen Datensatz DSGVO-konform anonymisiert:\n",
    "- Entfernen direkter Identifikatoren\n",
    "- Generalisierung von Quasi-Identifikatoren\n",
    "- Prüfung auf k-Anonymität, l-Diversität und t-Closeness\n"
   ]
  },
  {
   "cell_type": "code",
   "execution_count": 4,
   "id": "058c0689",
   "metadata": {},
   "outputs": [
    {
     "name": "stdout",
     "output_type": "stream",
     "text": [
      "=== Originaldaten ===\n",
      "   Zipcode   Age    Country Income\n",
      "0  77985.0  21.0    Germany    Low\n",
      "1  99071.0  19.0         UK    Low\n",
      "2  75929.0  48.0  Australia    Low\n",
      "3  88420.0  56.0     Canada   High\n",
      "4  48704.0  22.0         UK    Low \n",
      "\n"
     ]
    },
    {
     "name": "stderr",
     "output_type": "stream",
     "text": [
      "C:\\Users\\DMQDCQR\\AppData\\Local\\Temp\\1\\ipykernel_15632\\2258582475.py:17: FutureWarning: The default of observed=False is deprecated and will be changed to True in a future version of pandas. Pass observed=False to retain current behavior or observed=True to adopt the future default and silence this warning.\n",
      "  group_sizes = df.groupby(quasi_identifiers).size().reset_index(name='Count')\n",
      "C:\\Users\\DMQDCQR\\AppData\\Local\\Temp\\1\\ipykernel_15632\\2258582475.py:29: FutureWarning: The default of observed=False is deprecated and will be changed to True in a future version of pandas. Pass observed=False to retain current behavior or observed=True to adopt the future default and silence this warning.\n",
      "  df_l_diverse = df_k_anonym.groupby(quasi_identifiers).filter(check_l_diversity)\n"
     ]
    },
    {
     "name": "stdout",
     "output_type": "stream",
     "text": [
      "Nach k-Anonymität (k=2): 301837 von 302010 Datensätzen\n",
      "\n",
      "Nach l-Diversität (l=2): 301837 von 301837 Datensätzen\n",
      "\n"
     ]
    },
    {
     "name": "stderr",
     "output_type": "stream",
     "text": [
      "C:\\Users\\DMQDCQR\\AppData\\Local\\Temp\\1\\ipykernel_15632\\2258582475.py:41: FutureWarning: The default of observed=False is deprecated and will be changed to True in a future version of pandas. Pass observed=False to retain current behavior or observed=True to adopt the future default and silence this warning.\n",
      "  df_t_close = df_l_diverse.groupby(quasi_identifiers).filter(t_closeness)\n"
     ]
    },
    {
     "name": "stdout",
     "output_type": "stream",
     "text": [
      "Nach t-Closeness (t=0.3): 301837 von 301837 Datensätzen\n",
      "\n",
      "=== Anonymisierte Daten (ersten 10 Zeilen) ===\n",
      "  Zipcode   Age  Country  Income  Count\n",
      "0      77  <=30  Germany     Low   1423\n",
      "1      77  <=30       UK    High   1423\n",
      "2      77  <=30       UK    High   1423\n",
      "3      77  <=30       UK    High   1423\n",
      "4      77  <=30       UK    High   1423\n",
      "5      77  <=30       UK    High   1423\n",
      "6      77  <=30       UK    High   1423\n",
      "7      77  <=30       UK    High   1423\n",
      "8      77  <=30       UK  Medium   1423\n",
      "9      77  <=30       UK  Medium   1423\n"
     ]
    }
   ],
   "source": [
    "import pandas as pd\n",
    "from scipy.spatial.distance import euclidean\n",
    "\n",
    "# 1. Daten laden\n",
    "df = pd.read_csv(r\"C:\\Users\\DMQDCQR\\Downloads\\hallo\\new_retail_data_reduced.csv\")\n",
    "\n",
    "print(\"=== Originaldaten ===\")\n",
    "print(df.head(), \"\\n\")\n",
    "\n",
    "# 2. Quasi-Identifikatoren generalisieren\n",
    "df['Zipcode'] = df['Zipcode'].astype(str).str[:2]  # PLZ auf 2 Stellen\n",
    "df['Age'] = pd.cut(df['Age'], bins=[0, 30, 50, 100], labels=['<=30', '31-50', '51+'])\n",
    "\n",
    "# 3. k-Anonymität prüfen\n",
    "k = 2\n",
    "quasi_identifiers = ['Zipcode', 'Age']\n",
    "group_sizes = df.groupby(quasi_identifiers).size().reset_index(name='Count')\n",
    "df_k_anonym = df.merge(group_sizes[group_sizes['Count'] >= k], on=quasi_identifiers)\n",
    "\n",
    "print(f\"Nach k-Anonymität (k={k}): {len(df_k_anonym)} von {len(df)} Datensätzen\\n\")\n",
    "\n",
    "# 4. l-Diversität prüfen\n",
    "l = 2\n",
    "sensitive_attr = 'Income'\n",
    "\n",
    "def check_l_diversity(group):\n",
    "    return group[sensitive_attr].nunique() >= l\n",
    "\n",
    "df_l_diverse = df_k_anonym.groupby(quasi_identifiers).filter(check_l_diversity)\n",
    "print(f\"Nach l-Diversität (l={l}): {len(df_l_diverse)} von {len(df_k_anonym)} Datensätzen\\n\")\n",
    "\n",
    "# 5. t-Closeness prüfen\n",
    "t = 0.3\n",
    "overall_dist = df[sensitive_attr].value_counts(normalize=True)\n",
    "\n",
    "def t_closeness(group):\n",
    "    group_dist = group[sensitive_attr].value_counts(normalize=True)\n",
    "    group_dist = group_dist.reindex(overall_dist.index, fill_value=0)\n",
    "    return euclidean(overall_dist.values, group_dist.values) <= t\n",
    "\n",
    "df_t_close = df_l_diverse.groupby(quasi_identifiers).filter(t_closeness)\n",
    "print(f\"Nach t-Closeness (t={t}): {len(df_t_close)} von {len(df_l_diverse)} Datensätzen\\n\")\n",
    "\n",
    "# 6. Ergebnis anzeigen\n",
    "print(\"=== Anonymisierte Daten (ersten 10 Zeilen) ===\")\n",
    "print(df_t_close.head(10))\n"
   ]
  },
  {
   "cell_type": "markdown",
   "id": "6fa7a31d",
   "metadata": {},
   "source": [
    "„Nach Anwendung der Generalisierung und Entfernung direkter Identifikatoren wurde der Datensatz so reduziert, dass er die Anforderungen an k-Anonymität (k=2), l-Diversität (l=2) und t-Closeness (t=0.3) vollständig erfüllt. 301 837 Datensätze verblieben anonymisiert, was 99,94 % des Originaldatensatzes entspricht.“"
   ]
  }
 ],
 "metadata": {
  "kernelspec": {
   "display_name": ".venv",
   "language": "python",
   "name": "python3"
  },
  "language_info": {
   "codemirror_mode": {
    "name": "ipython",
    "version": 3
   },
   "file_extension": ".py",
   "mimetype": "text/x-python",
   "name": "python",
   "nbconvert_exporter": "python",
   "pygments_lexer": "ipython3",
   "version": "3.11.0"
  }
 },
 "nbformat": 4,
 "nbformat_minor": 5
}
