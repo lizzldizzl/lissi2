{
  "cells": [
    {
      "cell_type": "markdown",
      "id": "835760cf",
      "metadata": {
        "id": "835760cf"
      },
      "source": [
        "# Hashing und Symmetrische Verschlüsselung\n",
        "\n",
        "In diesem Notebook werden **zwei Hashverfahren** (SHA-2, SHA-3) und **zwei symmetrische Verschlüsselungsverfahren** (AES, Blowfish) auf einen Datensatz angewendet.  \n",
        "\n",
        "Datensatz: *Employee Performance and Salary Dataset* (Beispiel mit Spalten ID, Name, Salary u.a.).\n"
      ]
    },
    {
      "cell_type": "markdown",
      "id": "02a6f1f7",
      "metadata": {
        "id": "02a6f1f7"
      },
      "source": [
        "## Begründung der Auswahl der Verfahren\n",
        "\n",
        "**Hashverfahren:**\n",
        "- Der Hauptunterschied zwischen SHA2 und SHA3 ist das interne Algorithmusdesign, wenig Gemeinsamkeiten (außer den Namen). Daher deckt dieses Notebook beide Verfahren ab. Beide Verfahren gelten als sicher.\n",
        "- **SHA-2 (SHA-256)**\n",
        "  Der Hauptunterschied zwischen SHA2 und SHA3 ist das interne Algorithmusdesign, sie haben wenig bzw. keine Gemeinsamkeiten (außer den Namen). Daher deckt dieses Notebook beide Verfahren ab. Beide Verfahren gelten als sicher. SHA-2 ist in vielen sicherheitsrelevanten Anwendungen im Einsatz. SHA-2 ist im Vergleich zu SHA3 in vielen Implementierungen schneller, besonders auf älterer Hardware (https://piproductora.com/de/was-ist-der-unterschied-zwischen-sha-3-und-sha-256/)\n",
        "\n",
        "- **SHA-3 (z. B. SHA3-256)** – neuer NIST-Standard, basiert auf einer anderen Konstruktion (wie Keccak). SHA-3 ist resistent gegen Längenerweiterungsangriffe\n",
        "  SHA-3 wurde 2015 standardisiert und unterscheidet sich strukturell komplett von SHA-2. Laut NIST ist es nicht als Ersatz, sondern als zusätzliche Absicherung gedacht (https://stackoverflow.com/questions/14356526/whats-the-difference-between-the-hash-algorithms-sha-2-and-sha-3) Es ist resistent gegen Angriffstechniken, die theoretisch bei SHA-2 wirken könnten, und bietet mit SHAKE flexible Ausgabelängen (https://piproductora.com/de/was-ist-der-unterschied-zwischen-sha-3-und-sha-256/)\n",
        "\n",
        "**Symmetrische Verschlüsselung:**\n",
        "- **Blowfish** – schneller Algorithmus mit variabler Schlüssellänge, bei open source Verschlüsselungssoftware sehr beliebt. Allein für Implementierungen bei denen häufig neue Schlüssel erzeugt werden müssen, beispielsweise VPN, eignet sich Blowfish weniger. (https://www.infopoint-security.de/des-aes-blowfish-was-sind-die-sichersten-algorithmen-fuer-verschluesselungssoftware/a8366/)\n",
        "\n",
        "- **AES (z. B. AES-256 im CBC-Modus)** – Industriestandard, sehr sicher, effizient und für große Datenmengen geeignet.  \n",
        "  AES ist seit 2000 der offizielle Nachfolger von DES, weltweit der Standard in sicherheitskritischen Anwendungen (z. B. VPNs). Es arbeitet mit 128-Bit-Blöcken und 128/192/256-Bit Schlüsseln. AES ist sowohl sicher als auch performant und wird kontinuierlich geprüft (https://www.infopoint-security.de/des-aes-blowfish-was-sind-die-sichersten-algorithmen-fuer-verschluesselungssoftware/a8366/)"
      ]
    },
    {
      "cell_type": "markdown",
      "source": [
        "# Code"
      ],
      "metadata": {
        "id": "3X2c-OaR3GEK"
      },
      "id": "3X2c-OaR3GEK"
    },
    {
      "cell_type": "markdown",
      "source": [
        "### Link zum Datensatz\n",
        "https://www.kaggle.com/datasets/nadeemajeedch/employee-performance-and-salary-dataset/data?select=Employe_Performance_dataset.csv"
      ],
      "metadata": {
        "id": "sc9XxitT3Hru"
      },
      "id": "sc9XxitT3Hru"
    },
    {
      "cell_type": "markdown",
      "source": [
        "Der Employee Performance and Salary Dataset enthält Informationen zu Mitarbeitenden wie Alter, Geschlecht, Abteilung, Gehalt, Eintrittsdatum, Leistung, Erfahrung, Status und Arbeitszeit.\n",
        "Er umfasst sowohl numerische als auch kategoriale Daten und weist teilweise fehlende Werte bei der Leistungsbewertung auf.\n",
        "Die Daten ermöglichen Analysen zu Trends in Gehalt, Leistung und Beschäftigungsstatus über verschiedene Zeiträume und Standorte hinweg.\n",
        "Mit insgesamt 12 Spalten und zahlreichen Einträgen eignet sich der Datensatz gut für Aufgaben in den Bereichen Datenanalyse, Visualisierung und maschinelles Lernen."
      ],
      "metadata": {
        "id": "8L7Bxcm14_5q"
      },
      "id": "8L7Bxcm14_5q"
    },
    {
      "cell_type": "code",
      "source": [
        "! pip install -q kaggle"
      ],
      "metadata": {
        "id": "vi4fC6LY5GFI"
      },
      "id": "vi4fC6LY5GFI",
      "execution_count": 1,
      "outputs": []
    },
    {
      "cell_type": "code",
      "source": [
        "! mkdir ~/.kaggle"
      ],
      "metadata": {
        "id": "RzXMEC3A5Hwr",
        "colab": {
          "base_uri": "https://localhost:8080/"
        },
        "outputId": "ba36fcb8-0219-404a-930e-223acbc94d3a"
      },
      "id": "RzXMEC3A5Hwr",
      "execution_count": 2,
      "outputs": [
        {
          "output_type": "stream",
          "name": "stdout",
          "text": [
            "mkdir: cannot create directory ‘/root/.kaggle’: File exists\n"
          ]
        }
      ]
    },
    {
      "cell_type": "markdown",
      "source": [
        "Übergabe von Kaggle Benutzer Daten:\n",
        "{\"username\":\"....\",\"key\":\"....\"}"
      ],
      "metadata": {
        "id": "ebc98RKY5Ke-"
      },
      "id": "ebc98RKY5Ke-"
    },
    {
      "cell_type": "code",
      "source": [
        "# ... Hier ihre JSON Cred als dictionary eingeben\n",
        "d_json_cred ={\"username\":\"lizzldizzl\",\"key\":\"7126d6d48a18986c8a8704fbb94e4a44\"}"
      ],
      "metadata": {
        "id": "LDDSQq0u5L-o"
      },
      "id": "LDDSQq0u5L-o",
      "execution_count": 3,
      "outputs": []
    },
    {
      "cell_type": "markdown",
      "source": [
        "Kaggle Zugangsdaten speichern\n",
        "\n"
      ],
      "metadata": {
        "id": "IFHwQE035Nsd"
      },
      "id": "IFHwQE035Nsd"
    },
    {
      "cell_type": "code",
      "source": [
        "import pandas as pd\n",
        "kaggle_cred = pd.DataFrame(d_json_cred, index=[0]).to_json(\"~/.kaggle/kaggle.json\")"
      ],
      "metadata": {
        "id": "t73FbWc15PNB"
      },
      "id": "t73FbWc15PNB",
      "execution_count": 4,
      "outputs": []
    },
    {
      "cell_type": "markdown",
      "source": [
        "Authorisierung geben dass Kaggle Daten heruntergeladen werden dürfen"
      ],
      "metadata": {
        "id": "JsoFH2Bu5S18"
      },
      "id": "JsoFH2Bu5S18"
    },
    {
      "cell_type": "code",
      "source": [
        "! chmod 600 ~/.kaggle/kaggle.json"
      ],
      "metadata": {
        "id": "6j9tWHmN5URH"
      },
      "id": "6j9tWHmN5URH",
      "execution_count": 5,
      "outputs": []
    },
    {
      "cell_type": "code",
      "source": [
        "!kaggle datasets download -d nadeemajeedch/employee-performance-and-salary-dataset"
      ],
      "metadata": {
        "id": "T3j6aP7T5Vb6",
        "outputId": "cfc80467-0dd1-4c47-a6b4-b9f003bb4f89",
        "colab": {
          "base_uri": "https://localhost:8080/"
        }
      },
      "id": "T3j6aP7T5Vb6",
      "execution_count": 6,
      "outputs": [
        {
          "output_type": "stream",
          "name": "stdout",
          "text": [
            "Dataset URL: https://www.kaggle.com/datasets/nadeemajeedch/employee-performance-and-salary-dataset\n",
            "License(s): Community Data License Agreement - Sharing - Version 1.0\n",
            "employee-performance-and-salary-dataset.zip: Skipping, found more recently modified local copy (use --force to force download)\n"
          ]
        }
      ]
    },
    {
      "cell_type": "markdown",
      "source": [
        "Unzip der Daten"
      ],
      "metadata": {
        "id": "TH1IsYVY5Wa4"
      },
      "id": "TH1IsYVY5Wa4"
    },
    {
      "cell_type": "code",
      "source": [
        "!unzip employee-performance-and-salary-dataset.zip -d ./data"
      ],
      "metadata": {
        "id": "1Rlnv6lf5X3w",
        "outputId": "b88cf91d-e762-4e36-a638-920cdc09758c",
        "colab": {
          "base_uri": "https://localhost:8080/"
        }
      },
      "id": "1Rlnv6lf5X3w",
      "execution_count": 7,
      "outputs": [
        {
          "output_type": "stream",
          "name": "stdout",
          "text": [
            "Archive:  employee-performance-and-salary-dataset.zip\n",
            "replace ./data/50_Tasks_to_perform_on_dataset.pdf? [y]es, [n]o, [A]ll, [N]one, [r]ename: yes\n",
            "  inflating: ./data/50_Tasks_to_perform_on_dataset.pdf  \n",
            "replace ./data/Employe_Performance_dataset.csv? [y]es, [n]o, [A]ll, [N]one, [r]ename: yes\n",
            "  inflating: ./data/Employe_Performance_dataset.csv  \n"
          ]
        }
      ]
    },
    {
      "cell_type": "markdown",
      "source": [
        "### Pakete installieren"
      ],
      "metadata": {
        "id": "aoO2CRxh5dBh"
      },
      "id": "aoO2CRxh5dBh"
    },
    {
      "cell_type": "code",
      "source": [
        "!pip install pandas"
      ],
      "metadata": {
        "id": "tq7RgdxF5q7Z",
        "outputId": "6deb67ae-57a7-4c44-ac1b-b29806837571",
        "colab": {
          "base_uri": "https://localhost:8080/"
        }
      },
      "id": "tq7RgdxF5q7Z",
      "execution_count": 8,
      "outputs": [
        {
          "output_type": "stream",
          "name": "stdout",
          "text": [
            "Requirement already satisfied: pandas in /usr/local/lib/python3.12/dist-packages (2.2.2)\n",
            "Requirement already satisfied: numpy>=1.26.0 in /usr/local/lib/python3.12/dist-packages (from pandas) (2.0.2)\n",
            "Requirement already satisfied: python-dateutil>=2.8.2 in /usr/local/lib/python3.12/dist-packages (from pandas) (2.9.0.post0)\n",
            "Requirement already satisfied: pytz>=2020.1 in /usr/local/lib/python3.12/dist-packages (from pandas) (2025.2)\n",
            "Requirement already satisfied: tzdata>=2022.7 in /usr/local/lib/python3.12/dist-packages (from pandas) (2025.2)\n",
            "Requirement already satisfied: six>=1.5 in /usr/local/lib/python3.12/dist-packages (from python-dateutil>=2.8.2->pandas) (1.17.0)\n"
          ]
        }
      ]
    },
    {
      "cell_type": "markdown",
      "id": "3ca5d2a8",
      "metadata": {
        "id": "3ca5d2a8"
      },
      "source": [
        "\n",
        "## Datensatz\n"
      ]
    },
    {
      "cell_type": "code",
      "execution_count": 9,
      "id": "69e0a41a",
      "metadata": {
        "id": "69e0a41a",
        "outputId": "1e835c99-7e12-4079-afe7-03ad0f0e7cab",
        "colab": {
          "base_uri": "https://localhost:8080/"
        }
      },
      "outputs": [
        {
          "output_type": "stream",
          "name": "stdout",
          "text": [
            "   ID                Name  Age  Gender Department  Salary Joining Date  \\\n",
            "0   1        Cory Escobar   48  Female         HR    5641   2015-05-03   \n",
            "1   2     Timothy Sanchez   25   Other      Sales    4249   2020-11-09   \n",
            "2   3        Chad Nichols   57   Other      Sales    3058   2019-02-12   \n",
            "3   4  Christine Williams   58  Female         IT    5895   2017-09-08   \n",
            "4   5        Amber Harris   35   Other         IT    4317   2020-02-15   \n",
            "\n",
            "   Performance Score  Experience    Status     Location  Session  \n",
            "0                2.0          16    Active     New York    Night  \n",
            "1                2.0          11  Inactive  Los Angeles  Evening  \n",
            "2                NaN           1  Inactive     New York  Morning  \n",
            "3                2.0          13  Inactive  Los Angeles  Evening  \n",
            "4                5.0          16  Inactive     New York  Evening  \n"
          ]
        }
      ],
      "source": [
        "import pandas as pd\n",
        "\n",
        "# Pfad zur entpackten CSV-Datei\n",
        "file_path = \"./data/Employe_Performance_dataset.csv\"\n",
        "\n",
        "# CSV in DataFrame laden\n",
        "df = pd.read_csv(file_path)\n",
        "\n",
        "# Erste Zeilen ausgeben\n",
        "print(df.head())\n"
      ]
    },
    {
      "cell_type": "markdown",
      "id": "b3ee65c4",
      "metadata": {
        "id": "b3ee65c4"
      },
      "source": [
        "\n",
        "## Hashing – Integritätsprüfung mit SHA2\n",
        "\n",
        "1. Datensatz mit SHA-256 verschlüsseln.\n"
      ]
    },
    {
      "cell_type": "code",
      "execution_count": 10,
      "id": "529f039d",
      "metadata": {
        "id": "529f039d",
        "outputId": "44ff8113-c2d7-486c-e7e1-6fa5bdee98fa",
        "colab": {
          "base_uri": "https://localhost:8080/"
        }
      },
      "outputs": [
        {
          "output_type": "stream",
          "name": "stdout",
          "text": [
            "SHA-256-Hash des gesamten Dokuments: 6d0e81ad3755d4ede9af1bfa28df9f4114e69f6b98995e19b888afbb70ed54b7\n",
            "Dauer der Hashing-Berechnung: 0.000845 Sekunden\n"
          ]
        }
      ],
      "source": [
        "import hashlib\n",
        "import time\n",
        "\n",
        "# DataFrame als CSV-String umwandeln\n",
        "# Annahme: 'df' ist Ihr Pandas DataFrame\n",
        "csv_string = df.to_csv(index=False)\n",
        "data_to_hash = csv_string.encode()\n",
        "\n",
        "# --- Zeitmessung starten ---\n",
        "start_time = time.time()\n",
        "\n",
        "# SHA-256 (SHA-2 Familie)\n",
        "sha256_full = hashlib.sha256(data_to_hash).hexdigest()\n",
        "\n",
        "# --- Zeitmessung stoppen ---\n",
        "end_time = time.time()\n",
        "\n",
        "# Zeitdifferenz berechnen\n",
        "first_execution_time = end_time - start_time\n",
        "\n",
        "print(\"SHA-256-Hash des gesamten Dokuments:\", sha256_full)\n",
        "print(f\"Dauer der Hashing-Berechnung: {first_execution_time:.6f} Sekunden\")"
      ]
    },
    {
      "cell_type": "markdown",
      "id": "3bddc749",
      "metadata": {
        "id": "3bddc749"
      },
      "source": [
        "2. Eine Änderung im Datensatz simulieren."
      ]
    },
    {
      "cell_type": "code",
      "execution_count": 11,
      "id": "2f9cf791",
      "metadata": {
        "id": "2f9cf791",
        "outputId": "85b10d0c-1763-42f7-e60a-2ed08f241c84",
        "colab": {
          "base_uri": "https://localhost:8080/",
          "height": 206
        }
      },
      "outputs": [
        {
          "output_type": "execute_result",
          "data": {
            "text/plain": [
              "   ID                Name  Age  Gender Department  Salary Joining Date  \\\n",
              "0   1        Cory Escobar   48  Female         HR    5642   2015-05-03   \n",
              "1   2     Timothy Sanchez   25   Other      Sales    4249   2020-11-09   \n",
              "2   3        Chad Nichols   57   Other      Sales    3058   2019-02-12   \n",
              "3   4  Christine Williams   58  Female         IT    5895   2017-09-08   \n",
              "4   5        Amber Harris   35   Other         IT    4317   2020-02-15   \n",
              "\n",
              "   Performance Score  Experience    Status     Location  Session  \n",
              "0                2.0          16    Active     New York    Night  \n",
              "1                2.0          11  Inactive  Los Angeles  Evening  \n",
              "2                NaN           1  Inactive     New York  Morning  \n",
              "3                2.0          13  Inactive  Los Angeles  Evening  \n",
              "4                5.0          16  Inactive     New York  Evening  "
            ],
            "text/html": [
              "\n",
              "  <div id=\"df-78ab5769-ea59-4831-adb5-c41ed1b247f1\" class=\"colab-df-container\">\n",
              "    <div>\n",
              "<style scoped>\n",
              "    .dataframe tbody tr th:only-of-type {\n",
              "        vertical-align: middle;\n",
              "    }\n",
              "\n",
              "    .dataframe tbody tr th {\n",
              "        vertical-align: top;\n",
              "    }\n",
              "\n",
              "    .dataframe thead th {\n",
              "        text-align: right;\n",
              "    }\n",
              "</style>\n",
              "<table border=\"1\" class=\"dataframe\">\n",
              "  <thead>\n",
              "    <tr style=\"text-align: right;\">\n",
              "      <th></th>\n",
              "      <th>ID</th>\n",
              "      <th>Name</th>\n",
              "      <th>Age</th>\n",
              "      <th>Gender</th>\n",
              "      <th>Department</th>\n",
              "      <th>Salary</th>\n",
              "      <th>Joining Date</th>\n",
              "      <th>Performance Score</th>\n",
              "      <th>Experience</th>\n",
              "      <th>Status</th>\n",
              "      <th>Location</th>\n",
              "      <th>Session</th>\n",
              "    </tr>\n",
              "  </thead>\n",
              "  <tbody>\n",
              "    <tr>\n",
              "      <th>0</th>\n",
              "      <td>1</td>\n",
              "      <td>Cory Escobar</td>\n",
              "      <td>48</td>\n",
              "      <td>Female</td>\n",
              "      <td>HR</td>\n",
              "      <td>5642</td>\n",
              "      <td>2015-05-03</td>\n",
              "      <td>2.0</td>\n",
              "      <td>16</td>\n",
              "      <td>Active</td>\n",
              "      <td>New York</td>\n",
              "      <td>Night</td>\n",
              "    </tr>\n",
              "    <tr>\n",
              "      <th>1</th>\n",
              "      <td>2</td>\n",
              "      <td>Timothy Sanchez</td>\n",
              "      <td>25</td>\n",
              "      <td>Other</td>\n",
              "      <td>Sales</td>\n",
              "      <td>4249</td>\n",
              "      <td>2020-11-09</td>\n",
              "      <td>2.0</td>\n",
              "      <td>11</td>\n",
              "      <td>Inactive</td>\n",
              "      <td>Los Angeles</td>\n",
              "      <td>Evening</td>\n",
              "    </tr>\n",
              "    <tr>\n",
              "      <th>2</th>\n",
              "      <td>3</td>\n",
              "      <td>Chad Nichols</td>\n",
              "      <td>57</td>\n",
              "      <td>Other</td>\n",
              "      <td>Sales</td>\n",
              "      <td>3058</td>\n",
              "      <td>2019-02-12</td>\n",
              "      <td>NaN</td>\n",
              "      <td>1</td>\n",
              "      <td>Inactive</td>\n",
              "      <td>New York</td>\n",
              "      <td>Morning</td>\n",
              "    </tr>\n",
              "    <tr>\n",
              "      <th>3</th>\n",
              "      <td>4</td>\n",
              "      <td>Christine Williams</td>\n",
              "      <td>58</td>\n",
              "      <td>Female</td>\n",
              "      <td>IT</td>\n",
              "      <td>5895</td>\n",
              "      <td>2017-09-08</td>\n",
              "      <td>2.0</td>\n",
              "      <td>13</td>\n",
              "      <td>Inactive</td>\n",
              "      <td>Los Angeles</td>\n",
              "      <td>Evening</td>\n",
              "    </tr>\n",
              "    <tr>\n",
              "      <th>4</th>\n",
              "      <td>5</td>\n",
              "      <td>Amber Harris</td>\n",
              "      <td>35</td>\n",
              "      <td>Other</td>\n",
              "      <td>IT</td>\n",
              "      <td>4317</td>\n",
              "      <td>2020-02-15</td>\n",
              "      <td>5.0</td>\n",
              "      <td>16</td>\n",
              "      <td>Inactive</td>\n",
              "      <td>New York</td>\n",
              "      <td>Evening</td>\n",
              "    </tr>\n",
              "  </tbody>\n",
              "</table>\n",
              "</div>\n",
              "    <div class=\"colab-df-buttons\">\n",
              "\n",
              "  <div class=\"colab-df-container\">\n",
              "    <button class=\"colab-df-convert\" onclick=\"convertToInteractive('df-78ab5769-ea59-4831-adb5-c41ed1b247f1')\"\n",
              "            title=\"Convert this dataframe to an interactive table.\"\n",
              "            style=\"display:none;\">\n",
              "\n",
              "  <svg xmlns=\"http://www.w3.org/2000/svg\" height=\"24px\" viewBox=\"0 -960 960 960\">\n",
              "    <path d=\"M120-120v-720h720v720H120Zm60-500h600v-160H180v160Zm220 220h160v-160H400v160Zm0 220h160v-160H400v160ZM180-400h160v-160H180v160Zm440 0h160v-160H620v160ZM180-180h160v-160H180v160Zm440 0h160v-160H620v160Z\"/>\n",
              "  </svg>\n",
              "    </button>\n",
              "\n",
              "  <style>\n",
              "    .colab-df-container {\n",
              "      display:flex;\n",
              "      gap: 12px;\n",
              "    }\n",
              "\n",
              "    .colab-df-convert {\n",
              "      background-color: #E8F0FE;\n",
              "      border: none;\n",
              "      border-radius: 50%;\n",
              "      cursor: pointer;\n",
              "      display: none;\n",
              "      fill: #1967D2;\n",
              "      height: 32px;\n",
              "      padding: 0 0 0 0;\n",
              "      width: 32px;\n",
              "    }\n",
              "\n",
              "    .colab-df-convert:hover {\n",
              "      background-color: #E2EBFA;\n",
              "      box-shadow: 0px 1px 2px rgba(60, 64, 67, 0.3), 0px 1px 3px 1px rgba(60, 64, 67, 0.15);\n",
              "      fill: #174EA6;\n",
              "    }\n",
              "\n",
              "    .colab-df-buttons div {\n",
              "      margin-bottom: 4px;\n",
              "    }\n",
              "\n",
              "    [theme=dark] .colab-df-convert {\n",
              "      background-color: #3B4455;\n",
              "      fill: #D2E3FC;\n",
              "    }\n",
              "\n",
              "    [theme=dark] .colab-df-convert:hover {\n",
              "      background-color: #434B5C;\n",
              "      box-shadow: 0px 1px 3px 1px rgba(0, 0, 0, 0.15);\n",
              "      filter: drop-shadow(0px 1px 2px rgba(0, 0, 0, 0.3));\n",
              "      fill: #FFFFFF;\n",
              "    }\n",
              "  </style>\n",
              "\n",
              "    <script>\n",
              "      const buttonEl =\n",
              "        document.querySelector('#df-78ab5769-ea59-4831-adb5-c41ed1b247f1 button.colab-df-convert');\n",
              "      buttonEl.style.display =\n",
              "        google.colab.kernel.accessAllowed ? 'block' : 'none';\n",
              "\n",
              "      async function convertToInteractive(key) {\n",
              "        const element = document.querySelector('#df-78ab5769-ea59-4831-adb5-c41ed1b247f1');\n",
              "        const dataTable =\n",
              "          await google.colab.kernel.invokeFunction('convertToInteractive',\n",
              "                                                    [key], {});\n",
              "        if (!dataTable) return;\n",
              "\n",
              "        const docLinkHtml = 'Like what you see? Visit the ' +\n",
              "          '<a target=\"_blank\" href=https://colab.research.google.com/notebooks/data_table.ipynb>data table notebook</a>'\n",
              "          + ' to learn more about interactive tables.';\n",
              "        element.innerHTML = '';\n",
              "        dataTable['output_type'] = 'display_data';\n",
              "        await google.colab.output.renderOutput(dataTable, element);\n",
              "        const docLink = document.createElement('div');\n",
              "        docLink.innerHTML = docLinkHtml;\n",
              "        element.appendChild(docLink);\n",
              "      }\n",
              "    </script>\n",
              "  </div>\n",
              "\n",
              "\n",
              "    <div id=\"df-bc8207bc-616b-43b1-90c0-17939679f836\">\n",
              "      <button class=\"colab-df-quickchart\" onclick=\"quickchart('df-bc8207bc-616b-43b1-90c0-17939679f836')\"\n",
              "                title=\"Suggest charts\"\n",
              "                style=\"display:none;\">\n",
              "\n",
              "<svg xmlns=\"http://www.w3.org/2000/svg\" height=\"24px\"viewBox=\"0 0 24 24\"\n",
              "     width=\"24px\">\n",
              "    <g>\n",
              "        <path d=\"M19 3H5c-1.1 0-2 .9-2 2v14c0 1.1.9 2 2 2h14c1.1 0 2-.9 2-2V5c0-1.1-.9-2-2-2zM9 17H7v-7h2v7zm4 0h-2V7h2v10zm4 0h-2v-4h2v4z\"/>\n",
              "    </g>\n",
              "</svg>\n",
              "      </button>\n",
              "\n",
              "<style>\n",
              "  .colab-df-quickchart {\n",
              "      --bg-color: #E8F0FE;\n",
              "      --fill-color: #1967D2;\n",
              "      --hover-bg-color: #E2EBFA;\n",
              "      --hover-fill-color: #174EA6;\n",
              "      --disabled-fill-color: #AAA;\n",
              "      --disabled-bg-color: #DDD;\n",
              "  }\n",
              "\n",
              "  [theme=dark] .colab-df-quickchart {\n",
              "      --bg-color: #3B4455;\n",
              "      --fill-color: #D2E3FC;\n",
              "      --hover-bg-color: #434B5C;\n",
              "      --hover-fill-color: #FFFFFF;\n",
              "      --disabled-bg-color: #3B4455;\n",
              "      --disabled-fill-color: #666;\n",
              "  }\n",
              "\n",
              "  .colab-df-quickchart {\n",
              "    background-color: var(--bg-color);\n",
              "    border: none;\n",
              "    border-radius: 50%;\n",
              "    cursor: pointer;\n",
              "    display: none;\n",
              "    fill: var(--fill-color);\n",
              "    height: 32px;\n",
              "    padding: 0;\n",
              "    width: 32px;\n",
              "  }\n",
              "\n",
              "  .colab-df-quickchart:hover {\n",
              "    background-color: var(--hover-bg-color);\n",
              "    box-shadow: 0 1px 2px rgba(60, 64, 67, 0.3), 0 1px 3px 1px rgba(60, 64, 67, 0.15);\n",
              "    fill: var(--button-hover-fill-color);\n",
              "  }\n",
              "\n",
              "  .colab-df-quickchart-complete:disabled,\n",
              "  .colab-df-quickchart-complete:disabled:hover {\n",
              "    background-color: var(--disabled-bg-color);\n",
              "    fill: var(--disabled-fill-color);\n",
              "    box-shadow: none;\n",
              "  }\n",
              "\n",
              "  .colab-df-spinner {\n",
              "    border: 2px solid var(--fill-color);\n",
              "    border-color: transparent;\n",
              "    border-bottom-color: var(--fill-color);\n",
              "    animation:\n",
              "      spin 1s steps(1) infinite;\n",
              "  }\n",
              "\n",
              "  @keyframes spin {\n",
              "    0% {\n",
              "      border-color: transparent;\n",
              "      border-bottom-color: var(--fill-color);\n",
              "      border-left-color: var(--fill-color);\n",
              "    }\n",
              "    20% {\n",
              "      border-color: transparent;\n",
              "      border-left-color: var(--fill-color);\n",
              "      border-top-color: var(--fill-color);\n",
              "    }\n",
              "    30% {\n",
              "      border-color: transparent;\n",
              "      border-left-color: var(--fill-color);\n",
              "      border-top-color: var(--fill-color);\n",
              "      border-right-color: var(--fill-color);\n",
              "    }\n",
              "    40% {\n",
              "      border-color: transparent;\n",
              "      border-right-color: var(--fill-color);\n",
              "      border-top-color: var(--fill-color);\n",
              "    }\n",
              "    60% {\n",
              "      border-color: transparent;\n",
              "      border-right-color: var(--fill-color);\n",
              "    }\n",
              "    80% {\n",
              "      border-color: transparent;\n",
              "      border-right-color: var(--fill-color);\n",
              "      border-bottom-color: var(--fill-color);\n",
              "    }\n",
              "    90% {\n",
              "      border-color: transparent;\n",
              "      border-bottom-color: var(--fill-color);\n",
              "    }\n",
              "  }\n",
              "</style>\n",
              "\n",
              "      <script>\n",
              "        async function quickchart(key) {\n",
              "          const quickchartButtonEl =\n",
              "            document.querySelector('#' + key + ' button');\n",
              "          quickchartButtonEl.disabled = true;  // To prevent multiple clicks.\n",
              "          quickchartButtonEl.classList.add('colab-df-spinner');\n",
              "          try {\n",
              "            const charts = await google.colab.kernel.invokeFunction(\n",
              "                'suggestCharts', [key], {});\n",
              "          } catch (error) {\n",
              "            console.error('Error during call to suggestCharts:', error);\n",
              "          }\n",
              "          quickchartButtonEl.classList.remove('colab-df-spinner');\n",
              "          quickchartButtonEl.classList.add('colab-df-quickchart-complete');\n",
              "        }\n",
              "        (() => {\n",
              "          let quickchartButtonEl =\n",
              "            document.querySelector('#df-bc8207bc-616b-43b1-90c0-17939679f836 button');\n",
              "          quickchartButtonEl.style.display =\n",
              "            google.colab.kernel.accessAllowed ? 'block' : 'none';\n",
              "        })();\n",
              "      </script>\n",
              "    </div>\n",
              "\n",
              "    </div>\n",
              "  </div>\n"
            ],
            "application/vnd.google.colaboratory.intrinsic+json": {
              "type": "dataframe",
              "variable_name": "df_mod1",
              "summary": "{\n  \"name\": \"df_mod1\",\n  \"rows\": 1000,\n  \"fields\": [\n    {\n      \"column\": \"ID\",\n      \"properties\": {\n        \"dtype\": \"number\",\n        \"std\": 288,\n        \"min\": 1,\n        \"max\": 1000,\n        \"num_unique_values\": 1000,\n        \"samples\": [\n          522,\n          738,\n          741\n        ],\n        \"semantic_type\": \"\",\n        \"description\": \"\"\n      }\n    },\n    {\n      \"column\": \"Name\",\n      \"properties\": {\n        \"dtype\": \"string\",\n        \"num_unique_values\": 992,\n        \"samples\": [\n          \"Rachel Mcdonald\",\n          \"Karen Hayden\",\n          \"Dawn Choi\"\n        ],\n        \"semantic_type\": \"\",\n        \"description\": \"\"\n      }\n    },\n    {\n      \"column\": \"Age\",\n      \"properties\": {\n        \"dtype\": \"number\",\n        \"std\": 14,\n        \"min\": 18,\n        \"max\": 65,\n        \"num_unique_values\": 48,\n        \"samples\": [\n          27,\n          26,\n          36\n        ],\n        \"semantic_type\": \"\",\n        \"description\": \"\"\n      }\n    },\n    {\n      \"column\": \"Gender\",\n      \"properties\": {\n        \"dtype\": \"category\",\n        \"num_unique_values\": 3,\n        \"samples\": [\n          \"Female\",\n          \"Other\",\n          \"Male\"\n        ],\n        \"semantic_type\": \"\",\n        \"description\": \"\"\n      }\n    },\n    {\n      \"column\": \"Department\",\n      \"properties\": {\n        \"dtype\": \"category\",\n        \"num_unique_values\": 3,\n        \"samples\": [\n          \"HR\",\n          \"Sales\",\n          \"IT\"\n        ],\n        \"semantic_type\": \"\",\n        \"description\": \"\"\n      }\n    },\n    {\n      \"column\": \"Salary\",\n      \"properties\": {\n        \"dtype\": \"number\",\n        \"std\": 2299,\n        \"min\": 2015,\n        \"max\": 9993,\n        \"num_unique_values\": 941,\n        \"samples\": [\n          8438,\n          7767,\n          8798\n        ],\n        \"semantic_type\": \"\",\n        \"description\": \"\"\n      }\n    },\n    {\n      \"column\": \"Joining Date\",\n      \"properties\": {\n        \"dtype\": \"object\",\n        \"num_unique_values\": 856,\n        \"samples\": [\n          \"2023-06-04\",\n          \"2020-08-27\",\n          \"2020-06-12\"\n        ],\n        \"semantic_type\": \"\",\n        \"description\": \"\"\n      }\n    },\n    {\n      \"column\": \"Performance Score\",\n      \"properties\": {\n        \"dtype\": \"number\",\n        \"std\": 1.4247359495234881,\n        \"min\": 1.0,\n        \"max\": 5.0,\n        \"num_unique_values\": 5,\n        \"samples\": [\n          5.0,\n          4.0,\n          1.0\n        ],\n        \"semantic_type\": \"\",\n        \"description\": \"\"\n      }\n    },\n    {\n      \"column\": \"Experience\",\n      \"properties\": {\n        \"dtype\": \"number\",\n        \"std\": 5,\n        \"min\": 1,\n        \"max\": 20,\n        \"num_unique_values\": 20,\n        \"samples\": [\n          16,\n          15,\n          18\n        ],\n        \"semantic_type\": \"\",\n        \"description\": \"\"\n      }\n    },\n    {\n      \"column\": \"Status\",\n      \"properties\": {\n        \"dtype\": \"category\",\n        \"num_unique_values\": 2,\n        \"samples\": [\n          \"Inactive\",\n          \"Active\"\n        ],\n        \"semantic_type\": \"\",\n        \"description\": \"\"\n      }\n    },\n    {\n      \"column\": \"Location\",\n      \"properties\": {\n        \"dtype\": \"category\",\n        \"num_unique_values\": 3,\n        \"samples\": [\n          \"New York\",\n          \"Los Angeles\"\n        ],\n        \"semantic_type\": \"\",\n        \"description\": \"\"\n      }\n    },\n    {\n      \"column\": \"Session\",\n      \"properties\": {\n        \"dtype\": \"category\",\n        \"num_unique_values\": 3,\n        \"samples\": [\n          \"Night\",\n          \"Evening\"\n        ],\n        \"semantic_type\": \"\",\n        \"description\": \"\"\n      }\n    }\n  ]\n}"
            }
          },
          "metadata": {},
          "execution_count": 11
        }
      ],
      "source": [
        "df_mod1 = df.copy()\n",
        "\n",
        "# Salary in der ersten Zeile leicht ändern\n",
        "df_mod1.loc[0, \"Salary\"] = 5642\n",
        "\n",
        "# Ausgabe\n",
        "df_mod1.head()"
      ]
    },
    {
      "cell_type": "code",
      "execution_count": 12,
      "id": "bebe6550",
      "metadata": {
        "id": "bebe6550",
        "outputId": "4c7816dd-9824-4861-db30-9a813062412a",
        "colab": {
          "base_uri": "https://localhost:8080/"
        }
      },
      "outputs": [
        {
          "output_type": "stream",
          "name": "stdout",
          "text": [
            "SHA-256-Hash des geänderten Dokuments: 13e645f0a622c58a97aa97d8620c262a2081aca0d5a4597f2aec91ef198dc0fa\n",
            "Dauer der Hash-Berechnung (geändert): 0.000948 Sekunden\n"
          ]
        }
      ],
      "source": [
        "import hashlib\n",
        "import time\n",
        "\n",
        "# Annahme: 'df_mod1' ist Ihr geänderter Pandas DataFrame\n",
        "data_to_hash_modified = df_mod1.to_csv(index=False).encode()\n",
        "\n",
        "# --- Zeitmessung starten ---\n",
        "start_time_mod = time.time()\n",
        "\n",
        "# SHA-256-Hash des geänderten DataFrames berechnen\n",
        "sha256_full_modified = hashlib.sha256(data_to_hash_modified).hexdigest()\n",
        "\n",
        "# --- Zeitmessung stoppen ---\n",
        "end_time_mod = time.time()\n",
        "\n",
        "# Zeitdifferenz berechnen\n",
        "second_execution_time_mod = end_time_mod - start_time_mod\n",
        "\n",
        "print(\"SHA-256-Hash des geänderten Dokuments:\", sha256_full_modified)\n",
        "print(f\"Dauer der Hash-Berechnung (geändert): {second_execution_time_mod:.6f} Sekunden\")"
      ]
    },
    {
      "cell_type": "code",
      "source": [
        "# Direkter Vergleich der Hash-Werte\n",
        "print(\"### Integritätsprüfung der DataFrames (SHA-256) ###\")\n",
        "print(f\"Original-Hash: {sha256_full}\")\n",
        "print(f\"Geänderter Hash: {sha256_full_modified}\")\n",
        "print(\"-\" * 50)\n",
        "\n",
        "\n",
        "if sha256_full == sha256_full_modified:\n",
        "    print(\"✅ Integrität intakt! Die Hash-Werte stimmen überein.\")\n",
        "else:\n",
        "    print(\"❌ Integrität verletzt! Die Hash-Werte sind NICHT gleich.\")\n",
        "    print(\"Die Daten (DataFrames) wurden zwischen den Messungen verändert.\")"
      ],
      "metadata": {
        "colab": {
          "base_uri": "https://localhost:8080/"
        },
        "id": "Aco1fN5P-jpO",
        "outputId": "03949319-63da-4a71-f44a-c924881446a2"
      },
      "id": "Aco1fN5P-jpO",
      "execution_count": 13,
      "outputs": [
        {
          "output_type": "stream",
          "name": "stdout",
          "text": [
            "### Integritätsprüfung der DataFrames (SHA-256) ###\n",
            "Original-Hash: 6d0e81ad3755d4ede9af1bfa28df9f4114e69f6b98995e19b888afbb70ed54b7\n",
            "Geänderter Hash: 13e645f0a622c58a97aa97d8620c262a2081aca0d5a4597f2aec91ef198dc0fa\n",
            "--------------------------------------------------\n",
            "❌ Integrität verletzt! Die Hash-Werte sind NICHT gleich.\n",
            "Die Daten (DataFrames) wurden zwischen den Messungen verändert.\n"
          ]
        }
      ]
    },
    {
      "cell_type": "markdown",
      "id": "2cd17318",
      "metadata": {
        "id": "2cd17318"
      },
      "source": [
        "3. Die Veränderung wird beim Vergleich der beiden Hashwerte sofort sichtbar. Ein Manipulations- oder Fälschungsversuch würde dadurch auffallen – etwa, wenn innerhalb eines Unternehmens eine Datei dupliziert und verändert weitergeleitet wird oder wenn man eine Datei aus dem Internet herunterlädt und den bekannten Original-Hashwert zum Abgleich heranzieht."
      ]
    },
    {
      "cell_type": "markdown",
      "id": "fd93912c",
      "metadata": {
        "id": "fd93912c"
      },
      "source": [
        "\n",
        "## Hashing – Integritätsprüfung mit SHA3\n",
        "\n",
        "1. Datensatz mit SHA3-256 verschlüsseln.\n"
      ]
    },
    {
      "cell_type": "code",
      "execution_count": 14,
      "id": "fd535aa5",
      "metadata": {
        "id": "fd535aa5",
        "outputId": "9b93c606-76b7-4d8a-d7c2-db43c9012562",
        "colab": {
          "base_uri": "https://localhost:8080/"
        }
      },
      "outputs": [
        {
          "output_type": "stream",
          "name": "stdout",
          "text": [
            "SHA3-256-Hash des gesamten Dokuments: 76e6e26835985a7b8b67357581e661baca2cbc010b9792062087c50e0f643497\n",
            "Dauer der Hashing-Berechnung (SHA3-256): 0.000623 Sekunden\n"
          ]
        }
      ],
      "source": [
        "import hashlib\n",
        "import time\n",
        "\n",
        "# DataFrame als CSV-String umwandeln\n",
        "# Annahme: 'df' ist Ihr Pandas DataFrame\n",
        "csv_string = df.to_csv(index=False)\n",
        "data_to_hash = csv_string.encode()\n",
        "\n",
        "# --- Zeitmessung starten ---\n",
        "start_time = time.time()\n",
        "\n",
        "# SHA3-256 (SHA-3 Familie, Keccak)\n",
        "sha3_256_full = hashlib.sha3_256(data_to_hash).hexdigest()\n",
        "\n",
        "# --- Zeitmessung stoppen ---\n",
        "end_time = time.time()\n",
        "\n",
        "# Zeitdifferenz berechnen\n",
        "third_execution_time = end_time - start_time\n",
        "\n",
        "print(\"SHA3-256-Hash des gesamten Dokuments:\", sha3_256_full)\n",
        "print(f\"Dauer der Hashing-Berechnung (SHA3-256): {third_execution_time:.6f} Sekunden\")"
      ]
    },
    {
      "cell_type": "markdown",
      "id": "0b8492d7",
      "metadata": {
        "id": "0b8492d7"
      },
      "source": [
        "2. Eine Änderung am Datensatz simulieren"
      ]
    },
    {
      "cell_type": "code",
      "execution_count": 15,
      "id": "9e6bdf78",
      "metadata": {
        "id": "9e6bdf78",
        "outputId": "12d28075-2023-4023-b3e1-cac38ab57a0f",
        "colab": {
          "base_uri": "https://localhost:8080/",
          "height": 206
        }
      },
      "outputs": [
        {
          "output_type": "execute_result",
          "data": {
            "text/plain": [
              "   ID                Name  Age  Gender Department  Salary Joining Date  \\\n",
              "0   1        Cory Escobar   48  Female         HR    5646   2015-05-03   \n",
              "1   2     Timothy Sanchez   25   Other      Sales    4249   2020-11-09   \n",
              "2   3        Chad Nichols   57   Other      Sales    3058   2019-02-12   \n",
              "3   4  Christine Williams   58  Female         IT    5895   2017-09-08   \n",
              "4   5        Amber Harris   35   Other         IT    4317   2020-02-15   \n",
              "\n",
              "   Performance Score  Experience    Status     Location  Session  \n",
              "0                2.0          16    Active     New York    Night  \n",
              "1                2.0          11  Inactive  Los Angeles  Evening  \n",
              "2                NaN           1  Inactive     New York  Morning  \n",
              "3                2.0          13  Inactive  Los Angeles  Evening  \n",
              "4                5.0          16  Inactive     New York  Evening  "
            ],
            "text/html": [
              "\n",
              "  <div id=\"df-dd895de5-766e-43c5-95dd-f830c060371a\" class=\"colab-df-container\">\n",
              "    <div>\n",
              "<style scoped>\n",
              "    .dataframe tbody tr th:only-of-type {\n",
              "        vertical-align: middle;\n",
              "    }\n",
              "\n",
              "    .dataframe tbody tr th {\n",
              "        vertical-align: top;\n",
              "    }\n",
              "\n",
              "    .dataframe thead th {\n",
              "        text-align: right;\n",
              "    }\n",
              "</style>\n",
              "<table border=\"1\" class=\"dataframe\">\n",
              "  <thead>\n",
              "    <tr style=\"text-align: right;\">\n",
              "      <th></th>\n",
              "      <th>ID</th>\n",
              "      <th>Name</th>\n",
              "      <th>Age</th>\n",
              "      <th>Gender</th>\n",
              "      <th>Department</th>\n",
              "      <th>Salary</th>\n",
              "      <th>Joining Date</th>\n",
              "      <th>Performance Score</th>\n",
              "      <th>Experience</th>\n",
              "      <th>Status</th>\n",
              "      <th>Location</th>\n",
              "      <th>Session</th>\n",
              "    </tr>\n",
              "  </thead>\n",
              "  <tbody>\n",
              "    <tr>\n",
              "      <th>0</th>\n",
              "      <td>1</td>\n",
              "      <td>Cory Escobar</td>\n",
              "      <td>48</td>\n",
              "      <td>Female</td>\n",
              "      <td>HR</td>\n",
              "      <td>5646</td>\n",
              "      <td>2015-05-03</td>\n",
              "      <td>2.0</td>\n",
              "      <td>16</td>\n",
              "      <td>Active</td>\n",
              "      <td>New York</td>\n",
              "      <td>Night</td>\n",
              "    </tr>\n",
              "    <tr>\n",
              "      <th>1</th>\n",
              "      <td>2</td>\n",
              "      <td>Timothy Sanchez</td>\n",
              "      <td>25</td>\n",
              "      <td>Other</td>\n",
              "      <td>Sales</td>\n",
              "      <td>4249</td>\n",
              "      <td>2020-11-09</td>\n",
              "      <td>2.0</td>\n",
              "      <td>11</td>\n",
              "      <td>Inactive</td>\n",
              "      <td>Los Angeles</td>\n",
              "      <td>Evening</td>\n",
              "    </tr>\n",
              "    <tr>\n",
              "      <th>2</th>\n",
              "      <td>3</td>\n",
              "      <td>Chad Nichols</td>\n",
              "      <td>57</td>\n",
              "      <td>Other</td>\n",
              "      <td>Sales</td>\n",
              "      <td>3058</td>\n",
              "      <td>2019-02-12</td>\n",
              "      <td>NaN</td>\n",
              "      <td>1</td>\n",
              "      <td>Inactive</td>\n",
              "      <td>New York</td>\n",
              "      <td>Morning</td>\n",
              "    </tr>\n",
              "    <tr>\n",
              "      <th>3</th>\n",
              "      <td>4</td>\n",
              "      <td>Christine Williams</td>\n",
              "      <td>58</td>\n",
              "      <td>Female</td>\n",
              "      <td>IT</td>\n",
              "      <td>5895</td>\n",
              "      <td>2017-09-08</td>\n",
              "      <td>2.0</td>\n",
              "      <td>13</td>\n",
              "      <td>Inactive</td>\n",
              "      <td>Los Angeles</td>\n",
              "      <td>Evening</td>\n",
              "    </tr>\n",
              "    <tr>\n",
              "      <th>4</th>\n",
              "      <td>5</td>\n",
              "      <td>Amber Harris</td>\n",
              "      <td>35</td>\n",
              "      <td>Other</td>\n",
              "      <td>IT</td>\n",
              "      <td>4317</td>\n",
              "      <td>2020-02-15</td>\n",
              "      <td>5.0</td>\n",
              "      <td>16</td>\n",
              "      <td>Inactive</td>\n",
              "      <td>New York</td>\n",
              "      <td>Evening</td>\n",
              "    </tr>\n",
              "  </tbody>\n",
              "</table>\n",
              "</div>\n",
              "    <div class=\"colab-df-buttons\">\n",
              "\n",
              "  <div class=\"colab-df-container\">\n",
              "    <button class=\"colab-df-convert\" onclick=\"convertToInteractive('df-dd895de5-766e-43c5-95dd-f830c060371a')\"\n",
              "            title=\"Convert this dataframe to an interactive table.\"\n",
              "            style=\"display:none;\">\n",
              "\n",
              "  <svg xmlns=\"http://www.w3.org/2000/svg\" height=\"24px\" viewBox=\"0 -960 960 960\">\n",
              "    <path d=\"M120-120v-720h720v720H120Zm60-500h600v-160H180v160Zm220 220h160v-160H400v160Zm0 220h160v-160H400v160ZM180-400h160v-160H180v160Zm440 0h160v-160H620v160ZM180-180h160v-160H180v160Zm440 0h160v-160H620v160Z\"/>\n",
              "  </svg>\n",
              "    </button>\n",
              "\n",
              "  <style>\n",
              "    .colab-df-container {\n",
              "      display:flex;\n",
              "      gap: 12px;\n",
              "    }\n",
              "\n",
              "    .colab-df-convert {\n",
              "      background-color: #E8F0FE;\n",
              "      border: none;\n",
              "      border-radius: 50%;\n",
              "      cursor: pointer;\n",
              "      display: none;\n",
              "      fill: #1967D2;\n",
              "      height: 32px;\n",
              "      padding: 0 0 0 0;\n",
              "      width: 32px;\n",
              "    }\n",
              "\n",
              "    .colab-df-convert:hover {\n",
              "      background-color: #E2EBFA;\n",
              "      box-shadow: 0px 1px 2px rgba(60, 64, 67, 0.3), 0px 1px 3px 1px rgba(60, 64, 67, 0.15);\n",
              "      fill: #174EA6;\n",
              "    }\n",
              "\n",
              "    .colab-df-buttons div {\n",
              "      margin-bottom: 4px;\n",
              "    }\n",
              "\n",
              "    [theme=dark] .colab-df-convert {\n",
              "      background-color: #3B4455;\n",
              "      fill: #D2E3FC;\n",
              "    }\n",
              "\n",
              "    [theme=dark] .colab-df-convert:hover {\n",
              "      background-color: #434B5C;\n",
              "      box-shadow: 0px 1px 3px 1px rgba(0, 0, 0, 0.15);\n",
              "      filter: drop-shadow(0px 1px 2px rgba(0, 0, 0, 0.3));\n",
              "      fill: #FFFFFF;\n",
              "    }\n",
              "  </style>\n",
              "\n",
              "    <script>\n",
              "      const buttonEl =\n",
              "        document.querySelector('#df-dd895de5-766e-43c5-95dd-f830c060371a button.colab-df-convert');\n",
              "      buttonEl.style.display =\n",
              "        google.colab.kernel.accessAllowed ? 'block' : 'none';\n",
              "\n",
              "      async function convertToInteractive(key) {\n",
              "        const element = document.querySelector('#df-dd895de5-766e-43c5-95dd-f830c060371a');\n",
              "        const dataTable =\n",
              "          await google.colab.kernel.invokeFunction('convertToInteractive',\n",
              "                                                    [key], {});\n",
              "        if (!dataTable) return;\n",
              "\n",
              "        const docLinkHtml = 'Like what you see? Visit the ' +\n",
              "          '<a target=\"_blank\" href=https://colab.research.google.com/notebooks/data_table.ipynb>data table notebook</a>'\n",
              "          + ' to learn more about interactive tables.';\n",
              "        element.innerHTML = '';\n",
              "        dataTable['output_type'] = 'display_data';\n",
              "        await google.colab.output.renderOutput(dataTable, element);\n",
              "        const docLink = document.createElement('div');\n",
              "        docLink.innerHTML = docLinkHtml;\n",
              "        element.appendChild(docLink);\n",
              "      }\n",
              "    </script>\n",
              "  </div>\n",
              "\n",
              "\n",
              "    <div id=\"df-7e57faa5-dc6e-4b64-bb9e-c62555b203e9\">\n",
              "      <button class=\"colab-df-quickchart\" onclick=\"quickchart('df-7e57faa5-dc6e-4b64-bb9e-c62555b203e9')\"\n",
              "                title=\"Suggest charts\"\n",
              "                style=\"display:none;\">\n",
              "\n",
              "<svg xmlns=\"http://www.w3.org/2000/svg\" height=\"24px\"viewBox=\"0 0 24 24\"\n",
              "     width=\"24px\">\n",
              "    <g>\n",
              "        <path d=\"M19 3H5c-1.1 0-2 .9-2 2v14c0 1.1.9 2 2 2h14c1.1 0 2-.9 2-2V5c0-1.1-.9-2-2-2zM9 17H7v-7h2v7zm4 0h-2V7h2v10zm4 0h-2v-4h2v4z\"/>\n",
              "    </g>\n",
              "</svg>\n",
              "      </button>\n",
              "\n",
              "<style>\n",
              "  .colab-df-quickchart {\n",
              "      --bg-color: #E8F0FE;\n",
              "      --fill-color: #1967D2;\n",
              "      --hover-bg-color: #E2EBFA;\n",
              "      --hover-fill-color: #174EA6;\n",
              "      --disabled-fill-color: #AAA;\n",
              "      --disabled-bg-color: #DDD;\n",
              "  }\n",
              "\n",
              "  [theme=dark] .colab-df-quickchart {\n",
              "      --bg-color: #3B4455;\n",
              "      --fill-color: #D2E3FC;\n",
              "      --hover-bg-color: #434B5C;\n",
              "      --hover-fill-color: #FFFFFF;\n",
              "      --disabled-bg-color: #3B4455;\n",
              "      --disabled-fill-color: #666;\n",
              "  }\n",
              "\n",
              "  .colab-df-quickchart {\n",
              "    background-color: var(--bg-color);\n",
              "    border: none;\n",
              "    border-radius: 50%;\n",
              "    cursor: pointer;\n",
              "    display: none;\n",
              "    fill: var(--fill-color);\n",
              "    height: 32px;\n",
              "    padding: 0;\n",
              "    width: 32px;\n",
              "  }\n",
              "\n",
              "  .colab-df-quickchart:hover {\n",
              "    background-color: var(--hover-bg-color);\n",
              "    box-shadow: 0 1px 2px rgba(60, 64, 67, 0.3), 0 1px 3px 1px rgba(60, 64, 67, 0.15);\n",
              "    fill: var(--button-hover-fill-color);\n",
              "  }\n",
              "\n",
              "  .colab-df-quickchart-complete:disabled,\n",
              "  .colab-df-quickchart-complete:disabled:hover {\n",
              "    background-color: var(--disabled-bg-color);\n",
              "    fill: var(--disabled-fill-color);\n",
              "    box-shadow: none;\n",
              "  }\n",
              "\n",
              "  .colab-df-spinner {\n",
              "    border: 2px solid var(--fill-color);\n",
              "    border-color: transparent;\n",
              "    border-bottom-color: var(--fill-color);\n",
              "    animation:\n",
              "      spin 1s steps(1) infinite;\n",
              "  }\n",
              "\n",
              "  @keyframes spin {\n",
              "    0% {\n",
              "      border-color: transparent;\n",
              "      border-bottom-color: var(--fill-color);\n",
              "      border-left-color: var(--fill-color);\n",
              "    }\n",
              "    20% {\n",
              "      border-color: transparent;\n",
              "      border-left-color: var(--fill-color);\n",
              "      border-top-color: var(--fill-color);\n",
              "    }\n",
              "    30% {\n",
              "      border-color: transparent;\n",
              "      border-left-color: var(--fill-color);\n",
              "      border-top-color: var(--fill-color);\n",
              "      border-right-color: var(--fill-color);\n",
              "    }\n",
              "    40% {\n",
              "      border-color: transparent;\n",
              "      border-right-color: var(--fill-color);\n",
              "      border-top-color: var(--fill-color);\n",
              "    }\n",
              "    60% {\n",
              "      border-color: transparent;\n",
              "      border-right-color: var(--fill-color);\n",
              "    }\n",
              "    80% {\n",
              "      border-color: transparent;\n",
              "      border-right-color: var(--fill-color);\n",
              "      border-bottom-color: var(--fill-color);\n",
              "    }\n",
              "    90% {\n",
              "      border-color: transparent;\n",
              "      border-bottom-color: var(--fill-color);\n",
              "    }\n",
              "  }\n",
              "</style>\n",
              "\n",
              "      <script>\n",
              "        async function quickchart(key) {\n",
              "          const quickchartButtonEl =\n",
              "            document.querySelector('#' + key + ' button');\n",
              "          quickchartButtonEl.disabled = true;  // To prevent multiple clicks.\n",
              "          quickchartButtonEl.classList.add('colab-df-spinner');\n",
              "          try {\n",
              "            const charts = await google.colab.kernel.invokeFunction(\n",
              "                'suggestCharts', [key], {});\n",
              "          } catch (error) {\n",
              "            console.error('Error during call to suggestCharts:', error);\n",
              "          }\n",
              "          quickchartButtonEl.classList.remove('colab-df-spinner');\n",
              "          quickchartButtonEl.classList.add('colab-df-quickchart-complete');\n",
              "        }\n",
              "        (() => {\n",
              "          let quickchartButtonEl =\n",
              "            document.querySelector('#df-7e57faa5-dc6e-4b64-bb9e-c62555b203e9 button');\n",
              "          quickchartButtonEl.style.display =\n",
              "            google.colab.kernel.accessAllowed ? 'block' : 'none';\n",
              "        })();\n",
              "      </script>\n",
              "    </div>\n",
              "\n",
              "    </div>\n",
              "  </div>\n"
            ],
            "application/vnd.google.colaboratory.intrinsic+json": {
              "type": "dataframe",
              "variable_name": "df_mod2",
              "summary": "{\n  \"name\": \"df_mod2\",\n  \"rows\": 1000,\n  \"fields\": [\n    {\n      \"column\": \"ID\",\n      \"properties\": {\n        \"dtype\": \"number\",\n        \"std\": 288,\n        \"min\": 1,\n        \"max\": 1000,\n        \"num_unique_values\": 1000,\n        \"samples\": [\n          522,\n          738,\n          741\n        ],\n        \"semantic_type\": \"\",\n        \"description\": \"\"\n      }\n    },\n    {\n      \"column\": \"Name\",\n      \"properties\": {\n        \"dtype\": \"string\",\n        \"num_unique_values\": 992,\n        \"samples\": [\n          \"Rachel Mcdonald\",\n          \"Karen Hayden\",\n          \"Dawn Choi\"\n        ],\n        \"semantic_type\": \"\",\n        \"description\": \"\"\n      }\n    },\n    {\n      \"column\": \"Age\",\n      \"properties\": {\n        \"dtype\": \"number\",\n        \"std\": 14,\n        \"min\": 18,\n        \"max\": 65,\n        \"num_unique_values\": 48,\n        \"samples\": [\n          27,\n          26,\n          36\n        ],\n        \"semantic_type\": \"\",\n        \"description\": \"\"\n      }\n    },\n    {\n      \"column\": \"Gender\",\n      \"properties\": {\n        \"dtype\": \"category\",\n        \"num_unique_values\": 3,\n        \"samples\": [\n          \"Female\",\n          \"Other\",\n          \"Male\"\n        ],\n        \"semantic_type\": \"\",\n        \"description\": \"\"\n      }\n    },\n    {\n      \"column\": \"Department\",\n      \"properties\": {\n        \"dtype\": \"category\",\n        \"num_unique_values\": 3,\n        \"samples\": [\n          \"HR\",\n          \"Sales\",\n          \"IT\"\n        ],\n        \"semantic_type\": \"\",\n        \"description\": \"\"\n      }\n    },\n    {\n      \"column\": \"Salary\",\n      \"properties\": {\n        \"dtype\": \"number\",\n        \"std\": 2299,\n        \"min\": 2015,\n        \"max\": 9993,\n        \"num_unique_values\": 941,\n        \"samples\": [\n          8438,\n          7767,\n          8798\n        ],\n        \"semantic_type\": \"\",\n        \"description\": \"\"\n      }\n    },\n    {\n      \"column\": \"Joining Date\",\n      \"properties\": {\n        \"dtype\": \"object\",\n        \"num_unique_values\": 856,\n        \"samples\": [\n          \"2023-06-04\",\n          \"2020-08-27\",\n          \"2020-06-12\"\n        ],\n        \"semantic_type\": \"\",\n        \"description\": \"\"\n      }\n    },\n    {\n      \"column\": \"Performance Score\",\n      \"properties\": {\n        \"dtype\": \"number\",\n        \"std\": 1.4247359495234881,\n        \"min\": 1.0,\n        \"max\": 5.0,\n        \"num_unique_values\": 5,\n        \"samples\": [\n          5.0,\n          4.0,\n          1.0\n        ],\n        \"semantic_type\": \"\",\n        \"description\": \"\"\n      }\n    },\n    {\n      \"column\": \"Experience\",\n      \"properties\": {\n        \"dtype\": \"number\",\n        \"std\": 5,\n        \"min\": 1,\n        \"max\": 20,\n        \"num_unique_values\": 20,\n        \"samples\": [\n          16,\n          15,\n          18\n        ],\n        \"semantic_type\": \"\",\n        \"description\": \"\"\n      }\n    },\n    {\n      \"column\": \"Status\",\n      \"properties\": {\n        \"dtype\": \"category\",\n        \"num_unique_values\": 2,\n        \"samples\": [\n          \"Inactive\",\n          \"Active\"\n        ],\n        \"semantic_type\": \"\",\n        \"description\": \"\"\n      }\n    },\n    {\n      \"column\": \"Location\",\n      \"properties\": {\n        \"dtype\": \"category\",\n        \"num_unique_values\": 3,\n        \"samples\": [\n          \"New York\",\n          \"Los Angeles\"\n        ],\n        \"semantic_type\": \"\",\n        \"description\": \"\"\n      }\n    },\n    {\n      \"column\": \"Session\",\n      \"properties\": {\n        \"dtype\": \"category\",\n        \"num_unique_values\": 3,\n        \"samples\": [\n          \"Night\",\n          \"Evening\"\n        ],\n        \"semantic_type\": \"\",\n        \"description\": \"\"\n      }\n    }\n  ]\n}"
            }
          },
          "metadata": {},
          "execution_count": 15
        }
      ],
      "source": [
        "df_mod2 = df.copy()\n",
        "\n",
        "# Salary in der ersten Zeile leicht ändern\n",
        "df_mod2.loc[0, \"Salary\"] = 5646\n",
        "\n",
        "# Ausgabe\n",
        "df_mod2.head()"
      ]
    },
    {
      "cell_type": "code",
      "execution_count": 16,
      "id": "b09659b7",
      "metadata": {
        "id": "b09659b7",
        "outputId": "a3f5bacc-a23c-4865-88f5-e6911402c35d",
        "colab": {
          "base_uri": "https://localhost:8080/"
        }
      },
      "outputs": [
        {
          "output_type": "stream",
          "name": "stdout",
          "text": [
            "SHA3-256-Hash des geänderten Dokuments: 0c6eba2716f8723f2137e550ed2818a6e745ebe057d33f4bb0539757a43447a9\n",
            "Dauer der Hash-Berechnung (SHA3-256, geändert): 0.000667 Sekunden\n"
          ]
        }
      ],
      "source": [
        "import hashlib\n",
        "import time\n",
        "\n",
        "# Annahme: 'df_mod2' ist Ihr geänderter Pandas DataFrame\n",
        "data_to_hash_modified = df_mod2.to_csv(index=False).encode()\n",
        "\n",
        "# --- Zeitmessung starten ---\n",
        "start_time_mod = time.time()\n",
        "\n",
        "# SHA3-256-Hash des geänderten DataFrames berechnen\n",
        "sha3_256_full_modified = hashlib.sha3_256(data_to_hash_modified).hexdigest()\n",
        "\n",
        "# --- Zeitmessung stoppen ---\n",
        "end_time_mod = time.time()\n",
        "\n",
        "# Zeitdifferenz berechnen\n",
        "fourth_execution_time_mod = end_time_mod - start_time_mod\n",
        "\n",
        "print(\"SHA3-256-Hash des geänderten Dokuments:\", sha3_256_full_modified)\n",
        "print(f\"Dauer der Hash-Berechnung (SHA3-256, geändert): {fourth_execution_time_mod:.6f} Sekunden\")"
      ]
    },
    {
      "cell_type": "code",
      "source": [
        "# Direkter Vergleich der Hash-Werte\n",
        "print(\"### Integritätsprüfung der DataFrames (SHA-256) ###\")\n",
        "print(f\"Original-Hash: {sha3_256_full}\")\n",
        "print(f\"Geänderter Hash: {sha3_256_full_modified}\")\n",
        "print(\"-\" * 50)\n",
        "\n",
        "\n",
        "if sha3_256_full == sha3_256_full_modified:\n",
        "    print(\"✅ Integrität intakt! Die Hash-Werte stimmen überein.\")\n",
        "else:\n",
        "    print(\"❌ Integrität verletzt! Die Hash-Werte sind NICHT gleich.\")\n",
        "    print(\"Die Daten (DataFrames) wurden zwischen den Messungen verändert.\")"
      ],
      "metadata": {
        "colab": {
          "base_uri": "https://localhost:8080/"
        },
        "id": "NzmJ9FFi-3ny",
        "outputId": "30c0c8a2-7de2-4a49-867e-10d20ea8f2ce"
      },
      "id": "NzmJ9FFi-3ny",
      "execution_count": 17,
      "outputs": [
        {
          "output_type": "stream",
          "name": "stdout",
          "text": [
            "### Integritätsprüfung der DataFrames (SHA-256) ###\n",
            "Original-Hash: 76e6e26835985a7b8b67357581e661baca2cbc010b9792062087c50e0f643497\n",
            "Geänderter Hash: 0c6eba2716f8723f2137e550ed2818a6e745ebe057d33f4bb0539757a43447a9\n",
            "--------------------------------------------------\n",
            "❌ Integrität verletzt! Die Hash-Werte sind NICHT gleich.\n",
            "Die Daten (DataFrames) wurden zwischen den Messungen verändert.\n"
          ]
        }
      ]
    },
    {
      "cell_type": "markdown",
      "id": "90c2a092",
      "metadata": {
        "id": "90c2a092"
      },
      "source": [
        "3. Die Veränderung wird beim Vergleich der beiden Hashwerte sofort sichtbar. Ein Manipulations- oder Fälschungsversuch würde dadurch auffallen – etwa, wenn innerhalb eines Unternehmens eine Datei dupliziert und verändert weitergeleitet wird oder wenn man eine Datei aus dem Internet herunterlädt und den bekannten Original-Hashwert zum Abgleich heranzieht."
      ]
    },
    {
      "cell_type": "markdown",
      "id": "1a28ac9a",
      "metadata": {
        "id": "1a28ac9a"
      },
      "source": [
        "\n",
        "## Symmetrische Verschlüsselung – AES\n",
        "\n",
        "1. Es wird simuliert, wie ein Mitarbeiter eine Datei verschlüsselt und anschließend die verschlüsselte Version abspeichert."
      ]
    },
    {
      "cell_type": "code",
      "execution_count": 18,
      "id": "e6dc02a5",
      "metadata": {
        "id": "e6dc02a5",
        "outputId": "7ae116c2-17c2-426a-d53f-5e76a1202a5a",
        "colab": {
          "base_uri": "https://localhost:8080/"
        }
      },
      "outputs": [
        {
          "output_type": "stream",
          "name": "stdout",
          "text": [
            "--------------------------------------------------\n",
            "Datei erfolgreich mit AES verschlüsselt!\n",
            "Datenmenge: 0.07 MB\n",
            "Dauer der Verschlüsselung: 1.8101 ms\n",
            "Gespeichert unter: /root/Documents/Krypto/employee_data.enc\n",
            "--------------------------------------------------\n"
          ]
        }
      ],
      "source": [
        "from cryptography.hazmat.primitives.ciphers import Cipher, algorithms, modes\n",
        "from cryptography.hazmat.backends import default_backend\n",
        "from cryptography.hazmat.primitives.kdf.pbkdf2 import PBKDF2HMAC\n",
        "from cryptography.hazmat.primitives import hashes\n",
        "import os\n",
        "import time  # <--- Import für die Zeitmessung\n",
        "\n",
        "# --- Setup und Schlüsselableitung (Unverändert) ---\n",
        "\n",
        "# Passwort (bekannt bei Absender und Empfänger)\n",
        "password = b\"MeinGeheimesPasswort\"\n",
        "\n",
        "# Salt und IV erzeugen\n",
        "salt = os.urandom(16)\n",
        "iv = os.urandom(16)\n",
        "\n",
        "# Schlüssel aus Passwort ableiten\n",
        "kdf = PBKDF2HMAC(\n",
        "    algorithm=hashes.SHA256(),\n",
        "    length=32,\n",
        "    salt=salt,\n",
        "    iterations=100000,\n",
        "    backend=default_backend()\n",
        ")\n",
        "key = kdf.derive(password)\n",
        "\n",
        "# Datei laden (Annahme: file_path ist definiert und zeigt auf die Originaldatei)\n",
        "# ACHTUNG: Stellen Sie sicher, dass 'file_path' in Ihrem Notebook definiert ist.\n",
        "try:\n",
        "    with open(file_path, \"rb\") as f:\n",
        "        plaintext = f.read()\n",
        "except NameError:\n",
        "    # FÜR TESTZWECKE: Erstellen von 5 MB Dummy-Daten, falls file_path nicht definiert ist.\n",
        "    print(\"WARNUNG: 'file_path' nicht gefunden. Verwende Dummy-Daten (5 MB).\")\n",
        "    plaintext = b\"A\" * 1024 * 1024 * 5\n",
        "\n",
        "# Padding (PKCS#7-ähnliches Padding für CBC)\n",
        "BS = 16 # AES Blockgröße\n",
        "padding_length = BS - (len(plaintext) % BS)\n",
        "padded = plaintext + bytes([padding_length]) * padding_length\n",
        "\n",
        "\n",
        "# --- Zeitmessung starten ---\n",
        "start_time = time.time()\n",
        "\n",
        "# Verschlüsseln\n",
        "cipher = Cipher(algorithms.AES(key), modes.CBC(iv), backend=default_backend())\n",
        "encryptor = cipher.encryptor()\n",
        "ciphertext = encryptor.update(padded) + encryptor.finalize()\n",
        "\n",
        "# --- Zeitmessung stoppen ---\n",
        "end_time = time.time()\n",
        "\n",
        "# Zeitdifferenz berechnen\n",
        "aesencryption_time = (end_time - start_time) * 1000 # Zeit in Millisekunden\n",
        "\n",
        "# --- Speichern (Unverändert) ---\n",
        "\n",
        "# Speicherpfad festlegen\n",
        "save_dir = os.path.expanduser(\"~/Documents/Krypto\")\n",
        "os.makedirs(save_dir, exist_ok=True)\n",
        "\n",
        "enc_file_path = os.path.join(save_dir, \"employee_data.enc\")\n",
        "\n",
        "# Salt + IV + Ciphertext zusammen speichern\n",
        "with open(enc_file_path, \"wb\") as f:\n",
        "    f.write(salt + iv + ciphertext)\n",
        "\n",
        "print(\"-\" * 50)\n",
        "print(\"Datei erfolgreich mit AES verschlüsselt!\")\n",
        "print(f\"Datenmenge: {len(plaintext)/1024/1024:.2f} MB\")\n",
        "print(f\"Dauer der Verschlüsselung: {aesencryption_time:.4f} ms\")\n",
        "print(\"Gespeichert unter:\", enc_file_path)\n",
        "print(\"-\" * 50)"
      ]
    },
    {
      "cell_type": "markdown",
      "id": "e40542de",
      "metadata": {
        "id": "e40542de"
      },
      "source": [
        "2. Der empfangende Mitarbeiter kann die Datei mit dem gemeinsam bekannten Passwort wieder entschlüsseln, sodass ausschließlich er Zugriff auf die Inhalte hat und die Daten sicher übertragen wurden."
      ]
    },
    {
      "cell_type": "code",
      "execution_count": 19,
      "id": "ac594748",
      "metadata": {
        "id": "ac594748",
        "outputId": "70530ab5-780b-49da-ffea-9f1088ce0cea",
        "colab": {
          "base_uri": "https://localhost:8080/"
        }
      },
      "outputs": [
        {
          "output_type": "stream",
          "name": "stdout",
          "text": [
            "--------------------------------------------------\n",
            "Datei erfolgreich entschlüsselt!\n",
            "Dauer der Entschlüsselung: 0.5062 ms\n",
            "Gespeichert unter: /root/Documents/Krypto/employee_data_decrypted.csv\n",
            "--------------------------------------------------\n"
          ]
        }
      ],
      "source": [
        "from cryptography.hazmat.primitives.ciphers import Cipher, algorithms, modes\n",
        "from cryptography.hazmat.backends import default_backend\n",
        "from cryptography.hazmat.primitives.kdf.pbkdf2 import PBKDF2HMAC\n",
        "from cryptography.hazmat.primitives import hashes\n",
        "import os\n",
        "import time # <--- Import für die Zeitmessung\n",
        "\n",
        "# --- Setup und Datenextraktion (Unverändert) ---\n",
        "\n",
        "# Passwort (muss dasselbe sein wie beim Verschlüsseln!)\n",
        "password = b\"MeinGeheimesPasswort\"\n",
        "\n",
        "# Speicherpfad für verschlüsselte Datei (muss existieren)\n",
        "# Hier muss der Pfad zur verschlüsselten Datei verwendet werden\n",
        "save_dir = os.path.expanduser(\"~/Documents/Krypto\")\n",
        "enc_file_path = os.path.join(save_dir, \"employee_data.enc\")\n",
        "\n",
        "# Datei laden\n",
        "try:\n",
        "    with open(enc_file_path, \"rb\") as f:\n",
        "        file_data = f.read()\n",
        "except FileNotFoundError:\n",
        "    print(f\"Fehler: Verschlüsselte Datei nicht gefunden unter {enc_file_path}. Bitte zuerst verschlüsseln!\")\n",
        "    # Beenden oder Dummy-Daten verwenden, falls Datei fehlt.\n",
        "    # Hier wird abgebrochen, um Fehler zu vermeiden.\n",
        "    exit()\n",
        "\n",
        "# Salt, IV und Ciphertext extrahieren\n",
        "salt = file_data[:16]\n",
        "iv = file_data[16:32]\n",
        "ciphertext = file_data[32:]\n",
        "\n",
        "# Schlüssel aus Passwort und Salt ableiten\n",
        "kdf = PBKDF2HMAC(\n",
        "    algorithm=hashes.SHA256(),\n",
        "    length=32,\n",
        "    salt=salt,\n",
        "    iterations=100000,\n",
        "    backend=default_backend()\n",
        ")\n",
        "# Die Zeitmessung startet hier NACH der langsamen Schlüsselableitung\n",
        "key = kdf.derive(password)\n",
        "\n",
        "# --- Zeitmessung starten ---\n",
        "start_time = time.time()\n",
        "\n",
        "# Entschlüsseln\n",
        "cipher = Cipher(algorithms.AES(key), modes.CBC(iv), backend=default_backend())\n",
        "decryptor = cipher.decryptor()\n",
        "decrypted_padded = decryptor.update(ciphertext) + decryptor.finalize()\n",
        "\n",
        "# Padding-Länge ermitteln und entfernen (Wird oft als Teil des Entschlüsselungsprozesses betrachtet)\n",
        "padding_length = decrypted_padded[-1]\n",
        "decrypted = decrypted_padded[:-padding_length]\n",
        "\n",
        "# --- Zeitmessung stoppen ---\n",
        "end_time = time.time()\n",
        "\n",
        "# Zeitdifferenz berechnen\n",
        "aesdecryption_time = (end_time - start_time) * 1000 # Zeit in Millisekunden\n",
        "\n",
        "# --- Speichern (Unverändert) ---\n",
        "\n",
        "# Entschlüsselte Datei speichern\n",
        "dec_file_path = os.path.join(save_dir, \"employee_data_decrypted.csv\")\n",
        "with open(dec_file_path, \"wb\") as f:\n",
        "    f.write(decrypted)\n",
        "\n",
        "print(\"-\" * 50)\n",
        "print(\"Datei erfolgreich entschlüsselt!\")\n",
        "print(f\"Dauer der Entschlüsselung: {aesdecryption_time:.4f} ms\")\n",
        "print(\"Gespeichert unter:\", dec_file_path)\n",
        "print(\"-\" * 50)"
      ]
    },
    {
      "cell_type": "markdown",
      "id": "863dc9fe",
      "metadata": {
        "id": "863dc9fe"
      },
      "source": [
        "Ergebnis: Auf diese Weise können Mitarbeiter Dokumente verschlüsselt austauschen, die nur von Personen mit dem richtigen Passwort geöffnet werden können."
      ]
    },
    {
      "cell_type": "markdown",
      "id": "e9528062",
      "metadata": {
        "id": "e9528062"
      },
      "source": [
        "## Symmetrische Verschlüsselung – Blowfish\n",
        "\n",
        "1. Es wird simuliert, wie ein Mitarbeiter eine Datei verschlüsselt und anschließend die verschlüsselte Version abspeichert."
      ]
    },
    {
      "cell_type": "code",
      "execution_count": 20,
      "id": "3268bbe1",
      "metadata": {
        "id": "3268bbe1",
        "outputId": "5fdbb63d-92b9-4dfc-c8d9-c814119421c1",
        "colab": {
          "base_uri": "https://localhost:8080/"
        }
      },
      "outputs": [
        {
          "output_type": "stream",
          "name": "stdout",
          "text": [
            "Requirement already satisfied: pycryptodome in /usr/local/lib/python3.12/dist-packages (3.23.0)\n"
          ]
        }
      ],
      "source": [
        "!pip install pycryptodome"
      ]
    },
    {
      "cell_type": "code",
      "execution_count": 21,
      "id": "6c396ec7",
      "metadata": {
        "id": "6c396ec7",
        "outputId": "63bfe8c2-fa17-443b-b152-730778f0599b",
        "colab": {
          "base_uri": "https://localhost:8080/"
        }
      },
      "outputs": [
        {
          "output_type": "stream",
          "name": "stdout",
          "text": [
            "--------------------------------------------------\n",
            "Datei erfolgreich mit Blowfish verschlüsselt!\n",
            "Dauer der Verschlüsselung: 6.7208 ms\n",
            "Gespeichert unter: /root/Documents/Krypto/employee_data_blowfish.enc\n",
            "--------------------------------------------------\n"
          ]
        }
      ],
      "source": [
        "from Crypto.Cipher import Blowfish\n",
        "from Crypto.Protocol.KDF import PBKDF2\n",
        "import os\n",
        "import time # <--- Import für die Zeitmessung\n",
        "\n",
        "# --- Setup und Schlüsselableitung ---\n",
        "\n",
        "# Passwort (bekannt bei Absender und Empfänger)\n",
        "password = b\"MeinGeheimesPasswort\"\n",
        "\n",
        "# Salt erzeugen\n",
        "salt = os.urandom(16)\n",
        "\n",
        "# Schlüssel aus Passwort ableiten (max. 56 Byte für Blowfish)\n",
        "# Die KDF ist absichtlich langsam, um Brute-Force-Angriffe zu erschweren\n",
        "key = PBKDF2(password, salt, dkLen=32, count=100000)\n",
        "\n",
        "# IV erzeugen (8 Byte, weil Blowfish Blockgröße = 64 Bit)\n",
        "iv = os.urandom(8)\n",
        "\n",
        "# Datei laden (Annahme: file_path ist definiert)\n",
        "# ACHTUNG: Stellen Sie sicher, dass 'file_path' in Ihrem Notebook definiert ist.\n",
        "try:\n",
        "    with open(file_path, \"rb\") as f:\n",
        "        plaintext = f.read()\n",
        "except NameError:\n",
        "    print(\"WARNUNG: 'file_path' nicht gefunden. Verwende Dummy-Daten (5 MB).\")\n",
        "    plaintext = b\"A\" * 1024 * 1024 * 5\n",
        "\n",
        "# Padding (auf 8 Byte auffüllen)\n",
        "BS_BF = 8 # Blowfish Blockgröße\n",
        "padding_length_bf = BS_BF - (len(plaintext) % BS_BF)\n",
        "padded = plaintext + bytes([padding_length_bf]) * padding_length_bf\n",
        "\n",
        "# --- Zeitmessung starten ---\n",
        "start_time = time.time()\n",
        "\n",
        "# Verschlüsseln\n",
        "cipher = Blowfish.new(key, Blowfish.MODE_CBC, iv=iv)\n",
        "ciphertext = cipher.encrypt(padded)\n",
        "\n",
        "# --- Zeitmessung stoppen ---\n",
        "end_time = time.time()\n",
        "\n",
        "# Zeitdifferenz berechnen\n",
        "encryption_time = (end_time - start_time) * 1000 # Zeit in Millisekunden\n",
        "\n",
        "# --- Speichern ---\n",
        "\n",
        "# Speicherpfad festlegen\n",
        "save_dir = os.path.expanduser(\"~/Documents/Krypto\")\n",
        "os.makedirs(save_dir, exist_ok=True)\n",
        "\n",
        "enc_file_path = os.path.join(save_dir, \"employee_data_blowfish.enc\")\n",
        "\n",
        "# Salt + IV + Ciphertext zusammen speichern\n",
        "with open(enc_file_path, \"wb\") as f:\n",
        "    f.write(salt + iv + ciphertext)\n",
        "\n",
        "print(\"-\" * 50)\n",
        "print(\"Datei erfolgreich mit Blowfish verschlüsselt!\")\n",
        "print(f\"Dauer der Verschlüsselung: {encryption_time:.4f} ms\")\n",
        "print(\"Gespeichert unter:\", enc_file_path)\n",
        "print(\"-\" * 50)"
      ]
    },
    {
      "cell_type": "markdown",
      "id": "9c598d49",
      "metadata": {
        "id": "9c598d49"
      },
      "source": [
        "2. Der empfangende Mitarbeiter kann die Datei mit dem gemeinsam bekannten Passwort wieder entschlüsseln, sodass ausschließlich er Zugriff auf die Inhalte hat und die Daten sicher übertragen wurden."
      ]
    },
    {
      "cell_type": "code",
      "execution_count": 22,
      "id": "01815380",
      "metadata": {
        "id": "01815380",
        "outputId": "dca9248d-9628-40f6-c74e-8eb9f62a4193",
        "colab": {
          "base_uri": "https://localhost:8080/"
        }
      },
      "outputs": [
        {
          "output_type": "stream",
          "name": "stdout",
          "text": [
            "--------------------------------------------------\n",
            "Datei erfolgreich entschlüsselt!\n",
            "Dauer der Entschlüsselung: 1.1666 ms\n",
            "Gespeichert unter: /root/Documents/Krypto/employee_data_blowfish_decrypted.csv\n",
            "--------------------------------------------------\n"
          ]
        }
      ],
      "source": [
        "from Crypto.Cipher import Blowfish\n",
        "from Crypto.Protocol.KDF import PBKDF2\n",
        "import os\n",
        "import time # <--- Import für die Zeitmessung\n",
        "\n",
        "# --- Setup und Datenextraktion ---\n",
        "\n",
        "# Passwort (muss dasselbe sein wie beim Verschlüsseln!)\n",
        "password = b\"MeinGeheimesPasswort\"\n",
        "\n",
        "# Speicherpfad für verschlüsselte Datei (muss existieren)\n",
        "save_dir = os.path.expanduser(\"~/Documents/Krypto\")\n",
        "enc_file_path = os.path.join(save_dir, \"employee_data_blowfish.enc\")\n",
        "\n",
        "# Datei laden\n",
        "try:\n",
        "    with open(enc_file_path, \"rb\") as f:\n",
        "        file_data = f.read()\n",
        "except FileNotFoundError:\n",
        "    print(f\"Fehler: Verschlüsselte Datei nicht gefunden unter {enc_file_path}. Bitte zuerst verschlüsseln!\")\n",
        "    exit()\n",
        "\n",
        "# Salt (16 Byte) + IV (8 Byte) + Ciphertext extrahieren\n",
        "salt = file_data[:16]\n",
        "iv = file_data[16:24]\n",
        "ciphertext = file_data[24:]\n",
        "\n",
        "# Schlüssel aus Passwort + Salt ableiten\n",
        "# Die Zeitmessung beginnt HIER, nach der absichtlich langsamen KDF.\n",
        "key = PBKDF2(password, salt, dkLen=32, count=100000)\n",
        "\n",
        "\n",
        "# --- Zeitmessung starten ---\n",
        "start_time = time.time()\n",
        "\n",
        "# Entschlüsseln\n",
        "cipher = Blowfish.new(key, Blowfish.MODE_CBC, iv=iv)\n",
        "decrypted_padded = cipher.decrypt(ciphertext)\n",
        "decrypted = decrypted_padded.rstrip(b\" \")  # Padding entfernen\n",
        "\n",
        "# --- Zeitmessung stoppen ---\n",
        "end_time = time.time()\n",
        "\n",
        "# Zeitdifferenz berechnen\n",
        "decryption_time = (end_time - start_time) * 1000 # Zeit in Millisekunden\n",
        "\n",
        "# --- Speichern ---\n",
        "\n",
        "# Entschlüsselte Datei speichern\n",
        "dec_file_path = os.path.join(save_dir, \"employee_data_blowfish_decrypted.csv\")\n",
        "with open(dec_file_path, \"wb\") as f:\n",
        "    f.write(decrypted)\n",
        "\n",
        "print(\"-\" * 50)\n",
        "print(\"Datei erfolgreich entschlüsselt!\")\n",
        "print(f\"Dauer der Entschlüsselung: {decryption_time:.4f} ms\")\n",
        "print(\"Gespeichert unter:\", dec_file_path)\n",
        "print(\"-\" * 50)"
      ]
    },
    {
      "cell_type": "markdown",
      "id": "7f715178",
      "metadata": {
        "id": "7f715178"
      },
      "source": [
        "Ergebnis: Auf diese Weise können Mitarbeiter Dokumente verschlüsselt austauschen, die nur von Personen mit dem richtigen Passwort geöffnet werden können."
      ]
    },
    {
      "cell_type": "code",
      "source": [
        "import matplotlib.pyplot as plt\n",
        "import numpy as np\n",
        "\n",
        "# --- 1. Variablen-Deklaration (MÜSSEN MIT IHREN MESSWERTEN IM NOTEBOOK VORHANDEN SEIN) ---\n",
        "\n",
        "# SHA-256 Zeiten (in Sekunden)\n",
        "time_sha256_orig = first_execution_time\n",
        "time_sha256_mod  = second_execution_time_mod\n",
        "\n",
        "# SHA3-256 Zeiten (in Sekunden)\n",
        "time_sha3_orig = third_execution_time\n",
        "time_sha3_mod  = fourth_execution_time_mod\n",
        "\n",
        "# AES-256 Zeiten (in Millisekunden)\n",
        "time_aes_enc = aesencryption_time\n",
        "time_aes_dec = aesdecryption_time\n",
        "\n",
        "# Blowfish Zeiten (in Millisekunden)\n",
        "time_blowfish_enc = encryption_time\n",
        "time_blowfish_dec = decryption_time\n",
        "\n",
        "\n",
        "# --- 2. Berechnung der Mittelwerte (in Millisekunden) ---\n",
        "\n",
        "# 1. Hashing: Mittelwert aus Original und Geändert (logische Einheit ist der Algorithmus)\n",
        "avg_time_sha256 = np.mean([time_sha256_orig, time_sha256_mod]) * 1000\n",
        "avg_time_sha3 = np.mean([time_sha3_orig, time_sha3_mod]) * 1000\n",
        "\n",
        "# 2. Verschlüsselung: Mittelwert aus Verschlüsselung und Entschlüsselung (logische Einheit ist der Prozess)\n",
        "avg_time_aes = np.mean([time_aes_enc, time_aes_dec])\n",
        "avg_time_blowfish = np.mean([time_blowfish_enc, time_blowfish_dec])\n",
        "\n",
        "\n",
        "# --- 3. Daten für das Diagramm ---\n",
        "\n",
        "verfahren = [\n",
        "    'SHA-256 (Avg. Hash)',\n",
        "    'SHA-3 (Avg. Hash)',\n",
        "    'AES-256 (Avg. Enc/Dec)',\n",
        "    'Blowfish (Avg. Enc/Dec)'\n",
        "]\n",
        "dauer = [\n",
        "    avg_time_sha256,\n",
        "    avg_time_sha3,\n",
        "    avg_time_aes,\n",
        "    avg_time_blowfish\n",
        "]\n",
        "colors = ['#1f77b4', '#ff7f0e', '#2ca02c', '#d62728']\n",
        "\n",
        "\n",
        "# --- 4. Balkendiagramm erstellen ---\n",
        "plt.figure(figsize=(11, 6))\n",
        "bars = plt.bar(verfahren, dauer, color=colors)\n",
        "\n",
        "# Beschriftung der Balken mit den gerundeten Mittelwerten\n",
        "for bar in bars:\n",
        "    yval = bar.get_height()\n",
        "    plt.text(bar.get_x() + bar.get_width()/2.0, yval + max(dauer)*0.03,\n",
        "             f'{yval:.2f} ms', ha='center', va='bottom', fontsize=10, fontweight='bold')\n",
        "\n",
        "plt.xlabel('Kryptografisches Verfahren')\n",
        "plt.ylabel('Durchschnittliche Ausführungsdauer (ms)')\n",
        "plt.title('Performance-Vergleich: Durchschnittszeit pro Algorithmus')\n",
        "plt.grid(axis='y', linestyle='--', alpha=0.6)\n",
        "plt.show()"
      ],
      "metadata": {
        "colab": {
          "base_uri": "https://localhost:8080/",
          "height": 564
        },
        "id": "9nGFweRJCpVq",
        "outputId": "2a14f383-7bf0-4481-fe4e-56e748bce2d9"
      },
      "id": "9nGFweRJCpVq",
      "execution_count": 25,
      "outputs": [
        {
          "output_type": "display_data",
          "data": {
            "text/plain": [
              "<Figure size 1100x600 with 1 Axes>"
            ],
            "image/png": "[encoded data removed]"
          },
          "metadata": {}
        }
      ]
    },
    {
      "cell_type": "markdown",
      "source": [
        "| Verfahren        | Typ                 | Sicherheit                                                                                   | Performance                                  | Einsatz                                                       | Standardisierung          | Schlüssel-/Hashlänge                 | Bekannte Schwächen                         |\n",
        "|------------------|---------------------|---------------------------------------------------------------------------------------------|----------------------------------------------|---------------------------------------------------------------|---------------------------|---------------------------------------|--------------------------------------------|\n",
        "| SHA-2 (SHA-256)  | Hashfunktion        | Sehr sicher, weit verbreitet; resistent gegen bekannte Angriffe, aber langfristig evtl. durch Quantencomputer gefährdet | Schnell, hardwareunterstützt in modernen CPUs | Integritätsprüfung, digitale Signaturen, TLS, Blockchain       | NIST-Standard seit 2001   | 256 Bit Hash                          | Keine praktischen; evtl. in Zukunft Quanten |\n",
        "| SHA-3 (SHA3-256) | Hashfunktion        | Sehr sicher; moderner Standard, resistent gegen bekannte Angriffe; höhere Sicherheit gegenüber SHA-2 | Etwas langsamer als SHA-2, aber effizient implementierbar | Integritätsprüfung, moderne Anwendungen, künftige Standards | NIST-Standard seit 2015   | 256 Bit Hash                          | Keine bekannten Schwächen                   |\n",
        "| AES              | Symm. Verschlüsselung | Sehr sicher; aktueller Verschlüsselungsstandard (AES-128/192/256), stark gegen Brute-Force  | Sehr schnell, besonders mit Hardwarebeschleunigung | Symmetrische Verschlüsselung (Dateien, Festplatten, Netzwerke) | NIST-Standard seit 2001   | 128 / 192 / 256 Bit Schlüssel         | Keine bekannten, sicher bei richtiger Nutzung |\n",
        "| Blowfish         | Symm. Verschlüsselung | Sicher, aber veraltet im Vergleich zu AES; Schlüsselgröße bis 448 Bit, keine großen Schwächen | Schnell in Software, aber schwächer optimiert als AES | Ältere Anwendungen, VPNs, teilweise noch in Legacy-Systemen | Nicht genormt, 1993 entwickelt | 32 bis 448 Bit Schlüssel              | 64-Bit Blockgröße → Problem bei großen Datenmengen |\n",
        "| **Platzhalter**  | -                   | -                                                                                           | -                                            | -                                                             | -                         | -                                     | -                                          |\n"
      ],
      "metadata": {
        "id": "m5TbJyYXIxi-"
      },
      "id": "m5TbJyYXIxi-"
    }
  ],
  "metadata": {
    "kernelspec": {
      "display_name": ".venv",
      "language": "python",
      "name": "python3"
    },
    "language_info": {
      "codemirror_mode": {
        "name": "ipython",
        "version": 3
      },
      "file_extension": ".py",
      "mimetype": "text/x-python",
      "name": "python",
      "nbconvert_exporter": "python",
      "pygments_lexer": "ipython3",
      "version": "3.11.0"
    },
    "colab": {
      "provenance": []
    }
  },
  "nbformat": 4,
  "nbformat_minor": 5
}