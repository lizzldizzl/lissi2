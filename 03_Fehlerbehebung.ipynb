{
 "cells": [
  {
   "cell_type": "markdown",
   "id": "20846cb7",
   "metadata": {},
   "source": [
    "# Demonstration von 5 Ruff-Regelgruppen\n",
    "\n",
    "In diesem Notebook werden fünf verschiedene Regelgruppen des Linters **Ruff** demonstriert:\n",
    "\n",
    "1. **Security – S101**: Unsichere Nutzung von `assert`  \n",
    "2. **Security – S506**: Unsichere Verwendung von `yaml.load()`  \n",
    "3. **Formatierung – E711**: Falscher Vergleich mit `None` (`==` statt `is`)  \n",
    "4. **Dokumentation – D100**: Fehlender Modul-Docstring  \n",
    "5. **Performance – PERF203**: Verwendung von `try/except` innerhalb einer Schleife  \n",
    "\n",
    "Für jede Regelgruppe werden folgende Schritte durchgeführt:  \n",
    "- Erzeugung eines Beispiels mit **fehlerhaftem Code**  \n",
    "- Erstellung einer **korrigierten Variante**  \n",
    "- **Prüfung mit Ruff** und Darstellung der Ergebnisse  \n",
    "\n",
    "Die Ausführung kann sowohl in **Google Colab** als auch in einem lokalen **Jupyter Notebook** erfolgen.\n"
   ]
  },
  {
   "cell_type": "code",
   "execution_count": null,
   "id": "edb300f0",
   "metadata": {},
   "outputs": [],
   "source": [
    "# Installation von ruff (nur ausführen, wenn nicht installiert)\n",
    "!pip install ruff --quiet"
   ]
  },
  {
   "cell_type": "markdown",
   "id": "7b0206f5",
   "metadata": {},
   "source": [
    "## Regelgruppe Security – 1. Beispiel S101 `assert`"
   ]
  },
  {
   "cell_type": "code",
   "execution_count": 16,
   "id": "9670637c",
   "metadata": {},
   "outputs": [
    {
     "name": "stdout",
     "output_type": "stream",
     "text": [
      "\u001b[1ms101_assert_bad.py\u001b[0m\u001b[36m:\u001b[0m3\u001b[36m:\u001b[0m1\u001b[36m:\u001b[0m \u001b[1m\u001b[31mS101\u001b[0m Use of `assert` detected\n",
      "  \u001b[1m\u001b[96m|\u001b[0m\n",
      "\u001b[1m\u001b[96m1 |\u001b[0m # Unsichere Nutzung von assert (kann in optimiertem Modus ignoriert werden)\n",
      "\u001b[1m\u001b[96m2 |\u001b[0m user_input = \"\"\n",
      "\u001b[1m\u001b[96m3 |\u001b[0m assert user_input != \"\", \"Input darf nicht leer sein!\"  # unsicher\n",
      "  \u001b[1m\u001b[96m|\u001b[0m \u001b[1m\u001b[91m^^^^^^\u001b[0m \u001b[1m\u001b[91mS101\u001b[0m\n",
      "  \u001b[1m\u001b[96m|\u001b[0m\n",
      "\n",
      "Found 1 error.\n",
      "--------------------------------------------\n",
      "All checks passed!\n"
     ]
    }
   ],
   "source": [
    "# Fehlerhafte Version (unsicher)\n",
    "with open(\"s101_assert_bad.py\", \"w\", encoding=\"utf-8\") as f:\n",
    "    f.write(\"\"\"# Unsichere Nutzung von assert (kann in optimiertem Modus ignoriert werden)\n",
    "user_input = \"\"\n",
    "assert user_input != \"\", \"Input darf nicht leer sein!\"  # unsicher\n",
    "\"\"\")\n",
    "\n",
    "# Ruff-Check (Security-Regeln)\n",
    "!ruff check --select S s101_assert_bad.py\n",
    "\n",
    "print(\"--------------------------------------------\")\n",
    "\n",
    "# Korrigierte Version (sicher)\n",
    "with open(\"s101_assert_good.py\", \"w\", encoding=\"utf-8\") as f:\n",
    "    f.write(\"\"\"# Sichere Nutzung mit if + Exception\n",
    "user_input = \"\"\n",
    "if user_input == \"\":\n",
    "    raise ValueError(\"Input darf nicht leer sein!\")  # sicher\n",
    "\"\"\")\n",
    "\n",
    "# Ruff-Check (Security-Regeln)\n",
    "!ruff check --select S s101_assert_good.py\n"
   ]
  },
  {
   "cell_type": "markdown",
   "id": "bebd6e3d",
   "metadata": {},
   "source": [
    "## Regelgruppe Security – 2. Beispiel S506  `yaml.load(...)`"
   ]
  },
  {
   "cell_type": "code",
   "execution_count": 14,
   "id": "42bea092",
   "metadata": {},
   "outputs": [
    {
     "name": "stdout",
     "output_type": "stream",
     "text": [
      "\u001b[1ms506_yaml_bad.py\u001b[0m\u001b[36m:\u001b[0m5\u001b[36m:\u001b[0m10\u001b[36m:\u001b[0m \u001b[1m\u001b[31mS506\u001b[0m Probable use of unsafe `yaml.load`. Allows instantiation of arbitrary objects. Consider `yaml.safe_load`.\n",
      "  \u001b[1m\u001b[96m|\u001b[0m\n",
      "\u001b[1m\u001b[96m4 |\u001b[0m data = \"!!python/object/apply:os.system ['echo unsicher']\"\n",
      "\u001b[1m\u001b[96m5 |\u001b[0m result = yaml.load(data)  # unsicher\n",
      "  \u001b[1m\u001b[96m|\u001b[0m          \u001b[1m\u001b[91m^^^^^^^^^\u001b[0m \u001b[1m\u001b[91mS506\u001b[0m\n",
      "\u001b[1m\u001b[96m6 |\u001b[0m print(result)\n",
      "  \u001b[1m\u001b[96m|\u001b[0m\n",
      "\n",
      "Found 1 error.\n",
      "--------------------------------------------\n",
      "All checks passed!\n"
     ]
    }
   ],
   "source": [
    "# Fehlerhafte Version (unsicher)\n",
    "with open(\"s506_yaml_bad.py\", \"w\", encoding=\"utf-8\") as f:\n",
    "    f.write(\"\"\"# Unsichere Nutzung von yaml.load (führt zu Sicherheitsrisiken)\n",
    "import yaml\n",
    "\n",
    "data = \"!!python/object/apply:os.system ['echo unsicher']\"\n",
    "result = yaml.load(data)  # unsicher\n",
    "print(result)\n",
    "\"\"\")\n",
    "\n",
    "# Ruff-Check (Security-Regeln)\n",
    "!ruff check --select S s506_yaml_bad.py\n",
    "\n",
    "print(\"--------------------------------------------\")\n",
    "\n",
    "# Korrigierte Version (sicher)\n",
    "with open(\"s506_yaml_good.py\", \"w\", encoding=\"utf-8\") as f:\n",
    "    f.write(\"\"\"# Sichere Nutzung von yaml.safe_load\n",
    "import yaml\n",
    "\n",
    "data = \"a: 1\\\\nb: 2\"\n",
    "result = yaml.safe_load(data)\n",
    "print(result)\n",
    "\"\"\")\n",
    "\n",
    "# Ruff-Check (Security-Regeln)\n",
    "!ruff check --select S s506_yaml_good.py\n"
   ]
  },
  {
   "cell_type": "markdown",
   "id": "a09ec843",
   "metadata": {},
   "source": [
    "## Regelgruppe E - 3. Beispiel E711"
   ]
  },
  {
   "cell_type": "code",
   "execution_count": 1,
   "id": "d9d36414",
   "metadata": {},
   "outputs": [
    {
     "name": "stdout",
     "output_type": "stream",
     "text": [
      "\u001b[1me711_bad.py\u001b[0m\u001b[36m:\u001b[0m3\u001b[36m:\u001b[0m9\u001b[36m:\u001b[0m \u001b[1m\u001b[31mE711\u001b[0m Comparison to `None` should be `cond is None`\n",
      "  \u001b[1m\u001b[96m|\u001b[0m\n",
      "\u001b[1m\u001b[96m1 |\u001b[0m # Falscher Vergleich mit None\n",
      "\u001b[1m\u001b[96m2 |\u001b[0m x = None\n",
      "\u001b[1m\u001b[96m3 |\u001b[0m if x == None:\n",
      "  \u001b[1m\u001b[96m|\u001b[0m         \u001b[1m\u001b[91m^^^^\u001b[0m \u001b[1m\u001b[91mE711\u001b[0m\n",
      "\u001b[1m\u001b[96m4 |\u001b[0m     print(\"x ist None\")\n",
      "  \u001b[1m\u001b[96m|\u001b[0m\n",
      "  \u001b[1m\u001b[96m= help\u001b[0m: Replace with `cond is None`\n",
      "\n",
      "Found 1 error.\n",
      "No fixes available (1 hidden fix can be enabled with the `--unsafe-fixes` option).\n",
      "--------------------------------------------\n",
      "All checks passed!\n"
     ]
    },
    {
     "name": "stderr",
     "output_type": "stream",
     "text": [
      "\u001b[1;33mwarning\u001b[0m\u001b[1m:\u001b[0m \u001b[1mFailed to write cache file `c:\\Users\\DMQDCQR\\.ipython\\.ruff_cache\\0.12.8\\13041107166186389112`: Zugriff verweigert (os error 5)\u001b[0m\n"
     ]
    }
   ],
   "source": [
    "# Fehlerhafte Version (falscher Vergleich mit None)\n",
    "with open(\"e711_bad.py\", \"w\", encoding=\"utf-8\") as f:\n",
    "    f.write(\"\"\"# Falscher Vergleich mit None\n",
    "x = None\n",
    "if x == None:\n",
    "    print(\"x ist None\")\n",
    "\"\"\")\n",
    "\n",
    "# Ruff-Check (nur Formatierungs-/Style-Regeln)\n",
    "!ruff check --select E e711_bad.py\n",
    "\n",
    "print(\"--------------------------------------------\")\n",
    "\n",
    "# Korrigierte Version (richtiger Vergleich mit None)\n",
    "with open(\"e711_good.py\", \"w\", encoding=\"utf-8\") as f:\n",
    "    f.write(\"\"\"# Richtiger Vergleich mit None\n",
    "x = None\n",
    "if x is None:\n",
    "    print(\"x ist None\")\n",
    "\"\"\")\n",
    "\n",
    "# Ruff-Check (nur Formatierungs-/Style-Regeln)\n",
    "!ruff check --select E e711_good.py\n"
   ]
  },
  {
   "cell_type": "markdown",
   "id": "33b6f04e",
   "metadata": {},
   "source": [
    "## Regelgruppe Dokumentation - 4. Beispiel D100"
   ]
  },
  {
   "cell_type": "code",
   "execution_count": 3,
   "id": "73b5e1a6",
   "metadata": {},
   "outputs": [
    {
     "name": "stdout",
     "output_type": "stream",
     "text": [
      "\u001b[1md100_bad.py\u001b[0m\u001b[36m:\u001b[0m1\u001b[36m:\u001b[0m1\u001b[36m:\u001b[0m \u001b[1m\u001b[31mD100\u001b[0m Missing docstring in public module\n",
      "Found 1 error.\n",
      "--------------------------------------------\n",
      "All checks passed!\n"
     ]
    }
   ],
   "source": [
    "# Fehlerhafte Version (kein Modul-Docstring)\n",
    "with open(\"d100_bad.py\", \"w\", encoding=\"utf-8\") as f:\n",
    "    f.write(\"\"\"def greet(name):\n",
    "    \\\"\\\"\\\"Gibt einen Begrüßungstext aus.\\\"\\\"\\\"\n",
    "    print(f\"Hallo {name}\")\n",
    "\"\"\")\n",
    "\n",
    "# Ruff-Check nur für D100\n",
    "!ruff check --select D100 d100_bad.py\n",
    "\n",
    "print(\"--------------------------------------------\")\n",
    "\n",
    "# Korrigierte Version (mit Modul-Docstring)\n",
    "with open(\"d100_good.py\", \"w\", encoding=\"utf-8\") as f:\n",
    "    f.write(\"\"\"\\\"\\\"\\\"Dieses Modul enthält eine Begrüßungsfunktion.\\\"\\\"\\\"\n",
    "\n",
    "def greet(name):\n",
    "    \\\"\\\"\\\"Gibt einen Begrüßungstext aus.\\\"\\\"\\\"\n",
    "    print(f\"Hallo {name}\")\n",
    "\"\"\")\n",
    "\n",
    "# Ruff-Check nur für D100\n",
    "!ruff check --select D100 d100_good.py\n"
   ]
  },
  {
   "cell_type": "markdown",
   "id": "c6dd709e",
   "metadata": {},
   "source": [
    "## Regelgruppe Performance – 5. Beispiel PERF203 `try/except`"
   ]
  },
  {
   "cell_type": "code",
   "execution_count": 7,
   "id": "fb6abe3f",
   "metadata": {},
   "outputs": [
    {
     "name": "stdout",
     "output_type": "stream",
     "text": [
      "\u001b[1mperf203_bad.py\u001b[0m\u001b[36m:\u001b[0m5\u001b[36m:\u001b[0m5\u001b[36m:\u001b[0m \u001b[1m\u001b[31mPERF203\u001b[0m `try`-`except` within a loop incurs performance overhead\n",
      "  \u001b[1m\u001b[96m|\u001b[0m\n",
      "\u001b[1m\u001b[96m3 |\u001b[0m       try:\n",
      "\u001b[1m\u001b[96m4 |\u001b[0m           print(int(\"x\"))  # Fehler provozieren\n",
      "\u001b[1m\u001b[96m5 |\u001b[0m \u001b[1m\u001b[91m/\u001b[0m     except ValueError:\n",
      "\u001b[1m\u001b[96m6 |\u001b[0m \u001b[1m\u001b[91m|\u001b[0m         print(\"Fehler bei Umwandlung\")\n",
      "  \u001b[1m\u001b[96m|\u001b[0m \u001b[1m\u001b[91m|______________________________________^\u001b[0m \u001b[1m\u001b[91mPERF203\u001b[0m\n",
      "  \u001b[1m\u001b[96m|\u001b[0m\n",
      "\n",
      "Found 1 error.\n",
      "--------------------------------------------\n",
      "All checks passed!\n"
     ]
    }
   ],
   "source": [
    "# Fehlerhafte Version (try/except in einer Schleife → ineffizient)\n",
    "with open(\"perf203_bad.py\", \"w\", encoding=\"utf-8\") as f:\n",
    "    f.write(\"\"\"# Schlechte Performance: try/except in der Schleife\n",
    "for i in range(5):\n",
    "    try:\n",
    "        print(int(\"x\"))  # Fehler provozieren\n",
    "    except ValueError:\n",
    "        print(\"Fehler bei Umwandlung\")\n",
    "\"\"\")\n",
    "\n",
    "# Ruff-Check für Performance-Regeln\n",
    "!ruff check --select PERF perf203_bad.py\n",
    "\n",
    "print(\"--------------------------------------------\")\n",
    "\n",
    "# Korrigierte Version (try/except um die Schleife → effizienter)\n",
    "with open(\"perf203_good.py\", \"w\", encoding=\"utf-8\") as f:\n",
    "    f.write(\"\"\"# Bessere Performance: try/except außerhalb der Schleife\n",
    "try:\n",
    "    for i in range(5):\n",
    "        print(int(\"x\"))  # Fehler provozieren\n",
    "except ValueError:\n",
    "    print(\"Fehler bei Umwandlung\")\n",
    "\"\"\")\n",
    "\n",
    "# Ruff-Check für Performance-Regeln\n",
    "!ruff check --select PERF perf203_good.py\n"
   ]
  }
 ],
 "metadata": {
  "kernelspec": {
   "display_name": ".venv",
   "language": "python",
   "name": "python3"
  },
  "language_info": {
   "codemirror_mode": {
    "name": "ipython",
    "version": 3
   },
   "file_extension": ".py",
   "mimetype": "text/x-python",
   "name": "python",
   "nbconvert_exporter": "python",
   "pygments_lexer": "ipython3",
   "version": "3.11.0"
  }
 },
 "nbformat": 4,
 "nbformat_minor": 5
}
