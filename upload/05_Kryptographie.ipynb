{
 "cells": [
  {
   "cell_type": "markdown",
   "id": "835760cf",
   "metadata": {},
   "source": [
    "# Hashing und Symmetrische Verschlüsselung\n",
    "\n",
    "In diesem Notebook werden **zwei Hashverfahren** (SHA-2, SHA-3) und **zwei symmetrische Verschlüsselungsverfahren** (AES, Blowfish) auf einen Datensatz angewendet.  \n",
    "\n",
    "Datensatz: *Employee Performance and Salary Dataset* (Beispiel mit Spalten ID, Name, Salary u.a.).\n"
   ]
  },
  {
   "cell_type": "markdown",
   "id": "02a6f1f7",
   "metadata": {},
   "source": [
    "## Begründung der Auswahl der Verfahren\n",
    "\n",
    "**Hashverfahren:**\n",
    "- Der Hauptunterschied zwischen SHA2 und SHA3 ist das interne Algorithmusdesign, wenig Gemeinsamkeiten (außer den Namen). Daher deckt dieses Notebook beide Verfahren ab. Beide Verfahren gelten als sicher. \n",
    "- **SHA-2 (SHA-256)**\n",
    "  Der Hauptunterschied zwischen SHA2 und SHA3 ist das interne Algorithmusdesign, sie haben wenig bzw. keine Gemeinsamkeiten (außer den Namen). Daher deckt dieses Notebook beide Verfahren ab. Beide Verfahren gelten als sicher. SHA-2 ist in vielen sicherheitsrelevanten Anwendungen im Einsatz. SHA-2 ist im Vergleich zu SHA3 in vielen Implementierungen schneller, besonders auf älterer Hardware (https://piproductora.com/de/was-ist-der-unterschied-zwischen-sha-3-und-sha-256/)\n",
    "\n",
    "- **SHA-3 (z. B. SHA3-256)** – neuer NIST-Standard, basiert auf einer anderen Konstruktion (wie Keccak). SHA-3 ist resistent gegen Längenerweiterungsangriffe\n",
    "  SHA-3 wurde 2015 standardisiert und unterscheidet sich strukturell komplett von SHA-2. Laut NIST ist es nicht als Ersatz, sondern als zusätzliche Absicherung gedacht (https://stackoverflow.com/questions/14356526/whats-the-difference-between-the-hash-algorithms-sha-2-and-sha-3) Es ist resistent gegen Angriffstechniken, die theoretisch bei SHA-2 wirken könnten, und bietet mit SHAKE flexible Ausgabelängen (https://piproductora.com/de/was-ist-der-unterschied-zwischen-sha-3-und-sha-256/)\n",
    "\n",
    "**Symmetrische Verschlüsselung:**\n",
    "- **Blowfish** – schneller Algorithmus mit variabler Schlüssellänge, bei open source Verschlüsselungssoftware sehr beliebt. Allein für Implementierungen bei denen häufig neue Schlüssel erzeugt werden müssen, beispielsweise VPN, eignet sich Blowfish weniger. (https://www.infopoint-security.de/des-aes-blowfish-was-sind-die-sichersten-algorithmen-fuer-verschluesselungssoftware/a8366/)\n",
    "\n",
    "- **AES (z. B. AES-256 im CBC-Modus)** – Industriestandard, sehr sicher, effizient und für große Datenmengen geeignet.  \n",
    "  AES ist seit 2000 der offizielle Nachfolger von DES, weltweit der Standard in sicherheitskritischen Anwendungen (z. B. VPNs). Es arbeitet mit 128-Bit-Blöcken und 128/192/256-Bit Schlüsseln. AES ist sowohl sicher als auch performant und wird kontinuierlich geprüft (https://www.infopoint-security.de/des-aes-blowfish-was-sind-die-sichersten-algorithmen-fuer-verschluesselungssoftware/a8366/)"
   ]
  },
  {
   "cell_type": "markdown",
   "id": "3ca5d2a8",
   "metadata": {},
   "source": [
    "\n",
    "## Datensatz\n"
   ]
  },
  {
   "cell_type": "code",
   "execution_count": 2,
   "id": "69e0a41a",
   "metadata": {},
   "outputs": [
    {
     "data": {
      "text/html": [
       "<div>\n",
       "<style scoped>\n",
       "    .dataframe tbody tr th:only-of-type {\n",
       "        vertical-align: middle;\n",
       "    }\n",
       "\n",
       "    .dataframe tbody tr th {\n",
       "        vertical-align: top;\n",
       "    }\n",
       "\n",
       "    .dataframe thead th {\n",
       "        text-align: right;\n",
       "    }\n",
       "</style>\n",
       "<table border=\"1\" class=\"dataframe\">\n",
       "  <thead>\n",
       "    <tr style=\"text-align: right;\">\n",
       "      <th></th>\n",
       "      <th>ID</th>\n",
       "      <th>Name</th>\n",
       "      <th>Age</th>\n",
       "      <th>Gender</th>\n",
       "      <th>Department</th>\n",
       "      <th>Salary</th>\n",
       "      <th>Joining Date</th>\n",
       "      <th>Performance Score</th>\n",
       "      <th>Experience</th>\n",
       "      <th>Status</th>\n",
       "      <th>Location</th>\n",
       "      <th>Session</th>\n",
       "    </tr>\n",
       "  </thead>\n",
       "  <tbody>\n",
       "    <tr>\n",
       "      <th>0</th>\n",
       "      <td>1</td>\n",
       "      <td>Cory Escobar</td>\n",
       "      <td>48</td>\n",
       "      <td>Female</td>\n",
       "      <td>HR</td>\n",
       "      <td>5641</td>\n",
       "      <td>2015-05-03</td>\n",
       "      <td>2.0</td>\n",
       "      <td>16</td>\n",
       "      <td>Active</td>\n",
       "      <td>New York</td>\n",
       "      <td>Night</td>\n",
       "    </tr>\n",
       "    <tr>\n",
       "      <th>1</th>\n",
       "      <td>2</td>\n",
       "      <td>Timothy Sanchez</td>\n",
       "      <td>25</td>\n",
       "      <td>Other</td>\n",
       "      <td>Sales</td>\n",
       "      <td>4249</td>\n",
       "      <td>2020-11-09</td>\n",
       "      <td>2.0</td>\n",
       "      <td>11</td>\n",
       "      <td>Inactive</td>\n",
       "      <td>Los Angeles</td>\n",
       "      <td>Evening</td>\n",
       "    </tr>\n",
       "    <tr>\n",
       "      <th>2</th>\n",
       "      <td>3</td>\n",
       "      <td>Chad Nichols</td>\n",
       "      <td>57</td>\n",
       "      <td>Other</td>\n",
       "      <td>Sales</td>\n",
       "      <td>3058</td>\n",
       "      <td>2019-02-12</td>\n",
       "      <td>NaN</td>\n",
       "      <td>1</td>\n",
       "      <td>Inactive</td>\n",
       "      <td>New York</td>\n",
       "      <td>Morning</td>\n",
       "    </tr>\n",
       "    <tr>\n",
       "      <th>3</th>\n",
       "      <td>4</td>\n",
       "      <td>Christine Williams</td>\n",
       "      <td>58</td>\n",
       "      <td>Female</td>\n",
       "      <td>IT</td>\n",
       "      <td>5895</td>\n",
       "      <td>2017-09-08</td>\n",
       "      <td>2.0</td>\n",
       "      <td>13</td>\n",
       "      <td>Inactive</td>\n",
       "      <td>Los Angeles</td>\n",
       "      <td>Evening</td>\n",
       "    </tr>\n",
       "    <tr>\n",
       "      <th>4</th>\n",
       "      <td>5</td>\n",
       "      <td>Amber Harris</td>\n",
       "      <td>35</td>\n",
       "      <td>Other</td>\n",
       "      <td>IT</td>\n",
       "      <td>4317</td>\n",
       "      <td>2020-02-15</td>\n",
       "      <td>5.0</td>\n",
       "      <td>16</td>\n",
       "      <td>Inactive</td>\n",
       "      <td>New York</td>\n",
       "      <td>Evening</td>\n",
       "    </tr>\n",
       "  </tbody>\n",
       "</table>\n",
       "</div>"
      ],
      "text/plain": [
       "   ID                Name  Age  Gender Department  Salary Joining Date  \\\n",
       "0   1        Cory Escobar   48  Female         HR    5641   2015-05-03   \n",
       "1   2     Timothy Sanchez   25   Other      Sales    4249   2020-11-09   \n",
       "2   3        Chad Nichols   57   Other      Sales    3058   2019-02-12   \n",
       "3   4  Christine Williams   58  Female         IT    5895   2017-09-08   \n",
       "4   5        Amber Harris   35   Other         IT    4317   2020-02-15   \n",
       "\n",
       "   Performance Score  Experience    Status     Location  Session  \n",
       "0                2.0          16    Active     New York    Night  \n",
       "1                2.0          11  Inactive  Los Angeles  Evening  \n",
       "2                NaN           1  Inactive     New York  Morning  \n",
       "3                2.0          13  Inactive  Los Angeles  Evening  \n",
       "4                5.0          16  Inactive     New York  Evening  "
      ]
     },
     "execution_count": 2,
     "metadata": {},
     "output_type": "execute_result"
    }
   ],
   "source": [
    "\n",
    "import pandas as pd\n",
    "\n",
    "# Pfad zur Datei (ggf. anpassen)\n",
    "file_path = r\"C:\\Users\\DMQDCQR\\Downloads\\hallo\\Employe_Performance_dataset.csv\"\n",
    "\n",
    "# CSV in DataFrame laden\n",
    "df = pd.read_csv(file_path)\n",
    "\n",
    "# Ausgabe der ersten Zeilen\n",
    "df.head()\n"
   ]
  },
  {
   "cell_type": "markdown",
   "id": "b3ee65c4",
   "metadata": {},
   "source": [
    "\n",
    "## Hashing – Integritätsprüfung mit SHA2\n",
    "\n",
    "1. Datensatz mit SHA-256 verschlüsseln.\n"
   ]
  },
  {
   "cell_type": "code",
   "execution_count": 3,
   "id": "529f039d",
   "metadata": {},
   "outputs": [
    {
     "name": "stdout",
     "output_type": "stream",
     "text": [
      "SHA-256-Hash des gesamten Dokuments: 54b1482540a4ae607432397ae90b6839d149c781ac9391465ef88a3e1ae0374b\n"
     ]
    }
   ],
   "source": [
    "import hashlib\n",
    "\n",
    "# DataFrame als CSV-String umwandeln\n",
    "csv_string = df.to_csv(index=False)\n",
    "\n",
    "# SHA-256 (SHA-2 Familie)\n",
    "sha256_full = hashlib.sha256(csv_string.encode()).hexdigest()\n",
    "print(\"SHA-256-Hash des gesamten Dokuments:\", sha256_full)"
   ]
  },
  {
   "cell_type": "markdown",
   "id": "3bddc749",
   "metadata": {},
   "source": [
    "2. Eine Änderung im Datensatz simulieren."
   ]
  },
  {
   "cell_type": "code",
   "execution_count": 4,
   "id": "2f9cf791",
   "metadata": {},
   "outputs": [
    {
     "data": {
      "text/html": [
       "<div>\n",
       "<style scoped>\n",
       "    .dataframe tbody tr th:only-of-type {\n",
       "        vertical-align: middle;\n",
       "    }\n",
       "\n",
       "    .dataframe tbody tr th {\n",
       "        vertical-align: top;\n",
       "    }\n",
       "\n",
       "    .dataframe thead th {\n",
       "        text-align: right;\n",
       "    }\n",
       "</style>\n",
       "<table border=\"1\" class=\"dataframe\">\n",
       "  <thead>\n",
       "    <tr style=\"text-align: right;\">\n",
       "      <th></th>\n",
       "      <th>ID</th>\n",
       "      <th>Name</th>\n",
       "      <th>Age</th>\n",
       "      <th>Gender</th>\n",
       "      <th>Department</th>\n",
       "      <th>Salary</th>\n",
       "      <th>Joining Date</th>\n",
       "      <th>Performance Score</th>\n",
       "      <th>Experience</th>\n",
       "      <th>Status</th>\n",
       "      <th>Location</th>\n",
       "      <th>Session</th>\n",
       "    </tr>\n",
       "  </thead>\n",
       "  <tbody>\n",
       "    <tr>\n",
       "      <th>0</th>\n",
       "      <td>1</td>\n",
       "      <td>Cory Escobar</td>\n",
       "      <td>48</td>\n",
       "      <td>Female</td>\n",
       "      <td>HR</td>\n",
       "      <td>5642</td>\n",
       "      <td>2015-05-03</td>\n",
       "      <td>2.0</td>\n",
       "      <td>16</td>\n",
       "      <td>Active</td>\n",
       "      <td>New York</td>\n",
       "      <td>Night</td>\n",
       "    </tr>\n",
       "    <tr>\n",
       "      <th>1</th>\n",
       "      <td>2</td>\n",
       "      <td>Timothy Sanchez</td>\n",
       "      <td>25</td>\n",
       "      <td>Other</td>\n",
       "      <td>Sales</td>\n",
       "      <td>4249</td>\n",
       "      <td>2020-11-09</td>\n",
       "      <td>2.0</td>\n",
       "      <td>11</td>\n",
       "      <td>Inactive</td>\n",
       "      <td>Los Angeles</td>\n",
       "      <td>Evening</td>\n",
       "    </tr>\n",
       "    <tr>\n",
       "      <th>2</th>\n",
       "      <td>3</td>\n",
       "      <td>Chad Nichols</td>\n",
       "      <td>57</td>\n",
       "      <td>Other</td>\n",
       "      <td>Sales</td>\n",
       "      <td>3058</td>\n",
       "      <td>2019-02-12</td>\n",
       "      <td>NaN</td>\n",
       "      <td>1</td>\n",
       "      <td>Inactive</td>\n",
       "      <td>New York</td>\n",
       "      <td>Morning</td>\n",
       "    </tr>\n",
       "    <tr>\n",
       "      <th>3</th>\n",
       "      <td>4</td>\n",
       "      <td>Christine Williams</td>\n",
       "      <td>58</td>\n",
       "      <td>Female</td>\n",
       "      <td>IT</td>\n",
       "      <td>5895</td>\n",
       "      <td>2017-09-08</td>\n",
       "      <td>2.0</td>\n",
       "      <td>13</td>\n",
       "      <td>Inactive</td>\n",
       "      <td>Los Angeles</td>\n",
       "      <td>Evening</td>\n",
       "    </tr>\n",
       "    <tr>\n",
       "      <th>4</th>\n",
       "      <td>5</td>\n",
       "      <td>Amber Harris</td>\n",
       "      <td>35</td>\n",
       "      <td>Other</td>\n",
       "      <td>IT</td>\n",
       "      <td>4317</td>\n",
       "      <td>2020-02-15</td>\n",
       "      <td>5.0</td>\n",
       "      <td>16</td>\n",
       "      <td>Inactive</td>\n",
       "      <td>New York</td>\n",
       "      <td>Evening</td>\n",
       "    </tr>\n",
       "  </tbody>\n",
       "</table>\n",
       "</div>"
      ],
      "text/plain": [
       "   ID                Name  Age  Gender Department  Salary Joining Date  \\\n",
       "0   1        Cory Escobar   48  Female         HR    5642   2015-05-03   \n",
       "1   2     Timothy Sanchez   25   Other      Sales    4249   2020-11-09   \n",
       "2   3        Chad Nichols   57   Other      Sales    3058   2019-02-12   \n",
       "3   4  Christine Williams   58  Female         IT    5895   2017-09-08   \n",
       "4   5        Amber Harris   35   Other         IT    4317   2020-02-15   \n",
       "\n",
       "   Performance Score  Experience    Status     Location  Session  \n",
       "0                2.0          16    Active     New York    Night  \n",
       "1                2.0          11  Inactive  Los Angeles  Evening  \n",
       "2                NaN           1  Inactive     New York  Morning  \n",
       "3                2.0          13  Inactive  Los Angeles  Evening  \n",
       "4                5.0          16  Inactive     New York  Evening  "
      ]
     },
     "execution_count": 4,
     "metadata": {},
     "output_type": "execute_result"
    }
   ],
   "source": [
    "df_mod1 = df.copy()\n",
    "\n",
    "# Salary in der ersten Zeile leicht ändern\n",
    "df_mod1.loc[0, \"Salary\"] = 5642  \n",
    "\n",
    "# Ausgabe\n",
    "df_mod1.head()"
   ]
  },
  {
   "cell_type": "markdown",
   "id": "2cd17318",
   "metadata": {},
   "source": [
    "3. Die Veränderung wird beim Vergleich der beiden Hashwerte sofort sichtbar. Ein Manipulations- oder Fälschungsversuch würde dadurch auffallen – etwa, wenn innerhalb eines Unternehmens eine Datei dupliziert und verändert weitergeleitet wird oder wenn man eine Datei aus dem Internet herunterlädt und den bekannten Original-Hashwert zum Abgleich heranzieht."
   ]
  },
  {
   "cell_type": "code",
   "execution_count": 5,
   "id": "bebe6550",
   "metadata": {},
   "outputs": [
    {
     "name": "stdout",
     "output_type": "stream",
     "text": [
      "SHA-256-Hash des geänderten Dokuments: 7fe57c4b6a48d8fe7e3afa9971d430387b44a1aa8257ef21637bf50fe57c3365\n"
     ]
    }
   ],
   "source": [
    "# SHA-256-Hash des geänderten DataFrames berechnen\n",
    "sha256_full_modified = hashlib.sha256(df_mod1.to_csv(index=False).encode()).hexdigest()\n",
    "\n",
    "print(\"SHA-256-Hash des geänderten Dokuments:\", sha256_full_modified)"
   ]
  },
  {
   "cell_type": "markdown",
   "id": "fd93912c",
   "metadata": {},
   "source": [
    "\n",
    "## Hashing – Integritätsprüfung mit SHA3\n",
    "\n",
    "1. Datensatz mit SHA3-256 verschlüsseln.\n"
   ]
  },
  {
   "cell_type": "code",
   "execution_count": 6,
   "id": "fd535aa5",
   "metadata": {},
   "outputs": [
    {
     "name": "stdout",
     "output_type": "stream",
     "text": [
      "SHA3-256-Hash des gesamten Dokuments: c088cfeb98adb681cbe324bf304ac4c6657f780f4914e094d7e97a42ce57f626\n"
     ]
    }
   ],
   "source": [
    "import hashlib\n",
    "\n",
    "# DataFrame als CSV-String umwandeln\n",
    "csv_string = df.to_csv(index=False)\n",
    "\n",
    "# SHA3-256 (SHA-3 Familie, Keccak)\n",
    "sha3_256_full = hashlib.sha3_256(csv_string.encode()).hexdigest()\n",
    "print(\"SHA3-256-Hash des gesamten Dokuments:\", sha3_256_full)\n"
   ]
  },
  {
   "cell_type": "markdown",
   "id": "0b8492d7",
   "metadata": {},
   "source": [
    "2. Eine Änderung am Datensatz simulieren"
   ]
  },
  {
   "cell_type": "code",
   "execution_count": 7,
   "id": "9e6bdf78",
   "metadata": {},
   "outputs": [
    {
     "data": {
      "text/html": [
       "<div>\n",
       "<style scoped>\n",
       "    .dataframe tbody tr th:only-of-type {\n",
       "        vertical-align: middle;\n",
       "    }\n",
       "\n",
       "    .dataframe tbody tr th {\n",
       "        vertical-align: top;\n",
       "    }\n",
       "\n",
       "    .dataframe thead th {\n",
       "        text-align: right;\n",
       "    }\n",
       "</style>\n",
       "<table border=\"1\" class=\"dataframe\">\n",
       "  <thead>\n",
       "    <tr style=\"text-align: right;\">\n",
       "      <th></th>\n",
       "      <th>ID</th>\n",
       "      <th>Name</th>\n",
       "      <th>Age</th>\n",
       "      <th>Gender</th>\n",
       "      <th>Department</th>\n",
       "      <th>Salary</th>\n",
       "      <th>Joining Date</th>\n",
       "      <th>Performance Score</th>\n",
       "      <th>Experience</th>\n",
       "      <th>Status</th>\n",
       "      <th>Location</th>\n",
       "      <th>Session</th>\n",
       "    </tr>\n",
       "  </thead>\n",
       "  <tbody>\n",
       "    <tr>\n",
       "      <th>0</th>\n",
       "      <td>1</td>\n",
       "      <td>Cory Escobar</td>\n",
       "      <td>48</td>\n",
       "      <td>Female</td>\n",
       "      <td>HR</td>\n",
       "      <td>5646</td>\n",
       "      <td>2015-05-03</td>\n",
       "      <td>2.0</td>\n",
       "      <td>16</td>\n",
       "      <td>Active</td>\n",
       "      <td>New York</td>\n",
       "      <td>Night</td>\n",
       "    </tr>\n",
       "    <tr>\n",
       "      <th>1</th>\n",
       "      <td>2</td>\n",
       "      <td>Timothy Sanchez</td>\n",
       "      <td>25</td>\n",
       "      <td>Other</td>\n",
       "      <td>Sales</td>\n",
       "      <td>4249</td>\n",
       "      <td>2020-11-09</td>\n",
       "      <td>2.0</td>\n",
       "      <td>11</td>\n",
       "      <td>Inactive</td>\n",
       "      <td>Los Angeles</td>\n",
       "      <td>Evening</td>\n",
       "    </tr>\n",
       "    <tr>\n",
       "      <th>2</th>\n",
       "      <td>3</td>\n",
       "      <td>Chad Nichols</td>\n",
       "      <td>57</td>\n",
       "      <td>Other</td>\n",
       "      <td>Sales</td>\n",
       "      <td>3058</td>\n",
       "      <td>2019-02-12</td>\n",
       "      <td>NaN</td>\n",
       "      <td>1</td>\n",
       "      <td>Inactive</td>\n",
       "      <td>New York</td>\n",
       "      <td>Morning</td>\n",
       "    </tr>\n",
       "    <tr>\n",
       "      <th>3</th>\n",
       "      <td>4</td>\n",
       "      <td>Christine Williams</td>\n",
       "      <td>58</td>\n",
       "      <td>Female</td>\n",
       "      <td>IT</td>\n",
       "      <td>5895</td>\n",
       "      <td>2017-09-08</td>\n",
       "      <td>2.0</td>\n",
       "      <td>13</td>\n",
       "      <td>Inactive</td>\n",
       "      <td>Los Angeles</td>\n",
       "      <td>Evening</td>\n",
       "    </tr>\n",
       "    <tr>\n",
       "      <th>4</th>\n",
       "      <td>5</td>\n",
       "      <td>Amber Harris</td>\n",
       "      <td>35</td>\n",
       "      <td>Other</td>\n",
       "      <td>IT</td>\n",
       "      <td>4317</td>\n",
       "      <td>2020-02-15</td>\n",
       "      <td>5.0</td>\n",
       "      <td>16</td>\n",
       "      <td>Inactive</td>\n",
       "      <td>New York</td>\n",
       "      <td>Evening</td>\n",
       "    </tr>\n",
       "  </tbody>\n",
       "</table>\n",
       "</div>"
      ],
      "text/plain": [
       "   ID                Name  Age  Gender Department  Salary Joining Date  \\\n",
       "0   1        Cory Escobar   48  Female         HR    5646   2015-05-03   \n",
       "1   2     Timothy Sanchez   25   Other      Sales    4249   2020-11-09   \n",
       "2   3        Chad Nichols   57   Other      Sales    3058   2019-02-12   \n",
       "3   4  Christine Williams   58  Female         IT    5895   2017-09-08   \n",
       "4   5        Amber Harris   35   Other         IT    4317   2020-02-15   \n",
       "\n",
       "   Performance Score  Experience    Status     Location  Session  \n",
       "0                2.0          16    Active     New York    Night  \n",
       "1                2.0          11  Inactive  Los Angeles  Evening  \n",
       "2                NaN           1  Inactive     New York  Morning  \n",
       "3                2.0          13  Inactive  Los Angeles  Evening  \n",
       "4                5.0          16  Inactive     New York  Evening  "
      ]
     },
     "execution_count": 7,
     "metadata": {},
     "output_type": "execute_result"
    }
   ],
   "source": [
    "df_mod2 = df.copy()\n",
    "\n",
    "# Salary in der ersten Zeile leicht ändern\n",
    "df_mod2.loc[0, \"Salary\"] = 5646 \n",
    "\n",
    "# Ausgabe\n",
    "df_mod2.head()"
   ]
  },
  {
   "cell_type": "markdown",
   "id": "90c2a092",
   "metadata": {},
   "source": [
    "3. Die Veränderung wird beim Vergleich der beiden Hashwerte sofort sichtbar. Ein Manipulations- oder Fälschungsversuch würde dadurch auffallen – etwa, wenn innerhalb eines Unternehmens eine Datei dupliziert und verändert weitergeleitet wird oder wenn man eine Datei aus dem Internet herunterlädt und den bekannten Original-Hashwert zum Abgleich heranzieht."
   ]
  },
  {
   "cell_type": "code",
   "execution_count": 8,
   "id": "b09659b7",
   "metadata": {},
   "outputs": [
    {
     "name": "stdout",
     "output_type": "stream",
     "text": [
      "SHA3-256-Hash des geänderten Dokuments: 3ce3e5f1a9ba52c0496f130d05e4da3fa26c51c9d71673fc4ca4f00cbf7f9248\n"
     ]
    }
   ],
   "source": [
    "# SHA3-256-Hash des geänderten DataFrames berechnen\n",
    "sha3_256_full_modified = hashlib.sha3_256(df_mod2.to_csv(index=False).encode()).hexdigest()\n",
    "\n",
    "print(\"SHA3-256-Hash des geänderten Dokuments:\", sha3_256_full_modified)"
   ]
  },
  {
   "cell_type": "markdown",
   "id": "1a28ac9a",
   "metadata": {},
   "source": [
    "\n",
    "## Symmetrische Verschlüsselung – AES\n",
    "\n",
    "1. Es wird simuliert, wie ein Mitarbeiter eine Datei verschlüsselt und anschließend die verschlüsselte Version abspeichert."
   ]
  },
  {
   "cell_type": "code",
   "execution_count": null,
   "id": "e6dc02a5",
   "metadata": {},
   "outputs": [
    {
     "name": "stdout",
     "output_type": "stream",
     "text": [
      "Datei erfolgreich verschlüsselt!\n",
      "Gespeichert unter: C:\\Users\\DMQDCQR/Documents/Krypto\\employee_data.enc\n"
     ]
    }
   ],
   "source": [
    "from cryptography.hazmat.primitives.ciphers import Cipher, algorithms, modes\n",
    "from cryptography.hazmat.backends import default_backend\n",
    "from cryptography.hazmat.primitives.kdf.pbkdf2 import PBKDF2HMAC\n",
    "from cryptography.hazmat.primitives import hashes\n",
    "import os\n",
    "\n",
    "# Passwort (bekannt bei Absender und Empfänger)\n",
    "password = b\"MeinGeheimesPasswort\"\n",
    "\n",
    "# Salt und IV erzeugen\n",
    "salt = os.urandom(16)\n",
    "iv = os.urandom(16)\n",
    "\n",
    "# Schlüssel aus Passwort ableiten\n",
    "kdf = PBKDF2HMAC(\n",
    "    algorithm=hashes.SHA256(),\n",
    "    length=32,\n",
    "    salt=salt,\n",
    "    iterations=100000,\n",
    "    backend=default_backend()\n",
    ")\n",
    "key = kdf.derive(password)\n",
    "\n",
    "# Datei laden\n",
    "with open(file_path, \"rb\") as f:\n",
    "    plaintext = f.read()\n",
    "\n",
    "# Padding\n",
    "padded = plaintext + b\" \" * ((16 - len(plaintext) % 16) % 16)\n",
    "\n",
    "# Verschlüsseln\n",
    "cipher = Cipher(algorithms.AES(key), modes.CBC(iv), backend=default_backend())\n",
    "encryptor = cipher.encryptor()\n",
    "ciphertext = encryptor.update(padded) + encryptor.finalize()\n",
    "\n",
    "# Speicherpfad festlegen\n",
    "# colab: save_dir = os.path.expanduser(\"~/content/Krypto\")\n",
    "save_dir = os.path.expanduser(\"~/Documents/Krypto\")\n",
    "os.makedirs(save_dir, exist_ok=True)\n",
    "\n",
    "enc_file_path = os.path.join(save_dir, \"employee_data.enc\")\n",
    "\n",
    "# Salt + IV + Ciphertext zusammen speichern\n",
    "with open(enc_file_path, \"wb\") as f:\n",
    "    f.write(salt + iv + ciphertext)\n",
    "\n",
    "print(\"Datei erfolgreich mit AES verschlüsselt!\")\n",
    "print(\"Gespeichert unter:\", enc_file_path)\n"
   ]
  },
  {
   "cell_type": "markdown",
   "id": "e40542de",
   "metadata": {},
   "source": [
    "2. Der empfangende Mitarbeiter kann die Datei mit dem gemeinsam bekannten Passwort wieder entschlüsseln, sodass ausschließlich er Zugriff auf die Inhalte hat und die Daten sicher übertragen wurden."
   ]
  },
  {
   "cell_type": "code",
   "execution_count": 17,
   "id": "ac594748",
   "metadata": {},
   "outputs": [
    {
     "name": "stdout",
     "output_type": "stream",
     "text": [
      "Datei erfolgreich entschlüsselt!\n",
      "Gespeichert unter: C:\\Users\\DMQDCQR/Documents/Krypto\\employee_data_decrypted.csv\n"
     ]
    }
   ],
   "source": [
    "from cryptography.hazmat.primitives.ciphers import Cipher, algorithms, modes\n",
    "from cryptography.hazmat.backends import default_backend\n",
    "from cryptography.hazmat.primitives.kdf.pbkdf2 import PBKDF2HMAC\n",
    "from cryptography.hazmat.primitives import hashes\n",
    "import os\n",
    "\n",
    "# Passwort (muss dasselbe sein wie beim Verschlüsseln!)\n",
    "password = b\"MeinGeheimesPasswort\"\n",
    "\n",
    "# Speicherpfad für verschlüsselte Datei (muss existieren)\n",
    "# colab: save_dir = os.path.expanduser(\"~/content/Krypto\")\n",
    "save_dir = os.path.expanduser(\"~/Documents/Krypto\")\n",
    "enc_file_path = os.path.join(save_dir, \"employee_data.enc\")\n",
    "\n",
    "# Datei laden\n",
    "with open(enc_file_path, \"rb\") as f:\n",
    "    file_data = f.read()\n",
    "\n",
    "# Salt, IV und Ciphertext extrahieren\n",
    "salt = file_data[:16]\n",
    "iv = file_data[16:32]\n",
    "ciphertext = file_data[32:]\n",
    "\n",
    "# Schlüssel aus Passwort und Salt ableiten\n",
    "kdf = PBKDF2HMAC(\n",
    "    algorithm=hashes.SHA256(),\n",
    "    length=32,\n",
    "    salt=salt,\n",
    "    iterations=100000,\n",
    "    backend=default_backend()\n",
    ")\n",
    "key = kdf.derive(password)\n",
    "\n",
    "# Entschlüsseln\n",
    "cipher = Cipher(algorithms.AES(key), modes.CBC(iv), backend=default_backend())\n",
    "decryptor = cipher.decryptor()\n",
    "decrypted = decryptor.update(ciphertext) + decryptor.finalize()\n",
    "decrypted = decrypted.rstrip(b\" \")  # Padding entfernen\n",
    "\n",
    "# Entschlüsselte Datei speichern\n",
    "dec_file_path = os.path.join(save_dir, \"employee_data_decrypted.csv\")\n",
    "with open(dec_file_path, \"wb\") as f:\n",
    "    f.write(decrypted)\n",
    "\n",
    "print(\"Datei erfolgreich entschlüsselt!\")\n",
    "print(\"Gespeichert unter:\", dec_file_path)\n"
   ]
  },
  {
   "cell_type": "markdown",
   "id": "863dc9fe",
   "metadata": {},
   "source": [
    "Ergebnis: Auf diese Weise können Mitarbeiter Dokumente verschlüsselt austauschen, die nur von Personen mit dem richtigen Passwort geöffnet werden können."
   ]
  },
  {
   "cell_type": "markdown",
   "id": "e9528062",
   "metadata": {},
   "source": [
    "## Symmetrische Verschlüsselung – Blowfish\n",
    "\n",
    "1. Es wird simuliert, wie ein Mitarbeiter eine Datei verschlüsselt und anschließend die verschlüsselte Version abspeichert."
   ]
  },
  {
   "cell_type": "code",
   "execution_count": null,
   "id": "3268bbe1",
   "metadata": {},
   "outputs": [
    {
     "name": "stdout",
     "output_type": "stream",
     "text": [
      "Collecting pycryptodome\n",
      "  Using cached pycryptodome-3.23.0-cp37-abi3-win_amd64.whl.metadata (3.5 kB)\n",
      "Using cached pycryptodome-3.23.0-cp37-abi3-win_amd64.whl (1.8 MB)\n",
      "Installing collected packages: pycryptodome\n",
      "Successfully installed pycryptodome-3.23.0\n"
     ]
    }
   ],
   "source": [
    "!pip install pycryptodome"
   ]
  },
  {
   "cell_type": "code",
   "execution_count": null,
   "id": "6c396ec7",
   "metadata": {},
   "outputs": [
    {
     "name": "stdout",
     "output_type": "stream",
     "text": [
      "Datei erfolgreich mit Blowfish verschlüsselt!\n",
      "Gespeichert unter: C:\\Users\\DMQDCQR/Documents/Krypto\\employee_data_blowfish.enc\n"
     ]
    }
   ],
   "source": [
    "from Crypto.Cipher import Blowfish\n",
    "from Crypto.Protocol.KDF import PBKDF2\n",
    "import os\n",
    "\n",
    "# Passwort (bekannt bei Absender und Empfänger)\n",
    "password = b\"MeinGeheimesPasswort\"\n",
    "\n",
    "# Salt erzeugen\n",
    "salt = os.urandom(16)\n",
    "\n",
    "# Schlüssel aus Passwort ableiten (max. 56 Byte für Blowfish)\n",
    "key = PBKDF2(password, salt, dkLen=32, count=100000)\n",
    "\n",
    "# IV erzeugen (8 Byte, weil Blowfish Blockgröße = 64 Bit)\n",
    "iv = os.urandom(8)\n",
    "\n",
    "# Datei laden\n",
    "with open(file_path, \"rb\") as f:\n",
    "    plaintext = f.read()\n",
    "\n",
    "# Padding (auf 8 Byte auffüllen)\n",
    "padded = plaintext + b\" \" * ((8 - len(plaintext) % 8) % 8)\n",
    "\n",
    "# Verschlüsseln\n",
    "cipher = Blowfish.new(key, Blowfish.MODE_CBC, iv=iv)\n",
    "ciphertext = cipher.encrypt(padded)\n",
    "\n",
    "# Speicherpfad festlegen\n",
    "# Für Colab: save_dir = \"/content/Krypto\"\n",
    "save_dir = os.path.expanduser(\"~/Documents/Krypto\")\n",
    "os.makedirs(save_dir, exist_ok=True)\n",
    "\n",
    "enc_file_path = os.path.join(save_dir, \"employee_data_blowfish.enc\")\n",
    "\n",
    "# Salt + IV + Ciphertext zusammen speichern\n",
    "with open(enc_file_path, \"wb\") as f:\n",
    "    f.write(salt + iv + ciphertext)\n",
    "\n",
    "print(\"Datei erfolgreich mit Blowfish verschlüsselt!\")\n",
    "print(\"Gespeichert unter:\", enc_file_path)"
   ]
  },
  {
   "cell_type": "markdown",
   "id": "9c598d49",
   "metadata": {},
   "source": [
    "2. Der empfangende Mitarbeiter kann die Datei mit dem gemeinsam bekannten Passwort wieder entschlüsseln, sodass ausschließlich er Zugriff auf die Inhalte hat und die Daten sicher übertragen wurden."
   ]
  },
  {
   "cell_type": "code",
   "execution_count": 19,
   "id": "01815380",
   "metadata": {},
   "outputs": [
    {
     "name": "stdout",
     "output_type": "stream",
     "text": [
      "Datei erfolgreich entschlüsselt!\n",
      "Gespeichert unter: C:\\Users\\DMQDCQR/Documents/Krypto\\employee_data_blowfish_decrypted.csv\n"
     ]
    }
   ],
   "source": [
    "from Crypto.Cipher import Blowfish\n",
    "from Crypto.Protocol.KDF import PBKDF2\n",
    "import os\n",
    "\n",
    "# Passwort (muss dasselbe sein wie beim Verschlüsseln!)\n",
    "password = b\"MeinGeheimesPasswort\"\n",
    "\n",
    "# Speicherpfad für verschlüsselte Datei (muss existieren)\n",
    "# Colab: save_dir = \"/content/Krypto\"\n",
    "save_dir = os.path.expanduser(\"~/Documents/Krypto\")\n",
    "enc_file_path = os.path.join(save_dir, \"employee_data_blowfish.enc\")\n",
    "\n",
    "# Datei laden\n",
    "with open(enc_file_path, \"rb\") as f:\n",
    "    file_data = f.read()\n",
    "\n",
    "# Salt (16 Byte) + IV (8 Byte) + Ciphertext extrahieren\n",
    "salt = file_data[:16]\n",
    "iv = file_data[16:24]\n",
    "ciphertext = file_data[24:]\n",
    "\n",
    "# Schlüssel aus Passwort + Salt ableiten (max. 56 Byte für Blowfish)\n",
    "key = PBKDF2(password, salt, dkLen=32, count=100000)\n",
    "\n",
    "# Entschlüsseln\n",
    "cipher = Blowfish.new(key, Blowfish.MODE_CBC, iv=iv)\n",
    "decrypted = cipher.decrypt(ciphertext)\n",
    "decrypted = decrypted.rstrip(b\" \")  # Padding entfernen\n",
    "\n",
    "# Entschlüsselte Datei speichern\n",
    "dec_file_path = os.path.join(save_dir, \"employee_data_blowfish_decrypted.csv\")\n",
    "with open(dec_file_path, \"wb\") as f:\n",
    "    f.write(decrypted)\n",
    "\n",
    "print(\"Datei erfolgreich entschlüsselt!\")\n",
    "print(\"Gespeichert unter:\", dec_file_path)\n"
   ]
  },
  {
   "cell_type": "markdown",
   "id": "7f715178",
   "metadata": {},
   "source": [
    "Ergebnis: Auf diese Weise können Mitarbeiter Dokumente verschlüsselt austauschen, die nur von Personen mit dem richtigen Passwort geöffnet werden können."
   ]
  }
 ],
 "metadata": {
  "kernelspec": {
   "display_name": ".venv",
   "language": "python",
   "name": "python3"
  },
  "language_info": {
   "codemirror_mode": {
    "name": "ipython",
    "version": 3
   },
   "file_extension": ".py",
   "mimetype": "text/x-python",
   "name": "python",
   "nbconvert_exporter": "python",
   "pygments_lexer": "ipython3",
   "version": "3.11.0"
  }
 },
 "nbformat": 4,
 "nbformat_minor": 5
}
