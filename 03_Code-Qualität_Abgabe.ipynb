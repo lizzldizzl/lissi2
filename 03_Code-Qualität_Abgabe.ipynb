{
  "cells": [
    {
      "cell_type": "markdown",
      "id": "20846cb7",
      "metadata": {
        "id": "20846cb7"
      },
      "source": [
        "# Einführung zur Code-Qualität: Demonstration von 5 Ruff-Regelgruppen\n",
        "\n",
        "## Was ist Ruff?\n",
        "\n",
        "Ruff ist ein extrem schneller Python-Linter und Formatter, der **Best Practices** beim Schreiben von Code durchsetzt und häufige Fehler, Ineffizienzen oder Sicherheitslücken identifiziert (https://realpython.com/ruff-python/) Dieses Notebook demonstriert die Anwendung von fünf verschiedenen Regelgruppen von Ruff (**S, E, D, PERF**) anhand konkreter Beispiele.\n",
        "\n",
        "## Die demonstrierten Regelgruppen und Themen:\n",
        "\n",
        "1. **Security (S101, S506)**: Fokus auf die Vermeidung von Sicherheitsrisiken und unzuverlässigem Verhalten.\n",
        "2. **Formatierung/Style (E711)**: Einhaltung des PEP 8 Style Guides für bessere Lesbarkeit.\n",
        "3. **Dokumentation (D100)**: Sicherstellen einer adäquaten Code-Dokumentation.\n",
        "4. **Performance (PERF203)**: Identifizierung von Code-Stellen mit unnötigem Performance-Overhead.\n",
        "\n",
        "(https://docs.astral.sh/ruff/rules/#flake8-async-async)\n",
        "\n",
        "Für jede Regelgruppe werden folgende Schritte durchgeführt:\n",
        "- Erzeugung eines Beispiels mit **fehlerhaftem Code**\n",
        "- Erstellung einer **korrigierten Variante**\n",
        "- **Prüfung mit Ruff** und Darstellung der Ergebnisse\n"
      ]
    },
    {
      "cell_type": "markdown",
      "id": "prep_install",
      "metadata": {
        "id": "prep_install"
      },
      "source": [
        "## Codevorbereitung"
      ]
    },
    {
      "cell_type": "code",
      "execution_count": 1,
      "id": "edb300f0",
      "metadata": {
        "id": "edb300f0",
        "outputId": "ac7530e4-a326-4f34-8a11-38fb15c9c16a",
        "colab": {
          "base_uri": "https://localhost:8080/"
        }
      },
      "outputs": [
        {
          "output_type": "stream",
          "name": "stdout",
          "text": [
            "Requirement already satisfied: cryptography in /usr/local/lib/python3.12/dist-packages (43.0.3)\n",
            "Requirement already satisfied: cffi>=1.12 in /usr/local/lib/python3.12/dist-packages (from cryptography) (2.0.0)\n",
            "Requirement already satisfied: pycparser in /usr/local/lib/python3.12/dist-packages (from cffi>=1.12->cryptography) (2.23)\n"
          ]
        }
      ],
      "source": [
        "# Installation von ruff (nur ausführen, wenn nicht installiert)\n",
        "!pip install ruff --quiet\n",
        "!pip install cryptography"
      ]
    },
    {
      "cell_type": "markdown",
      "id": "7b0206f5",
      "metadata": {
        "id": "7b0206f5"
      },
      "source": [
        "## Regelgruppe Security (S)\n",
        "---\n",
        "### Fehler: Unsichere Nutzung von `assert` (*S101*)\n",
        "(https://docs.astral.sh/ruff/rules/assert/)\n",
        "\n",
        "Die Warnung besagt, dass die Verwendung von assert problematisch sein kann, weil Assertions in Python bei aktivierter Optimierung (mit dem -O-Flag) entfernt werden. Deshalb eignen sie sich nicht, um Eingaben von Nutzern zu prüfen oder Schnittstellenbedingungen durchzusetzen, da diese Prüfungen in der Produktionsumgebung fehlen würden. Stattdessen sollte man besser gezielt Fehler mit raise auslösen, um sicherzustellen, dass die Validierung immer erfolgt."
      ]
    },
    {
      "cell_type": "code",
      "execution_count": 2,
      "id": "9670637c",
      "metadata": {
        "id": "9670637c",
        "outputId": "118fccf5-842a-4055-9481-1d0686d8b723",
        "colab": {
          "base_uri": "https://localhost:8080/"
        }
      },
      "outputs": [
        {
          "output_type": "stream",
          "name": "stdout",
          "text": [
            "\u001b[1m\u001b[91mS101 \u001b[0m\u001b[1mUse of `assert` detected\u001b[0m\n",
            " \u001b[1m\u001b[94m-->\u001b[0m s101_assert_bad.py:3:1\n",
            "  \u001b[1m\u001b[94m|\u001b[0m\n",
            "\u001b[1m\u001b[94m1 |\u001b[0m # Unsichere Nutzung von assert (kann in optimiertem Modus ignoriert werden)\n",
            "\u001b[1m\u001b[94m2 |\u001b[0m user_input = \"\"\n",
            "\u001b[1m\u001b[94m3 |\u001b[0m assert user_input != \"\", \"Input darf nicht leer sein!\"  # unsicher\n",
            "  \u001b[1m\u001b[94m|\u001b[0m \u001b[1m\u001b[91m^^^^^^\u001b[0m\n",
            "  \u001b[1m\u001b[94m|\u001b[0m\n",
            "\n",
            "Found 1 error.\n",
            "--------------------------------------------\n",
            "All checks passed!\n"
          ]
        }
      ],
      "source": [
        "# Fehlerhafte Version (unsicher)\n",
        "# Ruff erkennt S101, da 'assert' in optimiertem Modus (-O) ignoriert wird und\n",
        "# somit kritische Validierungen fehlschlagen können.\n",
        "with open(\"s101_assert_bad.py\", \"w\", encoding=\"utf-8\") as f:\n",
        "    f.write(\"\"\"# Unsichere Nutzung von assert (kann in optimiertem Modus ignoriert werden)\n",
        "user_input = \"\"\n",
        "assert user_input != \"\", \"Input darf nicht leer sein!\"  # unsicher\n",
        "\"\"\")\n",
        "\n",
        "# Ruff-Check (Security-Regeln, Auswahl S)\n",
        "!ruff check --select S s101_assert_bad.py\n",
        "\n",
        "print(\"--------------------------------------------\")\n",
        "\n",
        "# Korrigierte Version (sicher)\n",
        "# Stattdessen wird eine explizite 'if'-Bedingung mit 'raise' verwendet,\n",
        "# was immer garantiert ist.\n",
        "with open(\"s101_assert_good.py\", \"w\", encoding=\"utf-8\") as f:\n",
        "    f.write(\"\"\"# Sichere Nutzung mit if + Exception\n",
        "user_input = \"\"\n",
        "if user_input == \"\":\n",
        "    raise ValueError(\"Input darf nicht leer sein!\")  # sicher\n",
        "\"\"\")\n",
        "\n",
        "# Ruff-Check (Security-Regeln)\n",
        "!ruff check --select S s101_assert_good.py\n"
      ]
    },
    {
      "cell_type": "markdown",
      "id": "bebd6e3d",
      "metadata": {
        "id": "bebd6e3d"
      },
      "source": [
        "---\n",
        "### Fehler: Unsicherer Schlüssel (*S506*)\n",
        "\n",
        "Die Warnung besagt, dass kryptografische Schlüssel mit zu kleinen Schlüssellängen verwendet werden, was unsicher ist. Solche Schlüssel können leicht geknackt werden, wodurch die Verschlüsselung oder Signatur ihre Sicherheit verliert. Empfohlen wird, für DSA und RSA mindestens 2048 Bit und für elliptische Kurven (EC) mindestens 224 Bit zu verwenden (https://docs.astral.sh/ruff/rules/weak-cryptographic-key/)"
      ]
    },
    {
      "cell_type": "code",
      "execution_count": 3,
      "id": "42bea092",
      "metadata": {
        "id": "42bea092",
        "outputId": "a8741f2d-404f-4988-82c8-4aabdd3b2fa2",
        "colab": {
          "base_uri": "https://localhost:8080/"
        }
      },
      "outputs": [
        {
          "output_type": "stream",
          "name": "stdout",
          "text": [
            "\u001b[1m\u001b[91mS505 \u001b[0m\u001b[1mRSA key sizes below 2048 bits are considered breakable\u001b[0m\n",
            " \u001b[1m\u001b[94m-->\u001b[0m s505_key_bad.py:6:14\n",
            "  \u001b[1m\u001b[94m|\u001b[0m\n",
            "\u001b[1m\u001b[94m4 |\u001b[0m private_key = rsa.generate_private_key(\n",
            "\u001b[1m\u001b[94m5 |\u001b[0m     public_exponent=65537,\n",
            "\u001b[1m\u001b[94m6 |\u001b[0m     key_size=512  # unsicher\n",
            "  \u001b[1m\u001b[94m|\u001b[0m              \u001b[1m\u001b[91m^^^\u001b[0m\n",
            "\u001b[1m\u001b[94m7 |\u001b[0m )\n",
            "  \u001b[1m\u001b[94m|\u001b[0m\n",
            "\n",
            "Found 1 error.\n",
            "--------------------------------------------\n",
            "All checks passed!\n"
          ]
        }
      ],
      "source": [
        "from cryptography.hazmat.primitives.asymmetric import rsa, ec\n",
        "from cryptography.hazmat.primitives import serialization\n",
        "\n",
        "# -------------------------------\n",
        "# Fehlerhafte Version (unsicher)\n",
        "# S505 wird ausgelöst, da der RSA-Schlüssel zu klein ist (z.B. 512 Bit)\n",
        "# -------------------------------\n",
        "with open(\"s505_key_bad.py\", \"w\", encoding=\"utf-8\") as f:\n",
        "    f.write(\n",
        "        \"\"\"from cryptography.hazmat.primitives.asymmetric import rsa\n",
        "\n",
        "# Unsicherer RSA-Schlüssel (zu klein, leicht angreifbar)\n",
        "private_key = rsa.generate_private_key(\n",
        "    public_exponent=65537,\n",
        "    key_size=512  # unsicher\n",
        ")\n",
        "\n",
        "print(\"Unsicherer Schlüssel generiert\")\n",
        "\"\"\"\n",
        "    )\n",
        "\n",
        "# Ruff-Check (Security-Regeln)\n",
        "!ruff check --select S s505_key_bad.py\n",
        "\n",
        "print(\"--------------------------------------------\")\n",
        "\n",
        "# -------------------------------\n",
        "# Korrigierte Version (sicher)\n",
        "# Verwendung von RSA 2048 Bit oder EC 224 Bit\n",
        "# -------------------------------\n",
        "with open(\"s505_key_good.py\", \"w\", encoding=\"utf-8\") as f:\n",
        "    f.write(\n",
        "        \"\"\"from cryptography.hazmat.primitives.asymmetric import rsa, ec\n",
        "\n",
        "# Sicherer RSA-Schlüssel (2048 Bit)\n",
        "private_key_rsa = rsa.generate_private_key(\n",
        "    public_exponent=65537,\n",
        "    key_size=2048  # sicher\n",
        ")\n",
        "print(\"Sicherer RSA-Schlüssel generiert\")\n",
        "\n",
        "# Sicherer EC-Schlüssel (224 Bit)\n",
        "private_key_ec = ec.generate_private_key(ec.SECP224R1())\n",
        "print(\"Sicherer EC-Schlüssel generiert\")\n",
        "\"\"\"\n",
        "    )\n",
        "\n",
        "# Ruff-Check (Security-Regeln)\n",
        "!ruff check --select S s505_key_good.py\n"
      ]
    },
    {
      "cell_type": "markdown",
      "id": "a09ec843",
      "metadata": {
        "id": "a09ec843"
      },
      "source": [
        "## Regelgruppe Formatierung / Style (E)\n",
        "---\n",
        "### Fehler: Falscher Vergleich mit `None` (*E711*)\n",
        "\n",
        "Die Warnung besagt, dass in Python nicht korrekt auf None verglichen wird, wenn == oder != verwendet wird. Laut PEP 8 sollte der Vergleich mit None immer über is oder is not erfolgen, nicht über Gleichheitsoperatoren. Dadurch wird sichergestellt, dass der Vergleich korrekt und lesbar ist (https://docs.astral.sh/ruff/rules/none-comparison/)."
      ]
    },
    {
      "cell_type": "code",
      "execution_count": 4,
      "id": "d9d36414",
      "metadata": {
        "id": "d9d36414",
        "outputId": "35edb582-3448-437c-c772-1e0d40d16f65",
        "colab": {
          "base_uri": "https://localhost:8080/"
        }
      },
      "outputs": [
        {
          "output_type": "stream",
          "name": "stdout",
          "text": [
            "\u001b[1m\u001b[91mE711 \u001b[0m\u001b[1mComparison to `None` should be `cond is None`\u001b[0m\n",
            " \u001b[1m\u001b[94m-->\u001b[0m e711_bad.py:3:9\n",
            "  \u001b[1m\u001b[94m|\u001b[0m\n",
            "\u001b[1m\u001b[94m1 |\u001b[0m # Falscher Vergleich mit None\n",
            "\u001b[1m\u001b[94m2 |\u001b[0m x = None\n",
            "\u001b[1m\u001b[94m3 |\u001b[0m if x == None:\n",
            "  \u001b[1m\u001b[94m|\u001b[0m         \u001b[1m\u001b[91m^^^^\u001b[0m\n",
            "\u001b[1m\u001b[94m4 |\u001b[0m     print(\"x ist None\")\n",
            "  \u001b[1m\u001b[94m|\u001b[0m\n",
            "\u001b[1m\u001b[96mhelp\u001b[0m: \u001b[1mReplace with `cond is None`\u001b[0m\n",
            "\n",
            "Found 1 error.\n",
            "No fixes available (1 hidden fix can be enabled with the `--unsafe-fixes` option).\n",
            "--------------------------------------------\n",
            "All checks passed!\n"
          ]
        }
      ],
      "source": [
        "# Fehlerhafte Version (falscher Vergleich mit None)\n",
        "# E711 wird ausgelöst, da PEP 8 vorschreibt, 'None' immer mit 'is' oder 'is not' zu vergleichen.\n",
        "with open(\"e711_bad.py\", \"w\", encoding=\"utf-8\") as f:\n",
        "    f.write(\"\"\"# Falscher Vergleich mit None\n",
        "x = None\n",
        "if x == None:\n",
        "    print(\"x ist None\")\n",
        "\"\"\")\n",
        "\n",
        "# Ruff-Check (nur Formatierungs-/Style-Regeln, Auswahl E)\n",
        "!ruff check --select E e711_bad.py\n",
        "\n",
        "print(\"--------------------------------------------\")\n",
        "\n",
        "# Korrigierte Version (richtiger Vergleich mit None)\n",
        "with open(\"e711_good.py\", \"w\", encoding=\"utf-8\") as f:\n",
        "    f.write(\"\"\"# Richtiger Vergleich mit None\n",
        "x = None\n",
        "if x is None:\n",
        "    print(\"x ist None\")\n",
        "\"\"\")\n",
        "\n",
        "# Ruff-Check (nur Formatierungs-/Style-Regeln)\n",
        "!ruff check --select E e711_good.py\n"
      ]
    },
    {
      "cell_type": "markdown",
      "id": "33b6f04e",
      "metadata": {
        "id": "33b6f04e"
      },
      "source": [
        "## Regelgruppe Dokumentation (D)\n",
        "---\n",
        "### Fehler: Fehlender Modul-Docstring (*D100*)\n",
        "\n",
        "Die Warnung bedeutet, dass ein öffentliches Modul keine Dokumentation in Form eines Docstrings enthält. Öffentliche Module sollten immer docstrings haben, die ihren Zweck, enthaltene Klassen, Funktionen, Ausnahmen und andere exportierte Objekte beschreiben. So wird der Code verständlicher, nutzbarer und konsistent mit dem Dokumentationsstandard des Projekts (https://docs.astral.sh/ruff/rules/undocumented-public-module/)."
      ]
    },
    {
      "cell_type": "code",
      "execution_count": 5,
      "id": "73b5e1a6",
      "metadata": {
        "id": "73b5e1a6",
        "outputId": "a3ac59f9-0a0e-4549-c77a-b299dba84141",
        "colab": {
          "base_uri": "https://localhost:8080/"
        }
      },
      "outputs": [
        {
          "output_type": "stream",
          "name": "stdout",
          "text": [
            "\u001b[1m\u001b[91mD100 \u001b[0m\u001b[1mMissing docstring in public module\u001b[0m\n",
            "\u001b[1m\u001b[94m-->\u001b[0m d100_bad.py:1:1\n",
            "\n",
            "Found 1 error.\n",
            "--------------------------------------------\n",
            "All checks passed!\n"
          ]
        }
      ],
      "source": [
        "# Fehlerhafte Version (kein Modul-Docstring)\n",
        "# D100 wird ausgelöst, da die Datei (das Modul) keinen Docstring in der ersten Zeile enthält.\n",
        "with open(\"d100_bad.py\", \"w\", encoding=\"utf-8\") as f:\n",
        "    f.write(\"\"\"def greet(name):\n",
        "    \\\"\\\"\\\"Gibt einen Begrüßungstext aus.\\\"\\\"\\\"\n",
        "    print(f\"Hallo {name}\")\n",
        "\"\"\")\n",
        "\n",
        "# Ruff-Check nur für D100\n",
        "!ruff check --select D100 d100_bad.py\n",
        "\n",
        "print(\"--------------------------------------------\")\n",
        "\n",
        "# Korrigierte Version (mit Modul-Docstring)\n",
        "with open(\"d100_good.py\", \"w\", encoding=\"utf-8\") as f:\n",
        "    f.write(\"\"\"\\\"\\\"\\\"Dieses Modul enthält eine Begrüßungsfunktion.\\\"\\\"\\\"\n",
        "\n",
        "def greet(name):\n",
        "    \\\"\\\"\\\"Gibt einen Begrüßungstext aus.\\\"\\\"\\\"\n",
        "    print(f\"Hallo {name}\")\n",
        "\"\"\")\n",
        "\n",
        "# Ruff-Check nur für D100\n",
        "!ruff check --select D100 d100_good.py\n"
      ]
    },
    {
      "cell_type": "markdown",
      "id": "c6dd709e",
      "metadata": {
        "id": "c6dd709e"
      },
      "source": [
        "## Regelgruppe Performance (PERF)\n",
        "---\n",
        "### Fehler: `try/except` in einer Schleife (*PERF203*)\n",
        "\n",
        "Die Warnung bedeutet, dass ein try-except-Block innerhalb einer Schleife (for oder while) verwendet wird. Das ist problematisch, weil Exception-Handling selbst bei nicht ausgelösten Ausnahmen einen gewissen Performance-Overhead verursacht. Zur Optimierung kann man entweder die gesamte Schleife in einen einzigen try-except-Block setzen oder vorher prüfen, ob eine Ausnahme überhaupt auftreten könnte, um das try-except zu vermeiden (https://docs.astral.sh/ruff/rules/try-except-in-loop/)"
      ]
    },
    {
      "cell_type": "code",
      "execution_count": 6,
      "id": "fb6abe3f",
      "metadata": {
        "id": "fb6abe3f",
        "outputId": "6fd760f3-dbd0-4190-bbc2-837c876cebd1",
        "colab": {
          "base_uri": "https://localhost:8080/"
        }
      },
      "outputs": [
        {
          "output_type": "stream",
          "name": "stdout",
          "text": [
            "\u001b[1m\u001b[91mPERF203 \u001b[0m\u001b[1m`try`-`except` within a loop incurs performance overhead\u001b[0m\n",
            " \u001b[1m\u001b[94m-->\u001b[0m perf203_bad.py:5:5\n",
            "  \u001b[1m\u001b[94m|\u001b[0m\n",
            "\u001b[1m\u001b[94m3 |\u001b[0m       try:\n",
            "\u001b[1m\u001b[94m4 |\u001b[0m           print(int(\"x\"))  # Fehler provozieren\n",
            "\u001b[1m\u001b[94m5 |\u001b[0m \u001b[1m\u001b[91m/\u001b[0m     except ValueError:\n",
            "\u001b[1m\u001b[94m6 |\u001b[0m \u001b[1m\u001b[91m|\u001b[0m         print(\"Fehler bei Umwandlung\")\n",
            "  \u001b[1m\u001b[94m|\u001b[0m \u001b[1m\u001b[91m|______________________________________^\u001b[0m\n",
            "  \u001b[1m\u001b[94m|\u001b[0m\n",
            "\n",
            "Found 1 error.\n",
            "--------------------------------------------\n",
            "All checks passed!\n"
          ]
        }
      ],
      "source": [
        "# Fehlerhafte Version (try/except in einer Schleife → ineffizient)\n",
        "# PERF203 wird ausgelöst, da das Exception Handling in jedem Schleifendurchlauf\n",
        "# unnötigen Overhead verursacht.\n",
        "with open(\"perf203_bad.py\", \"w\", encoding=\"utf-8\") as f:\n",
        "    f.write(\"\"\"# Schlechte Performance: try/except in der Schleife\n",
        "for i in range(5):\n",
        "    try:\n",
        "        print(int(\"x\"))  # Fehler provozieren\n",
        "    except ValueError:\n",
        "        print(\"Fehler bei Umwandlung\")\n",
        "\"\"\")\n",
        "\n",
        "# Ruff-Check für Performance-Regeln\n",
        "!ruff check --select PERF perf203_bad.py\n",
        "\n",
        "print(\"--------------------------------------------\")\n",
        "\n",
        "# Korrigierte Version (try/except um die Schleife → effizienter)\n",
        "with open(\"perf203_good.py\", \"w\", encoding=\"utf-8\") as f:\n",
        "    f.write(\"\"\"# Bessere Performance: try/except außerhalb der Schleife\n",
        "try:\n",
        "    for i in range(5):\n",
        "        print(int(\"x\"))  # Fehler provozieren\n",
        "except ValueError:\n",
        "    print(\"Fehler bei Umwandlung\")\n",
        "\"\"\")\n",
        "\n",
        "# Ruff-Check für Performance-Regeln\n",
        "!ruff check --select PERF perf203_good.py\n"
      ]
    },
    {
      "cell_type": "markdown",
      "id": "c6dd709f",
      "metadata": {
        "id": "c6dd709f"
      },
      "source": [
        "## Interpretation und Zusammenfassung\n",
        "---\n",
        "Die vorangegangenen Beispiele demonstrieren, dass **Ruff** ein unverzichtbares Werkzeug für die moderne Python-Entwicklung ist, da es weit über die grundlegende Syntaxprüfung hinausgeht.\n",
        "\n",
        "### Wichtigste Erkenntnisse:\n",
        "\n",
        "* **Sicherheit (S-Regeln)**: Die Regeln **S101** (`assert` in produktivem Code) und **S506** helfen, kritische Sicherheitslücken zu vermeiden, die zu unzuverlässigem Verhalten führen können.\n",
        "* **Standardisierung und Lesbarkeit (E- & D-Regeln)**: Die Einhaltung von Konventionen wie **E711** (`is None`) und **D100** (Modul-Docstrings) verbessert die Lesbarkeit und **Wartbarkeit** des Codes erheblich, was essenziell für Teamarbeit ist.\n",
        "* **Effizienz (PERF-Regeln)**: Die Regel **PERF203** (Exception Handling in Schleifen) zeigt, dass Ruff auch auf **Performance-Engpässe** hinweist. Die Verlagerung des `try/except`-Blocks um die gesamte Schleife reduziert den Overhead des Exception Handlings.\n",
        "\n",
        "Zusammenfassend unterstützt Ruff Entwickler aktiv dabei, Code zu schreiben, der **sicher, performant und konventionskonform** ist, und sorgt so für eine höhere Qualität in jedem Python-Projekt."
      ]
    },
    {
      "cell_type": "markdown",
      "source": [
        "# Hinweis zur Verwendung von generativer KI\n"
      ],
      "metadata": {
        "id": "m7256Ozj32Wy"
      },
      "id": "m7256Ozj32Wy"
    },
    {
      "cell_type": "markdown",
      "source": [
        "Dieser Code wurde unter Verwendung eines KI-Modells (Google Gemini 2.5 Flash) zur Unterstützung entwickelt. Das KI-Modell wurde verwendet, um die Markdowns zu formatieren, Erklärungen bereitzustellen und Vorschläge für die Implementierung zu machen. Die endgültige Validierung, Anpassung und Verantwortung für die Korrektheit des Codes und der Erklärungen liegt bei der Autorin.\n"
      ],
      "metadata": {
        "id": "6wG_Q9ed33l6"
      },
      "id": "6wG_Q9ed33l6"
    }
  ],
  "metadata": {
    "kernelspec": {
      "display_name": "Python 3",
      "language": "python",
      "name": "python3"
    },
    "language_info": {
      "codemirror_mode": {
        "name": "ipython",
        "version": 3
      },
      "file_extension": ".py",
      "mimetype": "text/x-python",
      "name": "python",
      "nbconvert_exporter": "python",
      "pygments_lexer": "ipython3",
      "version": "3.11.0"
    },
    "colab": {
      "provenance": []
    }
  },
  "nbformat": 4,
  "nbformat_minor": 5
}