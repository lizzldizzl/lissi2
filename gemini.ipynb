{
  "cells": [
    {
      "cell_type": "markdown",
      "id": "c3d5b441",
      "metadata": {
        "id": "c3d5b441"
      },
      "source": [
        "# DSGVO-konforme Anonymisierung von Retail-Daten mit $k$-Anonymität, $l$-Diversität und $t$-Closeness\n",
        "Dieses Notebook demonstriert die Schritte zur **DSGVO-konformen Anonymisierung** eines Retail-Datensatzes:\n",
        "- **Entfernung direkter Identifikatoren** (z.B. Name, E-Mail).\n",
        "- **Generalisierung von Quasi-Identifikatoren** (PLZ, Alter).\n",
        "- **Überprüfung der Anonymisierungsgrade** anhand von $k$-Anonymität, $l$-Diversität und $t$-Closeness.\n",
        "\n",
        "## Hintergrund: Schutz vor Re-Identifikation\n",
        "Die verwendeten Methoden dienen dazu, das Risiko der **Re-Identifikation** von Personen zu minimieren, indem sichergestellt wird, dass jeder Datensatz in einer Äquivalenzklasse (Gruppe von Personen mit den gleichen Quasi-Identifikatoren) enthalten ist, die groß genug ist ($k$-Anonymität) und eine ausreichende Bandbreite an sensiblen Attributen aufweist ($l$-Diversität und $t$-Closeness)."
      ]
    },
    {
      "cell_type": "markdown",
      "id": "JFXaAmGWys8_",
      "metadata": {
        "id": "JFXaAmGWys8_"
      },
      "source": [
        "## 💻 Code und Datenvorbereitung"
      ]
    },
    {
      "cell_type": "code",
      "execution_count": 1,
      "id": "yeaXVw36yvEr",
      "metadata": {
        "colab": {
          "base_uri": "https://localhost:8080/"
        },
        "id": "yeaXVw36yvEr",
        "outputId": "5d7824fc-4b21-4c3f-ae78-a1d8839771ca"
      },
      "outputs": [],
      "source": [
        "# Installation der benötigten Bibliotheken\n",
        "!pip install pandas scipy matplotlib"
      ]
    },
    {
      "cell_type": "markdown",
      "id": "Gkt2thQOy1us",
      "metadata": {
        "id": "Gkt2thQOy1us"
      },
      "source": [
        "### Import benötigter Module"
      ]
    },
    {
      "cell_type": "code",
      "execution_count": 2,
      "id": "IEl8hC15y3eF",
      "metadata": {
        "id": "IEl8hC15y3eF"
      },
      "outputs": [],
      "source": [
        "import pandas as pd\n",
        "from scipy.spatial.distance import euclidean\n",
        "import matplotlib.pyplot as plt"
      ]
    },
    {
      "cell_type": "markdown",
      "id": "pF40jvlHzCTO",
      "metadata": {
        "id": "pF40jvlHzCTO"
      },
      "source": [
        "### Datensatzbeschreibung und -bezug"
      ]
    },
    {
      "cell_type": "markdown",
      "id": "7_VV8EfMzFnk",
      "metadata": {
        "id": "7_VV8EfMzFnk"
      },
      "source": [
        "Der Datensatz stellt eine vereinfachte Retail-Datenbasis dar, in der Kundendaten wie Postleitzahl, Alter und Einkommen gespeichert sind. Diese Attribute werden genutzt, um Anonymisierungstechniken wie $k$-Anonymität, $l$-Diversität und $t$-Closeness zu demonstrieren. Dabei werden die **Quasi-Identifikatoren (PLZ, Alter)** so verallgemeinert, dass einzelne Personen nicht mehr eindeutig identifiziert werden können. Gleichzeitig bleibt die Vielfalt in sensiblen Attributen wie dem **Einkommen** gewährleistet, damit keine Rückschlüsse auf Einzelne möglich sind. Der Datensatz dient somit als Beispiel, um Methoden des datenschutzgerechten Umgangs mit personenbezogenen Daten praxisnah zu testen und zu evaluieren."
      ]
    },
    {
      "cell_type": "markdown",
      "id": "P7JbUPUczRPX",
      "metadata": {
        "id": "P7JbUPUczRPX"
      },
      "source": [
        "### 🔗 Link zum Datensatz"
      ]
    },
    {
      "cell_type": "markdown",
      "id": "yQrfcjc5zSKh",
      "metadata": {
        "id": "yQrfcjc5zSKh"
      },
      "source": [
        "[Retail Transactional Dataset (Kaggle)](https://www.kaggle.com/datasets/bhavikjikadara/retail-transactional-dataset)"
      ]
    },
    {
      "cell_type": "markdown",
      "id": "4I9fVyz4F_oC",
      "metadata": {
        "id": "4I9fVyz4F_oC"
      },
      "source": [
        "### Datensatz-Download (Kaggle API)"
      ]
    },
    {
      "cell_type": "code",
      "execution_count": 3,
      "id": "4I9fVyz4F_oC",
      "metadata": {
        "id": "4I9fVyz4F_oC"
      },
      "outputs": [],
      "source": [
        "! pip install -q kaggle\n",
        "! mkdir -p ~/.kaggle"
      ]
    },
    {
      "cell_type": "markdown",
      "id": "A5o-_wTZGEyA",
      "metadata": {
        "id": "A5o-_wTZGEyA"
      },
      "source": [
        "**Wichtig:** Bitte die JSON-Zugangsdaten von Kaggle hier eingeben (im Format: `{\"username\":\"....\",\"key\":\"....\"}`)"
      ]
    },
    {
      "cell_type": "code",
      "execution_count": 4,
      "id": "xkkWk6bPGCah",
      "metadata": {
        "id": "xkkWk6bPGCah"
      },
      "outputs": [],
      "source": [
        "# Platzhalter: Tragen Sie hier Ihre JSON Cred als Dictionary ein\n",
        "d_json_cred ={\n",
        "    \"username\":\"IHR_KAGGLE_USERNAME\",\n",
        "    \"key\":\"IHR_KAGGLE_API_KEY\"\n",
        "}"
      ]
    },
    {
      "cell_type": "markdown",
      "id": "4REPxPjNGIxx",
      "metadata": {
        "id": "4REPxPjNGIxx"
      },
      "source": [
        "Kaggle Zugangsdaten speichern und Berechtigungen setzen"
      ]
    },
    {
      "cell_type": "code",
      "execution_count": 5,
      "id": "r-oN6kCmGMc9",
      "metadata": {
        "id": "r-oN6kCmGMc9"
      },
      "outputs": [],
      "source": [
        "import json\n",
        "import os\n",
        "\n",
        "# Sicherstellen, dass das .kaggle Verzeichnis existiert\n",
        "os.makedirs(\"~/.kaggle\", exist_ok=True)\n",
        "\n",
        "# Schreibe die Zugangsdaten in die kaggle.json Datei\n",
        "with open(os.path.expanduser(\"~/.kaggle/kaggle.json\"), \"w\") as f:\n",
        "    json.dump(d_json_cred, f)\n",
        "\n",
        "# Berechtigung für die Konfigurationsdatei setzen\n",
        "! chmod 600 ~/.kaggle/kaggle.json"
      ]
    },
    {
      "cell_type": "code",
      "execution_count": 6,
      "id": "C0kaNoIbGWX6",
      "metadata": {
        "colab": {
          "base_uri": "https://localhost:8080/"
        },
        "id": "C0kaNoIbGWX6",
        "outputId": "43728886-dba8-4e4c-a766-1bf38a3b499f"
      },
      "outputs": [],
      "source": [
        "# Datensatz herunterladen\n",
        "!kaggle datasets download -d bhavikjikadara/retail-transactional-dataset"
      ]
    },
    {
      "cell_type": "markdown",
      "id": "PycSqOJbGXkL",
      "metadata": {
        "id": "PycSqOJbGXkL"
      },
      "source": [
        "Unzip der Daten in ein lokales 'data'-Verzeichnis"
      ]
    },
    {
      "cell_type": "code",
      "execution_count": 7,
      "id": "RUCnUfVJGaeu",
      "metadata": {
        "colab": {
          "base_uri": "https://localhost:8080/"
        },
        "id": "RUCnUfVJGaeu",
        "outputId": "f772abbd-2180-48e1-bcd8-2d7d85d39453"
      },
      "outputs": [],
      "source": [
        "!unzip -o retail-transactional-dataset.zip -d ./data"
      ]
    },
    {
      "cell_type": "markdown",
      "id": "tNVm6NuyIzUB",
      "metadata": {
        "id": "tNVm6NuyIzUB"
      },
      "source": [
        "### Originaldaten einlesen und inspizieren"
      ]
    },
    {
      "cell_type": "code",
      "execution_count": 8,
      "id": "SVyp8gDuGdyg",
      "metadata": {
        "colab": {
          "base_uri": "https://localhost:8080/"
        },
        "id": "SVyp8gDuGdyg",
        "outputId": "41cf8691-03fd-4b12-83e0-ca504c0bcef3"
      },
      "outputs": [],
      "source": [
        "CSV_PATH = \"./data/retail_data.csv\"\n",
        "df = pd.read_csv(CSV_PATH)\n",
        "\n",
        "print(\"=== Originaldaten: Erste 5 Zeilen ===\")\n",
        "print(df.head(), \"\\n\")\n",
        "print(\"=== Spalten (Identifikatoren) ===\")\n",
        "print(df.columns.tolist())\n"
      ]
    },
    {
      "cell_type": "markdown",
      "id": "sGNvyjJVI4p9_markdown",
      "metadata": {
        "id": "sGNvyjJVI4p9_markdown"
      },
      "source": [
        "### 🗑️ Direkte Identifikatoren entfernen und Quasi-Identifikatoren auswählen"
      ]
    },
    {
      "cell_type": "markdown",
      "id": "sGNvyjJVI4p9",
      "metadata": {
        "id": "sGNvyjJVI4p9"
      },
      "source": [
        "**Direkte Identifikatoren** (wie Name, E-Mail, Telefon, Adresse, Customer_ID) werden entfernt. Für die Anonymisierung werden nur die folgenden Spalten beibehalten:\n",
        "\n",
        "* **Quasi-Identifikatoren (QI)**: `Zipcode`, `Age`, `Country`\n",
        "* **Sensibles Attribut (SA)**: `Income`"
      ]
    },
    {
      "cell_type": "code",
      "execution_count": 9,
      "id": "VRaf0Si9Hi-J",
      "metadata": {
        "colab": {
          "base_uri": "https://localhost:8080/"
        },
        "id": "VRaf0Si9Hi-J",
        "outputId": "264d5007-0390-498d-ef38-bdd31375bd84"
      },
      "outputs": [],
      "source": [
        "# Nur die gewünschten Spalten behalten (QI und SA)\n",
        "keep_cols = [\"Zipcode\", \"Age\", \"Country\", \"Income\"]\n",
        "df_reduced = df[keep_cols].copy() # .copy() um SettingWithCopyWarning zu vermeiden\n",
        "\n",
        "# Neue CSV zur Weiterverarbeitung speichern (optional)\n",
        "OUTPUT_PATH = \"./data/retail_data_filtered.csv\"\n",
        "df_reduced.to_csv(OUTPUT_PATH, index=False)\n",
        "\n",
        "print(\"Neue CSV gespeichert:\", OUTPUT_PATH)\n",
        "print(\"=== Gefilterte Daten (erste 5 Zeilen) ===\")\n",
        "print(df_reduced.head())\n"
      ]
    },
    {
      "cell_type": "markdown",
      "id": "YcdRpiFOI9OX",
      "metadata": {
        "id": "YcdRpiFOI9OX"
      },
      "source": [
        "## 🛡️ Anonymisierung: Generalisierung und Überprüfung der Schutzkriterien"
      ]
    },
    {
      "cell_type": "markdown",
      "id": "8ONOhQFJGkeC",
      "metadata": {
        "id": "8ONOhQFJGkeC"
      },
      "source": [
        "### Generalisierung der Quasi-Identifikatoren\n",
        "Um die **$k$-Anonymität** zu ermöglichen, werden die Quasi-Identifikatoren `Zipcode` und `Age` generalisiert:\n",
        "1.  **Postleitzahl (`Zipcode`)**: Auf die ersten **zwei Ziffern** reduziert, um die Region statt des exakten Ortes zu identifizieren.\n",
        "2.  **Alter (`Age`)**: In drei breite **Intervalle** (`<=30`, `31-50`, `51+`) gruppiert."
      ]
    },
    {
      "cell_type": "code",
      "execution_count": 10,
      "id": "058c0689",
      "metadata": {
        "colab": {
          "base_uri": "https://localhost:8080/"
        },
        "id": "058c0689",
        "outputId": "fc8daa59-11af-4013-bcb5-df9d05ada260"
      },
      "outputs": [],
      "source": [
        "import pandas as pd\n",
        "from scipy.spatial.distance import euclidean\n",
        "\n",
        "# 1. Gefilterte CSV laden\n",
        "CSV_PATH = \"./data/retail_data_filtered.csv\"\n",
        "df = pd.read_csv(CSV_PATH)\n",
        "\n",
        "print(\"=== Originaldaten (gefiltert) ===\")\n",
        "print(df.head(), \"\\n\")\n",
        "\n",
        "# 2. Quasi-Identifikatoren generalisieren\n",
        "# - PLZ auf die ersten 2 Stellen reduzieren\n",
        "# - Alter in Intervalle gruppieren\n",
        "df['Zipcode'] = df['Zipcode'].astype(str).str[:2]\n",
        "df['Age'] = pd.cut(df['Age'], bins=[0, 30, 50, 100],\n",
        "                   labels=['<=30', '31-50', '51+'], include_lowest=True)\n",
        "\n",
        "# Parameter\n",
        "k = 2\n",
        "l = 2\n",
        "t = 0.3\n",
        "quasi_identifiers = ['Zipcode', 'Age', 'Country']  # Alle QIs verwenden\n",
        "sensitive_attr = 'Income'  # sensibles Attribut\n",
        "total_records = len(df)\n",
        "\n",
        "print(f\"Anzahl Datensätze Original: {total_records}\")\n",
        "\n",
        "### 3. $k$-Anonymität prüfen\n",
        "# Gruppengröße (Äquivalenzklasse) berechnen\n",
        "group_sizes = df.groupby(quasi_identifiers, observed=True).size().reset_index(name='Count')\n",
        "# Nur Gruppen behalten, die mindestens k Datensätze haben\n",
        "df_k_anonym = df.merge(group_sizes[group_sizes['Count'] >= k],\n",
        "                       on=quasi_identifiers)\n",
        "\n",
        "print(f\"Nach k-Anonymität (k={k}): {len(df_k_anonym)} von {total_records} Datensätzen ({len(df_k_anonym)/total_records:.2%} erhalten)\\n\")\n",
        "\n",
        "### 4. $l$-Diversität prüfen\n",
        "# Prüffunktion: eine Gruppe ist l-divers, wenn sie mind. l verschiedene Werte des sensiblen Attributes enthält\n",
        "def check_l_diversity(group):\n",
        "    return group[sensitive_attr].nunique() >= l\n",
        "\n",
        "# Nur Gruppen behalten, die l-divers sind\n",
        "df_l_diverse = df_k_anonym.groupby(quasi_identifiers, observed=True).filter(check_l_diversity)\n",
        "print(f\"Nach l-Diversität (l={l}): {len(df_l_diverse)} von {len(df_k_anonym)} Datensätzen ({len(df_l_diverse)/len(df_k_anonym):.2%} erhalten)\\n\")\n",
        "\n",
        "### 5. $t$-Closeness prüfen\n",
        "# Gesamtverteilung des sensiblen Attributs\n",
        "overall_dist = df[sensitive_attr].value_counts(normalize=True)\n",
        "\n",
        "# Prüffunktion: eine Gruppe ist t-close, wenn ihre Verteilung nahe genug an der Gesamtverteilung liegt (gemessen mit Euklidischer Distanz)\n",
        "def t_closeness(group):\n",
        "    group_dist = group[sensitive_attr].value_counts(normalize=True)\n",
        "    # gleiche Reihenfolge wie in overall_dist erzwingen, fehlende Werte = 0\n",
        "    group_dist = group_dist.reindex(overall_dist.index, fill_value=0)\n",
        "    # Euklidische Distanz zwischen Gruppen- und Gesamtverteilung berechnen\n",
        "    distance = euclidean(overall_dist.values, group_dist.values)\n",
        "    return distance <= t\n",
        "\n",
        "# Nur Gruppen behalten, die t-close sind\n",
        "df_t_close = df_l_diverse.groupby(quasi_identifiers, observed=True).filter(t_closeness)\n",
        "print(f\"Nach t-Closeness (t={t}): {len(df_t_close)} von {len(df_l_diverse)} Datensätzen ({len(df_t_close)/len(df_l_diverse):.2%} erhalten)\\n\")\n",
        "\n",
        "# 6. Ergebnis anzeigen\n",
        "# Die 'Count' Spalte wird beim Merge automatisch hinzugefügt\n",
        "df_final = df_t_close.merge(group_sizes, on=quasi_identifiers)\n",
        "print(\"=== Anonymisierte Daten (ersten 10 Zeilen und ihre Gruppengröße) ===\")\n",
        "print(df_final.head(10))\n"
      ]
    },
    {
      "cell_type": "markdown",
      "id": "Qwa1WeEJJXsC_idea",
      "metadata": {
        "id": "Qwa1WeEJJXsC_idea"
      },
      "source": [
        "## 💡 Test der Anonymisierung mit höheren $k$-Werten (Idee)\n",
        "Um die Auswirkung des Anonymisierungsgrads auf die verbleibende Datenmenge zu analysieren, ist es sinnvoll, verschiedene $k$-Werte zu testen. Je höher $k$ gewählt wird, desto stärker wird der Datenschutz, aber desto mehr Datensätze könnten verloren gehen. Dieser Abschnitt visualisiert diesen Trade-off."
      ]
    },
    {
      "cell_type": "code",
      "execution_count": 11,
      "id": "4262c566",
      "metadata": {
        "colab": {
          "base_uri": "https://localhost:8080/",
          "height": 454
        },
        "id": "additional_k_test",
        "outputId": "f768565a-0490-48e0-bb82-68c17066929a"
      },
      "outputs": [],
      "source": [
        "def get_k_anonymized_count(df_input, quasi_identifiers, k_val):\n",
        "    # Gruppengrößen berechnen\n",
        "    group_sizes = df_input.groupby(quasi_identifiers, observed=True).size().reset_index(name='Count')\n",
        "    # Filterung und Anzahl der verbleibenden Datensätze\n",
        "    df_k_anonym = df_input.merge(group_sizes[group_sizes['Count'] >= k_val],\n",
        "                                 on=quasi_identifiers)\n",
        "    return len(df_k_anonym)\n",
        "\n",
        "# Verwenden Sie die bereits generalisierten QIs (Daten müssen neu geladen werden, falls der vorherige Block nicht ausgeführt wurde)\n",
        "CSV_PATH = \"./data/retail_data_filtered.csv\"\n",
        "df_generalized = pd.read_csv(CSV_PATH)\n",
        "df_generalized['Zipcode'] = df_generalized['Zipcode'].astype(str).str[:2]\n",
        "df_generalized['Age'] = pd.cut(df_generalized['Age'], bins=[0, 30, 50, 100],\n",
        "                   labels=['<=30', '31-50', '51+'], include_lowest=True)\n",
        "quasi_identifiers = ['Zipcode', 'Age', 'Country']\n",
        "\n",
        "# Testen von k-Werten\n",
        "k_values = [2, 3, 5, 10, 20]\n",
        "remaining_counts = []\n",
        "total_records = len(df_generalized)\n",
        "\n",
        "print(f\"Anzahl Datensätze Original: {total_records}\")\n",
        "\n",
        "for k_val in k_values:\n",
        "    count = get_k_anonymized_count(df_generalized, quasi_identifiers, k_val)\n",
        "    remaining_counts.append(count)\n",
        "    print(f\"Für k={k_val}: {count} Datensätze ({count/total_records:.2%} erhalten)\")\n",
        "\n",
        "# Visualisierung des Trade-offs\n",
        "plt.figure(figsize=(10, 6))\n",
        "plt.plot(k_values, remaining_counts, marker='o', linestyle='-', color='red')\n",
        "plt.title('Trade-off: k-Anonymität vs. verbleibende Datensätze')\n",
        "plt.xlabel('Anonymitätsgrad k')\n",
        "plt.ylabel('Anzahl der verbleibenden Datensätze')\n",
        "plt.grid(True, linestyle='--', alpha=0.6)\n",
        "plt.show()\n"
      ]
    }
  ],
  "metadata": {
    "kernelspec": {
      "display_name": ".venv",
      "language": "python",
      "name": "python3"
    },
    "language_info": {
      "codemirror_mode": {
        "name": "ipython",
        "version": 3
      },
      "file_extension": ".py",
      "mimetype": "text/x-python",
      "name": "python",
      "nbconvert_exporter": "python",
      "pygments_lexer": "ipython3",
      "version": "3.12.4"
    }
  },
  "nbformat": 4,
  "nbformat_minor": 5
}
